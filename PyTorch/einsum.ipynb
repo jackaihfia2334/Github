{
 "cells": [
  {
   "cell_type": "code",
   "execution_count": 2,
   "id": "2435ffe4",
   "metadata": {
    "ExecuteTime": {
     "end_time": "2023-05-26T16:41:09.270868Z",
     "start_time": "2023-05-26T16:41:09.254048Z"
    }
   },
   "outputs": [],
   "source": [
    "import torch\n",
    "import numpy as np\n",
    "\n",
    "a = torch.arange(9).reshape(3, 3)\n",
    "# i = 3\n",
    "torch_ein_out = torch.einsum('ii->i', [a])\n",
    "torch_org_out = torch.diagonal(a, 0)\n",
    "# is torch_org_out == torch_ein_out ? True"
   ]
  },
  {
   "cell_type": "code",
   "execution_count": 3,
   "id": "29cb9827",
   "metadata": {
    "ExecuteTime": {
     "end_time": "2023-05-26T16:41:22.662641Z",
     "start_time": "2023-05-26T16:41:22.644173Z"
    }
   },
   "outputs": [
    {
     "data": {
      "text/plain": [
       "tensor([0, 4, 8])"
      ]
     },
     "execution_count": 3,
     "metadata": {},
     "output_type": "execute_result"
    }
   ],
   "source": [
    "torch_ein_out"
   ]
  },
  {
   "cell_type": "code",
   "execution_count": 4,
   "id": "3f44b60a",
   "metadata": {
    "ExecuteTime": {
     "end_time": "2023-05-26T16:41:24.908964Z",
     "start_time": "2023-05-26T16:41:24.902953Z"
    }
   },
   "outputs": [
    {
     "data": {
      "text/plain": [
       "tensor([0, 4, 8])"
      ]
     },
     "execution_count": 4,
     "metadata": {},
     "output_type": "execute_result"
    }
   ],
   "source": [
    "torch_org_out"
   ]
  },
  {
   "cell_type": "code",
   "execution_count": 6,
   "id": "f5cf6715",
   "metadata": {
    "ExecuteTime": {
     "end_time": "2023-05-26T16:45:34.384969Z",
     "start_time": "2023-05-26T16:45:34.362923Z"
    }
   },
   "outputs": [
    {
     "name": "stdout",
     "output_type": "stream",
     "text": [
      "torch.Size([16, 3, 224, 224])\n",
      "torch.Size([16, 196, 768])\n"
     ]
    }
   ],
   "source": [
    "import torch\n",
    "from einops import rearrange\n",
    "i_tensor = torch.randn(16, 3, 224, 224)\n",
    "print(i_tensor.shape)\n",
    "o_tensor = rearrange(i_tensor, 'n c (m1 p1) (m2 p2) -> n (m1 m2) (p1 p2 c)',p1=16, p2=16)\n",
    "print(o_tensor.shape)"
   ]
  },
  {
   "cell_type": "code",
   "execution_count": 15,
   "id": "f4e2f6c2",
   "metadata": {
    "ExecuteTime": {
     "end_time": "2023-05-26T16:52:44.959331Z",
     "start_time": "2023-05-26T16:52:44.928881Z"
    }
   },
   "outputs": [
    {
     "name": "stdout",
     "output_type": "stream",
     "text": [
      "torch.Size([16, 224, 224, 3])\n"
     ]
    }
   ],
   "source": [
    "import torch\n",
    "\n",
    "i_a = torch.randn(16, 3, 224, 224)\n",
    "out = torch.einsum('bijk->bjki', i_a)\n",
    "print(out.shape)"
   ]
  },
  {
   "cell_type": "code",
   "execution_count": 16,
   "id": "1b20af82",
   "metadata": {
    "ExecuteTime": {
     "end_time": "2023-05-26T17:08:38.403277Z",
     "start_time": "2023-05-26T17:08:38.370269Z"
    }
   },
   "outputs": [],
   "source": [
    "qkv = torch.randn(16, 128, 768*3)\n",
    "\n",
    "q, k, v = tuple(rearrange(qkv, 'b t (d k h) -> k b h t d ', k=3, h=8))\n"
   ]
  },
  {
   "cell_type": "code",
   "execution_count": 18,
   "id": "55381028",
   "metadata": {
    "ExecuteTime": {
     "end_time": "2023-05-26T17:09:04.627934Z",
     "start_time": "2023-05-26T17:09:04.620859Z"
    }
   },
   "outputs": [
    {
     "name": "stdout",
     "output_type": "stream",
     "text": [
      "torch.Size([16, 8, 128, 96])\n",
      "torch.Size([16, 8, 128, 96])\n",
      "torch.Size([16, 8, 128, 96])\n"
     ]
    }
   ],
   "source": [
    "print(q.shape)\n",
    "print(k.shape)\n",
    "print(v.shape)"
   ]
  },
  {
   "cell_type": "code",
   "execution_count": 44,
   "id": "c35bce24",
   "metadata": {
    "ExecuteTime": {
     "end_time": "2023-05-26T17:43:40.765854Z",
     "start_time": "2023-05-26T17:43:40.730264Z"
    }
   },
   "outputs": [
    {
     "name": "stdout",
     "output_type": "stream",
     "text": [
      "torch.Size([16, 8, 128, 128])\n",
      "tensor([[-100000000., -100000000., -100000000., -100000000., -100000000.,\n",
      "         -100000000., -100000000., -100000000.],\n",
      "        [-100000000., -100000000., -100000000., -100000000., -100000000.,\n",
      "         -100000000., -100000000., -100000000.],\n",
      "        [-100000000., -100000000., -100000000., -100000000., -100000000.,\n",
      "         -100000000., -100000000., -100000000.],\n",
      "        [-100000000., -100000000., -100000000., -100000000., -100000000.,\n",
      "         -100000000., -100000000., -100000000.],\n",
      "        [-100000000., -100000000., -100000000., -100000000., -100000000.,\n",
      "         -100000000., -100000000., -100000000.],\n",
      "        [-100000000., -100000000., -100000000., -100000000., -100000000.,\n",
      "         -100000000., -100000000., -100000000.],\n",
      "        [-100000000., -100000000., -100000000., -100000000., -100000000.,\n",
      "         -100000000., -100000000., -100000000.],\n",
      "        [-100000000., -100000000., -100000000., -100000000., -100000000.,\n",
      "         -100000000., -100000000., -100000000.],\n",
      "        [-100000000., -100000000., -100000000., -100000000., -100000000.,\n",
      "         -100000000., -100000000., -100000000.],\n",
      "        [-100000000., -100000000., -100000000., -100000000., -100000000.,\n",
      "         -100000000., -100000000., -100000000.],\n",
      "        [-100000000., -100000000., -100000000., -100000000., -100000000.,\n",
      "         -100000000., -100000000., -100000000.],\n",
      "        [-100000000., -100000000., -100000000., -100000000., -100000000.,\n",
      "         -100000000., -100000000., -100000000.],\n",
      "        [-100000000., -100000000., -100000000., -100000000., -100000000.,\n",
      "         -100000000., -100000000., -100000000.],\n",
      "        [-100000000., -100000000., -100000000., -100000000., -100000000.,\n",
      "         -100000000., -100000000., -100000000.],\n",
      "        [-100000000., -100000000., -100000000., -100000000., -100000000.,\n",
      "         -100000000., -100000000., -100000000.],\n",
      "        [-100000000., -100000000., -100000000., -100000000., -100000000.,\n",
      "         -100000000., -100000000., -100000000.]])\n",
      "torch.Size([16, 8, 128, 128])\n",
      "torch.Size([16, 8, 128, 96])\n",
      "torch.Size([16, 128, 768])\n"
     ]
    },
    {
     "name": "stderr",
     "output_type": "stream",
     "text": [
      "C:\\Users\\myf\\AppData\\Local\\Temp\\ipykernel_19676\\2492755303.py:10: UserWarning: masked_fill_ received a mask with dtype torch.uint8, this behavior is now deprecated,please use a mask with dtype torch.bool instead. (Triggered internally at  C:\\actions-runner\\_work\\pytorch\\pytorch\\builder\\windows\\pytorch\\aten\\src\\ATen\\native\\TensorAdvancedIndexing.cpp:1582.)\n",
      "  scaled_dot_prod = scaled_dot_prod.masked_fill(mask.byte(), value=torch.tensor(-1e8))\n"
     ]
    }
   ],
   "source": [
    "# resulted shape will be: [batch, heads, tokens, tokens]\n",
    "scale_factor =0.1\n",
    "scaled_dot_prod = torch.einsum('b h i d , b h j d -> b h i j', q, k) * scale_factor\n",
    "print(scaled_dot_prod.shape)\n",
    "\n",
    "mask =torch.ones(16,8,128,128)\n",
    "#mask[:,:,125,125]=1\n",
    "\n",
    "#print(mask)\n",
    "scaled_dot_prod = scaled_dot_prod.masked_fill(mask.byte(), value=torch.tensor(-1e8))\n",
    "    \n",
    "print(scaled_dot_prod[:,:,125,125])\n",
    "\n",
    "attention = torch.softmax(scaled_dot_prod, dim=-1)\n",
    "print(attention.shape)\n",
    "# Step 4. Calc result per batch and per head h\n",
    "out = torch.einsum('b h i j , b h j d -> b h i d', attention, v)\n",
    "print(out.shape)\n",
    "# Step 5. Re-compose: merge heads with dim_head d\n",
    "out = rearrange(out, \"b h t d -> b t (h d)\")\n",
    "print(out.shape)\n",
    "# Step 6. Apply final linear transformation layer"
   ]
  },
  {
   "cell_type": "code",
   "execution_count": 43,
   "id": "1b82770a",
   "metadata": {
    "ExecuteTime": {
     "end_time": "2023-05-26T17:30:53.524193Z",
     "start_time": "2023-05-26T17:30:53.515193Z"
    }
   },
   "outputs": [
    {
     "data": {
      "text/plain": [
       "torch.float32"
      ]
     },
     "execution_count": 43,
     "metadata": {},
     "output_type": "execute_result"
    }
   ],
   "source": [
    "scaled_dot_prod.dtype"
   ]
  },
  {
   "cell_type": "code",
   "execution_count": null,
   "id": "61e214a4",
   "metadata": {},
   "outputs": [],
   "source": [
    "va = torch.randn(5,6)\n",
    "\n",
    "x = [5,4,3,2,1]\n",
    "mask = torch.zeros(5,6,dtype=torch.float)\n",
    "for e_id, src_len in enumerate(x):\n",
    "    mask[e_id, src_len:] = 1\n",
    "mask = mask.to(device = 'cpu')\n",
    "print(mask)\n",
    "a.data.masked_fill_(mask.byte(),-float('inf'))\n",
    "print(a)\n"
   ]
  }
 ],
 "metadata": {
  "kernelspec": {
   "display_name": "Python 3 (ipykernel)",
   "language": "python",
   "name": "python3"
  },
  "language_info": {
   "codemirror_mode": {
    "name": "ipython",
    "version": 3
   },
   "file_extension": ".py",
   "mimetype": "text/x-python",
   "name": "python",
   "nbconvert_exporter": "python",
   "pygments_lexer": "ipython3",
   "version": "3.8.10"
  },
  "toc": {
   "base_numbering": 1,
   "nav_menu": {},
   "number_sections": true,
   "sideBar": true,
   "skip_h1_title": false,
   "title_cell": "Table of Contents",
   "title_sidebar": "Contents",
   "toc_cell": false,
   "toc_position": {},
   "toc_section_display": true,
   "toc_window_display": false
  },
  "varInspector": {
   "cols": {
    "lenName": 16,
    "lenType": 16,
    "lenVar": 40
   },
   "kernels_config": {
    "python": {
     "delete_cmd_postfix": "",
     "delete_cmd_prefix": "del ",
     "library": "var_list.py",
     "varRefreshCmd": "print(var_dic_list())"
    },
    "r": {
     "delete_cmd_postfix": ") ",
     "delete_cmd_prefix": "rm(",
     "library": "var_list.r",
     "varRefreshCmd": "cat(var_dic_list()) "
    }
   },
   "types_to_exclude": [
    "module",
    "function",
    "builtin_function_or_method",
    "instance",
    "_Feature"
   ],
   "window_display": false
  }
 },
 "nbformat": 4,
 "nbformat_minor": 5
}
