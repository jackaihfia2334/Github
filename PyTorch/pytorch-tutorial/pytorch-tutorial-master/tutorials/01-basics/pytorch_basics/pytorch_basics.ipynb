{
 "cells": [
  {
   "cell_type": "markdown",
   "id": "835ccaf5-7c4e-431a-8d64-dcab578561fa",
   "metadata": {
    "tags": []
   },
   "source": [
    "### 1. Basic autograd example 1    "
   ]
  },
  {
   "cell_type": "code",
   "execution_count": 1,
   "id": "3c7ccb6c-767a-4c0d-a1c5-7c9f4034219b",
   "metadata": {},
   "outputs": [
    {
     "name": "stdout",
     "output_type": "stream",
     "text": [
      "tensor(2.)\n",
      "tensor(1.)\n",
      "tensor(1.)\n"
     ]
    }
   ],
   "source": [
    "import torch \n",
    "import torchvision\n",
    "import torch.nn as nn\n",
    "import numpy as np\n",
    "import torchvision.transforms as transforms\n",
    "\n",
    "\n",
    "\n",
    "\n",
    "\n",
    "# Create tensors.\n",
    "x = torch.tensor(1., requires_grad=True)\n",
    "w = torch.tensor(2., requires_grad=True)\n",
    "b = torch.tensor(3., requires_grad=True)\n",
    "\n",
    "# Build a computational graph.\n",
    "y = w * x + b    # y = 2 * x + 3\n",
    "\n",
    "# Compute gradients.\n",
    "y.backward()\n",
    "\n",
    "# Print out the gradients.\n",
    "print(x.grad)    # x.grad = 2 \n",
    "print(w.grad)    # w.grad = 1 \n",
    "print(b.grad)    # b.grad = 1 "
   ]
  },
  {
   "cell_type": "markdown",
   "id": "ff840746-aa48-4df5-b9ec-60b71c9c361d",
   "metadata": {},
   "source": [
    "### 2. Basic autograd example 2"
   ]
  },
  {
   "cell_type": "code",
   "execution_count": 2,
   "id": "6c354c21-8e86-43ca-8f5a-242f7704b343",
   "metadata": {},
   "outputs": [
    {
     "name": "stdout",
     "output_type": "stream",
     "text": [
      "w:  Parameter containing:\n",
      "tensor([[-0.1872,  0.2175, -0.2642],\n",
      "        [-0.0606,  0.2910, -0.1240]], requires_grad=True)\n",
      "b:  Parameter containing:\n",
      "tensor([0.4170, 0.5223], requires_grad=True)\n",
      "loss:  1.2155340909957886\n",
      "dL/dw:  tensor([[ 0.2558, -0.0981, -0.1413],\n",
      "        [-0.3272,  0.6292,  0.7449]])\n",
      "dL/db:  tensor([0.3884, 0.9244])\n",
      "loss after 1 step optimization:  1.1941088438034058\n"
     ]
    }
   ],
   "source": [
    "# Create tensors of shape (10, 3) and (10, 2).\n",
    "x = torch.randn(10, 3)\n",
    "y = torch.randn(10, 2)\n",
    "\n",
    "# Build a fully connected layer.\n",
    "linear = nn.Linear(3, 2)\n",
    "print ('w: ', linear.weight)\n",
    "print ('b: ', linear.bias)\n",
    "\n",
    "# Build loss function and optimizer.\n",
    "criterion = nn.MSELoss()\n",
    "optimizer = torch.optim.SGD(linear.parameters(), lr=0.01)\n",
    "\n",
    "# Forward pass.\n",
    "pred = linear(x)\n",
    "\n",
    "# Compute loss.\n",
    "loss = criterion(pred, y)\n",
    "print('loss: ', loss.item())\n",
    "\n",
    "# Backward pass.\n",
    "loss.backward()\n",
    "\n",
    "# Print out the gradients.\n",
    "print ('dL/dw: ', linear.weight.grad) \n",
    "print ('dL/db: ', linear.bias.grad)\n",
    "\n",
    "# 1-step gradient descent.\n",
    "optimizer.step()\n",
    "\n",
    "# You can also perform gradient descent at the low level.\n",
    "# linear.weight.data.sub_(0.01 * linear.weight.grad.data)\n",
    "# linear.bias.data.sub_(0.01 * linear.bias.grad.data)\n",
    "\n",
    "# Print out the loss after 1-step gradient descent.\n",
    "pred = linear(x)\n",
    "loss = criterion(pred, y)\n",
    "print('loss after 1 step optimization: ', loss.item())"
   ]
  },
  {
   "cell_type": "code",
   "execution_count": 38,
   "id": "69e9dfb8-c37a-41df-a05d-6054c617bce3",
   "metadata": {},
   "outputs": [],
   "source": [
    "import numpy as np\n",
    "X = np.random.random((2,11))\n",
    "Y = np.random.random((4,11))"
   ]
  },
  {
   "cell_type": "code",
   "execution_count": 21,
   "id": "f975c738-a3c8-4a3d-bb24-84208d658834",
   "metadata": {},
   "outputs": [
    {
     "name": "stdout",
     "output_type": "stream",
     "text": [
      "(4,)\n",
      "(4,)\n",
      "[[1.34570183 1.16486586 1.2125168  0.98136376]\n",
      " [1.40205083 0.96673394 1.51230846 1.36062458]]\n"
     ]
    }
   ],
   "source": [
    "def cal_dists_one_loop(X,Y):\n",
    "\n",
    "    num_test = X.shape[0]\n",
    "    num_train = Y.shape[0]\n",
    "    dists = np.zeros((num_test, num_train))\n",
    "    for i in range(num_test):\n",
    "            dists[i] = np.sqrt(np.sum(np.square(Y - X[i]), axis=1))\n",
    "            print(dists[i].shape)\n",
    "\n",
    "    return dists\n",
    "\n",
    "result = cal_dists_one_loop(myf,lhs)\n",
    "print(result)"
   ]
  },
  {
   "cell_type": "code",
   "execution_count": 22,
   "id": "e334093d-cc6b-488b-b810-a91569322b71",
   "metadata": {},
   "outputs": [
    {
     "name": "stdout",
     "output_type": "stream",
     "text": [
      "(1, 22) (22,)\n"
     ]
    }
   ],
   "source": [
    "x = np.random.random((1,22))\n",
    "print(x.shape,x[0].shape)"
   ]
  },
  {
   "cell_type": "code",
   "execution_count": 28,
   "id": "d0067ee1-ceac-4e3b-b975-661c9d44dbb8",
   "metadata": {},
   "outputs": [],
   "source": [
    "d1 = np.multiply(np.dot(X, Y.T), -2)    # shape (num_test, num_train)\n",
    "d2 = np.sum(np.square(X), axis=1, keepdims=True)    # shape (num_test, 1)\n",
    "d3 = np.sum(np.square(Y), axis=1)    # shape (1, num_train)"
   ]
  },
  {
   "cell_type": "code",
   "execution_count": 35,
   "id": "8fb406b4-6837-4951-aa71-c31f1535775d",
   "metadata": {},
   "outputs": [
    {
     "data": {
      "text/plain": [
       "(2, 1)"
      ]
     },
     "execution_count": 35,
     "metadata": {},
     "output_type": "execute_result"
    }
   ],
   "source": [
    "d2.shape"
   ]
  },
  {
   "cell_type": "code",
   "execution_count": 36,
   "id": "fbd9b30e-e5b3-4fc7-8219-b14a92051ddb",
   "metadata": {},
   "outputs": [
    {
     "data": {
      "text/plain": [
       "(4,)"
      ]
     },
     "execution_count": 36,
     "metadata": {},
     "output_type": "execute_result"
    }
   ],
   "source": [
    "d3.shape"
   ]
  },
  {
   "cell_type": "code",
   "execution_count": 49,
   "id": "b4af0271-3487-4516-b0e0-dd6bf1688e24",
   "metadata": {},
   "outputs": [],
   "source": [
    "myf = np.array([[1,5,4],[2,3,4]])"
   ]
  },
  {
   "cell_type": "code",
   "execution_count": 50,
   "id": "f5ec7db0-3f08-4058-a38b-b76c05459b05",
   "metadata": {},
   "outputs": [
    {
     "data": {
      "text/plain": [
       "array([[1, 5, 4],\n",
       "       [2, 3, 4]])"
      ]
     },
     "execution_count": 50,
     "metadata": {},
     "output_type": "execute_result"
    }
   ],
   "source": [
    "myf"
   ]
  },
  {
   "cell_type": "code",
   "execution_count": null,
   "id": "784702a7-8d2f-4583-80d5-8a679a0e57d3",
   "metadata": {},
   "outputs": [],
   "source": []
  }
 ],
 "metadata": {
  "kernelspec": {
   "display_name": "Python 3",
   "language": "python",
   "name": "python3"
  },
  "language_info": {
   "codemirror_mode": {
    "name": "ipython",
    "version": 3
   },
   "file_extension": ".py",
   "mimetype": "text/x-python",
   "name": "python",
   "nbconvert_exporter": "python",
   "pygments_lexer": "ipython3",
   "version": "3.8.10"
  }
 },
 "nbformat": 4,
 "nbformat_minor": 5
}
