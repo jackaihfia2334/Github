{
 "cells": [
  {
   "cell_type": "code",
   "execution_count": 2,
   "id": "31699c9e",
   "metadata": {},
   "outputs": [
    {
     "name": "stdout",
     "output_type": "stream",
     "text": [
      "tensor([[ 0,  1,  2,  3],\n",
      "        [ 4,  5,  6,  7],\n",
      "        [ 8,  9, 10, 11]])\n"
     ]
    }
   ],
   "source": [
    "import torch as t\n",
    "a = t.arange(12).view(3,4)\n",
    "print(a)"
   ]
  },
  {
   "cell_type": "code",
   "execution_count": 3,
   "id": "3a0164a7",
   "metadata": {},
   "outputs": [
    {
     "data": {
      "text/plain": [
       "tensor([ 4, 10])"
      ]
     },
     "execution_count": 3,
     "metadata": {},
     "output_type": "execute_result"
    }
   ],
   "source": [
    "a[t.tensor([1, 2]), t.tensor([0, 2])]"
   ]
  },
  {
   "cell_type": "code",
   "execution_count": 7,
   "id": "e0a85633",
   "metadata": {},
   "outputs": [
    {
     "data": {
      "text/plain": [
       "tensor([[ 4,  8],\n",
       "        [ 6, 10]])"
      ]
     },
     "execution_count": 7,
     "metadata": {},
     "output_type": "execute_result"
    }
   ],
   "source": [
    "a[t.tensor([1,2])[None,:], t.tensor([0, 2])[:,None]] # 不相同形状的index索引，满足广播法则\n",
    "                                                     # 获取索引为[1,0]、[2,0]、[1,2]、[2,2]的元素"
   ]
  },
  {
   "cell_type": "code",
   "execution_count": 12,
   "id": "67ef25ca",
   "metadata": {},
   "outputs": [
    {
     "data": {
      "text/plain": [
       "(tensor([[1, 2]]),\n",
       " tensor([[0],\n",
       "         [2]]))"
      ]
     },
     "execution_count": 12,
     "metadata": {},
     "output_type": "execute_result"
    }
   ],
   "source": [
    "t.tensor([1,2])[None,:], t.tensor([0, 2])[:,None]   #先广播法则扩展，再索引"
   ]
  },
  {
   "cell_type": "code",
   "execution_count": 13,
   "id": "7a2f0ce6",
   "metadata": {},
   "outputs": [
    {
     "name": "stdout",
     "output_type": "stream",
     "text": [
      "tensor([[ 8,  9, 10, 11],\n",
      "        [ 0,  1,  2,  3]])\n"
     ]
    }
   ],
   "source": [
    "print(a[[2,0]])"
   ]
  },
  {
   "cell_type": "code",
   "execution_count": 15,
   "id": "a431b261",
   "metadata": {},
   "outputs": [
    {
     "name": "stdout",
     "output_type": "stream",
     "text": [
      "tensor([ 7, 10,  1])\n"
     ]
    }
   ],
   "source": [
    "print(a[[1, 2, 0], [3, 2, 1]])"
   ]
  },
  {
   "cell_type": "code",
   "execution_count": 17,
   "id": "dbc3535d",
   "metadata": {},
   "outputs": [
    {
     "name": "stdout",
     "output_type": "stream",
     "text": [
      "tensor([[ 1, -3,  2],\n",
      "        [ 2,  9, -1],\n",
      "        [-8,  4,  1]])\n",
      "tensor([[ 2, -3,  4],\n",
      "        [ 4, 18, -1],\n",
      "        [-8,  8,  2]])\n"
     ]
    }
   ],
   "source": [
    "b = t.tensor([[1, -3, 2], [2, 9, -1], [-8, 4, 1]])\n",
    "print(b)\n",
    "b[b > 0] *= 2\n",
    "print(b)"
   ]
  },
  {
   "cell_type": "code",
   "execution_count": 14,
   "id": "aebac351",
   "metadata": {},
   "outputs": [
    {
     "name": "stdout",
     "output_type": "stream",
     "text": [
      "tensor([1, 2, 3, 4, 5, 6, 7, 8, 9])\n",
      "tensor([[[1, 3, 3, 5],\n",
      "         [5, 4, 5, 1],\n",
      "         [4, 5, 2, 5]],\n",
      "\n",
      "        [[6, 8, 0, 1],\n",
      "         [3, 8, 1, 8],\n",
      "         [1, 4, 6, 5]],\n",
      "\n",
      "        [[3, 1, 4, 3],\n",
      "         [5, 7, 5, 6],\n",
      "         [7, 6, 1, 4]],\n",
      "\n",
      "        [[3, 2, 5, 4],\n",
      "         [6, 7, 8, 2],\n",
      "         [4, 0, 8, 3]],\n",
      "\n",
      "        [[2, 5, 4, 5],\n",
      "         [4, 6, 3, 6],\n",
      "         [4, 4, 8, 1]]])\n"
     ]
    },
    {
     "data": {
      "text/plain": [
       "True"
      ]
     },
     "execution_count": 14,
     "metadata": {},
     "output_type": "execute_result"
    }
   ],
   "source": [
    "# 随机生成一组形状为(5,3,4)、0~9数字组成的张量\n",
    "a = t.randint(1, 10, (5,3,4))\n",
    "# 获取输出的unique list和索引\n",
    "output, inverse_indices = t.unique(a, return_inverse=True)\n",
    "print(output)\n",
    "print(inverse_indices)\n",
    "# 通过整数数组索引 还原原始tensor\n",
    "a_generate = output[inverse_indices]\n",
    "a_generate.equal(a)"
   ]
  },
  {
   "cell_type": "code",
   "execution_count": 23,
   "id": "c6c8192c",
   "metadata": {},
   "outputs": [
    {
     "name": "stdout",
     "output_type": "stream",
     "text": [
      "tensor([[4, 2, 1, 9, 3, 4, 7]])\n"
     ]
    },
    {
     "data": {
      "text/plain": [
       "tensor([[9, 3, 2, 1]])"
      ]
     },
     "execution_count": 23,
     "metadata": {},
     "output_type": "execute_result"
    }
   ],
   "source": [
    "x = t.randint(1, 10, (1,7))\n",
    "print(x)\n",
    "x[:,t.tensor([3,4,1,2])]  #  整数数组索引，输出的size等于索引的size，可以大于x本身的size"
   ]
  },
  {
   "cell_type": "markdown",
   "id": "9412061c",
   "metadata": {},
   "source": [
    "# nn.embedding学习"
   ]
  },
  {
   "cell_type": "code",
   "execution_count": 11,
   "id": "5e4e6eb3",
   "metadata": {},
   "outputs": [
    {
     "name": "stdout",
     "output_type": "stream",
     "text": [
      "torch.Size([4, 2])\n",
      "tensor([[1, 2],\n",
      "        [4, 2],\n",
      "        [4, 1],\n",
      "        [3, 2]])\n",
      "----------------------------------------------------------------------\n",
      "torch.Size([4, 2, 6])\n",
      "tensor([[[-0.4663,  0.5425,  0.0533, -1.5261,  0.3110,  0.1871],\n",
      "         [-1.0019, -1.4731,  0.5315, -0.0386,  2.1083,  0.2508]],\n",
      "\n",
      "        [[ 0.0000,  0.0000,  0.0000,  0.0000,  0.0000,  0.0000],\n",
      "         [-1.0019, -1.4731,  0.5315, -0.0386,  2.1083,  0.2508]],\n",
      "\n",
      "        [[ 0.0000,  0.0000,  0.0000,  0.0000,  0.0000,  0.0000],\n",
      "         [-0.4663,  0.5425,  0.0533, -1.5261,  0.3110,  0.1871]],\n",
      "\n",
      "        [[ 2.3033, -0.0814, -0.1821, -1.6813, -1.2886, -0.6068],\n",
      "         [-1.0019, -1.4731,  0.5315, -0.0386,  2.1083,  0.2508]]],\n",
      "       grad_fn=<EmbeddingBackward>)\n"
     ]
    }
   ],
   "source": [
    "import torch\n",
    "import torch.nn as nn\n",
    "\n",
    "\n",
    "# 输入\n",
    "x = torch.LongTensor([[1, 2], [4, 2],[4, 1],[3, 2]])\n",
    "print(x.shape)\n",
    "print(x)\n",
    "\n",
    "print(\"----------------------------------------------------------------------\")\n",
    "# 调用nn.Embedding函数\n",
    "# 一共5个词，每个词的词向量维度设置为6维\n",
    "embeddings = nn.Embedding(5, 6, padding_idx=4)\n",
    "print(embeddings(x).shape)\n",
    "print(embeddings(x))"
   ]
  },
  {
   "cell_type": "markdown",
   "id": "5fc301f1",
   "metadata": {},
   "source": [
    "# BCELoss()学习"
   ]
  },
  {
   "cell_type": "code",
   "execution_count": 12,
   "id": "0e3508aa",
   "metadata": {},
   "outputs": [
    {
     "name": "stdout",
     "output_type": "stream",
     "text": [
      "tensor(0.6702, grad_fn=<BinaryCrossEntropyBackward>)\n",
      "0.6702415347099304\n"
     ]
    }
   ],
   "source": [
    "import torch\n",
    "import torch.nn as nn\n",
    "\n",
    "m = nn.Sigmoid()\n",
    "loss = nn.BCELoss()\n",
    "input = torch.randn(8, requires_grad=True)\n",
    "target = torch.empty(8).random_(2)\n",
    "output = loss(m(input), target)\n",
    "print(output)\n",
    "print(output.item())    #item()取出对应位置元素的值\n",
    "\n",
    "#only one element tensors can be converted to Python scalars"
   ]
  },
  {
   "cell_type": "code",
   "execution_count": 13,
   "id": "15dfac0e",
   "metadata": {},
   "outputs": [
    {
     "name": "stdout",
     "output_type": "stream",
     "text": [
      "torch.Size([3, 1])\n",
      "torch.Size([3, 1])\n",
      "0.4177626371383667\n",
      "0.4177626371383667\n"
     ]
    }
   ],
   "source": [
    "def validate_loss(output, target, weight=None, pos_weight=None):\n",
    "    # 处理正负样本不均衡问题\n",
    "    if pos_weight is None:\n",
    "        label_size = output.size()[1]\n",
    "        pos_weight = torch.ones(label_size)\n",
    "    # 处理多标签不平衡问题\n",
    "    if weight is None:\n",
    "        label_size = output.size()[1]\n",
    "        weight = torch.ones(label_size)\n",
    "\n",
    "    val = 0\n",
    "    \n",
    "    #两层循环是为了处理多标签二分类问题\n",
    "    \"\"\"\n",
    "    什么是多标签分类？比如说给一篇文章分配话题，它既可以是科技类又可以是教育类，科技和教育就是这篇文章的两个标签。\n",
    "    又比如判断一幅图中包含什么，它可能既包含房子又包含马路。房子和马路就是这幅图对应的两个标签。\n",
    "    将每一种标签，看作是二分类。一个输入样本对应于多个标签，每个标签对应一个二分类（是或不是）。\n",
    "\n",
    "    \"\"\"\n",
    "    for li_x, li_y in zip(output, target):          \n",
    "        #print(li_x)\n",
    "        #print(li_y)\n",
    "        for i, xy in enumerate(zip(li_x, li_y)):\n",
    "            x, y = xy\n",
    "            loss_val = pos_weight[i] * y * math.log(x, math.e) + (1 - y) * math.log(1 - x, math.e)\n",
    "            val += weight[i] * loss_val\n",
    "    return -val / (output.size()[0] * output.size(1))\n",
    "\n",
    "import torch\n",
    "import torch.nn.functional as F\n",
    "import torch.nn as nn\n",
    "import math\n",
    "\n",
    "# 单标签二分类\n",
    "m = nn.Sigmoid()\n",
    "weight = torch.tensor([0.8])\n",
    "loss_fct = nn.BCELoss(reduction=\"mean\", weight=weight)\n",
    "input_src = torch.Tensor([[0.8], [0.9], [0.3]])\n",
    "target = torch.Tensor([[1], [1], [0]])\n",
    "print(input_src.size())\n",
    "print(target.size())\n",
    "output = m(input_src)\n",
    "\n",
    "#print(list(zip(output, target)))\n",
    "loss = loss_fct(output, target)\n",
    "print(loss.item())\n",
    "\n",
    "# 验证计算\n",
    "validate = validate_loss(output, target, weight)\n",
    "print(validate.item())"
   ]
  },
  {
   "cell_type": "code",
   "execution_count": 14,
   "id": "3e613ae7",
   "metadata": {},
   "outputs": [
    {
     "name": "stdout",
     "output_type": "stream",
     "text": [
      "torch.Size([3, 1])\n",
      "torch.Size([3, 1])\n",
      "0.4177626371383667\n",
      "0.4177626371383667\n"
     ]
    }
   ],
   "source": [
    "# 单标签二分类\n",
    "weight = torch.tensor([0.8])\n",
    "input_src = torch.Tensor([[0.8], [0.9], [0.3]])\n",
    "target = torch.Tensor([[1], [1], [0]])\n",
    "print(input_src.size())\n",
    "print(target.size())\n",
    "output = torch.sigmoid(input_src)\n",
    "loss = F.binary_cross_entropy(output, target, weight=weight, reduction='mean')\n",
    "print(loss.item())\n",
    "\n",
    "# 验证计算\n",
    "validate = validate_loss(output, target, weight)\n",
    "print(validate.item())"
   ]
  },
  {
   "cell_type": "code",
   "execution_count": null,
   "id": "18adf9d5",
   "metadata": {},
   "outputs": [],
   "source": []
  }
 ],
 "metadata": {
  "kernelspec": {
   "display_name": "Python 3 (ipykernel)",
   "language": "python",
   "name": "python3"
  },
  "language_info": {
   "codemirror_mode": {
    "name": "ipython",
    "version": 3
   },
   "file_extension": ".py",
   "mimetype": "text/x-python",
   "name": "python",
   "nbconvert_exporter": "python",
   "pygments_lexer": "ipython3",
   "version": "3.8.8"
  }
 },
 "nbformat": 4,
 "nbformat_minor": 5
}
