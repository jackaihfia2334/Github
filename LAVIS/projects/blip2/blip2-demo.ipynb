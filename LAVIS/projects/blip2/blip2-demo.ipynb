{
 "cells": [
  {
   "cell_type": "code",
   "execution_count": 32,
   "id": "23f4d9bb",
   "metadata": {
    "ExecuteTime": {
     "end_time": "2023-02-21T06:21:25.449074Z",
     "start_time": "2023-02-21T06:21:25.440208Z"
    }
   },
   "outputs": [],
   "source": [
    "import torch\n",
    "\n",
    "batch_size = 8\n",
    "num_gpu=2\n",
    "num_query_tokens=32\n",
    "embed_dim=512\n",
    "\n",
    "image_feats_all = torch.rand([batch_size*num_gpu, num_query_tokens, embed_dim])\n",
    "text_feat_all = torch.rand([batch_size*num_gpu, embed_dim])\n",
    "                             \n",
    "#sim_q2t = torch.matmul(image_feats.unsqueeze(1), text_feat_all.unsqueeze(-1)).squeeze()\n",
    "sim_q2t = torch.rand([batch_size, batch_size*num_gpu, num_query_tokens])"
   ]
  },
  {
   "cell_type": "code",
   "execution_count": 33,
   "id": "213b568d",
   "metadata": {
    "ExecuteTime": {
     "end_time": "2023-02-21T06:21:25.781053Z",
     "start_time": "2023-02-21T06:21:25.770974Z"
    }
   },
   "outputs": [
    {
     "data": {
      "text/plain": [
       "torch.Size([8, 16, 32])"
      ]
     },
     "execution_count": 33,
     "metadata": {},
     "output_type": "execute_result"
    }
   ],
   "source": [
    "sim_q2t.shape"
   ]
  },
  {
   "cell_type": "code",
   "execution_count": 34,
   "id": "05be18a1",
   "metadata": {
    "ExecuteTime": {
     "end_time": "2023-02-21T06:21:26.181221Z",
     "start_time": "2023-02-21T06:21:26.166405Z"
    }
   },
   "outputs": [
    {
     "data": {
      "text/plain": [
       "torch.Size([8, 16])"
      ]
     },
     "execution_count": 34,
     "metadata": {},
     "output_type": "execute_result"
    }
   ],
   "source": [
    "sim_q2t.max(-1).values.shape"
   ]
  },
  {
   "cell_type": "code",
   "execution_count": 35,
   "id": "21cefd34",
   "metadata": {
    "ExecuteTime": {
     "end_time": "2023-02-21T06:26:45.009643Z",
     "start_time": "2023-02-21T06:26:45.002208Z"
    }
   },
   "outputs": [],
   "source": [
    "def concat_all_gather(tensor):\n",
    "    \"\"\"\n",
    "    Performs all_gather operation on the provided tensors.\n",
    "    *** Warning ***: torch.distributed.all_gather has no gradient.\n",
    "    \"\"\"\n",
    "    # if use distributed training\n",
    "    if not is_dist_avail_and_initialized():\n",
    "        return tensor\n",
    "\n",
    "    tensors_gather = [\n",
    "        torch.ones_like(tensor) for _ in range(torch.distributed.get_world_size())\n",
    "    ]\n",
    "    torch.distributed.all_gather(tensors_gather, tensor, async_op=False)\n",
    "\n",
    "    output = torch.cat(tensors_gather, dim=0)\n",
    "    return output"
   ]
  },
  {
   "cell_type": "code",
   "execution_count": 36,
   "id": "c5287f76",
   "metadata": {
    "ExecuteTime": {
     "end_time": "2023-02-21T06:27:00.579129Z",
     "start_time": "2023-02-21T06:27:00.552260Z"
    }
   },
   "outputs": [
    {
     "ename": "NameError",
     "evalue": "name 'is_dist_avail_and_initialized' is not defined",
     "output_type": "error",
     "traceback": [
      "\u001b[1;31m---------------------------------------------------------------------------\u001b[0m",
      "\u001b[1;31mNameError\u001b[0m                                 Traceback (most recent call last)",
      "Input \u001b[1;32mIn [36]\u001b[0m, in \u001b[0;36m<cell line: 1>\u001b[1;34m()\u001b[0m\n\u001b[1;32m----> 1\u001b[0m \u001b[43mconcat_all_gather\u001b[49m\u001b[43m(\u001b[49m\u001b[43mtext_feat_all\u001b[49m\u001b[43m)\u001b[49m\n",
      "Input \u001b[1;32mIn [35]\u001b[0m, in \u001b[0;36mconcat_all_gather\u001b[1;34m(tensor)\u001b[0m\n\u001b[0;32m      2\u001b[0m \u001b[38;5;124;03m\"\"\"\u001b[39;00m\n\u001b[0;32m      3\u001b[0m \u001b[38;5;124;03mPerforms all_gather operation on the provided tensors.\u001b[39;00m\n\u001b[0;32m      4\u001b[0m \u001b[38;5;124;03m*** Warning ***: torch.distributed.all_gather has no gradient.\u001b[39;00m\n\u001b[0;32m      5\u001b[0m \u001b[38;5;124;03m\"\"\"\u001b[39;00m\n\u001b[0;32m      6\u001b[0m \u001b[38;5;66;03m# if use distributed training\u001b[39;00m\n\u001b[1;32m----> 7\u001b[0m \u001b[38;5;28;01mif\u001b[39;00m \u001b[38;5;129;01mnot\u001b[39;00m \u001b[43mis_dist_avail_and_initialized\u001b[49m():\n\u001b[0;32m      8\u001b[0m     \u001b[38;5;28;01mreturn\u001b[39;00m tensor\n\u001b[0;32m     10\u001b[0m tensors_gather \u001b[38;5;241m=\u001b[39m [\n\u001b[0;32m     11\u001b[0m     torch\u001b[38;5;241m.\u001b[39mones_like(tensor) \u001b[38;5;28;01mfor\u001b[39;00m _ \u001b[38;5;129;01min\u001b[39;00m \u001b[38;5;28mrange\u001b[39m(torch\u001b[38;5;241m.\u001b[39mdistributed\u001b[38;5;241m.\u001b[39mget_world_size())\n\u001b[0;32m     12\u001b[0m ]\n",
      "\u001b[1;31mNameError\u001b[0m: name 'is_dist_avail_and_initialized' is not defined"
     ]
    }
   ],
   "source": [
    "concat_all_gather(text_feat_all)"
   ]
  },
  {
   "cell_type": "code",
   "execution_count": 37,
   "id": "b91b0820",
   "metadata": {
    "ExecuteTime": {
     "end_time": "2023-02-21T07:57:28.070715Z",
     "start_time": "2023-02-21T07:57:28.052656Z"
    }
   },
   "outputs": [],
   "source": [
    "bs = 8\n",
    "itm_labels = torch.cat(\n",
    "            [torch.ones(bs, dtype=torch.long), torch.zeros(2 * bs, dtype=torch.long)],\n",
    "            dim=0,\n",
    "        )"
   ]
  },
  {
   "cell_type": "code",
   "execution_count": 39,
   "id": "f407d4c5",
   "metadata": {
    "ExecuteTime": {
     "end_time": "2023-02-21T07:57:53.261535Z",
     "start_time": "2023-02-21T07:57:53.245851Z"
    }
   },
   "outputs": [
    {
     "data": {
      "text/plain": [
       "torch.Size([24])"
      ]
     },
     "execution_count": 39,
     "metadata": {},
     "output_type": "execute_result"
    }
   ],
   "source": [
    "itm_labels.shape"
   ]
  },
  {
   "cell_type": "code",
   "execution_count": 43,
   "id": "b42e3b11",
   "metadata": {
    "ExecuteTime": {
     "end_time": "2023-02-21T08:52:56.184760Z",
     "start_time": "2023-02-21T08:52:56.176518Z"
    }
   },
   "outputs": [
    {
     "name": "stdout",
     "output_type": "stream",
     "text": [
      "torch.Size([16, 32, 512])\n"
     ]
    },
    {
     "data": {
      "text/plain": [
       "torch.Size([16, 32])"
      ]
     },
     "execution_count": 43,
     "metadata": {},
     "output_type": "execute_result"
    }
   ],
   "source": [
    "query_tokens_itm=torch.rand([batch_size*num_gpu, num_query_tokens, embed_dim])\n",
    "print(query_tokens_itm.size())\n",
    "query_tokens_itm.size()[:-1]"
   ]
  },
  {
   "cell_type": "code",
   "execution_count": null,
   "id": "f0e6f41b",
   "metadata": {},
   "outputs": [],
   "source": []
  }
 ],
 "metadata": {
  "kernelspec": {
   "display_name": "Python 3 (ipykernel)",
   "language": "python",
   "name": "python3"
  },
  "language_info": {
   "codemirror_mode": {
    "name": "ipython",
    "version": 3
   },
   "file_extension": ".py",
   "mimetype": "text/x-python",
   "name": "python",
   "nbconvert_exporter": "python",
   "pygments_lexer": "ipython3",
   "version": "3.9.13"
  },
  "varInspector": {
   "cols": {
    "lenName": 16,
    "lenType": 16,
    "lenVar": 40
   },
   "kernels_config": {
    "python": {
     "delete_cmd_postfix": "",
     "delete_cmd_prefix": "del ",
     "library": "var_list.py",
     "varRefreshCmd": "print(var_dic_list())"
    },
    "r": {
     "delete_cmd_postfix": ") ",
     "delete_cmd_prefix": "rm(",
     "library": "var_list.r",
     "varRefreshCmd": "cat(var_dic_list()) "
    }
   },
   "types_to_exclude": [
    "module",
    "function",
    "builtin_function_or_method",
    "instance",
    "_Feature"
   ],
   "window_display": false
  }
 },
 "nbformat": 4,
 "nbformat_minor": 5
}
