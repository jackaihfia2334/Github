{
 "cells": [
  {
   "cell_type": "markdown",
   "id": "f0d1c5d7",
   "metadata": {},
   "source": [
    "两个数据结构：\n",
    "pd.series\n",
    "pd.dataframe\n"
   ]
  },
  {
   "cell_type": "code",
   "execution_count": null,
   "id": "a7c40af2",
   "metadata": {},
   "outputs": [],
   "source": []
  },
  {
   "cell_type": "markdown",
   "id": "b541b365",
   "metadata": {},
   "source": [
    "今日学习函数：\n",
    "df.merge\n",
    "\n",
    "\n",
    "\n",
    "\n",
    "df.groupby 按照给定key进行分组，返回一个键值对。键就是给定的key，值就是该分组构成的dataframe。"
   ]
  },
  {
   "cell_type": "code",
   "execution_count": 31,
   "id": "e8900a49",
   "metadata": {},
   "outputs": [
    {
     "data": {
      "text/html": [
       "<div>\n",
       "<style scoped>\n",
       "    .dataframe tbody tr th:only-of-type {\n",
       "        vertical-align: middle;\n",
       "    }\n",
       "\n",
       "    .dataframe tbody tr th {\n",
       "        vertical-align: top;\n",
       "    }\n",
       "\n",
       "    .dataframe thead th {\n",
       "        text-align: right;\n",
       "    }\n",
       "</style>\n",
       "<table border=\"1\" class=\"dataframe\">\n",
       "  <thead>\n",
       "    <tr style=\"text-align: right;\">\n",
       "      <th></th>\n",
       "      <th>key1</th>\n",
       "      <th>key2</th>\n",
       "      <th>data1</th>\n",
       "      <th>data2</th>\n",
       "    </tr>\n",
       "  </thead>\n",
       "  <tbody>\n",
       "    <tr>\n",
       "      <th>0</th>\n",
       "      <td>a</td>\n",
       "      <td>one</td>\n",
       "      <td>0</td>\n",
       "      <td>5</td>\n",
       "    </tr>\n",
       "    <tr>\n",
       "      <th>1</th>\n",
       "      <td>b</td>\n",
       "      <td>two</td>\n",
       "      <td>1</td>\n",
       "      <td>6</td>\n",
       "    </tr>\n",
       "    <tr>\n",
       "      <th>2</th>\n",
       "      <td>a</td>\n",
       "      <td>one</td>\n",
       "      <td>2</td>\n",
       "      <td>7</td>\n",
       "    </tr>\n",
       "    <tr>\n",
       "      <th>3</th>\n",
       "      <td>b</td>\n",
       "      <td>three</td>\n",
       "      <td>3</td>\n",
       "      <td>8</td>\n",
       "    </tr>\n",
       "    <tr>\n",
       "      <th>4</th>\n",
       "      <td>a</td>\n",
       "      <td>one</td>\n",
       "      <td>4</td>\n",
       "      <td>9</td>\n",
       "    </tr>\n",
       "  </tbody>\n",
       "</table>\n",
       "</div>"
      ],
      "text/plain": [
       "  key1   key2  data1  data2\n",
       "0    a    one      0      5\n",
       "1    b    two      1      6\n",
       "2    a    one      2      7\n",
       "3    b  three      3      8\n",
       "4    a    one      4      9"
      ]
     },
     "execution_count": 31,
     "metadata": {},
     "output_type": "execute_result"
    }
   ],
   "source": [
    "import pandas as pd\n",
    "from pandas import DataFrame\n",
    "df = DataFrame({'key1':list('ababa'),\n",
    "                'key2': ['one','two','one','three','one'],\n",
    "                'data1': np.arange(0, 5),\n",
    "                'data2': np.arange(5, 10)})\n",
    "df"
   ]
  },
  {
   "cell_type": "code",
   "execution_count": 44,
   "id": "2bf3b600",
   "metadata": {},
   "outputs": [
    {
     "name": "stdout",
     "output_type": "stream",
     "text": [
      "a\n",
      "  key1 key2  data1  data2\n",
      "0    a  one      0      5\n",
      "2    a  one      2      7\n",
      "4    a  one      4      9\n",
      "\n",
      "b\n",
      "  key1   key2  data1  data2\n",
      "1    b    two      1      6\n",
      "3    b  three      3      8\n",
      "\n"
     ]
    }
   ],
   "source": [
    "group = df.groupby(['key1'])\n",
    "for key, value in group:\n",
    "    print(key)\n",
    "    print(value)\n",
    "    print(\"\")"
   ]
  },
  {
   "cell_type": "code",
   "execution_count": 45,
   "id": "ef52afb4",
   "metadata": {},
   "outputs": [
    {
     "data": {
      "text/plain": [
       "array(['a'], dtype=object)"
      ]
     },
     "execution_count": 45,
     "metadata": {},
     "output_type": "execute_result"
    }
   ],
   "source": [
    "group.size().where(lambda x : (2<x)&(x<4)).dropna().index.values"
   ]
  },
  {
   "cell_type": "code",
   "execution_count": 46,
   "id": "ff590756",
   "metadata": {},
   "outputs": [],
   "source": [
    "group2 = pd.Series(group.size())"
   ]
  },
  {
   "cell_type": "code",
   "execution_count": 47,
   "id": "898cc2f6",
   "metadata": {},
   "outputs": [
    {
     "data": {
      "text/plain": [
       "array(['a'], dtype=object)"
      ]
     },
     "execution_count": 47,
     "metadata": {},
     "output_type": "execute_result"
    }
   ],
   "source": [
    "group2.where(lambda x : (2<x)&(x<4)).dropna().index.values"
   ]
  },
  {
   "cell_type": "code",
   "execution_count": 37,
   "id": "c9e076c5",
   "metadata": {},
   "outputs": [
    {
     "name": "stdout",
     "output_type": "stream",
     "text": [
      "<class 'pandas.core.series.Series'>\n",
      "key1\n",
      "a    3\n",
      "b    2\n",
      "dtype: int64\n"
     ]
    },
    {
     "data": {
      "text/plain": [
       "0    (a, [key1, key2, data1])\n",
       "1           (b, [key1, key2])\n",
       "dtype: object"
      ]
     },
     "execution_count": 37,
     "metadata": {},
     "output_type": "execute_result"
    }
   ],
   "source": [
    "print(type(group.size()))\n",
    "print(group.size())\n",
    "pd.Series(group)"
   ]
  },
  {
   "attachments": {
    "image.png": {
     "image/png": "[encoded data removed]"
    }
   },
   "cell_type": "markdown",
   "id": "33ec3c58",
   "metadata": {},
   "source": [
    "![image.png](attachment:image.png)"
   ]
  },
  {
   "attachments": {
    "image.png": {
     "image/png": "[encoded data removed]"
    }
   },
   "cell_type": "markdown",
   "id": "0397b1a0",
   "metadata": {},
   "source": [
    "![image.png](attachment:image.png)"
   ]
  },
  {
   "cell_type": "markdown",
   "id": "b625af20",
   "metadata": {},
   "source": [
    "#np.cumsum函数 累加作用\n",
    "\n",
    "\n",
    "numpy.cumsum(a, axis=None, dtype=None, out=None)\n",
    "\n",
    "axis=0，按照行累加。\n",
    "\n",
    "axis=1，按照列累加。\n",
    "\n",
    "axis不给定具体值，就把numpy数组当成一个一维数组。\n"
   ]
  },
  {
   "cell_type": "code",
   "execution_count": 12,
   "id": "cce720a2",
   "metadata": {},
   "outputs": [
    {
     "data": {
      "text/plain": [
       "array([ 1.,  3.,  6., 10., 15., 21.])"
      ]
     },
     "execution_count": 12,
     "metadata": {},
     "output_type": "execute_result"
    }
   ],
   "source": [
    "import numpy as np\n",
    "a = np.array([[1,2,3], [4,5,6]])#没有指定轴参数(axis)！输出就变成1维数组了\n",
    "np.cumsum(a,axis=0) #按照行累加，行求和\n",
    "np.cumsum(a,axis=1) #按照列累加，列求和 \n",
    "np.cumsum(a, dtype=float) # 指定输出类型"
   ]
  },
  {
   "cell_type": "markdown",
   "id": "3c01df6c",
   "metadata": {},
   "source": [
    "# 一维数组和一个标量的区别"
   ]
  },
  {
   "cell_type": "code",
   "execution_count": 1,
   "id": "54a536c7",
   "metadata": {},
   "outputs": [
    {
     "name": "stdout",
     "output_type": "stream",
     "text": [
      "[0]\n",
      "0\n"
     ]
    }
   ],
   "source": [
    "import numpy as np\n",
    "x= np.array((0, ))\n",
    "print(x)\n",
    "y =np.array((0))\n",
    "print(y)"
   ]
  },
  {
   "cell_type": "markdown",
   "id": "308f488b",
   "metadata": {},
   "source": [
    "# 分桶（buckets）\n",
    "https://python.freelycode.com/contribution/detail/1749"
   ]
  },
  {
   "cell_type": "code",
   "execution_count": 9,
   "id": "68696cfc",
   "metadata": {},
   "outputs": [
    {
     "name": "stdout",
     "output_type": "stream",
     "text": [
      "    Python  Tensorflow  Keras\n",
      "0       52          31     63\n",
      "1       67           9     60\n",
      "2      109         118    121\n",
      "3      138         140    147\n",
      "4       16          11    148\n",
      "5       91         105     38\n",
      "6       23         103     93\n",
      "7       31          89     58\n",
      "8        9          98     85\n",
      "9      118          67    115\n",
      "10      61          93     54\n",
      "11       5          60     54\n",
      "12      68         120     81\n",
      "13      85           6     75\n",
      "14      84          16    122\n",
      "15      27         126    107\n",
      "16      11          38     55\n",
      "17      48          80     71\n",
      "18      67          85     37\n",
      "19     133          30    149\n"
     ]
    },
    {
     "data": {
      "text/plain": [
       "0     (49.333, 93.667]\n",
       "1     (49.333, 93.667]\n",
       "2      (93.667, 138.0]\n",
       "3      (93.667, 138.0]\n",
       "4      (4.867, 49.333]\n",
       "5     (49.333, 93.667]\n",
       "6      (4.867, 49.333]\n",
       "7      (4.867, 49.333]\n",
       "8      (4.867, 49.333]\n",
       "9      (93.667, 138.0]\n",
       "10    (49.333, 93.667]\n",
       "11     (4.867, 49.333]\n",
       "12    (49.333, 93.667]\n",
       "13    (49.333, 93.667]\n",
       "14    (49.333, 93.667]\n",
       "15     (4.867, 49.333]\n",
       "16     (4.867, 49.333]\n",
       "17     (4.867, 49.333]\n",
       "18    (49.333, 93.667]\n",
       "19     (93.667, 138.0]\n",
       "Name: Python, dtype: category\n",
       "Categories (3, interval[float64]): [(4.867, 49.333] < (49.333, 93.667] < (93.667, 138.0]]"
      ]
     },
     "execution_count": 9,
     "metadata": {},
     "output_type": "execute_result"
    }
   ],
   "source": [
    "import numpy as np\n",
    "import pandas as pd\n",
    "\n",
    "df = pd.DataFrame(data = np.random.randint(0,150,size = (20,3)),\n",
    " columns=['Python','Tensorflow','Keras'])\n",
    "print(df)\n",
    "# 1、等宽分箱\n",
    "# 就是变量取值的每个区间的宽度是相等的，即最小值最大值的差值要小于某个数字，这个数字就叫做箱子的宽度。\n",
    "pd.cut(df.Python,bins = 3)"
   ]
  },
  {
   "cell_type": "code",
   "execution_count": 10,
   "id": "458b771f",
   "metadata": {},
   "outputs": [
    {
     "data": {
      "text/plain": [
       "0      中等\n",
       "1      中等\n",
       "2      优秀\n",
       "3      优秀\n",
       "4      优秀\n",
       "5     不及格\n",
       "6      良好\n",
       "7     不及格\n",
       "8      中等\n",
       "9      良好\n",
       "10    不及格\n",
       "11    不及格\n",
       "12     中等\n",
       "13     中等\n",
       "14     优秀\n",
       "15     良好\n",
       "16    不及格\n",
       "17     中等\n",
       "18    不及格\n",
       "19     优秀\n",
       "Name: Keras, dtype: category\n",
       "Categories (4, object): ['不及格' < '中等' < '良好' < '优秀']"
      ]
     },
     "execution_count": 10,
     "metadata": {},
     "output_type": "execute_result"
    }
   ],
   "source": [
    "# 指定宽度分箱\n",
    "pd.cut(df.Keras,#分箱数据\n",
    " bins = [0,60,90,120,150],#分箱断点\n",
    " right = False,# 左闭右开\n",
    " labels=['不及格','中等','良好','优秀'])# 分箱后分类"
   ]
  },
  {
   "cell_type": "code",
   "execution_count": 11,
   "id": "92b70a94",
   "metadata": {},
   "outputs": [
    {
     "data": {
      "text/plain": [
       "0     中\n",
       "1     良\n",
       "2     优\n",
       "3     优\n",
       "4     差\n",
       "5     优\n",
       "6     差\n",
       "7     中\n",
       "8     差\n",
       "9     优\n",
       "10    中\n",
       "11    差\n",
       "12    良\n",
       "13    良\n",
       "14    良\n",
       "15    中\n",
       "16    差\n",
       "17    中\n",
       "18    良\n",
       "19    优\n",
       "Name: Python, dtype: category\n",
       "Categories (4, object): ['差' < '中' < '良' < '优']"
      ]
     },
     "execution_count": 11,
     "metadata": {},
     "output_type": "execute_result"
    }
   ],
   "source": [
    "# 2、等频分箱\n",
    "pd.qcut(df.Python,q = 4,# 4等分\n",
    " labels=['差','中','良','优']) # 分箱后分类"
   ]
  },
  {
   "cell_type": "markdown",
   "id": "fc1ba0fd",
   "metadata": {},
   "source": [
    "## np.outer\n",
    "numpy中的outer定义和向量外积有所不同"
   ]
  },
  {
   "attachments": {
    "image.png": {
     "image/png": "[encoded data removed]"
    }
   },
   "cell_type": "markdown",
   "id": "93ce638a",
   "metadata": {},
   "source": [
    "![image.png](attachment:image.png)"
   ]
  },
  {
   "cell_type": "code",
   "execution_count": 4,
   "id": "c80f20f3",
   "metadata": {},
   "outputs": [
    {
     "name": "stdout",
     "output_type": "stream",
     "text": [
      "[[ 4  5  6]\n",
      " [ 8 10 12]\n",
      " [12 15 18]]\n",
      "[[1 1 1 1]\n",
      " [2 2 2 2]\n",
      " [3 3 3 3]\n",
      " [4 4 4 4]]\n",
      "[['a' 'aa' 'aaa']\n",
      " ['b' 'bb' 'bbb']\n",
      " ['c' 'cc' 'ccc']]\n"
     ]
    }
   ],
   "source": [
    "import numpy as np\n",
    "\n",
    "# eg1:\n",
    "x1 = [1,2,3]\n",
    "x2 = [4,5,6]\n",
    "outer = np.outer(x1,x2)\n",
    "print(outer)\n",
    "\n",
    "# eg2:\n",
    "x1 = [[1,2],[3,4]]\n",
    "x2 = [[1,1],[1,1]]\n",
    "outer = np.outer(x1,x2)\n",
    "print(outer)\n",
    "\n",
    "# eg3:\n",
    "x = np.array(['a', 'b', 'c'], dtype=object)\n",
    "outer = np.outer(x, [1, 2, 3])\n",
    "print(outer)"
   ]
  },
  {
   "cell_type": "markdown",
   "id": "c0f2b23f",
   "metadata": {},
   "source": [
    "### pandas.get_dummies 的用法"
   ]
  },
  {
   "cell_type": "code",
   "execution_count": 12,
   "id": "dc2ceeb3",
   "metadata": {},
   "outputs": [
    {
     "data": {
      "text/html": [
       "<div>\n",
       "<style scoped>\n",
       "    .dataframe tbody tr th:only-of-type {\n",
       "        vertical-align: middle;\n",
       "    }\n",
       "\n",
       "    .dataframe tbody tr th {\n",
       "        vertical-align: top;\n",
       "    }\n",
       "\n",
       "    .dataframe thead th {\n",
       "        text-align: right;\n",
       "    }\n",
       "</style>\n",
       "<table border=\"1\" class=\"dataframe\">\n",
       "  <thead>\n",
       "    <tr style=\"text-align: right;\">\n",
       "      <th></th>\n",
       "      <th>color</th>\n",
       "      <th>class</th>\n",
       "    </tr>\n",
       "  </thead>\n",
       "  <tbody>\n",
       "    <tr>\n",
       "      <th>0</th>\n",
       "      <td>green</td>\n",
       "      <td>A</td>\n",
       "    </tr>\n",
       "    <tr>\n",
       "      <th>1</th>\n",
       "      <td>red</td>\n",
       "      <td>B</td>\n",
       "    </tr>\n",
       "    <tr>\n",
       "      <th>2</th>\n",
       "      <td>blue</td>\n",
       "      <td>A</td>\n",
       "    </tr>\n",
       "  </tbody>\n",
       "</table>\n",
       "</div>"
      ],
      "text/plain": [
       "   color class\n",
       "0  green     A\n",
       "1    red     B\n",
       "2   blue     A"
      ]
     },
     "execution_count": 12,
     "metadata": {},
     "output_type": "execute_result"
    }
   ],
   "source": [
    "import pandas as pd\n",
    "df = pd.DataFrame([  \n",
    "            ['green' , 'A'],   \n",
    "            ['red'   , 'B'],   \n",
    "            ['blue'  , 'A']])  \n",
    "\n",
    "df.columns = ['color',  'class'] \n",
    "df"
   ]
  },
  {
   "cell_type": "code",
   "execution_count": 13,
   "id": "cce4523a",
   "metadata": {},
   "outputs": [
    {
     "data": {
      "text/html": [
       "<div>\n",
       "<style scoped>\n",
       "    .dataframe tbody tr th:only-of-type {\n",
       "        vertical-align: middle;\n",
       "    }\n",
       "\n",
       "    .dataframe tbody tr th {\n",
       "        vertical-align: top;\n",
       "    }\n",
       "\n",
       "    .dataframe thead th {\n",
       "        text-align: right;\n",
       "    }\n",
       "</style>\n",
       "<table border=\"1\" class=\"dataframe\">\n",
       "  <thead>\n",
       "    <tr style=\"text-align: right;\">\n",
       "      <th></th>\n",
       "      <th>color_blue</th>\n",
       "      <th>color_green</th>\n",
       "      <th>color_red</th>\n",
       "      <th>class_A</th>\n",
       "      <th>class_B</th>\n",
       "    </tr>\n",
       "  </thead>\n",
       "  <tbody>\n",
       "    <tr>\n",
       "      <th>0</th>\n",
       "      <td>0</td>\n",
       "      <td>1</td>\n",
       "      <td>0</td>\n",
       "      <td>1</td>\n",
       "      <td>0</td>\n",
       "    </tr>\n",
       "    <tr>\n",
       "      <th>1</th>\n",
       "      <td>0</td>\n",
       "      <td>0</td>\n",
       "      <td>1</td>\n",
       "      <td>0</td>\n",
       "      <td>1</td>\n",
       "    </tr>\n",
       "    <tr>\n",
       "      <th>2</th>\n",
       "      <td>1</td>\n",
       "      <td>0</td>\n",
       "      <td>0</td>\n",
       "      <td>1</td>\n",
       "      <td>0</td>\n",
       "    </tr>\n",
       "  </tbody>\n",
       "</table>\n",
       "</div>"
      ],
      "text/plain": [
       "   color_blue  color_green  color_red  class_A  class_B\n",
       "0           0            1          0        1        0\n",
       "1           0            0          1        0        1\n",
       "2           1            0          0        1        0"
      ]
     },
     "execution_count": 13,
     "metadata": {},
     "output_type": "execute_result"
    }
   ],
   "source": [
    "pd.get_dummies(df) "
   ]
  },
  {
   "cell_type": "markdown",
   "id": "a2a9ab7f",
   "metadata": {},
   "source": [
    "可以对指定列进行get_dummies"
   ]
  },
  {
   "cell_type": "code",
   "execution_count": 14,
   "id": "10815e84",
   "metadata": {},
   "outputs": [
    {
     "data": {
      "text/html": [
       "<div>\n",
       "<style scoped>\n",
       "    .dataframe tbody tr th:only-of-type {\n",
       "        vertical-align: middle;\n",
       "    }\n",
       "\n",
       "    .dataframe tbody tr th {\n",
       "        vertical-align: top;\n",
       "    }\n",
       "\n",
       "    .dataframe thead th {\n",
       "        text-align: right;\n",
       "    }\n",
       "</style>\n",
       "<table border=\"1\" class=\"dataframe\">\n",
       "  <thead>\n",
       "    <tr style=\"text-align: right;\">\n",
       "      <th></th>\n",
       "      <th>blue</th>\n",
       "      <th>green</th>\n",
       "      <th>red</th>\n",
       "    </tr>\n",
       "  </thead>\n",
       "  <tbody>\n",
       "    <tr>\n",
       "      <th>0</th>\n",
       "      <td>0</td>\n",
       "      <td>1</td>\n",
       "      <td>0</td>\n",
       "    </tr>\n",
       "    <tr>\n",
       "      <th>1</th>\n",
       "      <td>0</td>\n",
       "      <td>0</td>\n",
       "      <td>1</td>\n",
       "    </tr>\n",
       "    <tr>\n",
       "      <th>2</th>\n",
       "      <td>1</td>\n",
       "      <td>0</td>\n",
       "      <td>0</td>\n",
       "    </tr>\n",
       "  </tbody>\n",
       "</table>\n",
       "</div>"
      ],
      "text/plain": [
       "   blue  green  red\n",
       "0     0      1    0\n",
       "1     0      0    1\n",
       "2     1      0    0"
      ]
     },
     "execution_count": 14,
     "metadata": {},
     "output_type": "execute_result"
    }
   ],
   "source": [
    "pd.get_dummies(df.color)"
   ]
  },
  {
   "cell_type": "markdown",
   "id": "02ff950c",
   "metadata": {},
   "source": [
    "将指定列进行get_dummies 后合并到元数据中"
   ]
  },
  {
   "cell_type": "code",
   "execution_count": 15,
   "id": "a98b4fac",
   "metadata": {},
   "outputs": [
    {
     "data": {
      "text/html": [
       "<div>\n",
       "<style scoped>\n",
       "    .dataframe tbody tr th:only-of-type {\n",
       "        vertical-align: middle;\n",
       "    }\n",
       "\n",
       "    .dataframe tbody tr th {\n",
       "        vertical-align: top;\n",
       "    }\n",
       "\n",
       "    .dataframe thead th {\n",
       "        text-align: right;\n",
       "    }\n",
       "</style>\n",
       "<table border=\"1\" class=\"dataframe\">\n",
       "  <thead>\n",
       "    <tr style=\"text-align: right;\">\n",
       "      <th></th>\n",
       "      <th>class</th>\n",
       "      <th>blue</th>\n",
       "      <th>green</th>\n",
       "      <th>red</th>\n",
       "    </tr>\n",
       "  </thead>\n",
       "  <tbody>\n",
       "    <tr>\n",
       "      <th>0</th>\n",
       "      <td>A</td>\n",
       "      <td>0</td>\n",
       "      <td>1</td>\n",
       "      <td>0</td>\n",
       "    </tr>\n",
       "    <tr>\n",
       "      <th>1</th>\n",
       "      <td>B</td>\n",
       "      <td>0</td>\n",
       "      <td>0</td>\n",
       "      <td>1</td>\n",
       "    </tr>\n",
       "    <tr>\n",
       "      <th>2</th>\n",
       "      <td>A</td>\n",
       "      <td>1</td>\n",
       "      <td>0</td>\n",
       "      <td>0</td>\n",
       "    </tr>\n",
       "  </tbody>\n",
       "</table>\n",
       "</div>"
      ],
      "text/plain": [
       "  class  blue  green  red\n",
       "0     A     0      1    0\n",
       "1     B     0      0    1\n",
       "2     A     1      0    0"
      ]
     },
     "execution_count": 15,
     "metadata": {},
     "output_type": "execute_result"
    }
   ],
   "source": [
    "df = df.join(pd.get_dummies(df.color)).drop(columns='color') \n",
    "df"
   ]
  },
  {
   "cell_type": "code",
   "execution_count": null,
   "id": "b3c37336",
   "metadata": {},
   "outputs": [],
   "source": []
  }
 ],
 "metadata": {
  "kernelspec": {
   "display_name": "Python 3 (ipykernel)",
   "language": "python",
   "name": "python3"
  },
  "language_info": {
   "codemirror_mode": {
    "name": "ipython",
    "version": 3
   },
   "file_extension": ".py",
   "mimetype": "text/x-python",
   "name": "python",
   "nbconvert_exporter": "python",
   "pygments_lexer": "ipython3",
   "version": "3.8.8"
  }
 },
 "nbformat": 4,
 "nbformat_minor": 5
}
