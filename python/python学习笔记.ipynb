{
 "cells": [
  {
   "cell_type": "code",
   "execution_count": 1,
   "id": "31b4fce2",
   "metadata": {},
   "outputs": [
    {
     "name": "stdout",
     "output_type": "stream",
     "text": [
      "3\n",
      "140723577956304\n"
     ]
    }
   ],
   "source": [
    "x = 3\n",
    "print(x)\n",
    "print(id(x))"
   ]
  },
  {
   "cell_type": "code",
   "execution_count": 2,
   "id": "92f6f7b2",
   "metadata": {},
   "outputs": [
    {
     "name": "stdout",
     "output_type": "stream",
     "text": [
      "5\n",
      "140723577956368\n"
     ]
    }
   ],
   "source": [
    "x += 2\n",
    "print(x)\n",
    "print(id(x))"
   ]
  },
  {
   "cell_type": "code",
   "execution_count": 3,
   "id": "b0fb7f8e",
   "metadata": {},
   "outputs": [
    {
     "name": "stdout",
     "output_type": "stream",
     "text": [
      "5\n",
      "140723577956368\n"
     ]
    }
   ],
   "source": [
    "y = x\n",
    "print(y)\n",
    "print(id(y))"
   ]
  },
  {
   "cell_type": "code",
   "execution_count": 4,
   "id": "affca555",
   "metadata": {},
   "outputs": [
    {
     "name": "stdout",
     "output_type": "stream",
     "text": [
      "140723577956240\n",
      "140723577956272\n",
      "140723577956272\n"
     ]
    }
   ],
   "source": [
    "m = 1\n",
    "print(id(m))\n",
    "m = 2\n",
    "print(id(m))\n",
    "n = m\n",
    "print(id(n))"
   ]
  },
  {
   "cell_type": "code",
   "execution_count": 7,
   "id": "33642f84",
   "metadata": {},
   "outputs": [
    {
     "name": "stdout",
     "output_type": "stream",
     "text": [
      "myf isee 3.14\n"
     ]
    }
   ],
   "source": [
    "s1 = \"{} {} {}\".format(\"myf\",\"isee\",3.14)\n",
    "print(s1)"
   ]
  },
  {
   "cell_type": "code",
   "execution_count": 9,
   "id": "b8d820c5",
   "metadata": {},
   "outputs": [
    {
     "ename": "TypeError",
     "evalue": "not all arguments converted during string formatting",
     "output_type": "error",
     "traceback": [
      "\u001b[1;31m---------------------------------------------------------------------------\u001b[0m",
      "\u001b[1;31mTypeError\u001b[0m                                 Traceback (most recent call last)",
      "\u001b[1;32m<ipython-input-9-9e50e58816b8>\u001b[0m in \u001b[0;36m<module>\u001b[1;34m\u001b[0m\n\u001b[1;32m----> 1\u001b[1;33m \u001b[0ms2\u001b[0m \u001b[1;33m=\u001b[0m \u001b[1;34m'%s %s %f'\u001b[0m \u001b[1;33m%\u001b[0m\u001b[1;33m(\u001b[0m\u001b[1;34m\"myf\"\u001b[0m\u001b[1;33m,\u001b[0m\u001b[1;34m\"isee\"\u001b[0m\u001b[1;33m,\u001b[0m\u001b[1;36m3\u001b[0m\u001b[1;33m,\u001b[0m\u001b[1;36m14\u001b[0m\u001b[1;33m)\u001b[0m\u001b[1;33m\u001b[0m\u001b[1;33m\u001b[0m\u001b[0m\n\u001b[0m\u001b[0;32m      2\u001b[0m \u001b[0mprint\u001b[0m\u001b[1;33m(\u001b[0m\u001b[0ms2\u001b[0m\u001b[1;33m)\u001b[0m\u001b[1;33m\u001b[0m\u001b[1;33m\u001b[0m\u001b[0m\n",
      "\u001b[1;31mTypeError\u001b[0m: not all arguments converted during string formatting"
     ]
    }
   ],
   "source": [
    "s2 = '%s %s %f' %(\"myf\",\"isee\",3,14)\n",
    "print(s2)                       #尚未解决"
   ]
  },
  {
   "cell_type": "code",
   "execution_count": 11,
   "id": "856de137",
   "metadata": {},
   "outputs": [
    {
     "name": "stdout",
     "output_type": "stream",
     "text": [
      "m y f   i s e e "
     ]
    }
   ],
   "source": [
    "for ch in \"myf isee\":\n",
    "    print(ch,end=\" \")"
   ]
  },
  {
   "cell_type": "markdown",
   "id": "a78b44ad",
   "metadata": {},
   "source": [
    "### python 容器对象\n",
    "\n",
    "list tuple dict set"
   ]
  },
  {
   "cell_type": "code",
   "execution_count": 5,
   "id": "cf50906f",
   "metadata": {},
   "outputs": [
    {
     "name": "stdout",
     "output_type": "stream",
     "text": [
      "[1, 3, 14, 'myf', [1, 2]]\n",
      "<class 'list'>\n"
     ]
    }
   ],
   "source": [
    "a = [1,3,14,\"myf\",[1,2]]\n",
    "print(a)\n",
    "print(type(a))"
   ]
  },
  {
   "cell_type": "code",
   "execution_count": 6,
   "id": "7c1f9a34",
   "metadata": {},
   "outputs": [
    {
     "name": "stdout",
     "output_type": "stream",
     "text": [
      "2447933784960\n",
      "2447933784960\n",
      "2447933593216\n"
     ]
    }
   ],
   "source": [
    "print(id(a))\n",
    "a[2:4]=[7,9]   #与之前变量对象的特性作比较\n",
    "print(id(a))   #修改list的元素，不改变对象id\n",
    "\n",
    "a = [1,2]\n",
    "print(id(a))   #修改整个list，与之前得到对象一样，变成新的对象，改变它的id"
   ]
  },
  {
   "cell_type": "code",
   "execution_count": 7,
   "id": "121b0499",
   "metadata": {},
   "outputs": [
    {
     "name": "stdout",
     "output_type": "stream",
     "text": [
      "2447933593216\n",
      "2447933784960\n"
     ]
    }
   ],
   "source": [
    "b1=a\n",
    "print(id(b1))\n",
    "b2=a[:]\n",
    "print(id(b2))"
   ]
  },
  {
   "cell_type": "code",
   "execution_count": 8,
   "id": "c56d75f2",
   "metadata": {},
   "outputs": [
    {
     "name": "stdout",
     "output_type": "stream",
     "text": [
      "[1, 4, 9, 16]\n"
     ]
    }
   ],
   "source": [
    "alist = [e**2  for e in[1,2,3,4]]\n",
    "print(alist)"
   ]
  },
  {
   "cell_type": "code",
   "execution_count": 9,
   "id": "8833aa1f",
   "metadata": {},
   "outputs": [
    {
     "name": "stdout",
     "output_type": "stream",
     "text": [
      "[4, 16, 36]\n"
     ]
    }
   ],
   "source": [
    "alist = [x**2 for x in[1,2,3,4,5,6] if x%2==0]\n",
    "print(alist)"
   ]
  },
  {
   "cell_type": "code",
   "execution_count": 10,
   "id": "f285b057",
   "metadata": {},
   "outputs": [
    {
     "name": "stdout",
     "output_type": "stream",
     "text": [
      "[1, 2, 3]\n",
      "1 2 3\n"
     ]
    }
   ],
   "source": [
    "#列表的一个性质\n",
    "print([1,2,3])\n",
    "print(*[1,2,3])  # “*”引用列表中的元素"
   ]
  },
  {
   "cell_type": "markdown",
   "id": "6c8b7c46",
   "metadata": {},
   "source": [
    "range(n)迭代器对象"
   ]
  },
  {
   "cell_type": "markdown",
   "id": "77c983c9",
   "metadata": {},
   "source": [
    "### typle 元组\n",
    "基本与list相同，除了两点\n",
    "\n",
    "1.[ ]变为（ ）\n",
    "2.不可修改"
   ]
  },
  {
   "cell_type": "code",
   "execution_count": 11,
   "id": "0d2e1f6b",
   "metadata": {},
   "outputs": [
    {
     "name": "stdout",
     "output_type": "stream",
     "text": [
      "<class 'list'>\n"
     ]
    }
   ],
   "source": [
    "nums = [x  for x in range(6)]\n",
    "print(type(nums))     #是列表类型"
   ]
  },
  {
   "cell_type": "code",
   "execution_count": 12,
   "id": "e2c0be74",
   "metadata": {},
   "outputs": [
    {
     "name": "stdout",
     "output_type": "stream",
     "text": [
      "<class 'generator'>\n"
     ]
    }
   ],
   "source": [
    "nums = (x  for x in range(6))\n",
    "print(type(nums))     #不是元组类型，而是生成器类型"
   ]
  },
  {
   "cell_type": "markdown",
   "id": "79f947a8",
   "metadata": {},
   "source": [
    "在下面这种应用场景中，一般更适合用生成器类型，它始终是用到一个产生一个，存储空间相比lsit类型小很多，这也是迭代器、生成器的设计目的之一\n",
    "\n",
    "for e in nums:\n",
    "\n",
    "   print(e,end=\" \")   "
   ]
  },
  {
   "cell_type": "code",
   "execution_count": 13,
   "id": "7d79bdf1",
   "metadata": {},
   "outputs": [
    {
     "name": "stdout",
     "output_type": "stream",
     "text": [
      "0 1 2 3 4 5 6 7 "
     ]
    }
   ],
   "source": [
    "nums = (x  for x in range(8))\n",
    "for e in nums:\n",
    "    print(e,end=\" \")   "
   ]
  },
  {
   "cell_type": "markdown",
   "id": "a437170e-3462-4eb4-a5d4-d35d555a0df1",
   "metadata": {},
   "source": [
    "### 局部变量&全局变量"
   ]
  },
  {
   "cell_type": "code",
   "execution_count": 14,
   "id": "778bf192",
   "metadata": {},
   "outputs": [
    {
     "name": "stdout",
     "output_type": "stream",
     "text": [
      "6 [8, 2, 3]\n",
      "5 [8, 2, 3]\n"
     ]
    }
   ],
   "source": [
    "global_x = 5\n",
    "a = [1,2,3]\n",
    "def f(x,y):\n",
    "    x = 6\n",
    "    y[0] = 8\n",
    "    print(x,y)\n",
    "    return x,y\n",
    "f(global_x,a)  \n",
    "print(global_x,a)   #基本类型与非基本类型在局部变量&全局变量上性质的不同\n",
    "                    #基本类型参数传递的是复制对象，而非基本类型参数传递的是引用"
   ]
  },
  {
   "cell_type": "markdown",
   "id": "0c948acc-e87c-4c0b-8301-b2e5473c3227",
   "metadata": {},
   "source": [
    "### 类和对象"
   ]
  },
  {
   "cell_type": "code",
   "execution_count": 2,
   "id": "d8f8a940-5ddf-43b0-ab92-a73645be45a8",
   "metadata": {},
   "outputs": [
    {
     "name": "stdout",
     "output_type": "stream",
     "text": [
      "tensor([1, 2, 3, 4]) torch.LongTensor\n"
     ]
    }
   ],
   "source": [
    "import torch\n",
    "x = torch.tensor([1,2,3,4])\n",
    "print(x,x.type())"
   ]
  },
  {
   "cell_type": "code",
   "execution_count": 7,
   "id": "6fe80364-ba9a-40a2-8485-6f30580828bb",
   "metadata": {},
   "outputs": [
    {
     "name": "stdout",
     "output_type": "stream",
     "text": [
      "tensor(84.7910)\n",
      "tensor([0.0321, 0.0871, 0.2369, 0.6439])\n"
     ]
    }
   ],
   "source": [
    "y = torch.exp(x)\n",
    "p = y.sum(0,keepdim = True)\n",
    "print(p)\n",
    "z = y/p\n",
    "print(z)"
   ]
  },
  {
   "cell_type": "code",
   "execution_count": 3,
   "id": "ce7a8066-eeb5-4dde-a6cf-bb21304864cc",
   "metadata": {},
   "outputs": [
    {
     "name": "stdout",
     "output_type": "stream",
     "text": [
      "[[0.57669919 0.02517487]\n",
      " [0.52697763 0.06924344]\n",
      " [0.437614   0.43994461]]\n"
     ]
    }
   ],
   "source": [
    "import numpy as np\n",
    "myf = np.random.random((3,2))\n",
    "print (myf)"
   ]
  },
  {
   "cell_type": "code",
   "execution_count": 5,
   "id": "a64b8cc8-29fc-4d8b-8551-9f564ea970f8",
   "metadata": {},
   "outputs": [
    {
     "data": {
      "text/plain": [
       "array([[0.02517487],\n",
       "       [0.06924344]])"
      ]
     },
     "execution_count": 5,
     "metadata": {},
     "output_type": "execute_result"
    }
   ],
   "source": [
    "myf[:2,1:2]"
   ]
  },
  {
   "cell_type": "markdown",
   "id": "0dff5dd2",
   "metadata": {},
   "source": [
    "### Python格式化输出：f-string格式化输出\n",
    "\n",
    "f-string简介\n",
    "python3.6引入了一种新的字符串格式化方式：f-tring格式化字符串。从%s格式化到format格式化再到f-string格式化，格式化的方式越来越直观，f-string的效率也较前两个高一些，使用起来也比前两个简单一些。\n",
    "同时值得注意的是，f-string就是在format格式化的基础之上做了一些变动，核心使用思想和format一样"
   ]
  },
  {
   "cell_type": "markdown",
   "id": "46cf345b",
   "metadata": {},
   "source": [
    "### Bert"
   ]
  },
  {
   "cell_type": "code",
   "execution_count": 1,
   "id": "da8841db",
   "metadata": {},
   "outputs": [],
   "source": [
    "import math\n",
    "import re\n",
    "from random import *\n",
    "import numpy as np\n",
    "import torch\n",
    "import torch.nn as nn\n",
    "import torch.optim as optim"
   ]
  },
  {
   "cell_type": "code",
   "execution_count": 2,
   "id": "c4350bee",
   "metadata": {},
   "outputs": [],
   "source": [
    "text = (\n",
    "        'Hello, how are you? I am Romeo.\\n'\n",
    "        'Hello, Romeo My name is Juliet. Nice to meet you.\\n'\n",
    "        'Nice meet you too. How are you today?\\n'\n",
    "        'Great. My baseball team won the competition.\\n'\n",
    "        'Oh Congratulations, Juliet\\n'\n",
    "        'Thanks you Romeo'\n",
    "    )\n",
    "sentences = re.sub(\"[.,!?\\\\-]\", '', text.lower()).split('\\n')  # filter '.', ',', '?', '!'\n",
    "word_list = list(set(\" \".join(sentences).split()))\n",
    "word_dict = {'[PAD]': 0, '[CLS]': 1, '[SEP]': 2, '[MASK]': 3}\n",
    "\n",
    "for i, w in enumerate(word_list):\n",
    "     word_dict[w] = i + 4\n",
    "number_dict = {i: w for i, w in enumerate(word_dict)}\n",
    "vocab_size = len(word_dict)\n",
    "\n",
    "token_list = list()\n",
    "for sentence in sentences:\n",
    "    arr = [word_dict[s] for s in sentence.split()]\n",
    "    token_list.append(arr)"
   ]
  },
  {
   "cell_type": "code",
   "execution_count": null,
   "id": "3e592f81",
   "metadata": {},
   "outputs": [],
   "source": [
    "text"
   ]
  },
  {
   "cell_type": "code",
   "execution_count": 10,
   "id": "63723488",
   "metadata": {},
   "outputs": [
    {
     "data": {
      "text/plain": [
       "['hello how are you i am romeo',\n",
       " 'hello romeo my name is juliet nice to meet you',\n",
       " 'nice meet you too how are you today',\n",
       " 'great my baseball team won the competition',\n",
       " 'oh congratulations juliet',\n",
       " 'thanks you romeo']"
      ]
     },
     "execution_count": 10,
     "metadata": {},
     "output_type": "execute_result"
    }
   ],
   "source": [
    "sentences"
   ]
  },
  {
   "cell_type": "code",
   "execution_count": 11,
   "id": "c3ee5fbe",
   "metadata": {},
   "outputs": [
    {
     "data": {
      "text/plain": [
       "['too',\n",
       " 'are',\n",
       " 'romeo',\n",
       " 'how',\n",
       " 'baseball',\n",
       " 'you',\n",
       " 'thanks',\n",
       " 'i',\n",
       " 'is',\n",
       " 'nice',\n",
       " 'congratulations',\n",
       " 'hello',\n",
       " 'the',\n",
       " 'juliet',\n",
       " 'great',\n",
       " 'my',\n",
       " 'to',\n",
       " 'won',\n",
       " 'name',\n",
       " 'meet',\n",
       " 'am',\n",
       " 'oh',\n",
       " 'today',\n",
       " 'team',\n",
       " 'competition']"
      ]
     },
     "execution_count": 11,
     "metadata": {},
     "output_type": "execute_result"
    }
   ],
   "source": [
    "word_list"
   ]
  },
  {
   "cell_type": "code",
   "execution_count": 12,
   "id": "4e305158",
   "metadata": {},
   "outputs": [
    {
     "data": {
      "text/plain": [
       "[[15, 7, 5, 9, 11, 24, 6],\n",
       " [15, 6, 19, 22, 12, 17, 13, 20, 23, 9],\n",
       " [13, 23, 9, 4, 7, 5, 9, 26],\n",
       " [18, 19, 8, 27, 21, 16, 28],\n",
       " [25, 14, 17],\n",
       " [10, 9, 6]]"
      ]
     },
     "execution_count": 12,
     "metadata": {},
     "output_type": "execute_result"
    }
   ],
   "source": [
    "token_list"
   ]
  },
  {
   "cell_type": "markdown",
   "id": "218737ef",
   "metadata": {},
   "source": [
    "### Filter函数\n",
    "filter() 函数用于过滤序列，过滤掉不符合条件的元素，返回由符合条件元素组成的新列表。\n",
    "该接收两个参数，第一个为函数，第二个为序列，序列的每个元素作为参数传递给函数进行判断，然后返回 True 或 False，最后将返回 True 的元素放到新列表中。\n",
    "注意: Python2.7 返回列表，Python3.x 返回迭代器对象，具体内容可以查看：Python3 filter() 函数"
   ]
  },
  {
   "cell_type": "code",
   "execution_count": 8,
   "id": "05c141e9",
   "metadata": {},
   "outputs": [
    {
     "name": "stdout",
     "output_type": "stream",
     "text": [
      "['E', 'F']\n",
      "['A', 'B']\n"
     ]
    }
   ],
   "source": [
    "import torch\n",
    "import torch.nn as nn\n",
    "import torch.nn.functional as F\n",
    "from torch import optim\n",
    "\n",
    "myf = []\n",
    "list1 = ['A','B','C','H']\n",
    "list2 = ['A','B','E','F']\n",
    "#方式一\n",
    "for Y in filter(lambda x :x not in list1,list2):  #filter()返回的是迭代器\n",
    "    myf.append(Y)\n",
    "print(myf)\n",
    "\n",
    "#方式二\n",
    "s1=list(filter(lambda x :x in list1,list2))\n",
    "print(s1)"
   ]
  },
  {
   "cell_type": "markdown",
   "id": "972574dd",
   "metadata": {},
   "source": [
    "### map函数\n",
    "map()是 Python 内置的高阶函数，它接收一个函数 f 和一个 list，并通过把函数 f 依次作用在 list 的每个元素上，得到一个新的 list 并返回。\n",
    "有一个点要注意：map函数要经过list转换，即：list(map(function,list1[]))"
   ]
  },
  {
   "cell_type": "code",
   "execution_count": 3,
   "id": "fc48de55",
   "metadata": {},
   "outputs": [
    {
     "name": "stdout",
     "output_type": "stream",
     "text": [
      "[3, 4, 5, 6, 7, 8]\n"
     ]
    }
   ],
   "source": [
    "def F(x):\n",
    "    return x+2\n",
    "\n",
    "Y= list(map(F,[1,2,3,4,5,6]))\n",
    "print(Y)"
   ]
  },
  {
   "cell_type": "markdown",
   "id": "06875eef",
   "metadata": {},
   "source": [
    "### lambda函数\n",
    "匿名函数lambda：是指一类无需定义标识符（函数名）的函数或子程序。lambda 函数可以接收任意多个参数 (包括可选参数) 并且返回单个表达式的\n",
    "\n",
    "语法：\n",
    "`lambda [arg1 [,arg2,.....argn]]:expression`冒号前是参数，可以有多个，用逗号隔开，冒号右边的为表达式（只能为一个）。\n",
    "\n",
    "**其实lambda返回值是一个函数的地址，也就是函数对象**"
   ]
  },
  {
   "cell_type": "code",
   "execution_count": 5,
   "id": "54903c77",
   "metadata": {},
   "outputs": [
    {
     "name": "stdout",
     "output_type": "stream",
     "text": [
      "[1, 3, 5, 7, 9]\n"
     ]
    }
   ],
   "source": [
    "print(list(filter(lambda x: x%2,range(10))))    #[1, 3, 5, 7, 9]"
   ]
  },
  {
   "cell_type": "markdown",
   "id": "15716f9e",
   "metadata": {},
   "source": [
    "### id(）函数\n",
    "id() 函数返回对象的唯一标识符，标识符是一个整数。\n",
    "\n",
    "eg: `id([object])`\n",
    "\n",
    "参数说明：object -- 对象。"
   ]
  },
  {
   "cell_type": "code",
   "execution_count": 4,
   "id": "3b7450fe",
   "metadata": {},
   "outputs": [
    {
     "name": "stdout",
     "output_type": "stream",
     "text": [
      "2487233510512\n"
     ]
    }
   ],
   "source": [
    "a = 'runoob'\n",
    "print(id(a))"
   ]
  },
  {
   "cell_type": "code",
   "execution_count": 7,
   "id": "bff87791",
   "metadata": {},
   "outputs": [
    {
     "name": "stdout",
     "output_type": "stream",
     "text": [
      "regular dictionary:\n",
      "\n",
      "a A\n",
      "b C\n",
      "c B\n"
     ]
    }
   ],
   "source": [
    "import collections\n",
    "print(\"regular dictionary:\\n\")\n",
    "d={}\n",
    "d['a']='A'\n",
    "d['b']='C'\n",
    "d['c']='B'\n",
    "for k,v in d.items():\n",
    "    print(k,v)\n"
   ]
  },
  {
   "cell_type": "code",
   "execution_count": 8,
   "id": "a18ad855",
   "metadata": {},
   "outputs": [
    {
     "name": "stdout",
     "output_type": "stream",
     "text": [
      "Regular dictionary:\n",
      "True\n",
      "OrderedDict:\n",
      "False\n"
     ]
    }
   ],
   "source": [
    "print('Regular dictionary:')\n",
    "d2={}\n",
    "d2['a']='A'\n",
    "d2['b']='B'\n",
    "d2['c']='C'\n",
    "\n",
    "d3={}\n",
    "d3['c']='C'\n",
    "d3['a']='A'\n",
    "d3['b']='B' \n",
    "print(d2==d3)\n",
    "\n",
    "print('OrderedDict:')\n",
    "d4=collections.OrderedDict()\n",
    "d4['a']='A'\n",
    "d4['b']='B'\n",
    "d4['c']='C'\n",
    " \n",
    "d5=collections.OrderedDict()\n",
    "d5['c']='C'\n",
    "d5['a']='A'\n",
    "d5['b']='B'\n",
    "print(d4==d5)\n"
   ]
  },
  {
   "cell_type": "code",
   "execution_count": 11,
   "id": "99ce148c",
   "metadata": {},
   "outputs": [
    {
     "name": "stdout",
     "output_type": "stream",
     "text": [
      "[Conv2d(10, 10, kernel_size=(1, 1), stride=(2, 2), bias=False), Conv2d(10, 10, kernel_size=(1, 1), stride=(2, 2), bias=False), Conv2d(10, 10, kernel_size=(1, 1), stride=(2, 2), bias=False), Conv2d(10, 10, kernel_size=(1, 1), stride=(2, 2), bias=False), Conv2d(10, 10, kernel_size=(1, 1), stride=(2, 2), bias=False)]\n",
      "Sequential(\n",
      "  (0): Conv2d(10, 10, kernel_size=(1, 1), stride=(2, 2), bias=False)\n",
      "  (1): Conv2d(10, 10, kernel_size=(1, 1), stride=(2, 2), bias=False)\n",
      "  (2): Conv2d(10, 10, kernel_size=(1, 1), stride=(2, 2), bias=False)\n",
      "  (3): Conv2d(10, 10, kernel_size=(1, 1), stride=(2, 2), bias=False)\n",
      "  (4): Conv2d(10, 10, kernel_size=(1, 1), stride=(2, 2), bias=False)\n",
      ")\n"
     ]
    }
   ],
   "source": [
    "import torch.nn as nn\n",
    "blk = []\n",
    "for i in range(5):\n",
    "   blk.append(nn.Conv2d(10, 10, 1, 2, bias=False))\n",
    "print(blk)\n",
    "\n",
    "model = nn.Sequential(*blk)\n",
    "print(model)"
   ]
  },
  {
   "cell_type": "markdown",
   "id": "1c2d7702",
   "metadata": {},
   "source": [
    "# Python zip() 函数\n",
    "\n",
    "描述：\n",
    "zip() 函数用于将可迭代的对象作为参数，将对象中对应的元素打包成一个个元组，然后返回由这些元组组成的列表。\n",
    "\n",
    "如果各个迭代器的元素个数不一致，则返回列表长度与最短的对象相同，利用 * 号操作符，可以将元组解压为列表。"
   ]
  },
  {
   "cell_type": "code",
   "execution_count": 12,
   "id": "ac613a32",
   "metadata": {},
   "outputs": [
    {
     "data": {
      "text/plain": [
       "<zip at 0x1a050ba79c0>"
      ]
     },
     "execution_count": 12,
     "metadata": {},
     "output_type": "execute_result"
    }
   ],
   "source": [
    "a = [1,2,3]\n",
    "b = [4,5,6]\n",
    "c = [4,5,6,7,8]\n",
    "zipped = zip(a,b)     # 返回一个对象\n",
    "zipped"
   ]
  },
  {
   "cell_type": "code",
   "execution_count": 14,
   "id": "3bb16593",
   "metadata": {},
   "outputs": [
    {
     "name": "stdout",
     "output_type": "stream",
     "text": [
      "[(1, 4), (2, 5), (3, 6)]\n",
      "[1, 2, 3]\n",
      "[4, 5, 6]\n"
     ]
    }
   ],
   "source": [
    "#  zip 方法在 Python 2 和 Python 3 中的不同：\n",
    "#  在 Python 3.x 中为了减少内存，zip() 返回的是一个对象。如需展示列表，需手动 list() 转换。\n",
    "\n",
    "list(zipped)  # list() 转换为列表\n",
    "print(list(zip(a,c)))           # 元素个数与最短的列表一致\n",
    "\n",
    "a1, a2 = zip(*zip(a,b))          # 与 zip 相反，zip(*) 可理解为解压，返回二维矩阵式\n",
    "print(list(a1))\n",
    "print(list(a2))"
   ]
  },
  {
   "cell_type": "markdown",
   "id": "613d0211",
   "metadata": {},
   "source": [
    "### 赋值、浅拷贝、深拷贝\n",
    "\n",
    "直接赋值：其实就是对象的引用（别名）。\n",
    "b = a: 赋值引用，a 和 b 都指向同一个对象。\n",
    "\n",
    "\n",
    "浅拷贝(copy)：拷贝父对象，不会拷贝对象的内部的子对象。\n",
    "b = a.copy(): a 和 b 是一个独立的对象，但他们的子对象还是指向统一对象（是引用）。\n",
    "\n",
    "\n",
    "深拷贝(deepcopy)： copy 模块的 deepcopy 方法，完全拷贝了父对象及其子对象。\n",
    "b = copy.deepcopy(a): 深度拷贝, a 和 b 完全拷贝了父对象及其子对象，两者是完全独立的。"
   ]
  },
  {
   "cell_type": "code",
   "execution_count": 1,
   "id": "e2bff0f3",
   "metadata": {},
   "outputs": [
    {
     "name": "stdout",
     "output_type": "stream",
     "text": [
      "a =  [1, 2, 3, 4, ['a', 'b', 'c'], 5]\n",
      "b =  [1, 2, 3, 4, ['a', 'b', 'c'], 5]\n",
      "c =  [1, 2, 3, 4, ['a', 'b', 'c']]\n",
      "d =  [1, 2, 3, 4, ['a', 'b']]\n"
     ]
    }
   ],
   "source": [
    "import copy\n",
    "a = [1, 2, 3, 4, ['a', 'b']] #原始对象\n",
    " \n",
    "b = a                       #赋值，传对象的引用\n",
    "c = copy.copy(a)            #对象拷贝，浅拷贝\n",
    "d = copy.deepcopy(a)        #对象拷贝，深拷贝\n",
    " \n",
    "a.append(5)                 #修改对象a\n",
    "a[4].append('c')            #修改对象a中的['a', 'b']数组对象\n",
    " \n",
    "print( 'a = ', a )\n",
    "print( 'b = ', b )\n",
    "print( 'c = ', c )\n",
    "print( 'd = ', d )"
   ]
  },
  {
   "cell_type": "code",
   "execution_count": null,
   "id": "c10976ce",
   "metadata": {},
   "outputs": [],
   "source": []
  }
 ],
 "metadata": {
  "kernelspec": {
   "display_name": "Python 3 (ipykernel)",
   "language": "python",
   "name": "python3"
  },
  "language_info": {
   "codemirror_mode": {
    "name": "ipython",
    "version": 3
   },
   "file_extension": ".py",
   "mimetype": "text/x-python",
   "name": "python",
   "nbconvert_exporter": "python",
   "pygments_lexer": "ipython3",
   "version": "3.8.8"
  }
 },
 "nbformat": 4,
 "nbformat_minor": 5
}
