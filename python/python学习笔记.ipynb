{
 "cells": [
  {
   "cell_type": "code",
   "execution_count": 1,
   "id": "31b4fce2",
   "metadata": {},
   "outputs": [
    {
     "name": "stdout",
     "output_type": "stream",
     "text": [
      "3\n",
      "140723577956304\n"
     ]
    }
   ],
   "source": [
    "x = 3\n",
    "print(x)\n",
    "print(id(x))"
   ]
  },
  {
   "cell_type": "code",
   "execution_count": 2,
   "id": "92f6f7b2",
   "metadata": {},
   "outputs": [
    {
     "name": "stdout",
     "output_type": "stream",
     "text": [
      "5\n",
      "140723577956368\n"
     ]
    }
   ],
   "source": [
    "x += 2\n",
    "print(x)\n",
    "print(id(x))"
   ]
  },
  {
   "cell_type": "code",
   "execution_count": 3,
   "id": "b0fb7f8e",
   "metadata": {},
   "outputs": [
    {
     "name": "stdout",
     "output_type": "stream",
     "text": [
      "5\n",
      "140723577956368\n"
     ]
    }
   ],
   "source": [
    "y = x\n",
    "print(y)\n",
    "print(id(y))"
   ]
  },
  {
   "cell_type": "code",
   "execution_count": 4,
   "id": "affca555",
   "metadata": {},
   "outputs": [
    {
     "name": "stdout",
     "output_type": "stream",
     "text": [
      "140723577956240\n",
      "140723577956272\n",
      "140723577956272\n"
     ]
    }
   ],
   "source": [
    "m = 1\n",
    "print(id(m))\n",
    "m = 2\n",
    "print(id(m))\n",
    "n = m\n",
    "print(id(n))"
   ]
  },
  {
   "cell_type": "code",
   "execution_count": 7,
   "id": "33642f84",
   "metadata": {},
   "outputs": [
    {
     "name": "stdout",
     "output_type": "stream",
     "text": [
      "myf isee 3.14\n"
     ]
    }
   ],
   "source": [
    "s1 = \"{} {} {}\".format(\"myf\",\"isee\",3.14)\n",
    "print(s1)"
   ]
  },
  {
   "cell_type": "code",
   "execution_count": 9,
   "id": "b8d820c5",
   "metadata": {},
   "outputs": [
    {
     "ename": "TypeError",
     "evalue": "not all arguments converted during string formatting",
     "output_type": "error",
     "traceback": [
      "\u001b[1;31m---------------------------------------------------------------------------\u001b[0m",
      "\u001b[1;31mTypeError\u001b[0m                                 Traceback (most recent call last)",
      "\u001b[1;32m<ipython-input-9-9e50e58816b8>\u001b[0m in \u001b[0;36m<module>\u001b[1;34m\u001b[0m\n\u001b[1;32m----> 1\u001b[1;33m \u001b[0ms2\u001b[0m \u001b[1;33m=\u001b[0m \u001b[1;34m'%s %s %f'\u001b[0m \u001b[1;33m%\u001b[0m\u001b[1;33m(\u001b[0m\u001b[1;34m\"myf\"\u001b[0m\u001b[1;33m,\u001b[0m\u001b[1;34m\"isee\"\u001b[0m\u001b[1;33m,\u001b[0m\u001b[1;36m3\u001b[0m\u001b[1;33m,\u001b[0m\u001b[1;36m14\u001b[0m\u001b[1;33m)\u001b[0m\u001b[1;33m\u001b[0m\u001b[1;33m\u001b[0m\u001b[0m\n\u001b[0m\u001b[0;32m      2\u001b[0m \u001b[0mprint\u001b[0m\u001b[1;33m(\u001b[0m\u001b[0ms2\u001b[0m\u001b[1;33m)\u001b[0m\u001b[1;33m\u001b[0m\u001b[1;33m\u001b[0m\u001b[0m\n",
      "\u001b[1;31mTypeError\u001b[0m: not all arguments converted during string formatting"
     ]
    }
   ],
   "source": [
    "s2 = '%s %s %f' %(\"myf\",\"isee\",3,14)\n",
    "print(s2)                       #尚未解决"
   ]
  },
  {
   "cell_type": "code",
   "execution_count": 11,
   "id": "856de137",
   "metadata": {},
   "outputs": [
    {
     "name": "stdout",
     "output_type": "stream",
     "text": [
      "m y f   i s e e "
     ]
    }
   ],
   "source": [
    "for ch in \"myf isee\":\n",
    "    print(ch,end=\" \")"
   ]
  },
  {
   "cell_type": "markdown",
   "id": "a78b44ad",
   "metadata": {},
   "source": [
    "### python 容器对象\n",
    "\n",
    "list tuple dict set"
   ]
  },
  {
   "cell_type": "code",
   "execution_count": 5,
   "id": "cf50906f",
   "metadata": {},
   "outputs": [
    {
     "name": "stdout",
     "output_type": "stream",
     "text": [
      "[1, 3, 14, 'myf', [1, 2]]\n",
      "<class 'list'>\n"
     ]
    }
   ],
   "source": [
    "a = [1,3,14,\"myf\",[1,2]]\n",
    "print(a)\n",
    "print(type(a))"
   ]
  },
  {
   "cell_type": "code",
   "execution_count": 6,
   "id": "7c1f9a34",
   "metadata": {},
   "outputs": [
    {
     "name": "stdout",
     "output_type": "stream",
     "text": [
      "2447933784960\n",
      "2447933784960\n",
      "2447933593216\n"
     ]
    }
   ],
   "source": [
    "print(id(a))\n",
    "a[2:4]=[7,9]   #与之前变量对象的特性作比较\n",
    "print(id(a))   #修改list的元素，不改变对象id\n",
    "\n",
    "a = [1,2]\n",
    "print(id(a))   #修改整个list，与之前得到对象一样，变成新的对象，改变它的id"
   ]
  },
  {
   "cell_type": "code",
   "execution_count": 7,
   "id": "121b0499",
   "metadata": {},
   "outputs": [
    {
     "name": "stdout",
     "output_type": "stream",
     "text": [
      "2447933593216\n",
      "2447933784960\n"
     ]
    }
   ],
   "source": [
    "b1=a\n",
    "print(id(b1))\n",
    "b2=a[:]\n",
    "print(id(b2))"
   ]
  },
  {
   "cell_type": "code",
   "execution_count": 8,
   "id": "c56d75f2",
   "metadata": {},
   "outputs": [
    {
     "name": "stdout",
     "output_type": "stream",
     "text": [
      "[1, 4, 9, 16]\n"
     ]
    }
   ],
   "source": [
    "alist = [e**2  for e in[1,2,3,4]]\n",
    "print(alist)"
   ]
  },
  {
   "cell_type": "code",
   "execution_count": 9,
   "id": "8833aa1f",
   "metadata": {},
   "outputs": [
    {
     "name": "stdout",
     "output_type": "stream",
     "text": [
      "[4, 16, 36]\n"
     ]
    }
   ],
   "source": [
    "alist = [x**2 for x in[1,2,3,4,5,6] if x%2==0]\n",
    "print(alist)"
   ]
  },
  {
   "cell_type": "code",
   "execution_count": 10,
   "id": "f285b057",
   "metadata": {},
   "outputs": [
    {
     "name": "stdout",
     "output_type": "stream",
     "text": [
      "[1, 2, 3]\n",
      "1 2 3\n"
     ]
    }
   ],
   "source": [
    "#列表的一个性质\n",
    "print([1,2,3])\n",
    "print(*[1,2,3])  # “*”引用列表中的元素"
   ]
  },
  {
   "cell_type": "markdown",
   "id": "6c8b7c46",
   "metadata": {},
   "source": [
    "range(n)迭代器对象"
   ]
  },
  {
   "cell_type": "markdown",
   "id": "77c983c9",
   "metadata": {},
   "source": [
    "### typle 元组\n",
    "基本与list相同，除了两点\n",
    "\n",
    "1.[ ]变为（ ）\n",
    "2.不可修改"
   ]
  },
  {
   "cell_type": "code",
   "execution_count": 11,
   "id": "0d2e1f6b",
   "metadata": {},
   "outputs": [
    {
     "name": "stdout",
     "output_type": "stream",
     "text": [
      "<class 'list'>\n"
     ]
    }
   ],
   "source": [
    "nums = [x  for x in range(6)]\n",
    "print(type(nums))     #是列表类型"
   ]
  },
  {
   "cell_type": "code",
   "execution_count": 12,
   "id": "e2c0be74",
   "metadata": {},
   "outputs": [
    {
     "name": "stdout",
     "output_type": "stream",
     "text": [
      "<class 'generator'>\n"
     ]
    }
   ],
   "source": [
    "nums = (x  for x in range(6))\n",
    "print(type(nums))     #不是元组类型，而是生成器类型"
   ]
  },
  {
   "cell_type": "markdown",
   "id": "79f947a8",
   "metadata": {},
   "source": [
    "在下面这种应用场景中，一般更适合用生成器类型，它始终是用到一个产生一个，存储空间相比lsit类型小很多，这也是迭代器、生成器的设计目的之一\n",
    "\n",
    "for e in nums:\n",
    "\n",
    "   print(e,end=\" \")   "
   ]
  },
  {
   "cell_type": "code",
   "execution_count": 13,
   "id": "7d79bdf1",
   "metadata": {},
   "outputs": [
    {
     "name": "stdout",
     "output_type": "stream",
     "text": [
      "0 1 2 3 4 5 6 7 "
     ]
    }
   ],
   "source": [
    "nums = (x  for x in range(8))\n",
    "for e in nums:\n",
    "    print(e,end=\" \")   "
   ]
  },
  {
   "cell_type": "markdown",
   "id": "a437170e-3462-4eb4-a5d4-d35d555a0df1",
   "metadata": {},
   "source": [
    "### 局部变量&全局变量"
   ]
  },
  {
   "cell_type": "code",
   "execution_count": 14,
   "id": "778bf192",
   "metadata": {},
   "outputs": [
    {
     "name": "stdout",
     "output_type": "stream",
     "text": [
      "6 [8, 2, 3]\n",
      "5 [8, 2, 3]\n"
     ]
    }
   ],
   "source": [
    "global_x = 5\n",
    "a = [1,2,3]\n",
    "def f(x,y):\n",
    "    x = 6\n",
    "    y[0] = 8\n",
    "    print(x,y)\n",
    "    return x,y\n",
    "f(global_x,a)  \n",
    "print(global_x,a)   #基本类型与非基本类型在局部变量&全局变量上性质的不同\n",
    "                    #基本类型参数传递的是复制对象，而非基本类型参数传递的是引用"
   ]
  },
  {
   "cell_type": "markdown",
   "id": "0c948acc-e87c-4c0b-8301-b2e5473c3227",
   "metadata": {},
   "source": [
    "### 类和对象"
   ]
  },
  {
   "cell_type": "code",
   "execution_count": 2,
   "id": "d8f8a940-5ddf-43b0-ab92-a73645be45a8",
   "metadata": {},
   "outputs": [
    {
     "name": "stdout",
     "output_type": "stream",
     "text": [
      "tensor([1, 2, 3, 4]) torch.LongTensor\n"
     ]
    }
   ],
   "source": [
    "import torch\n",
    "x = torch.tensor([1,2,3,4])\n",
    "print(x,x.type())"
   ]
  },
  {
   "cell_type": "code",
   "execution_count": 7,
   "id": "6fe80364-ba9a-40a2-8485-6f30580828bb",
   "metadata": {},
   "outputs": [
    {
     "name": "stdout",
     "output_type": "stream",
     "text": [
      "tensor(84.7910)\n",
      "tensor([0.0321, 0.0871, 0.2369, 0.6439])\n"
     ]
    }
   ],
   "source": [
    "y = torch.exp(x)\n",
    "p = y.sum(0,keepdim = True)\n",
    "print(p)\n",
    "z = y/p\n",
    "print(z)"
   ]
  },
  {
   "cell_type": "code",
   "execution_count": 3,
   "id": "ce7a8066-eeb5-4dde-a6cf-bb21304864cc",
   "metadata": {},
   "outputs": [
    {
     "name": "stdout",
     "output_type": "stream",
     "text": [
      "[[0.57669919 0.02517487]\n",
      " [0.52697763 0.06924344]\n",
      " [0.437614   0.43994461]]\n"
     ]
    }
   ],
   "source": [
    "import numpy as np\n",
    "myf = np.random.random((3,2))\n",
    "print (myf)"
   ]
  },
  {
   "cell_type": "code",
   "execution_count": 5,
   "id": "a64b8cc8-29fc-4d8b-8551-9f564ea970f8",
   "metadata": {},
   "outputs": [
    {
     "data": {
      "text/plain": [
       "array([[0.02517487],\n",
       "       [0.06924344]])"
      ]
     },
     "execution_count": 5,
     "metadata": {},
     "output_type": "execute_result"
    }
   ],
   "source": [
    "myf[:2,1:2]"
   ]
  },
  {
   "cell_type": "markdown",
   "id": "0dff5dd2",
   "metadata": {},
   "source": [
    "### Python格式化输出：f-string格式化输出\n",
    "\n",
    "f-string简介\n",
    "python3.6引入了一种新的字符串格式化方式：f-tring格式化字符串。从%s格式化到format格式化再到f-string格式化，格式化的方式越来越直观，f-string的效率也较前两个高一些，使用起来也比前两个简单一些。\n",
    "同时值得注意的是，f-string就是在format格式化的基础之上做了一些变动，核心使用思想和format一样"
   ]
  },
  {
   "cell_type": "markdown",
   "id": "46cf345b",
   "metadata": {},
   "source": [
    "### Bert"
   ]
  },
  {
   "cell_type": "code",
   "execution_count": 1,
   "id": "da8841db",
   "metadata": {},
   "outputs": [],
   "source": [
    "import math\n",
    "import re\n",
    "from random import *\n",
    "import numpy as np\n",
    "import torch\n",
    "import torch.nn as nn\n",
    "import torch.optim as optim"
   ]
  },
  {
   "cell_type": "code",
   "execution_count": 2,
   "id": "c4350bee",
   "metadata": {},
   "outputs": [],
   "source": [
    "text = (\n",
    "        'Hello, how are you? I am Romeo.\\n'\n",
    "        'Hello, Romeo My name is Juliet. Nice to meet you.\\n'\n",
    "        'Nice meet you too. How are you today?\\n'\n",
    "        'Great. My baseball team won the competition.\\n'\n",
    "        'Oh Congratulations, Juliet\\n'\n",
    "        'Thanks you Romeo'\n",
    "    )\n",
    "sentences = re.sub(\"[.,!?\\\\-]\", '', text.lower()).split('\\n')  # filter '.', ',', '?', '!'\n",
    "word_list = list(set(\" \".join(sentences).split()))\n",
    "word_dict = {'[PAD]': 0, '[CLS]': 1, '[SEP]': 2, '[MASK]': 3}\n",
    "\n",
    "for i, w in enumerate(word_list):\n",
    "     word_dict[w] = i + 4\n",
    "number_dict = {i: w for i, w in enumerate(word_dict)}\n",
    "vocab_size = len(word_dict)\n",
    "\n",
    "token_list = list()\n",
    "for sentence in sentences:\n",
    "    arr = [word_dict[s] for s in sentence.split()]\n",
    "    token_list.append(arr)"
   ]
  },
  {
   "cell_type": "code",
   "execution_count": null,
   "id": "3e592f81",
   "metadata": {},
   "outputs": [],
   "source": [
    "text"
   ]
  },
  {
   "cell_type": "code",
   "execution_count": 10,
   "id": "63723488",
   "metadata": {},
   "outputs": [
    {
     "data": {
      "text/plain": [
       "['hello how are you i am romeo',\n",
       " 'hello romeo my name is juliet nice to meet you',\n",
       " 'nice meet you too how are you today',\n",
       " 'great my baseball team won the competition',\n",
       " 'oh congratulations juliet',\n",
       " 'thanks you romeo']"
      ]
     },
     "execution_count": 10,
     "metadata": {},
     "output_type": "execute_result"
    }
   ],
   "source": [
    "sentences"
   ]
  },
  {
   "cell_type": "code",
   "execution_count": 11,
   "id": "c3ee5fbe",
   "metadata": {},
   "outputs": [
    {
     "data": {
      "text/plain": [
       "['too',\n",
       " 'are',\n",
       " 'romeo',\n",
       " 'how',\n",
       " 'baseball',\n",
       " 'you',\n",
       " 'thanks',\n",
       " 'i',\n",
       " 'is',\n",
       " 'nice',\n",
       " 'congratulations',\n",
       " 'hello',\n",
       " 'the',\n",
       " 'juliet',\n",
       " 'great',\n",
       " 'my',\n",
       " 'to',\n",
       " 'won',\n",
       " 'name',\n",
       " 'meet',\n",
       " 'am',\n",
       " 'oh',\n",
       " 'today',\n",
       " 'team',\n",
       " 'competition']"
      ]
     },
     "execution_count": 11,
     "metadata": {},
     "output_type": "execute_result"
    }
   ],
   "source": [
    "word_list"
   ]
  },
  {
   "cell_type": "code",
   "execution_count": 12,
   "id": "4e305158",
   "metadata": {},
   "outputs": [
    {
     "data": {
      "text/plain": [
       "[[15, 7, 5, 9, 11, 24, 6],\n",
       " [15, 6, 19, 22, 12, 17, 13, 20, 23, 9],\n",
       " [13, 23, 9, 4, 7, 5, 9, 26],\n",
       " [18, 19, 8, 27, 21, 16, 28],\n",
       " [25, 14, 17],\n",
       " [10, 9, 6]]"
      ]
     },
     "execution_count": 12,
     "metadata": {},
     "output_type": "execute_result"
    }
   ],
   "source": [
    "token_list"
   ]
  },
  {
   "cell_type": "markdown",
   "id": "218737ef",
   "metadata": {},
   "source": [
    "### Filter函数\n",
    "filter() 函数用于过滤序列，过滤掉不符合条件的元素，返回由符合条件元素组成的新列表。\n",
    "该接收两个参数，第一个为函数，第二个为序列，序列的每个元素作为参数传递给函数进行判断，然后返回 True 或 False，最后将返回 True 的元素放到新列表中。\n",
    "注意: Python2.7 返回列表，Python3.x 返回迭代器对象，具体内容可以查看：Python3 filter() 函数"
   ]
  },
  {
   "cell_type": "code",
   "execution_count": 8,
   "id": "05c141e9",
   "metadata": {},
   "outputs": [
    {
     "name": "stdout",
     "output_type": "stream",
     "text": [
      "['E', 'F']\n",
      "['A', 'B']\n"
     ]
    }
   ],
   "source": [
    "import torch\n",
    "import torch.nn as nn\n",
    "import torch.nn.functional as F\n",
    "from torch import optim\n",
    "\n",
    "myf = []\n",
    "list1 = ['A','B','C','H']\n",
    "list2 = ['A','B','E','F']\n",
    "#方式一\n",
    "for Y in filter(lambda x :x not in list1,list2):  #filter()返回的是迭代器\n",
    "    myf.append(Y)\n",
    "print(myf)\n",
    "\n",
    "#方式二\n",
    "s1=list(filter(lambda x :x in list1,list2))\n",
    "print(s1)"
   ]
  },
  {
   "cell_type": "markdown",
   "id": "972574dd",
   "metadata": {},
   "source": [
    "### map函数\n",
    "map()是 Python 内置的高阶函数，它接收一个函数 f 和一个 list，并通过把函数 f 依次作用在 list 的每个元素上，得到一个新的 list 并返回。\n",
    "有一个点要注意：map函数要经过list转换，即：list(map(function,list1[]))"
   ]
  },
  {
   "cell_type": "code",
   "execution_count": 3,
   "id": "fc48de55",
   "metadata": {},
   "outputs": [
    {
     "name": "stdout",
     "output_type": "stream",
     "text": [
      "[3, 4, 5, 6, 7, 8]\n"
     ]
    }
   ],
   "source": [
    "def F(x):\n",
    "    return x+2\n",
    "\n",
    "Y= list(map(F,[1,2,3,4,5,6]))\n",
    "print(Y)"
   ]
  },
  {
   "cell_type": "markdown",
   "id": "06875eef",
   "metadata": {},
   "source": [
    "### lambda函数\n",
    "匿名函数lambda：是指一类无需定义标识符（函数名）的函数或子程序。lambda 函数可以接收任意多个参数 (包括可选参数) 并且返回单个表达式的\n",
    "\n",
    "语法：\n",
    "`lambda [arg1 [,arg2,.....argn]]:expression`冒号前是参数，可以有多个，用逗号隔开，冒号右边的为表达式（只能为一个）。\n",
    "\n",
    "**其实lambda返回值是一个函数的地址，也就是函数对象**"
   ]
  },
  {
   "cell_type": "code",
   "execution_count": 5,
   "id": "54903c77",
   "metadata": {},
   "outputs": [
    {
     "name": "stdout",
     "output_type": "stream",
     "text": [
      "[1, 3, 5, 7, 9]\n"
     ]
    }
   ],
   "source": [
    "print(list(filter(lambda x: x%2,range(10))))    #[1, 3, 5, 7, 9]"
   ]
  },
  {
   "cell_type": "markdown",
   "id": "15716f9e",
   "metadata": {},
   "source": [
    "### id(）函数\n",
    "id() 函数返回对象的唯一标识符，标识符是一个整数。\n",
    "\n",
    "eg: `id([object])`\n",
    "\n",
    "参数说明：object -- 对象。"
   ]
  },
  {
   "cell_type": "code",
   "execution_count": 4,
   "id": "3b7450fe",
   "metadata": {},
   "outputs": [
    {
     "name": "stdout",
     "output_type": "stream",
     "text": [
      "2487233510512\n"
     ]
    }
   ],
   "source": [
    "a = 'runoob'\n",
    "print(id(a))"
   ]
  },
  {
   "cell_type": "code",
   "execution_count": 7,
   "id": "bff87791",
   "metadata": {},
   "outputs": [
    {
     "name": "stdout",
     "output_type": "stream",
     "text": [
      "regular dictionary:\n",
      "\n",
      "a A\n",
      "b C\n",
      "c B\n"
     ]
    }
   ],
   "source": [
    "import collections\n",
    "print(\"regular dictionary:\\n\")\n",
    "d={}\n",
    "d['a']='A'\n",
    "d['b']='C'\n",
    "d['c']='B'\n",
    "for k,v in d.items():\n",
    "    print(k,v)\n"
   ]
  },
  {
   "cell_type": "code",
   "execution_count": 8,
   "id": "a18ad855",
   "metadata": {},
   "outputs": [
    {
     "name": "stdout",
     "output_type": "stream",
     "text": [
      "Regular dictionary:\n",
      "True\n",
      "OrderedDict:\n",
      "False\n"
     ]
    }
   ],
   "source": [
    "print('Regular dictionary:')\n",
    "d2={}\n",
    "d2['a']='A'\n",
    "d2['b']='B'\n",
    "d2['c']='C'\n",
    "\n",
    "d3={}\n",
    "d3['c']='C'\n",
    "d3['a']='A'\n",
    "d3['b']='B' \n",
    "print(d2==d3)\n",
    "\n",
    "print('OrderedDict:')\n",
    "d4=collections.OrderedDict()\n",
    "d4['a']='A'\n",
    "d4['b']='B'\n",
    "d4['c']='C'\n",
    " \n",
    "d5=collections.OrderedDict()\n",
    "d5['c']='C'\n",
    "d5['a']='A'\n",
    "d5['b']='B'\n",
    "print(d4==d5)\n"
   ]
  },
  {
   "cell_type": "code",
   "execution_count": 11,
   "id": "99ce148c",
   "metadata": {},
   "outputs": [
    {
     "name": "stdout",
     "output_type": "stream",
     "text": [
      "[Conv2d(10, 10, kernel_size=(1, 1), stride=(2, 2), bias=False), Conv2d(10, 10, kernel_size=(1, 1), stride=(2, 2), bias=False), Conv2d(10, 10, kernel_size=(1, 1), stride=(2, 2), bias=False), Conv2d(10, 10, kernel_size=(1, 1), stride=(2, 2), bias=False), Conv2d(10, 10, kernel_size=(1, 1), stride=(2, 2), bias=False)]\n",
      "Sequential(\n",
      "  (0): Conv2d(10, 10, kernel_size=(1, 1), stride=(2, 2), bias=False)\n",
      "  (1): Conv2d(10, 10, kernel_size=(1, 1), stride=(2, 2), bias=False)\n",
      "  (2): Conv2d(10, 10, kernel_size=(1, 1), stride=(2, 2), bias=False)\n",
      "  (3): Conv2d(10, 10, kernel_size=(1, 1), stride=(2, 2), bias=False)\n",
      "  (4): Conv2d(10, 10, kernel_size=(1, 1), stride=(2, 2), bias=False)\n",
      ")\n"
     ]
    }
   ],
   "source": [
    "import torch.nn as nn\n",
    "blk = []\n",
    "for i in range(5):\n",
    "   blk.append(nn.Conv2d(10, 10, 1, 2, bias=False))\n",
    "print(blk)\n",
    "\n",
    "model = nn.Sequential(*blk)\n",
    "print(model)"
   ]
  },
  {
   "cell_type": "markdown",
   "id": "1c2d7702",
   "metadata": {},
   "source": [
    "# Python zip() 函数\n",
    "\n",
    "描述：\n",
    "zip() 函数用于将可迭代的对象作为参数，将对象中对应的元素打包成一个个元组，然后返回由这些元组组成的列表。\n",
    "\n",
    "如果各个迭代器的元素个数不一致，则返回列表长度与最短的对象相同，利用 * 号操作符，可以将元组解压为列表。"
   ]
  },
  {
   "cell_type": "code",
   "execution_count": 12,
   "id": "ac613a32",
   "metadata": {},
   "outputs": [
    {
     "data": {
      "text/plain": [
       "<zip at 0x1a050ba79c0>"
      ]
     },
     "execution_count": 12,
     "metadata": {},
     "output_type": "execute_result"
    }
   ],
   "source": [
    "a = [1,2,3]\n",
    "b = [4,5,6]\n",
    "c = [4,5,6,7,8]\n",
    "zipped = zip(a,b)     # 返回一个对象\n",
    "zipped"
   ]
  },
  {
   "cell_type": "code",
   "execution_count": 14,
   "id": "3bb16593",
   "metadata": {},
   "outputs": [
    {
     "name": "stdout",
     "output_type": "stream",
     "text": [
      "[(1, 4), (2, 5), (3, 6)]\n",
      "[1, 2, 3]\n",
      "[4, 5, 6]\n"
     ]
    }
   ],
   "source": [
    "#  zip 方法在 Python 2 和 Python 3 中的不同：\n",
    "#  在 Python 3.x 中为了减少内存，zip() 返回的是一个对象。如需展示列表，需手动 list() 转换。\n",
    "\n",
    "list(zipped)  # list() 转换为列表\n",
    "print(list(zip(a,c)))           # 元素个数与最短的列表一致\n",
    "\n",
    "a1, a2 = zip(*zip(a,b))          # 与 zip 相反，zip(*) 可理解为解压，返回二维矩阵式\n",
    "print(list(a1))\n",
    "print(list(a2))"
   ]
  },
  {
   "cell_type": "markdown",
   "id": "613d0211",
   "metadata": {},
   "source": [
    "### 赋值、浅拷贝、深拷贝\n",
    "\n",
    "直接赋值：其实就是对象的引用（别名）。\n",
    "b = a: 赋值引用，a 和 b 都指向同一个对象。\n",
    "\n",
    "\n",
    "浅拷贝(copy)：拷贝父对象，不会拷贝对象的内部的子对象。\n",
    "b = a.copy(): a 和 b 是一个独立的对象，但他们的子对象还是指向统一对象（是引用）。\n",
    "\n",
    "\n",
    "深拷贝(deepcopy)： copy 模块的 deepcopy 方法，完全拷贝了父对象及其子对象。\n",
    "b = copy.deepcopy(a): 深度拷贝, a 和 b 完全拷贝了父对象及其子对象，两者是完全独立的。"
   ]
  },
  {
   "cell_type": "code",
   "execution_count": 1,
   "id": "e2bff0f3",
   "metadata": {},
   "outputs": [
    {
     "name": "stdout",
     "output_type": "stream",
     "text": [
      "a =  [1, 2, 3, 4, ['a', 'b', 'c'], 5]\n",
      "b =  [1, 2, 3, 4, ['a', 'b', 'c'], 5]\n",
      "c =  [1, 2, 3, 4, ['a', 'b', 'c']]\n",
      "d =  [1, 2, 3, 4, ['a', 'b']]\n"
     ]
    }
   ],
   "source": [
    "import copy\n",
    "a = [1, 2, 3, 4, ['a', 'b']] #原始对象\n",
    " \n",
    "b = a                       #赋值，传对象的引用\n",
    "c = copy.copy(a)            #对象拷贝，浅拷贝\n",
    "d = copy.deepcopy(a)        #对象拷贝，深拷贝\n",
    " \n",
    "a.append(5)                 #修改对象a\n",
    "a[4].append('c')            #修改对象a中的['a', 'b']数组对象\n",
    " \n",
    "print( 'a = ', a )\n",
    "print( 'b = ', b )\n",
    "print( 'c = ', c )\n",
    "print( 'd = ', d )"
   ]
  },
  {
   "cell_type": "code",
   "execution_count": null,
   "id": "095badaa",
   "metadata": {},
   "outputs": [],
   "source": []
  },
  {
   "cell_type": "code",
   "execution_count": null,
   "id": "d1c8964d",
   "metadata": {},
   "outputs": [],
   "source": []
  },
  {
   "cell_type": "code",
   "execution_count": 1,
   "id": "42485bbe",
   "metadata": {
    "ExecuteTime": {
     "end_time": "2023-06-22T15:49:17.762492Z",
     "start_time": "2023-06-22T15:49:17.746458Z"
    }
   },
   "outputs": [
    {
     "name": "stdout",
     "output_type": "stream",
     "text": [
      "id(a)->>> 2030185016704\n",
      "赋值：id(b)->>> 2030185016704\n",
      "浅拷贝：id(c)->>> 2030185020480\n"
     ]
    }
   ],
   "source": [
    "import copy\n",
    "\n",
    "a = [\"张小鸡\"]\n",
    "b = a\n",
    "c = copy.copy(a)\n",
    "\n",
    "print(\"id(a)->>>\", id(a))\n",
    "print(\"赋值：id(b)->>>\", id(b))\n",
    "print(\"浅拷贝：id(c)->>>\", id(c))"
   ]
  },
  {
   "cell_type": "markdown",
   "id": "e6d9b61c",
   "metadata": {},
   "source": [
    "### 数据结构Namedtuple\n",
    "\n",
    "参考链接：\n",
    "https://www.runoob.com/note/25726 \\\n",
    "https://zhuanlan.zhihu.com/p/266712505"
   ]
  },
  {
   "cell_type": "code",
   "execution_count": null,
   "id": "fc7abbd9",
   "metadata": {},
   "outputs": [],
   "source": [
    "collections.namedtuple(typename, field_names, verbose=False, rename=False)"
   ]
  },
  {
   "cell_type": "markdown",
   "id": "5285fe5b",
   "metadata": {},
   "source": [
    "返回一个具名元组子类 typename，其中参数的意义如下：\n",
    "\n",
    "typename：元组名称\\\n",
    "field_names: 元组中元素的名称\\\n",
    "rename: 如果元素名称中含有 python 的关键字，则必须设置为 rename=True\\\n",
    "verbose: 默认就好\\"
   ]
  },
  {
   "cell_type": "code",
   "execution_count": 20,
   "id": "43366e3f",
   "metadata": {},
   "outputs": [
    {
     "name": "stdout",
     "output_type": "stream",
     "text": [
      "User(name='tester', age='22', id='464643123')\n"
     ]
    }
   ],
   "source": [
    "# 下面来看看声明一个具名元组及其实例化的方法：\n",
    "import collections\n",
    "\n",
    "# 两种方法来给 namedtuple 定义方法名\n",
    "#User = collections.namedtuple('User', ['name', 'age', 'id'])\n",
    "User = collections.namedtuple('User', 'name age id')\n",
    "user = User('tester', '22', '464643123')\n",
    "\n",
    "print(user)"
   ]
  },
  {
   "cell_type": "markdown",
   "id": "f028a153",
   "metadata": {},
   "source": [
    "建一个具名元组，需要两个参数，一个是类名，另一个是类的各个字段名。\\\n",
    "后者可以是有多个字符串组成的可迭代对象，或者是有空格分隔开的字段名组成的字符串（比如本示例）。\\\n",
    "具名元组可以通过字段名或者位置来获取一个字段的信息。"
   ]
  },
  {
   "cell_type": "code",
   "execution_count": 22,
   "id": "2fbac1ba",
   "metadata": {},
   "outputs": [
    {
     "name": "stdout",
     "output_type": "stream",
     "text": [
      "('name', 'sex', 'age')\n",
      "User(name='Runoob', sex='male', age=12)\n",
      "Runoob\n",
      "male\n",
      "12\n",
      "User(name='Runoob', sex='male', age=22)\n",
      "{'name': 'Runoob', 'sex': 'male', 'age': 22}\n"
     ]
    }
   ],
   "source": [
    "from collections import namedtuple\n",
    "\n",
    "# 定义一个namedtuple类型User，并包含name，sex和age属性。\n",
    "User = namedtuple('User', ['name', 'sex', 'age'])\n",
    "\n",
    "# 创建一个User对象\n",
    "user = User(name='Runoob', sex='male', age=12)\n",
    "\n",
    "# 获取所有字段名\n",
    "print( user._fields )\n",
    "\n",
    "# 也可以通过一个list来创建一个User对象，这里注意需要使用\"_make\"方法\n",
    "user = User._make(['Runoob', 'male', 12])\n",
    "\n",
    "print( user )\n",
    "# User(name='user1', sex='male', age=12)\n",
    "\n",
    "# 获取用户的属性\n",
    "print( user.name )\n",
    "print( user.sex )\n",
    "print( user.age )\n",
    "\n",
    "# 修改对象属性，注意要使用\"_replace\"方法\n",
    "user = user._replace(age=22)\n",
    "print( user )\n",
    "# User(name='user1', sex='male', age=21)\n",
    "\n",
    "# 将User对象转换成字典，注意要使用\"_asdict\"\n",
    "print( user._asdict() )\n",
    "# OrderedDict([('name', 'Runoob'), ('sex', 'male'), ('age', 22)])"
   ]
  },
  {
   "cell_type": "markdown",
   "id": "81e17e93",
   "metadata": {},
   "source": [
    "为什么要使用namedtuple？\n",
    "\n",
    "namedtuple是一个非常有趣（也被低估了）的数据结构。我们可以轻松找到严重依赖常规元组和字典来存储数据的Python代码。\n",
    "并不是说这样不好，只是有时候他们常常被滥用。"
   ]
  },
  {
   "cell_type": "code",
   "execution_count": 1,
   "id": "e5b4c8b6",
   "metadata": {},
   "outputs": [],
   "source": [
    "# 假设你有一个将字符串转换为颜色的函数。颜色必须在4维空间RGBA中表示"
   ]
  },
  {
   "cell_type": "code",
   "execution_count": 2,
   "id": "f1fddfe8",
   "metadata": {},
   "outputs": [],
   "source": [
    "def convert_string_to_color(desc: str, alpha: float = 0.0):\n",
    "    if desc == \"green\":\n",
    "        return 50, 205, 50, alpha\n",
    "    elif desc == \"blue\":\n",
    "        return 0, 0, 255, alpha\n",
    "    else:\n",
    "        return 0, 0, 0, alpha\n",
    "    \n",
    "r, g, b, a = convert_string_to_color(desc=\"blue\", alpha=1.0)"
   ]
  },
  {
   "cell_type": "markdown",
   "id": "1fc6081a",
   "metadata": {},
   "source": [
    "这里有几个问题。第一个是，无法确保返回值的顺序。也就是说，没有什么可以阻止其他开发者这样调用\n",
    "\n",
    "convert_string_to_color：\n",
    "\n",
    "g, b, r, a = convert_string_to_color(desc=\"blue\", alpha=1.0)"
   ]
  },
  {
   "cell_type": "markdown",
   "id": "2dc068a7",
   "metadata": {},
   "source": [
    "另外，我们可能不知道该函数返回4个值，可能会这样调用该函数：\n",
    "\n",
    "r, g, b = convert_string_to_color(desc=\"blue\", alpha=1.0)\n",
    "\n",
    "于是，因为返回值不够，抛出ValueError错误，调用失败。"
   ]
  },
  {
   "cell_type": "markdown",
   "id": "15704ada",
   "metadata": {},
   "source": [
    "#### 为什么不使用字典呢？\n",
    "Python的字典是一种非常通用的数据结构。它们是一种存储多个值的简便方法。\n",
    "\n",
    "但是，字典并非没有缺点。由于其灵活性，字典很容易被滥用。看看使用字典之后的例子。"
   ]
  },
  {
   "cell_type": "code",
   "execution_count": null,
   "id": "ac4291f5",
   "metadata": {},
   "outputs": [],
   "source": [
    "def convert_string_to_color(desc: str, alpha: float = 0.0):\n",
    "    if desc == \"green\":\n",
    "        return {\"r\": 50, \"g\": 205, \"b\": 50, \"alpha\": alpha}\n",
    "    elif desc == \"blue\":\n",
    "        return {\"r\": 0, \"g\": 0, \"b\": 255, \"alpha\": alpha}\n",
    "    else:\n",
    "        return {\"r\": 0, \"g\": 0, \"b\": 0, \"alpha\": alpha}\n",
    "\n",
    "#   好的，我们现在可以像这样使用它，期望只返回一个值：\n",
    "\n",
    "color = convert_string_to_color(desc=\"blue\", alpha=1.0)"
   ]
  },
  {
   "cell_type": "markdown",
   "id": "0bc82ca1",
   "metadata": {},
   "source": [
    "无需记住顺序，但它至少有两个缺点。第一个是我们必须跟踪密钥的名称。如果我们将其更改{\"r\": 0, “g”: 0, “b”: 0, “alpha”: alpha}为{”red\": 0, “green”: 0, “blue”: 0, “a”: alpha}，则在访问字段时会得到KeyError返回，因为键r，g，b和alpha不再存在。\n",
    "\n",
    "字典的第二个问题是它们不可散列。这意味着我们无法将它们存储在set或其他字典中。假设我们要跟踪特定图像有多少种颜色。如果我们使用collections.Counter计数，我们将得到TypeError: unhashable type: ‘dict’。\n",
    "\n",
    "而且，字典是可变的，因此我们可以根据需要添加任意数量的新键。相信我，这是一些很难发现的令人讨厌的错误点。"
   ]
  },
  {
   "cell_type": "code",
   "execution_count": 6,
   "id": "aca664fb",
   "metadata": {},
   "outputs": [],
   "source": [
    "#  将我们的函数转换为使用namedtuple：\n",
    "\n",
    "from collections import namedtuple\n",
    "...\n",
    "Color = namedtuple(\"Color\", \"r g b alpha\")\n",
    "...\n",
    "def convert_string_to_color(desc: str, alpha: float = 0.0):\n",
    "    if desc == \"green\":\n",
    "        return Color(r=50, g=205, b=50, alpha=alpha)\n",
    "    elif desc == \"blue\":\n",
    "        return Color(r=50, g=0, b=255, alpha=alpha)\n",
    "    else:\n",
    "        return Color(r=50, g=0, b=0, alpha=alpha)"
   ]
  },
  {
   "cell_type": "markdown",
   "id": "36560356",
   "metadata": {},
   "source": [
    "与dict的情况一样，我们可以将值分配给单个变量并根据需要使用。无需记住顺序。"
   ]
  },
  {
   "cell_type": "code",
   "execution_count": 7,
   "id": "07267af8",
   "metadata": {},
   "outputs": [],
   "source": [
    "color = convert_string_to_color(desc=\"blue\", alpha=1.0)\n",
    "...\n",
    "has_alpha = color.alpha > 0.0\n",
    "...\n",
    "is_black = color.r == 0 and color.g == 0 and color.b == 0"
   ]
  },
  {
   "cell_type": "code",
   "execution_count": 8,
   "id": "a32d3e87",
   "metadata": {},
   "outputs": [
    {
     "data": {
      "text/plain": [
       "False"
      ]
     },
     "execution_count": 8,
     "metadata": {},
     "output_type": "execute_result"
    }
   ],
   "source": [
    "is_black"
   ]
  },
  {
   "cell_type": "code",
   "execution_count": 9,
   "id": "3a069f16",
   "metadata": {},
   "outputs": [
    {
     "ename": "AttributeError",
     "evalue": "'Color' object has no attribute 'e'",
     "output_type": "error",
     "traceback": [
      "\u001b[1;31m---------------------------------------------------------------------------\u001b[0m",
      "\u001b[1;31mAttributeError\u001b[0m                            Traceback (most recent call last)",
      "Input \u001b[1;32mIn [9]\u001b[0m, in \u001b[0;36m<cell line: 4>\u001b[1;34m()\u001b[0m\n\u001b[0;32m      1\u001b[0m \u001b[38;5;66;03m# 最重要的是namedtuple是不可变的。如果团队中的另一位开发人员认为在运行时添加新字段是个好主意，则该程序将报错。\u001b[39;00m\n\u001b[0;32m      3\u001b[0m blue \u001b[38;5;241m=\u001b[39m Color(r\u001b[38;5;241m=\u001b[39m\u001b[38;5;241m0\u001b[39m, g\u001b[38;5;241m=\u001b[39m\u001b[38;5;241m0\u001b[39m, b\u001b[38;5;241m=\u001b[39m\u001b[38;5;241m255\u001b[39m, alpha\u001b[38;5;241m=\u001b[39m\u001b[38;5;241m1.0\u001b[39m)\n\u001b[1;32m----> 4\u001b[0m blue\u001b[38;5;241m.\u001b[39me \u001b[38;5;241m=\u001b[39m \u001b[38;5;241m0\u001b[39m\n",
      "\u001b[1;31mAttributeError\u001b[0m: 'Color' object has no attribute 'e'"
     ]
    }
   ],
   "source": [
    "# 最重要的是namedtuple是不可变的。如果团队中的另一位开发人员认为在运行时添加新字段是个好主意，则该程序将报错。\n",
    "\n",
    "blue = Color(r=0, g=0, b=255, alpha=1.0)\n",
    "blue.e = 0"
   ]
  },
  {
   "cell_type": "markdown",
   "id": "6eec8532",
   "metadata": {},
   "source": [
    "#### 常规元组或字典和 namedtuple 的互相转换"
   ]
  },
  {
   "cell_type": "code",
   "execution_count": 14,
   "id": "a1aacc14",
   "metadata": {},
   "outputs": [
    {
     "data": {
      "text/plain": [
       "Color(r=50, g=205, b=50, alpha=0.0)"
      ]
     },
     "execution_count": 14,
     "metadata": {},
     "output_type": "execute_result"
    }
   ],
   "source": [
    "alpha = 0.0\n",
    "c = {\"r\": 50, \"g\": 205, \"b\": 50, \"alpha\": alpha}\n",
    "Color(**c)\n",
    "\n",
    "# 该**结构将包解压缩dict为namedtuple"
   ]
  },
  {
   "cell_type": "code",
   "execution_count": 15,
   "id": "6c798bde",
   "metadata": {},
   "outputs": [
    {
     "data": {
      "text/plain": [
       "{'r': 0, 'g': 0, 'b': 255, 'alpha': 1.0}"
      ]
     },
     "execution_count": 15,
     "metadata": {},
     "output_type": "execute_result"
    }
   ],
   "source": [
    "# namedtuple自带的_asdict()方法\n",
    "blue = Color(r=0, g=0, b=255, alpha=1.0)\n",
    "blue._asdict()"
   ]
  },
  {
   "cell_type": "markdown",
   "id": "59cf9c42",
   "metadata": {},
   "source": [
    "为什么该方法以_开头。这是与Python的常规规范不一致的一个地方。\n",
    "\n",
    "通常，_代表私有方法或属性。但是，namedtuple为了避免命名冲突将它们添加到了公共方法中。\n",
    "\n",
    "除了_asdict，还有_replace，_fields和_field_defaults。您可以在这里找到所有这些。"
   ]
  },
  {
   "cell_type": "code",
   "execution_count": null,
   "id": "3bd9230c",
   "metadata": {},
   "outputs": [],
   "source": [
    "# 要将namedtupe转换为常规元组，只需将其传递给tuple构造函数即可。\n",
    "tuple(Color(r=50, g=205, b=50, alpha=0.1))"
   ]
  },
  {
   "cell_type": "markdown",
   "id": "4aabfd50",
   "metadata": {},
   "source": [
    "#### 如何对namedtuples列表进行排序\n",
    "\n",
    "常见的用例是将多个namedtuple实例存储在列表中，并根据某些条件对它们进行排序。\n",
    "\n",
    "例如，假设我们有一个颜色列表，我们需要按alpha强度对其进行排序。\n",
    "\n",
    "\n",
    "幸运的是，Python允许使用非常Python化的方式来执行此操作。我们可以使用operator.attrgetter运算符。\n",
    "\n",
    "根据文档，attrgetter“返回从其操作数获取attr的可调用对象”。简单来说就是，我们可以通过该运算符，来获取传递给sorted函数排序的字段。"
   ]
  },
  {
   "cell_type": "code",
   "execution_count": 18,
   "id": "05a34d16",
   "metadata": {},
   "outputs": [
    {
     "data": {
      "text/plain": [
       "[Color(r=50, g=205, b=50, alpha=0.5),\n",
       " Color(r=50, g=205, b=50, alpha=1),\n",
       " Color(r=50, g=0, b=0, alpha=3)]"
      ]
     },
     "execution_count": 18,
     "metadata": {},
     "output_type": "execute_result"
    }
   ],
   "source": [
    "from operator import attrgetter\n",
    "...\n",
    "colors = [\n",
    "    Color(r=50, g=205, b=50, alpha=1),\n",
    "    Color(r=50, g=205, b=50, alpha=0.5),\n",
    "    Color(r=50, g=0, b=0, alpha=3)\n",
    "]\n",
    "...\n",
    "sorted(colors, key=attrgetter(\"alpha\"))"
   ]
  },
  {
   "cell_type": "code",
   "execution_count": null,
   "id": "f31b3194",
   "metadata": {},
   "outputs": [],
   "source": []
  },
  {
   "cell_type": "code",
   "execution_count": 8,
   "id": "3f3c5fe5",
   "metadata": {},
   "outputs": [],
   "source": [
    "infos = [(\"sdsdd\",8,9,0.2),(\"gedggsgsdd\",5,7,0.8)]"
   ]
  },
  {
   "cell_type": "code",
   "execution_count": 9,
   "id": "bb835f88",
   "metadata": {},
   "outputs": [
    {
     "name": "stdout",
     "output_type": "stream",
     "text": [
      "sdsdd\n",
      "8\n",
      "gedggsgsdd\n",
      "5\n"
     ]
    }
   ],
   "source": [
    "for a,b,c,d in infos:\n",
    "    print(a)\n",
    "    print(b)"
   ]
  },
  {
   "cell_type": "code",
   "execution_count": 16,
   "id": "de7fc623",
   "metadata": {},
   "outputs": [],
   "source": [
    "*agrs,b,c =(1,2,34,(3,4))"
   ]
  },
  {
   "cell_type": "code",
   "execution_count": 17,
   "id": "e5a32439",
   "metadata": {},
   "outputs": [
    {
     "data": {
      "text/plain": [
       "[1, 2]"
      ]
     },
     "execution_count": 17,
     "metadata": {},
     "output_type": "execute_result"
    }
   ],
   "source": [
    "agrs"
   ]
  },
  {
   "cell_type": "code",
   "execution_count": 18,
   "id": "f2326221",
   "metadata": {},
   "outputs": [
    {
     "data": {
      "text/plain": [
       "list"
      ]
     },
     "execution_count": 18,
     "metadata": {},
     "output_type": "execute_result"
    }
   ],
   "source": [
    "type((agrs))"
   ]
  },
  {
   "cell_type": "code",
   "execution_count": 21,
   "id": "4cd710ab",
   "metadata": {},
   "outputs": [
    {
     "data": {
      "text/plain": [
       "int"
      ]
     },
     "execution_count": 21,
     "metadata": {},
     "output_type": "execute_result"
    }
   ],
   "source": [
    "type(b)"
   ]
  },
  {
   "cell_type": "code",
   "execution_count": null,
   "id": "3662f316",
   "metadata": {},
   "outputs": [],
   "source": []
  }
 ],
 "metadata": {
  "kernelspec": {
   "display_name": "Python 3 (ipykernel)",
   "language": "python",
   "name": "python3"
  },
  "language_info": {
   "codemirror_mode": {
    "name": "ipython",
    "version": 3
   },
   "file_extension": ".py",
   "mimetype": "text/x-python",
   "name": "python",
   "nbconvert_exporter": "python",
   "pygments_lexer": "ipython3",
   "version": "3.8.8"
  },
  "toc": {
   "base_numbering": 1,
   "nav_menu": {},
   "number_sections": true,
   "sideBar": true,
   "skip_h1_title": false,
   "title_cell": "Table of Contents",
   "title_sidebar": "Contents",
   "toc_cell": false,
   "toc_position": {},
   "toc_section_display": true,
   "toc_window_display": false
  },
  "varInspector": {
   "cols": {
    "lenName": 16,
    "lenType": 16,
    "lenVar": 40
   },
   "kernels_config": {
    "python": {
     "delete_cmd_postfix": "",
     "delete_cmd_prefix": "del ",
     "library": "var_list.py",
     "varRefreshCmd": "print(var_dic_list())"
    },
    "r": {
     "delete_cmd_postfix": ") ",
     "delete_cmd_prefix": "rm(",
     "library": "var_list.r",
     "varRefreshCmd": "cat(var_dic_list()) "
    }
   },
   "types_to_exclude": [
    "module",
    "function",
    "builtin_function_or_method",
    "instance",
    "_Feature"
   ],
   "window_display": false
  }
 },
 "nbformat": 4,
 "nbformat_minor": 5
}
