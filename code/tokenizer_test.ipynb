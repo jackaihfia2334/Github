{
 "cells": [
  {
   "cell_type": "markdown",
   "id": "09e30628",
   "metadata": {},
   "source": [
    "### BERT中的Tokenizer说明"
   ]
  },
  {
   "cell_type": "markdown",
   "id": "69e5714e",
   "metadata": {},
   "source": [
    "https://blog.csdn.net/weixin_42223207/article/details/119336324?spm=1001.2101.3001.6661.1&utm_medium=distribute.pc_relevant_t0.none-task-blog-2%7Edefault%7ECTRLIST%7ERate-1-119336324-blog-121783956.pc_relevant_default&depth_1-utm_source=distribute.pc_relevant_t0.none-task-blog-2%7Edefault%7ECTRLIST%7ERate-1-119336324-blog-121783956.pc_relevant_default&utm_relevant_index=1"
   ]
  },
  {
   "cell_type": "code",
   "execution_count": 2,
   "id": "3472d9e0",
   "metadata": {
    "ExecuteTime": {
     "end_time": "2023-03-03T02:35:25.547242Z",
     "start_time": "2023-03-03T02:35:13.045173Z"
    }
   },
   "outputs": [
    {
     "data": {
      "application/vnd.jupyter.widget-view+json": {
       "model_id": "eee59c5eaf9e470787b3b800a901b1ab",
       "version_major": 2,
       "version_minor": 0
      },
      "text/plain": [
       "Downloading:   0%|          | 0.00/29.0 [00:00<?, ?B/s]"
      ]
     },
     "metadata": {},
     "output_type": "display_data"
    },
    {
     "name": "stderr",
     "output_type": "stream",
     "text": [
      "C:\\Users\\myf\\AppData\\Roaming\\Python\\Python39\\site-packages\\huggingface_hub\\file_download.py:127: UserWarning: `huggingface_hub` cache-system uses symlinks by default to efficiently store duplicated files but your machine does not support them in C:\\Users\\myf\\.cache\\huggingface\\hub. Caching files will still work but in a degraded version that might require more space on your disk. This warning can be disabled by setting the `HF_HUB_DISABLE_SYMLINKS_WARNING` environment variable. For more details, see https://huggingface.co/docs/huggingface_hub/how-to-cache#limitations.\n",
      "To support symlinks on Windows, you either need to activate Developer Mode or to run Python as an administrator. In order to see activate developer mode, see this article: https://docs.microsoft.com/en-us/windows/apps/get-started/enable-your-device-for-development\n",
      "  warnings.warn(message)\n"
     ]
    },
    {
     "data": {
      "application/vnd.jupyter.widget-view+json": {
       "model_id": "9b03c0fec5fc4d7db6a10c9f25c53869",
       "version_major": 2,
       "version_minor": 0
      },
      "text/plain": [
       "Downloading:   0%|          | 0.00/110k [00:00<?, ?B/s]"
      ]
     },
     "metadata": {},
     "output_type": "display_data"
    },
    {
     "data": {
      "application/vnd.jupyter.widget-view+json": {
       "model_id": "303f42ed7b1243a18a68776fda9bdd77",
       "version_major": 2,
       "version_minor": 0
      },
      "text/plain": [
       "Downloading:   0%|          | 0.00/269k [00:00<?, ?B/s]"
      ]
     },
     "metadata": {},
     "output_type": "display_data"
    },
    {
     "data": {
      "application/vnd.jupyter.widget-view+json": {
       "model_id": "fae89371f3e94e4fb3ac981bbe9ca500",
       "version_major": 2,
       "version_minor": 0
      },
      "text/plain": [
       "Downloading:   0%|          | 0.00/624 [00:00<?, ?B/s]"
      ]
     },
     "metadata": {},
     "output_type": "display_data"
    }
   ],
   "source": [
    "from transformers import BertTokenizerFast\n",
    "\n",
    "tokenizer = BertTokenizerFast.from_pretrained(\n",
    "    \"bert-base-chinese\",\n",
    "    add_special_tokens=False, # 不添加CLS,SEP\n",
    "    do_lower_case=True)  # 区分大小写字母，\n",
    "\n"
   ]
  },
  {
   "cell_type": "code",
   "execution_count": 3,
   "id": "f3c25d12",
   "metadata": {
    "ExecuteTime": {
     "end_time": "2023-03-03T02:38:17.472750Z",
     "start_time": "2023-03-03T02:38:17.418384Z"
    }
   },
   "outputs": [],
   "source": [
    "text = \"30%～50%患儿血清IgA浓度升高；HSP急性期血循环中表面IgA阳性的B淋巴细胞数、IgA类免疫复合物或冷球蛋白均增高；\"\n",
    "tokens = tokenizer.tokenize(text)\n",
    "token_span = tokenizer.encode_plus(text, return_offsets_mapping=True, add_special_tokens=False)[\"offset_mapping\"]"
   ]
  },
  {
   "cell_type": "code",
   "execution_count": 4,
   "id": "426a77d9",
   "metadata": {
    "ExecuteTime": {
     "end_time": "2023-03-03T02:38:31.822496Z",
     "start_time": "2023-03-03T02:38:31.797421Z"
    }
   },
   "outputs": [
    {
     "data": {
      "text/plain": [
       "['30',\n",
       " '%',\n",
       " '～5',\n",
       " '##0',\n",
       " '%',\n",
       " '患',\n",
       " '儿',\n",
       " '血',\n",
       " '清',\n",
       " 'ig',\n",
       " '##a',\n",
       " '浓',\n",
       " '度',\n",
       " '升',\n",
       " '高',\n",
       " '；',\n",
       " 'h',\n",
       " '##sp',\n",
       " '急',\n",
       " '性',\n",
       " '期',\n",
       " '血',\n",
       " '循',\n",
       " '环',\n",
       " '中',\n",
       " '表',\n",
       " '面',\n",
       " 'ig',\n",
       " '##a',\n",
       " '阳',\n",
       " '性',\n",
       " '的',\n",
       " 'b',\n",
       " '淋',\n",
       " '巴',\n",
       " '细',\n",
       " '胞',\n",
       " '数',\n",
       " '、',\n",
       " 'ig',\n",
       " '##a',\n",
       " '类',\n",
       " '免',\n",
       " '疫',\n",
       " '复',\n",
       " '合',\n",
       " '物',\n",
       " '或',\n",
       " '冷',\n",
       " '球',\n",
       " '蛋',\n",
       " '白',\n",
       " '均',\n",
       " '增',\n",
       " '高',\n",
       " '；']"
      ]
     },
     "execution_count": 4,
     "metadata": {},
     "output_type": "execute_result"
    }
   ],
   "source": [
    "tokens"
   ]
  },
  {
   "cell_type": "code",
   "execution_count": 5,
   "id": "5ffcbded",
   "metadata": {
    "ExecuteTime": {
     "end_time": "2023-03-03T02:39:18.210964Z",
     "start_time": "2023-03-03T02:39:18.200805Z"
    }
   },
   "outputs": [
    {
     "data": {
      "text/plain": [
       "[(0, 2),\n",
       " (2, 3),\n",
       " (3, 5),\n",
       " (5, 6),\n",
       " (6, 7),\n",
       " (7, 8),\n",
       " (8, 9),\n",
       " (9, 10),\n",
       " (10, 11),\n",
       " (11, 13),\n",
       " (13, 14),\n",
       " (14, 15),\n",
       " (15, 16),\n",
       " (16, 17),\n",
       " (17, 18),\n",
       " (18, 19),\n",
       " (19, 20),\n",
       " (20, 22),\n",
       " (22, 23),\n",
       " (23, 24),\n",
       " (24, 25),\n",
       " (25, 26),\n",
       " (26, 27),\n",
       " (27, 28),\n",
       " (28, 29),\n",
       " (29, 30),\n",
       " (30, 31),\n",
       " (31, 33),\n",
       " (33, 34),\n",
       " (34, 35),\n",
       " (35, 36),\n",
       " (36, 37),\n",
       " (37, 38),\n",
       " (38, 39),\n",
       " (39, 40),\n",
       " (40, 41),\n",
       " (41, 42),\n",
       " (42, 43),\n",
       " (43, 44),\n",
       " (44, 46),\n",
       " (46, 47),\n",
       " (47, 48),\n",
       " (48, 49),\n",
       " (49, 50),\n",
       " (50, 51),\n",
       " (51, 52),\n",
       " (52, 53),\n",
       " (53, 54),\n",
       " (54, 55),\n",
       " (55, 56),\n",
       " (56, 57),\n",
       " (57, 58),\n",
       " (58, 59),\n",
       " (59, 60),\n",
       " (60, 61),\n",
       " (61, 62)]"
      ]
     },
     "execution_count": 5,
     "metadata": {},
     "output_type": "execute_result"
    }
   ],
   "source": [
    "token_span"
   ]
  },
  {
   "cell_type": "code",
   "execution_count": 6,
   "id": "cb5f903a",
   "metadata": {
    "ExecuteTime": {
     "end_time": "2023-03-03T02:48:35.443318Z",
     "start_time": "2023-03-03T02:48:35.434822Z"
    }
   },
   "outputs": [],
   "source": [
    "# 获取文本的长度\n",
    "char_num = None\n",
    "for tok_ind in range(len(token_span) - 1, -1, -1):\n",
    "    if token_span[tok_ind][1] != 0:\n",
    "        char_num = token_span[tok_ind][1]\n",
    "        break\n",
    "# 建立文本与tokens之间的对应关系\n",
    "char2tok_span = [[-1, -1] for _ in range(char_num)] # [-1, -1] is whitespace\n",
    "for tok_ind, char_sp in enumerate(token_span):\n",
    "    for char_ind in range(char_sp[0], char_sp[1]):\n",
    "        tok_sp = char2tok_span[char_ind]\n",
    "        # 因为char to tok 也可能出现1对多的情况，比如韩文。所以char_span的pos1以第一个tok_ind为准，pos2以最后一个tok_ind为准\n",
    "        if tok_sp[0] == -1:\n",
    "            tok_sp[0] = tok_ind\n",
    "        tok_sp[1] = tok_ind + 1"
   ]
  },
  {
   "cell_type": "code",
   "execution_count": null,
   "id": "9a511231",
   "metadata": {},
   "outputs": [],
   "source": []
  }
 ],
 "metadata": {
  "kernelspec": {
   "display_name": "Python 3 (ipykernel)",
   "language": "python",
   "name": "python3"
  },
  "language_info": {
   "codemirror_mode": {
    "name": "ipython",
    "version": 3
   },
   "file_extension": ".py",
   "mimetype": "text/x-python",
   "name": "python",
   "nbconvert_exporter": "python",
   "pygments_lexer": "ipython3",
   "version": "3.9.13"
  },
  "varInspector": {
   "cols": {
    "lenName": 16,
    "lenType": 16,
    "lenVar": 40
   },
   "kernels_config": {
    "python": {
     "delete_cmd_postfix": "",
     "delete_cmd_prefix": "del ",
     "library": "var_list.py",
     "varRefreshCmd": "print(var_dic_list())"
    },
    "r": {
     "delete_cmd_postfix": ") ",
     "delete_cmd_prefix": "rm(",
     "library": "var_list.r",
     "varRefreshCmd": "cat(var_dic_list()) "
    }
   },
   "types_to_exclude": [
    "module",
    "function",
    "builtin_function_or_method",
    "instance",
    "_Feature"
   ],
   "window_display": false
  }
 },
 "nbformat": 4,
 "nbformat_minor": 5
}
