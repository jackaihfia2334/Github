{
 "cells": [
  {
   "cell_type": "code",
   "execution_count": 1,
   "metadata": {
    "ExecuteTime": {
     "end_time": "2021-02-18T02:27:13.605161Z",
     "start_time": "2021-02-18T02:27:10.210987Z"
    }
   },
   "outputs": [],
   "source": [
    "import numpy as np\n",
    "import pandas as pd\n",
    "\n",
    "import matplotlib.pyplot as plt\n",
    "plt.style.use('fivethirtyeight')\n",
    "\n",
    "import tensorflow as tf\n",
    "from tensorflow.keras.callbacks import EarlyStopping, ReduceLROnPlateau\n",
    "from tensorflow.keras.losses import binary_crossentropy\n",
    "from tensorflow.keras.optimizers import Adam\n",
    "from tensorflow.keras.metrics import AUC\n",
    "from NFM import NFM\n",
    "\n",
    "from sklearn.metrics import roc_auc_score\n",
    "\n",
    "import warnings\n",
    "warnings.filterwarnings('ignore')"
   ]
  },
  {
   "cell_type": "code",
   "execution_count": 2,
   "metadata": {
    "ExecuteTime": {
     "end_time": "2021-02-18T02:27:15.450929Z",
     "start_time": "2021-02-18T02:27:15.436966Z"
    }
   },
   "outputs": [],
   "source": [
    "\"\"\"数据准备\"\"\"\n",
    "file_path = './preprocessed_data/'\n",
    "def prepared_data(file_path):\n",
    "    # 读入训练集， 验证集和测试集\n",
    "    train = pd.read_csv(file_path + 'train_set.csv')\n",
    "    val = pd.read_csv(file_path + 'val_set.csv')\n",
    "    test = pd.read_csv(file_path + 'test_set.csv')\n",
    "    \n",
    "    sparse_feas = [col for col in train.columns if col[0] == 'C']\n",
    "    dense_feas = [col for col in train.columns if col[0] == 'I']\n",
    "    \n",
    "    trn_x, trn_y = [train[dense_feas].values, train[sparse_feas].values], train['Label'].values\n",
    "    val_x, val_y = [val[dense_feas].values, val[sparse_feas].values], val['Label'].values\n",
    "    test_x = [test[dense_feas].values, test[sparse_feas].values]\n",
    "    \n",
    "    fea_info = np.load(file_path + 'fea_info.npy', allow_pickle=True)\n",
    "    \n",
    "    return fea_info, (trn_x, trn_y), (val_x, val_y), test_x"
   ]
  },
  {
   "cell_type": "code",
   "execution_count": 3,
   "metadata": {
    "ExecuteTime": {
     "end_time": "2021-02-18T02:27:16.301007Z",
     "start_time": "2021-02-18T02:27:16.268740Z"
    }
   },
   "outputs": [],
   "source": [
    "\"\"\"导入数据\"\"\"\n",
    "fea_cols, (trn_x, trn_y), (val_x, val_y), test_x = prepared_data(file_path)"
   ]
  },
  {
   "cell_type": "code",
   "execution_count": 5,
   "metadata": {
    "ExecuteTime": {
     "end_time": "2021-02-18T02:27:21.156710Z",
     "start_time": "2021-02-18T02:27:21.147689Z"
    }
   },
   "outputs": [],
   "source": [
    "\"\"\"设置超参数\"\"\"\n",
    "embed_dim = 8\n",
    "dnn_dropout = 0.5\n",
    "hidden_units = [256, 128, 64]\n",
    "\n",
    "learning_rate = 0.001\n",
    "batch_size = 64\n",
    "epochs = 50"
   ]
  },
  {
   "cell_type": "code",
   "execution_count": 6,
   "metadata": {
    "ExecuteTime": {
     "end_time": "2021-02-18T02:27:22.913964Z",
     "start_time": "2021-02-18T02:27:22.460178Z"
    }
   },
   "outputs": [
    {
     "name": "stdout",
     "output_type": "stream",
     "text": [
      "Model: \"model\"\n",
      "__________________________________________________________________________________________________\n",
      "Layer (type)                    Output Shape         Param #     Connected to                     \n",
      "==================================================================================================\n",
      "input_2 (InputLayer)            [(None, 26)]         0                                            \n",
      "__________________________________________________________________________________________________\n",
      "tf.__operators__.getitem (Slici (None,)              0           input_2[0][0]                    \n",
      "__________________________________________________________________________________________________\n",
      "tf.__operators__.getitem_1 (Sli (None,)              0           input_2[0][0]                    \n",
      "__________________________________________________________________________________________________\n",
      "tf.__operators__.getitem_2 (Sli (None,)              0           input_2[0][0]                    \n",
      "__________________________________________________________________________________________________\n",
      "tf.__operators__.getitem_3 (Sli (None,)              0           input_2[0][0]                    \n",
      "__________________________________________________________________________________________________\n",
      "tf.__operators__.getitem_4 (Sli (None,)              0           input_2[0][0]                    \n",
      "__________________________________________________________________________________________________\n",
      "tf.__operators__.getitem_5 (Sli (None,)              0           input_2[0][0]                    \n",
      "__________________________________________________________________________________________________\n",
      "tf.__operators__.getitem_6 (Sli (None,)              0           input_2[0][0]                    \n",
      "__________________________________________________________________________________________________\n",
      "tf.__operators__.getitem_7 (Sli (None,)              0           input_2[0][0]                    \n",
      "__________________________________________________________________________________________________\n",
      "tf.__operators__.getitem_8 (Sli (None,)              0           input_2[0][0]                    \n",
      "__________________________________________________________________________________________________\n",
      "tf.__operators__.getitem_9 (Sli (None,)              0           input_2[0][0]                    \n",
      "__________________________________________________________________________________________________\n",
      "tf.__operators__.getitem_10 (Sl (None,)              0           input_2[0][0]                    \n",
      "__________________________________________________________________________________________________\n",
      "tf.__operators__.getitem_11 (Sl (None,)              0           input_2[0][0]                    \n",
      "__________________________________________________________________________________________________\n",
      "tf.__operators__.getitem_12 (Sl (None,)              0           input_2[0][0]                    \n",
      "__________________________________________________________________________________________________\n",
      "tf.__operators__.getitem_13 (Sl (None,)              0           input_2[0][0]                    \n",
      "__________________________________________________________________________________________________\n",
      "tf.__operators__.getitem_14 (Sl (None,)              0           input_2[0][0]                    \n",
      "__________________________________________________________________________________________________\n",
      "tf.__operators__.getitem_15 (Sl (None,)              0           input_2[0][0]                    \n",
      "__________________________________________________________________________________________________\n",
      "tf.__operators__.getitem_16 (Sl (None,)              0           input_2[0][0]                    \n",
      "__________________________________________________________________________________________________\n",
      "tf.__operators__.getitem_17 (Sl (None,)              0           input_2[0][0]                    \n",
      "__________________________________________________________________________________________________\n",
      "tf.__operators__.getitem_18 (Sl (None,)              0           input_2[0][0]                    \n",
      "__________________________________________________________________________________________________\n",
      "tf.__operators__.getitem_19 (Sl (None,)              0           input_2[0][0]                    \n",
      "__________________________________________________________________________________________________\n",
      "tf.__operators__.getitem_20 (Sl (None,)              0           input_2[0][0]                    \n",
      "__________________________________________________________________________________________________\n",
      "tf.__operators__.getitem_21 (Sl (None,)              0           input_2[0][0]                    \n",
      "__________________________________________________________________________________________________\n",
      "tf.__operators__.getitem_22 (Sl (None,)              0           input_2[0][0]                    \n",
      "__________________________________________________________________________________________________\n",
      "tf.__operators__.getitem_23 (Sl (None,)              0           input_2[0][0]                    \n",
      "__________________________________________________________________________________________________\n",
      "tf.__operators__.getitem_24 (Sl (None,)              0           input_2[0][0]                    \n",
      "__________________________________________________________________________________________________\n",
      "tf.__operators__.getitem_25 (Sl (None,)              0           input_2[0][0]                    \n",
      "__________________________________________________________________________________________________\n",
      "embedding (Embedding)           (None, 8)            632         tf.__operators__.getitem[0][0]   \n",
      "__________________________________________________________________________________________________\n",
      "embedding_1 (Embedding)         (None, 8)            2016        tf.__operators__.getitem_1[0][0] \n",
      "__________________________________________________________________________________________________\n",
      "embedding_2 (Embedding)         (None, 8)            10344       tf.__operators__.getitem_2[0][0] \n",
      "__________________________________________________________________________________________________\n",
      "embedding_3 (Embedding)         (None, 8)            8344        tf.__operators__.getitem_3[0][0] \n",
      "__________________________________________________________________________________________________\n",
      "embedding_4 (Embedding)         (None, 8)            240         tf.__operators__.getitem_4[0][0] \n",
      "__________________________________________________________________________________________________\n",
      "embedding_5 (Embedding)         (None, 8)            56          tf.__operators__.getitem_5[0][0] \n",
      "__________________________________________________________________________________________________\n",
      "embedding_6 (Embedding)         (None, 8)            9312        tf.__operators__.getitem_6[0][0] \n",
      "__________________________________________________________________________________________________\n",
      "embedding_7 (Embedding)         (None, 8)            312         tf.__operators__.getitem_7[0][0] \n",
      "__________________________________________________________________________________________________\n",
      "embedding_8 (Embedding)         (None, 8)            16          tf.__operators__.getitem_8[0][0] \n",
      "__________________________________________________________________________________________________\n",
      "embedding_9 (Embedding)         (None, 8)            7264        tf.__operators__.getitem_9[0][0] \n",
      "__________________________________________________________________________________________________\n",
      "embedding_10 (Embedding)        (None, 8)            7408        tf.__operators__.getitem_10[0][0]\n",
      "__________________________________________________________________________________________________\n",
      "embedding_11 (Embedding)        (None, 8)            9912        tf.__operators__.getitem_11[0][0]\n",
      "__________________________________________________________________________________________________\n",
      "embedding_12 (Embedding)        (None, 8)            6592        tf.__operators__.getitem_12[0][0]\n",
      "__________________________________________________________________________________________________\n",
      "embedding_13 (Embedding)        (None, 8)            160         tf.__operators__.getitem_13[0][0]\n",
      "__________________________________________________________________________________________________\n",
      "embedding_14 (Embedding)        (None, 8)            6552        tf.__operators__.getitem_14[0][0]\n",
      "__________________________________________________________________________________________________\n",
      "embedding_15 (Embedding)        (None, 8)            9272        tf.__operators__.getitem_15[0][0]\n",
      "__________________________________________________________________________________________________\n",
      "embedding_16 (Embedding)        (None, 8)            72          tf.__operators__.getitem_16[0][0]\n",
      "__________________________________________________________________________________________________\n",
      "embedding_17 (Embedding)        (None, 8)            4272        tf.__operators__.getitem_17[0][0]\n",
      "__________________________________________________________________________________________________\n",
      "embedding_18 (Embedding)        (None, 8)            1608        tf.__operators__.getitem_18[0][0]\n",
      "__________________________________________________________________________________________________\n",
      "embedding_19 (Embedding)        (None, 8)            32          tf.__operators__.getitem_19[0][0]\n",
      "__________________________________________________________________________________________________\n",
      "embedding_20 (Embedding)        (None, 8)            9632        tf.__operators__.getitem_20[0][0]\n",
      "__________________________________________________________________________________________________\n",
      "embedding_21 (Embedding)        (None, 8)            56          tf.__operators__.getitem_21[0][0]\n",
      "__________________________________________________________________________________________________\n",
      "embedding_22 (Embedding)        (None, 8)            96          tf.__operators__.getitem_22[0][0]\n",
      "__________________________________________________________________________________________________\n",
      "embedding_23 (Embedding)        (None, 8)            5832        tf.__operators__.getitem_23[0][0]\n",
      "__________________________________________________________________________________________________\n",
      "embedding_24 (Embedding)        (None, 8)            264         tf.__operators__.getitem_24[0][0]\n",
      "__________________________________________________________________________________________________\n",
      "embedding_25 (Embedding)        (None, 8)            4432        tf.__operators__.getitem_25[0][0]\n",
      "__________________________________________________________________________________________________\n",
      "tf.convert_to_tensor (TFOpLambd (26, None, 8)        0           embedding[0][0]                  \n",
      "                                                                 embedding_1[0][0]                \n",
      "                                                                 embedding_2[0][0]                \n",
      "                                                                 embedding_3[0][0]                \n",
      "                                                                 embedding_4[0][0]                \n",
      "                                                                 embedding_5[0][0]                \n",
      "                                                                 embedding_6[0][0]                \n",
      "                                                                 embedding_7[0][0]                \n",
      "                                                                 embedding_8[0][0]                \n",
      "                                                                 embedding_9[0][0]                \n",
      "                                                                 embedding_10[0][0]               \n",
      "                                                                 embedding_11[0][0]               \n",
      "                                                                 embedding_12[0][0]               \n",
      "                                                                 embedding_13[0][0]               \n",
      "                                                                 embedding_14[0][0]               \n",
      "                                                                 embedding_15[0][0]               \n",
      "                                                                 embedding_16[0][0]               \n",
      "                                                                 embedding_17[0][0]               \n",
      "                                                                 embedding_18[0][0]               \n",
      "                                                                 embedding_19[0][0]               \n",
      "                                                                 embedding_20[0][0]               \n",
      "                                                                 embedding_21[0][0]               \n",
      "                                                                 embedding_22[0][0]               \n",
      "                                                                 embedding_23[0][0]               \n",
      "                                                                 embedding_24[0][0]               \n",
      "                                                                 embedding_25[0][0]               \n",
      "__________________________________________________________________________________________________\n",
      "tf.compat.v1.transpose (TFOpLam (None, 26, 8)        0           tf.convert_to_tensor[0][0]       \n",
      "__________________________________________________________________________________________________\n",
      "input_1 (InputLayer)            [(None, 13)]         0                                            \n",
      "__________________________________________________________________________________________________\n",
      "bi_interaction_pooling (BiInter (None, 8)            0           tf.compat.v1.transpose[0][0]     \n",
      "__________________________________________________________________________________________________\n",
      "tf.concat (TFOpLambda)          (None, 21)           0           input_1[0][0]                    \n",
      "                                                                 bi_interaction_pooling[0][0]     \n",
      "__________________________________________________________________________________________________\n",
      "batch_normalization (BatchNorma (None, 21)           84          tf.concat[0][0]                  \n",
      "__________________________________________________________________________________________________\n",
      "dnn (DNN)                       (None, 64)           46784       batch_normalization[0][0]        \n",
      "__________________________________________________________________________________________________\n",
      "dense_3 (Dense)                 (None, 1)            65          dnn[0][0]                        \n",
      "__________________________________________________________________________________________________\n",
      "tf.math.sigmoid (TFOpLambda)    (None, 1)            0           dense_3[0][0]                    \n",
      "==================================================================================================\n",
      "Total params: 151,661\n",
      "Trainable params: 151,619\n",
      "Non-trainable params: 42\n",
      "__________________________________________________________________________________________________\n"
     ]
    }
   ],
   "source": [
    "\"\"\"模型建立\"\"\"\n",
    "model = NFM(fea_cols, hidden_units, dnn_dropout=dnn_dropout)\n",
    "model.summary()"
   ]
  },
  {
   "cell_type": "code",
   "execution_count": 7,
   "metadata": {
    "ExecuteTime": {
     "end_time": "2021-02-18T02:27:24.492743Z",
     "start_time": "2021-02-18T02:27:24.466846Z"
    }
   },
   "outputs": [],
   "source": [
    "\"\"\"模型编译\"\"\"\n",
    "model.compile(loss=binary_crossentropy, optimizer=Adam(learning_rate=learning_rate),\n",
    "                      metrics=[AUC()])"
   ]
  },
  {
   "cell_type": "code",
   "execution_count": 8,
   "metadata": {
    "ExecuteTime": {
     "end_time": "2021-02-18T02:27:30.234691Z",
     "start_time": "2021-02-18T02:27:26.797576Z"
    }
   },
   "outputs": [
    {
     "name": "stdout",
     "output_type": "stream",
     "text": [
      "Epoch 1/50\n",
      "18/18 [==============================] - 3s 49ms/step - loss: 0.6044 - auc: 0.4751 - val_loss: 0.5115 - val_auc: 0.6672\n",
      "Epoch 2/50\n",
      "18/18 [==============================] - 0s 4ms/step - loss: 0.4933 - auc: 0.7027 - val_loss: 0.5011 - val_auc: 0.6904\n",
      "Epoch 3/50\n",
      "18/18 [==============================] - 0s 4ms/step - loss: 0.4324 - auc: 0.8069 - val_loss: 0.5169 - val_auc: 0.6830\n",
      "Epoch 4/50\n",
      "18/18 [==============================] - 0s 5ms/step - loss: 0.2863 - auc: 0.9517 - val_loss: 0.6582 - val_auc: 0.6425\n",
      "Epoch 5/50\n",
      "18/18 [==============================] - 0s 4ms/step - loss: 0.1115 - auc: 0.9925 - val_loss: 0.8803 - val_auc: 0.6580\n",
      "\n",
      "Epoch 00005: ReduceLROnPlateau reducing learning rate to 1.0000000474974514e-05.\n",
      "Epoch 6/50\n",
      "18/18 [==============================] - 0s 4ms/step - loss: 0.0462 - auc: 0.9990 - val_loss: 0.8829 - val_auc: 0.6564\n",
      "Epoch 7/50\n",
      "18/18 [==============================] - 0s 5ms/step - loss: 0.0425 - auc: 0.9996 - val_loss: 0.8860 - val_auc: 0.6581\n"
     ]
    }
   ],
   "source": [
    "\"\"\"模型训练\"\"\"\n",
    "callbacks = [\n",
    "    EarlyStopping(monitor='val_loss', patience=5, restore_best_weights=True),   # 早停\n",
    "    ReduceLROnPlateau(monitor='val_loss', patience=3, factor=0.01, verbose=1)\n",
    "]\n",
    "\n",
    "history = model.fit(\n",
    "                    trn_x,\n",
    "                    trn_y,\n",
    "                    epochs=epochs,\n",
    "                    callbacks=callbacks,  # checkpoint\n",
    "                    batch_size=batch_size,\n",
    "                    validation_split=0.1\n",
    "                    )"
   ]
  },
  {
   "cell_type": "code",
   "execution_count": 9,
   "metadata": {
    "ExecuteTime": {
     "end_time": "2021-02-18T02:27:42.783128Z",
     "start_time": "2021-02-18T02:27:42.638201Z"
    }
   },
   "outputs": [
    {
     "data": {
      "image/png": "[encoded data removed]",
      "text/plain": [
       "<Figure size 432x288 with 1 Axes>"
      ]
     },
     "metadata": {},
     "output_type": "display_data"
    }
   ],
   "source": [
    "\"\"\"可视化下看看训练情况\"\"\"\n",
    "plt.plot(history.history['loss'])\n",
    "plt.plot(history.history['val_loss'])\n",
    "plt.title('Model loss')\n",
    "plt.ylabel('Loss')\n",
    "plt.xlabel('Epoch')\n",
    "plt.legend(['Train', 'Test'], loc='upper left')\n",
    "plt.show()"
   ]
  },
  {
   "cell_type": "markdown",
   "metadata": {},
   "source": [
    "这个目前需要加数据， 训练效果不是太好"
   ]
  },
  {
   "cell_type": "code",
   "execution_count": 10,
   "metadata": {
    "ExecuteTime": {
     "end_time": "2021-02-18T02:27:58.556652Z",
     "start_time": "2021-02-18T02:27:58.508782Z"
    }
   },
   "outputs": [
    {
     "name": "stdout",
     "output_type": "stream",
     "text": [
      "5/5 [==============================] - 0s 1ms/step - loss: 0.4253 - auc: 0.6903\n",
      "test AUC: 0.690305\n"
     ]
    }
   ],
   "source": [
    "\"\"\"模型评估\"\"\"\n",
    "print('test AUC: %f' % model.evaluate(val_x, val_y, batch_size=batch_size)[1])"
   ]
  }
 ],
 "metadata": {
  "kernelspec": {
   "display_name": "Python 3",
   "language": "python",
   "name": "python3"
  },
  "language_info": {
   "codemirror_mode": {
    "name": "ipython",
    "version": 3
   },
   "file_extension": ".py",
   "mimetype": "text/x-python",
   "name": "python",
   "nbconvert_exporter": "python",
   "pygments_lexer": "ipython3",
   "version": "3.7.9"
  },
  "toc": {
   "base_numbering": 1,
   "nav_menu": {},
   "number_sections": true,
   "sideBar": true,
   "skip_h1_title": false,
   "title_cell": "Table of Contents",
   "title_sidebar": "Contents",
   "toc_cell": false,
   "toc_position": {},
   "toc_section_display": true,
   "toc_window_display": false
  },
  "varInspector": {
   "cols": {
    "lenName": 16,
    "lenType": 16,
    "lenVar": 40
   },
   "kernels_config": {
    "python": {
     "delete_cmd_postfix": "",
     "delete_cmd_prefix": "del ",
     "library": "var_list.py",
     "varRefreshCmd": "print(var_dic_list())"
    },
    "r": {
     "delete_cmd_postfix": ") ",
     "delete_cmd_prefix": "rm(",
     "library": "var_list.r",
     "varRefreshCmd": "cat(var_dic_list()) "
    }
   },
   "types_to_exclude": [
    "module",
    "function",
    "builtin_function_or_method",
    "instance",
    "_Feature"
   ],
   "window_display": false
  }
 },
 "nbformat": 4,
 "nbformat_minor": 2
}
