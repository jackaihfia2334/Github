{
 "cells": [
  {
   "cell_type": "markdown",
   "id": "tutorial-wages",
   "metadata": {},
   "source": [
    "## Description：\n",
    "这个jupyter是AutoInt模型的demo， 主要包括读取数据， 搭建模型，模型训练和评估三大部分。"
   ]
  },
  {
   "cell_type": "code",
   "execution_count": 17,
   "id": "permanent-effort",
   "metadata": {
    "ExecuteTime": {
     "end_time": "2021-05-07T14:36:31.304869Z",
     "start_time": "2021-05-07T14:36:27.703217Z"
    }
   },
   "outputs": [],
   "source": [
    "# python基础包\n",
    "import numpy as np\n",
    "import pandas as pd\n",
    "import matplotlib.pyplot as plt\n",
    "\n",
    "# 特征处理与数据集划分\n",
    "from sklearn.preprocessing import OneHotEncoder, MinMaxScaler, StandardScaler, LabelEncoder\n",
    "from sklearn.model_selection import train_test_split\n",
    "from utils import DenseFeat, SparseFeat, VarLenSparseFeat\n",
    "\n",
    "# 导入模型\n",
    "from AutoInt import AutoInt\n",
    "\n",
    "# 模型训练相关\n",
    "from tensorflow.keras.callbacks import EarlyStopping, ReduceLROnPlateau\n",
    "from tensorflow.keras.metrics import AUC\n",
    "from tensorflow.keras.losses import binary_crossentropy\n",
    "from tensorflow.keras.optimizers import Adam\n",
    "\n",
    "# 一些相关设置\n",
    "import warnings\n",
    "plt.style.use('fivethirtyeight')\n",
    "warnings.filterwarnings('ignore')"
   ]
  },
  {
   "cell_type": "markdown",
   "id": "eleven-given",
   "metadata": {},
   "source": [
    "## 导入数据与初步处理"
   ]
  },
  {
   "cell_type": "code",
   "execution_count": 2,
   "id": "employed-scanner",
   "metadata": {
    "ExecuteTime": {
     "end_time": "2021-05-07T14:36:32.610405Z",
     "start_time": "2021-05-07T14:36:32.600432Z"
    }
   },
   "outputs": [],
   "source": [
    "# 简单处理特征， 包括填充缺失值，数值处理， 类别编码\n",
    "def data_process(data_df, dense_features, sparse_features):\n",
    "    # 连续型特征用0填充缺失, 并进行对数转换\n",
    "    data_df[dense_features] = data_df[dense_features].fillna(0.0)\n",
    "    for f in dense_features:\n",
    "        data_df[f] = data_df[f].apply(lambda x: np.log(x+1) if x > -1 else -1)\n",
    "    \n",
    "    # 离散型特征用-1填充，并进行LabelEncoder编码\n",
    "    data_df[sparse_features] = data_df[sparse_features].fillna(\"-1\")\n",
    "    for f in sparse_features:\n",
    "        lbe = LabelEncoder()\n",
    "        data_df[f] = lbe.fit_transform(data_df[f])\n",
    "    \n",
    "    return data_df[dense_features+sparse_features]"
   ]
  },
  {
   "cell_type": "code",
   "execution_count": 3,
   "id": "unlimited-moral",
   "metadata": {
    "ExecuteTime": {
     "end_time": "2021-05-07T14:36:34.094491Z",
     "start_time": "2021-05-07T14:36:34.073232Z"
    }
   },
   "outputs": [],
   "source": [
    "\"\"\"读取数据\"\"\"\n",
    "data = pd.read_csv('data/criteo_sample.txt')"
   ]
  },
  {
   "cell_type": "code",
   "execution_count": 4,
   "id": "synthetic-finnish",
   "metadata": {
    "ExecuteTime": {
     "end_time": "2021-05-07T14:36:34.783516Z",
     "start_time": "2021-05-07T14:36:34.764494Z"
    }
   },
   "outputs": [],
   "source": [
    "\"\"\"划分dense和sparse特征\"\"\"\n",
    "columns = data.columns.values\n",
    "dense_features = [feat for feat in columns if 'I' in feat]\n",
    "sparse_features = [feat for feat in columns if 'C' in feat]"
   ]
  },
  {
   "cell_type": "code",
   "execution_count": 5,
   "id": "skilled-withdrawal",
   "metadata": {
    "ExecuteTime": {
     "end_time": "2021-05-07T14:36:36.124351Z",
     "start_time": "2021-05-07T14:36:36.083461Z"
    }
   },
   "outputs": [],
   "source": [
    "\"\"\"简单的数据预处理\"\"\"\n",
    "train_data = data_process(data, dense_features, sparse_features)\n",
    "train_data['label'] = data['label']"
   ]
  },
  {
   "cell_type": "code",
   "execution_count": 6,
   "id": "geological-stuart",
   "metadata": {
    "ExecuteTime": {
     "end_time": "2021-05-07T14:36:41.167522Z",
     "start_time": "2021-05-07T14:36:41.157548Z"
    }
   },
   "outputs": [],
   "source": [
    "\"\"\"划分数据集\"\"\"\n",
    "trnx, valx, trny, valy = train_test_split(train_data[dense_features+sparse_features], train_data['label'], test_size=0.1)"
   ]
  },
  {
   "cell_type": "markdown",
   "id": "combined-lesbian",
   "metadata": {},
   "source": [
    "## 模型建立"
   ]
  },
  {
   "cell_type": "code",
   "execution_count": 7,
   "id": "twelve-tamil",
   "metadata": {
    "ExecuteTime": {
     "end_time": "2021-05-07T14:36:43.193917Z",
     "start_time": "2021-05-07T14:36:43.167949Z"
    }
   },
   "outputs": [],
   "source": [
    "\"\"\"特征分组， 分成linear部分和DNN部分(根据实际场景进行选择)，并将分组之后的特征用namedtuple封装起来(DenseFeat, SparseFeat)\"\"\"\n",
    "linear_feature_columns = [SparseFeat(feat, vocabulary_size=data[feat].nunique(), embedding_dim=4)\n",
    "                         for i, feat in enumerate(sparse_features)] + \\\n",
    "                         [DenseFeat(feat, 1, ) for feat in dense_features]\n",
    "\n",
    "dnn_feature_columns = [SparseFeat(feat, vocabulary_size=data[feat].nunique(), embedding_dim=4)\n",
    "                         for i, feat in enumerate(sparse_features)] + \\\n",
    "                         [DenseFeat(feat, 1, ) for feat in dense_features]"
   ]
  },
  {
   "cell_type": "code",
   "execution_count": 8,
   "id": "motivated-photography",
   "metadata": {
    "ExecuteTime": {
     "end_time": "2021-05-07T14:36:46.182643Z",
     "start_time": "2021-05-07T14:36:44.522303Z"
    }
   },
   "outputs": [
    {
     "name": "stdout",
     "output_type": "stream",
     "text": [
      "WARNING:tensorflow:Entity <bound method InteractingLayer.call of <AutoInt.InteractingLayer object at 0x000002283C236DC8>> could not be transformed and will be executed as-is. Please report this to the AutoGraph team. When filing the bug, set the verbosity to 10 (on Linux, `export AUTOGRAPH_VERBOSITY=10`) and attach the full output. Cause: converting <bound method InteractingLayer.call of <AutoInt.InteractingLayer object at 0x000002283C236DC8>>: AttributeError: module 'gast' has no attribute 'Str'\n",
      "WARNING: Entity <bound method InteractingLayer.call of <AutoInt.InteractingLayer object at 0x000002283C236DC8>> could not be transformed and will be executed as-is. Please report this to the AutoGraph team. When filing the bug, set the verbosity to 10 (on Linux, `export AUTOGRAPH_VERBOSITY=10`) and attach the full output. Cause: converting <bound method InteractingLayer.call of <AutoInt.InteractingLayer object at 0x000002283C236DC8>>: AttributeError: module 'gast' has no attribute 'Str'\n",
      "WARNING:tensorflow:Entity <bound method InteractingLayer.call of <AutoInt.InteractingLayer object at 0x000002283C25D848>> could not be transformed and will be executed as-is. Please report this to the AutoGraph team. When filing the bug, set the verbosity to 10 (on Linux, `export AUTOGRAPH_VERBOSITY=10`) and attach the full output. Cause: converting <bound method InteractingLayer.call of <AutoInt.InteractingLayer object at 0x000002283C25D848>>: AttributeError: module 'gast' has no attribute 'Str'\n",
      "WARNING: Entity <bound method InteractingLayer.call of <AutoInt.InteractingLayer object at 0x000002283C25D848>> could not be transformed and will be executed as-is. Please report this to the AutoGraph team. When filing the bug, set the verbosity to 10 (on Linux, `export AUTOGRAPH_VERBOSITY=10`) and attach the full output. Cause: converting <bound method InteractingLayer.call of <AutoInt.InteractingLayer object at 0x000002283C25D848>>: AttributeError: module 'gast' has no attribute 'Str'\n",
      "WARNING:tensorflow:Entity <bound method InteractingLayer.call of <AutoInt.InteractingLayer object at 0x000002283C2B8848>> could not be transformed and will be executed as-is. Please report this to the AutoGraph team. When filing the bug, set the verbosity to 10 (on Linux, `export AUTOGRAPH_VERBOSITY=10`) and attach the full output. Cause: converting <bound method InteractingLayer.call of <AutoInt.InteractingLayer object at 0x000002283C2B8848>>: AttributeError: module 'gast' has no attribute 'Str'\n",
      "WARNING: Entity <bound method InteractingLayer.call of <AutoInt.InteractingLayer object at 0x000002283C2B8848>> could not be transformed and will be executed as-is. Please report this to the AutoGraph team. When filing the bug, set the verbosity to 10 (on Linux, `export AUTOGRAPH_VERBOSITY=10`) and attach the full output. Cause: converting <bound method InteractingLayer.call of <AutoInt.InteractingLayer object at 0x000002283C2B8848>>: AttributeError: module 'gast' has no attribute 'Str'\n",
      "Model: \"model\"\n",
      "__________________________________________________________________________________________________\n",
      "Layer (type)                    Output Shape         Param #     Connected to                     \n",
      "==================================================================================================\n",
      "C1 (InputLayer)                 [(None, 1)]          0                                            \n",
      "__________________________________________________________________________________________________\n",
      "C2 (InputLayer)                 [(None, 1)]          0                                            \n",
      "__________________________________________________________________________________________________\n",
      "C3 (InputLayer)                 [(None, 1)]          0                                            \n",
      "__________________________________________________________________________________________________\n",
      "C4 (InputLayer)                 [(None, 1)]          0                                            \n",
      "__________________________________________________________________________________________________\n",
      "C5 (InputLayer)                 [(None, 1)]          0                                            \n",
      "__________________________________________________________________________________________________\n",
      "C6 (InputLayer)                 [(None, 1)]          0                                            \n",
      "__________________________________________________________________________________________________\n",
      "C7 (InputLayer)                 [(None, 1)]          0                                            \n",
      "__________________________________________________________________________________________________\n",
      "C8 (InputLayer)                 [(None, 1)]          0                                            \n",
      "__________________________________________________________________________________________________\n",
      "C9 (InputLayer)                 [(None, 1)]          0                                            \n",
      "__________________________________________________________________________________________________\n",
      "C10 (InputLayer)                [(None, 1)]          0                                            \n",
      "__________________________________________________________________________________________________\n",
      "C11 (InputLayer)                [(None, 1)]          0                                            \n",
      "__________________________________________________________________________________________________\n",
      "C12 (InputLayer)                [(None, 1)]          0                                            \n",
      "__________________________________________________________________________________________________\n",
      "C13 (InputLayer)                [(None, 1)]          0                                            \n",
      "__________________________________________________________________________________________________\n",
      "C14 (InputLayer)                [(None, 1)]          0                                            \n",
      "__________________________________________________________________________________________________\n",
      "C15 (InputLayer)                [(None, 1)]          0                                            \n",
      "__________________________________________________________________________________________________\n",
      "C16 (InputLayer)                [(None, 1)]          0                                            \n",
      "__________________________________________________________________________________________________\n",
      "C17 (InputLayer)                [(None, 1)]          0                                            \n",
      "__________________________________________________________________________________________________\n",
      "C18 (InputLayer)                [(None, 1)]          0                                            \n",
      "__________________________________________________________________________________________________\n",
      "C19 (InputLayer)                [(None, 1)]          0                                            \n",
      "__________________________________________________________________________________________________\n",
      "C20 (InputLayer)                [(None, 1)]          0                                            \n",
      "__________________________________________________________________________________________________\n",
      "C21 (InputLayer)                [(None, 1)]          0                                            \n",
      "__________________________________________________________________________________________________\n",
      "C22 (InputLayer)                [(None, 1)]          0                                            \n",
      "__________________________________________________________________________________________________\n",
      "C23 (InputLayer)                [(None, 1)]          0                                            \n",
      "__________________________________________________________________________________________________\n",
      "C24 (InputLayer)                [(None, 1)]          0                                            \n",
      "__________________________________________________________________________________________________\n",
      "C25 (InputLayer)                [(None, 1)]          0                                            \n",
      "__________________________________________________________________________________________________\n",
      "C26 (InputLayer)                [(None, 1)]          0                                            \n",
      "__________________________________________________________________________________________________\n",
      "kd_emb_C1 (Embedding)           (None, 1, 4)         108         C1[0][0]                         \n",
      "                                                                 C1[0][0]                         \n",
      "__________________________________________________________________________________________________\n",
      "kd_emb_C2 (Embedding)           (None, 1, 4)         368         C2[0][0]                         \n",
      "                                                                 C2[0][0]                         \n",
      "__________________________________________________________________________________________________\n",
      "kd_emb_C3 (Embedding)           (None, 1, 4)         688         C3[0][0]                         \n",
      "                                                                 C3[0][0]                         \n",
      "__________________________________________________________________________________________________\n",
      "kd_emb_C4 (Embedding)           (None, 1, 4)         628         C4[0][0]                         \n",
      "                                                                 C4[0][0]                         \n",
      "__________________________________________________________________________________________________\n",
      "kd_emb_C5 (Embedding)           (None, 1, 4)         48          C5[0][0]                         \n",
      "                                                                 C5[0][0]                         \n",
      "__________________________________________________________________________________________________\n",
      "kd_emb_C6 (Embedding)           (None, 1, 4)         28          C6[0][0]                         \n",
      "                                                                 C6[0][0]                         \n",
      "__________________________________________________________________________________________________\n",
      "kd_emb_C7 (Embedding)           (None, 1, 4)         732         C7[0][0]                         \n",
      "                                                                 C7[0][0]                         \n",
      "__________________________________________________________________________________________________\n",
      "kd_emb_C8 (Embedding)           (None, 1, 4)         76          C8[0][0]                         \n",
      "                                                                 C8[0][0]                         \n",
      "__________________________________________________________________________________________________\n",
      "kd_emb_C9 (Embedding)           (None, 1, 4)         8           C9[0][0]                         \n",
      "                                                                 C9[0][0]                         \n",
      "__________________________________________________________________________________________________\n",
      "kd_emb_C10 (Embedding)          (None, 1, 4)         568         C10[0][0]                        \n",
      "                                                                 C10[0][0]                        \n",
      "__________________________________________________________________________________________________\n",
      "kd_emb_C11 (Embedding)          (None, 1, 4)         692         C11[0][0]                        \n",
      "                                                                 C11[0][0]                        \n",
      "__________________________________________________________________________________________________\n",
      "kd_emb_C12 (Embedding)          (None, 1, 4)         680         C12[0][0]                        \n",
      "                                                                 C12[0][0]                        \n",
      "__________________________________________________________________________________________________\n",
      "kd_emb_C13 (Embedding)          (None, 1, 4)         664         C13[0][0]                        \n",
      "                                                                 C13[0][0]                        \n",
      "__________________________________________________________________________________________________\n",
      "kd_emb_C14 (Embedding)          (None, 1, 4)         56          C14[0][0]                        \n",
      "                                                                 C14[0][0]                        \n",
      "__________________________________________________________________________________________________\n",
      "kd_emb_C15 (Embedding)          (None, 1, 4)         680         C15[0][0]                        \n",
      "                                                                 C15[0][0]                        \n",
      "__________________________________________________________________________________________________\n",
      "kd_emb_C16 (Embedding)          (None, 1, 4)         672         C16[0][0]                        \n",
      "                                                                 C16[0][0]                        \n",
      "__________________________________________________________________________________________________\n",
      "kd_emb_C17 (Embedding)          (None, 1, 4)         36          C17[0][0]                        \n",
      "                                                                 C17[0][0]                        \n",
      "__________________________________________________________________________________________________\n",
      "kd_emb_C18 (Embedding)          (None, 1, 4)         508         C18[0][0]                        \n",
      "                                                                 C18[0][0]                        \n",
      "__________________________________________________________________________________________________\n",
      "kd_emb_C19 (Embedding)          (None, 1, 4)         176         C19[0][0]                        \n",
      "                                                                 C19[0][0]                        \n",
      "__________________________________________________________________________________________________\n",
      "kd_emb_C20 (Embedding)          (None, 1, 4)         16          C20[0][0]                        \n",
      "                                                                 C20[0][0]                        \n",
      "__________________________________________________________________________________________________\n",
      "kd_emb_C21 (Embedding)          (None, 1, 4)         676         C21[0][0]                        \n",
      "                                                                 C21[0][0]                        \n",
      "__________________________________________________________________________________________________\n",
      "kd_emb_C22 (Embedding)          (None, 1, 4)         24          C22[0][0]                        \n",
      "                                                                 C22[0][0]                        \n",
      "__________________________________________________________________________________________________\n",
      "kd_emb_C23 (Embedding)          (None, 1, 4)         40          C23[0][0]                        \n",
      "                                                                 C23[0][0]                        \n",
      "__________________________________________________________________________________________________\n",
      "kd_emb_C24 (Embedding)          (None, 1, 4)         500         C24[0][0]                        \n",
      "                                                                 C24[0][0]                        \n",
      "__________________________________________________________________________________________________\n",
      "kd_emb_C25 (Embedding)          (None, 1, 4)         80          C25[0][0]                        \n",
      "                                                                 C25[0][0]                        \n",
      "__________________________________________________________________________________________________\n",
      "kd_emb_C26 (Embedding)          (None, 1, 4)         360         C26[0][0]                        \n",
      "                                                                 C26[0][0]                        \n",
      "__________________________________________________________________________________________________\n",
      "concatenate_1 (Concatenate)     (None, 26, 4)        0           kd_emb_C1[0][0]                  \n",
      "                                                                 kd_emb_C2[0][0]                  \n",
      "                                                                 kd_emb_C3[0][0]                  \n",
      "                                                                 kd_emb_C4[0][0]                  \n",
      "                                                                 kd_emb_C5[0][0]                  \n",
      "                                                                 kd_emb_C6[0][0]                  \n",
      "                                                                 kd_emb_C7[0][0]                  \n",
      "                                                                 kd_emb_C8[0][0]                  \n",
      "                                                                 kd_emb_C9[0][0]                  \n",
      "                                                                 kd_emb_C10[0][0]                 \n",
      "                                                                 kd_emb_C11[0][0]                 \n",
      "                                                                 kd_emb_C12[0][0]                 \n",
      "                                                                 kd_emb_C13[0][0]                 \n",
      "                                                                 kd_emb_C14[0][0]                 \n",
      "                                                                 kd_emb_C15[0][0]                 \n",
      "                                                                 kd_emb_C16[0][0]                 \n",
      "                                                                 kd_emb_C17[0][0]                 \n",
      "                                                                 kd_emb_C18[0][0]                 \n",
      "                                                                 kd_emb_C19[0][0]                 \n",
      "                                                                 kd_emb_C20[0][0]                 \n",
      "                                                                 kd_emb_C21[0][0]                 \n",
      "                                                                 kd_emb_C22[0][0]                 \n",
      "                                                                 kd_emb_C23[0][0]                 \n",
      "                                                                 kd_emb_C24[0][0]                 \n",
      "                                                                 kd_emb_C25[0][0]                 \n",
      "                                                                 kd_emb_C26[0][0]                 \n",
      "__________________________________________________________________________________________________\n",
      "interacting_layer (InteractingL (None, 26, 16)       256         concatenate_1[0][0]              \n",
      "__________________________________________________________________________________________________\n",
      "interacting_layer_1 (Interactin (None, 26, 16)       1024        interacting_layer[0][0]          \n",
      "__________________________________________________________________________________________________\n",
      "I1 (InputLayer)                 [(None, 1)]          0                                            \n",
      "__________________________________________________________________________________________________\n",
      "I2 (InputLayer)                 [(None, 1)]          0                                            \n",
      "__________________________________________________________________________________________________\n",
      "I3 (InputLayer)                 [(None, 1)]          0                                            \n",
      "__________________________________________________________________________________________________\n",
      "I4 (InputLayer)                 [(None, 1)]          0                                            \n",
      "__________________________________________________________________________________________________\n",
      "I5 (InputLayer)                 [(None, 1)]          0                                            \n",
      "__________________________________________________________________________________________________\n",
      "I6 (InputLayer)                 [(None, 1)]          0                                            \n",
      "__________________________________________________________________________________________________\n",
      "I7 (InputLayer)                 [(None, 1)]          0                                            \n",
      "__________________________________________________________________________________________________\n",
      "I8 (InputLayer)                 [(None, 1)]          0                                            \n",
      "__________________________________________________________________________________________________\n",
      "I9 (InputLayer)                 [(None, 1)]          0                                            \n",
      "__________________________________________________________________________________________________\n",
      "I10 (InputLayer)                [(None, 1)]          0                                            \n",
      "__________________________________________________________________________________________________\n",
      "I11 (InputLayer)                [(None, 1)]          0                                            \n",
      "__________________________________________________________________________________________________\n",
      "I12 (InputLayer)                [(None, 1)]          0                                            \n",
      "__________________________________________________________________________________________________\n",
      "I13 (InputLayer)                [(None, 1)]          0                                            \n",
      "__________________________________________________________________________________________________\n",
      "flatten_27 (Flatten)            (None, 4)            0           kd_emb_C1[1][0]                  \n",
      "__________________________________________________________________________________________________\n",
      "flatten_28 (Flatten)            (None, 4)            0           kd_emb_C2[1][0]                  \n",
      "__________________________________________________________________________________________________\n",
      "flatten_29 (Flatten)            (None, 4)            0           kd_emb_C3[1][0]                  \n",
      "__________________________________________________________________________________________________\n",
      "flatten_30 (Flatten)            (None, 4)            0           kd_emb_C4[1][0]                  \n",
      "__________________________________________________________________________________________________\n",
      "flatten_31 (Flatten)            (None, 4)            0           kd_emb_C5[1][0]                  \n",
      "__________________________________________________________________________________________________\n",
      "flatten_32 (Flatten)            (None, 4)            0           kd_emb_C6[1][0]                  \n",
      "__________________________________________________________________________________________________\n",
      "flatten_33 (Flatten)            (None, 4)            0           kd_emb_C7[1][0]                  \n",
      "__________________________________________________________________________________________________\n",
      "flatten_34 (Flatten)            (None, 4)            0           kd_emb_C8[1][0]                  \n",
      "__________________________________________________________________________________________________\n",
      "flatten_35 (Flatten)            (None, 4)            0           kd_emb_C9[1][0]                  \n",
      "__________________________________________________________________________________________________\n",
      "flatten_36 (Flatten)            (None, 4)            0           kd_emb_C10[1][0]                 \n",
      "__________________________________________________________________________________________________\n",
      "flatten_37 (Flatten)            (None, 4)            0           kd_emb_C11[1][0]                 \n",
      "__________________________________________________________________________________________________\n",
      "flatten_38 (Flatten)            (None, 4)            0           kd_emb_C12[1][0]                 \n",
      "__________________________________________________________________________________________________\n",
      "flatten_39 (Flatten)            (None, 4)            0           kd_emb_C13[1][0]                 \n",
      "__________________________________________________________________________________________________\n",
      "flatten_40 (Flatten)            (None, 4)            0           kd_emb_C14[1][0]                 \n",
      "__________________________________________________________________________________________________\n",
      "flatten_41 (Flatten)            (None, 4)            0           kd_emb_C15[1][0]                 \n",
      "__________________________________________________________________________________________________\n",
      "flatten_42 (Flatten)            (None, 4)            0           kd_emb_C16[1][0]                 \n",
      "__________________________________________________________________________________________________\n",
      "flatten_43 (Flatten)            (None, 4)            0           kd_emb_C17[1][0]                 \n",
      "__________________________________________________________________________________________________\n",
      "flatten_44 (Flatten)            (None, 4)            0           kd_emb_C18[1][0]                 \n",
      "__________________________________________________________________________________________________\n",
      "flatten_45 (Flatten)            (None, 4)            0           kd_emb_C19[1][0]                 \n",
      "__________________________________________________________________________________________________\n",
      "flatten_46 (Flatten)            (None, 4)            0           kd_emb_C20[1][0]                 \n",
      "__________________________________________________________________________________________________\n",
      "flatten_47 (Flatten)            (None, 4)            0           kd_emb_C21[1][0]                 \n",
      "__________________________________________________________________________________________________\n",
      "flatten_48 (Flatten)            (None, 4)            0           kd_emb_C22[1][0]                 \n",
      "__________________________________________________________________________________________________\n",
      "flatten_49 (Flatten)            (None, 4)            0           kd_emb_C23[1][0]                 \n",
      "__________________________________________________________________________________________________\n",
      "flatten_50 (Flatten)            (None, 4)            0           kd_emb_C24[1][0]                 \n",
      "__________________________________________________________________________________________________\n",
      "flatten_51 (Flatten)            (None, 4)            0           kd_emb_C25[1][0]                 \n",
      "__________________________________________________________________________________________________\n",
      "flatten_52 (Flatten)            (None, 4)            0           kd_emb_C26[1][0]                 \n",
      "__________________________________________________________________________________________________\n",
      "interacting_layer_2 (Interactin (None, 26, 16)       1024        interacting_layer_1[0][0]        \n",
      "__________________________________________________________________________________________________\n",
      "concatenate_2 (Concatenate)     (None, 13)           0           I1[0][0]                         \n",
      "                                                                 I2[0][0]                         \n",
      "                                                                 I3[0][0]                         \n",
      "                                                                 I4[0][0]                         \n",
      "                                                                 I5[0][0]                         \n",
      "                                                                 I6[0][0]                         \n",
      "                                                                 I7[0][0]                         \n",
      "                                                                 I8[0][0]                         \n",
      "                                                                 I9[0][0]                         \n",
      "                                                                 I10[0][0]                        \n",
      "                                                                 I11[0][0]                        \n",
      "                                                                 I12[0][0]                        \n",
      "                                                                 I13[0][0]                        \n",
      "__________________________________________________________________________________________________\n",
      "concatenate_3 (Concatenate)     (None, 104)          0           flatten_27[0][0]                 \n",
      "                                                                 flatten_28[0][0]                 \n",
      "                                                                 flatten_29[0][0]                 \n",
      "                                                                 flatten_30[0][0]                 \n",
      "                                                                 flatten_31[0][0]                 \n",
      "                                                                 flatten_32[0][0]                 \n",
      "                                                                 flatten_33[0][0]                 \n",
      "                                                                 flatten_34[0][0]                 \n",
      "                                                                 flatten_35[0][0]                 \n",
      "                                                                 flatten_36[0][0]                 \n",
      "                                                                 flatten_37[0][0]                 \n",
      "                                                                 flatten_38[0][0]                 \n",
      "                                                                 flatten_39[0][0]                 \n",
      "                                                                 flatten_40[0][0]                 \n",
      "                                                                 flatten_41[0][0]                 \n",
      "                                                                 flatten_42[0][0]                 \n",
      "                                                                 flatten_43[0][0]                 \n",
      "                                                                 flatten_44[0][0]                 \n",
      "                                                                 flatten_45[0][0]                 \n",
      "                                                                 flatten_46[0][0]                 \n",
      "                                                                 flatten_47[0][0]                 \n",
      "                                                                 flatten_48[0][0]                 \n",
      "                                                                 flatten_49[0][0]                 \n",
      "                                                                 flatten_50[0][0]                 \n",
      "                                                                 flatten_51[0][0]                 \n",
      "                                                                 flatten_52[0][0]                 \n",
      "__________________________________________________________________________________________________\n",
      "flatten_26 (Flatten)            (None, 416)          0           interacting_layer_2[0][0]        \n",
      "__________________________________________________________________________________________________\n",
      "concatenate_4 (Concatenate)     (None, 533)          0           concatenate_2[0][0]              \n",
      "                                                                 concatenate_3[0][0]              \n",
      "                                                                 flatten_26[0][0]                 \n",
      "__________________________________________________________________________________________________\n",
      "dense_1 (Dense)                 (None, 1024)         546816      concatenate_4[0][0]              \n",
      "__________________________________________________________________________________________________\n",
      "dropout (Dropout)               multiple             0           dense_1[0][0]                    \n",
      "                                                                 dense_2[0][0]                    \n",
      "                                                                 dense_3[0][0]                    \n",
      "__________________________________________________________________________________________________\n",
      "dense_2 (Dense)                 (None, 512)          524800      dropout[0][0]                    \n",
      "__________________________________________________________________________________________________\n",
      "1d_emb_C1 (Embedding)           (None, 1, 1)         27          C1[0][0]                         \n",
      "__________________________________________________________________________________________________\n",
      "1d_emb_C2 (Embedding)           (None, 1, 1)         92          C2[0][0]                         \n",
      "__________________________________________________________________________________________________\n",
      "1d_emb_C3 (Embedding)           (None, 1, 1)         172         C3[0][0]                         \n",
      "__________________________________________________________________________________________________\n",
      "1d_emb_C4 (Embedding)           (None, 1, 1)         157         C4[0][0]                         \n",
      "__________________________________________________________________________________________________\n",
      "1d_emb_C5 (Embedding)           (None, 1, 1)         12          C5[0][0]                         \n",
      "__________________________________________________________________________________________________\n",
      "1d_emb_C6 (Embedding)           (None, 1, 1)         7           C6[0][0]                         \n",
      "__________________________________________________________________________________________________\n",
      "1d_emb_C7 (Embedding)           (None, 1, 1)         183         C7[0][0]                         \n",
      "__________________________________________________________________________________________________\n",
      "1d_emb_C8 (Embedding)           (None, 1, 1)         19          C8[0][0]                         \n",
      "__________________________________________________________________________________________________\n",
      "1d_emb_C9 (Embedding)           (None, 1, 1)         2           C9[0][0]                         \n",
      "__________________________________________________________________________________________________\n",
      "1d_emb_C10 (Embedding)          (None, 1, 1)         142         C10[0][0]                        \n",
      "__________________________________________________________________________________________________\n",
      "1d_emb_C11 (Embedding)          (None, 1, 1)         173         C11[0][0]                        \n",
      "__________________________________________________________________________________________________\n",
      "1d_emb_C12 (Embedding)          (None, 1, 1)         170         C12[0][0]                        \n",
      "__________________________________________________________________________________________________\n",
      "1d_emb_C13 (Embedding)          (None, 1, 1)         166         C13[0][0]                        \n",
      "__________________________________________________________________________________________________\n",
      "1d_emb_C14 (Embedding)          (None, 1, 1)         14          C14[0][0]                        \n",
      "__________________________________________________________________________________________________\n",
      "1d_emb_C15 (Embedding)          (None, 1, 1)         170         C15[0][0]                        \n",
      "__________________________________________________________________________________________________\n",
      "1d_emb_C16 (Embedding)          (None, 1, 1)         168         C16[0][0]                        \n",
      "__________________________________________________________________________________________________\n",
      "1d_emb_C17 (Embedding)          (None, 1, 1)         9           C17[0][0]                        \n",
      "__________________________________________________________________________________________________\n",
      "1d_emb_C18 (Embedding)          (None, 1, 1)         127         C18[0][0]                        \n",
      "__________________________________________________________________________________________________\n",
      "1d_emb_C19 (Embedding)          (None, 1, 1)         44          C19[0][0]                        \n",
      "__________________________________________________________________________________________________\n",
      "1d_emb_C20 (Embedding)          (None, 1, 1)         4           C20[0][0]                        \n",
      "__________________________________________________________________________________________________\n",
      "1d_emb_C21 (Embedding)          (None, 1, 1)         169         C21[0][0]                        \n",
      "__________________________________________________________________________________________________\n",
      "1d_emb_C22 (Embedding)          (None, 1, 1)         6           C22[0][0]                        \n",
      "__________________________________________________________________________________________________\n",
      "1d_emb_C23 (Embedding)          (None, 1, 1)         10          C23[0][0]                        \n",
      "__________________________________________________________________________________________________\n",
      "1d_emb_C24 (Embedding)          (None, 1, 1)         125         C24[0][0]                        \n",
      "__________________________________________________________________________________________________\n",
      "1d_emb_C25 (Embedding)          (None, 1, 1)         20          C25[0][0]                        \n",
      "__________________________________________________________________________________________________\n",
      "1d_emb_C26 (Embedding)          (None, 1, 1)         90          C26[0][0]                        \n",
      "__________________________________________________________________________________________________\n",
      "concatenate (Concatenate)       (None, 13)           0           I1[0][0]                         \n",
      "                                                                 I2[0][0]                         \n",
      "                                                                 I3[0][0]                         \n",
      "                                                                 I4[0][0]                         \n",
      "                                                                 I5[0][0]                         \n",
      "                                                                 I6[0][0]                         \n",
      "                                                                 I7[0][0]                         \n",
      "                                                                 I8[0][0]                         \n",
      "                                                                 I9[0][0]                         \n",
      "                                                                 I10[0][0]                        \n",
      "                                                                 I11[0][0]                        \n",
      "                                                                 I12[0][0]                        \n",
      "                                                                 I13[0][0]                        \n",
      "__________________________________________________________________________________________________\n",
      "flatten (Flatten)               (None, 1)            0           1d_emb_C1[0][0]                  \n",
      "__________________________________________________________________________________________________\n",
      "flatten_1 (Flatten)             (None, 1)            0           1d_emb_C2[0][0]                  \n",
      "__________________________________________________________________________________________________\n",
      "flatten_2 (Flatten)             (None, 1)            0           1d_emb_C3[0][0]                  \n",
      "__________________________________________________________________________________________________\n",
      "flatten_3 (Flatten)             (None, 1)            0           1d_emb_C4[0][0]                  \n",
      "__________________________________________________________________________________________________\n",
      "flatten_4 (Flatten)             (None, 1)            0           1d_emb_C5[0][0]                  \n",
      "__________________________________________________________________________________________________\n",
      "flatten_5 (Flatten)             (None, 1)            0           1d_emb_C6[0][0]                  \n",
      "__________________________________________________________________________________________________\n",
      "flatten_6 (Flatten)             (None, 1)            0           1d_emb_C7[0][0]                  \n",
      "__________________________________________________________________________________________________\n",
      "flatten_7 (Flatten)             (None, 1)            0           1d_emb_C8[0][0]                  \n",
      "__________________________________________________________________________________________________\n",
      "flatten_8 (Flatten)             (None, 1)            0           1d_emb_C9[0][0]                  \n",
      "__________________________________________________________________________________________________\n",
      "flatten_9 (Flatten)             (None, 1)            0           1d_emb_C10[0][0]                 \n",
      "__________________________________________________________________________________________________\n",
      "flatten_10 (Flatten)            (None, 1)            0           1d_emb_C11[0][0]                 \n",
      "__________________________________________________________________________________________________\n",
      "flatten_11 (Flatten)            (None, 1)            0           1d_emb_C12[0][0]                 \n",
      "__________________________________________________________________________________________________\n",
      "flatten_12 (Flatten)            (None, 1)            0           1d_emb_C13[0][0]                 \n",
      "__________________________________________________________________________________________________\n",
      "flatten_13 (Flatten)            (None, 1)            0           1d_emb_C14[0][0]                 \n",
      "__________________________________________________________________________________________________\n",
      "flatten_14 (Flatten)            (None, 1)            0           1d_emb_C15[0][0]                 \n",
      "__________________________________________________________________________________________________\n",
      "flatten_15 (Flatten)            (None, 1)            0           1d_emb_C16[0][0]                 \n",
      "__________________________________________________________________________________________________\n",
      "flatten_16 (Flatten)            (None, 1)            0           1d_emb_C17[0][0]                 \n",
      "__________________________________________________________________________________________________\n",
      "flatten_17 (Flatten)            (None, 1)            0           1d_emb_C18[0][0]                 \n",
      "__________________________________________________________________________________________________\n",
      "flatten_18 (Flatten)            (None, 1)            0           1d_emb_C19[0][0]                 \n",
      "__________________________________________________________________________________________________\n",
      "flatten_19 (Flatten)            (None, 1)            0           1d_emb_C20[0][0]                 \n",
      "__________________________________________________________________________________________________\n",
      "flatten_20 (Flatten)            (None, 1)            0           1d_emb_C21[0][0]                 \n",
      "__________________________________________________________________________________________________\n",
      "flatten_21 (Flatten)            (None, 1)            0           1d_emb_C22[0][0]                 \n",
      "__________________________________________________________________________________________________\n",
      "flatten_22 (Flatten)            (None, 1)            0           1d_emb_C23[0][0]                 \n",
      "__________________________________________________________________________________________________\n",
      "flatten_23 (Flatten)            (None, 1)            0           1d_emb_C24[0][0]                 \n",
      "__________________________________________________________________________________________________\n",
      "flatten_24 (Flatten)            (None, 1)            0           1d_emb_C25[0][0]                 \n",
      "__________________________________________________________________________________________________\n",
      "flatten_25 (Flatten)            (None, 1)            0           1d_emb_C26[0][0]                 \n",
      "__________________________________________________________________________________________________\n",
      "dense_3 (Dense)                 (None, 256)          131328      dropout[1][0]                    \n",
      "__________________________________________________________________________________________________\n",
      "dense (Dense)                   (None, 1)            14          concatenate[0][0]                \n",
      "__________________________________________________________________________________________________\n",
      "add (Add)                       (None, 1)            0           flatten[0][0]                    \n",
      "                                                                 flatten_1[0][0]                  \n",
      "                                                                 flatten_2[0][0]                  \n",
      "                                                                 flatten_3[0][0]                  \n",
      "                                                                 flatten_4[0][0]                  \n",
      "                                                                 flatten_5[0][0]                  \n",
      "                                                                 flatten_6[0][0]                  \n",
      "                                                                 flatten_7[0][0]                  \n",
      "                                                                 flatten_8[0][0]                  \n",
      "                                                                 flatten_9[0][0]                  \n",
      "                                                                 flatten_10[0][0]                 \n",
      "                                                                 flatten_11[0][0]                 \n",
      "                                                                 flatten_12[0][0]                 \n",
      "                                                                 flatten_13[0][0]                 \n",
      "                                                                 flatten_14[0][0]                 \n",
      "                                                                 flatten_15[0][0]                 \n",
      "                                                                 flatten_16[0][0]                 \n",
      "                                                                 flatten_17[0][0]                 \n",
      "                                                                 flatten_18[0][0]                 \n",
      "                                                                 flatten_19[0][0]                 \n",
      "                                                                 flatten_20[0][0]                 \n",
      "                                                                 flatten_21[0][0]                 \n",
      "                                                                 flatten_22[0][0]                 \n",
      "                                                                 flatten_23[0][0]                 \n",
      "                                                                 flatten_24[0][0]                 \n",
      "                                                                 flatten_25[0][0]                 \n",
      "__________________________________________________________________________________________________\n",
      "add_1 (Add)                     (None, 1)            0           dense[0][0]                      \n",
      "                                                                 add[0][0]                        \n",
      "__________________________________________________________________________________________________\n",
      "dense_4 (Dense)                 (None, 1)            257         dropout[2][0]                    \n",
      "__________________________________________________________________________________________________\n",
      "add_2 (Add)                     (None, 1)            0           add_1[0][0]                      \n",
      "                                                                 dense_4[0][0]                    \n",
      "__________________________________________________________________________________________________\n",
      "dense_5 (Dense)                 (None, 1)            2           add_2[0][0]                      \n",
      "==================================================================================================\n",
      "Total params: 1,216,911\n",
      "Trainable params: 1,216,911\n",
      "Non-trainable params: 0\n",
      "__________________________________________________________________________________________________\n"
     ]
    }
   ],
   "source": [
    "\"\"\"构建AutoInt模型\"\"\"\n",
    "model = AutoInt(linear_feature_columns, dnn_feature_columns)\n",
    "model.summary()"
   ]
  },
  {
   "cell_type": "code",
   "execution_count": 10,
   "id": "catholic-beast",
   "metadata": {
    "ExecuteTime": {
     "end_time": "2021-05-07T14:37:06.987683Z",
     "start_time": "2021-05-07T14:37:06.974718Z"
    }
   },
   "outputs": [],
   "source": [
    "\"\"\"设置超参数\"\"\"\n",
    "learning_rate = 0.001\n",
    "batch_size = 64\n",
    "epochs = 20"
   ]
  },
  {
   "cell_type": "code",
   "execution_count": 11,
   "id": "developing-niagara",
   "metadata": {
    "ExecuteTime": {
     "end_time": "2021-05-07T14:37:08.471518Z",
     "start_time": "2021-05-07T14:37:08.450613Z"
    }
   },
   "outputs": [],
   "source": [
    "\"\"\"模型编译\"\"\"\n",
    "model.compile(loss=binary_crossentropy, optimizer=Adam(learning_rate=learning_rate),\n",
    "                      metrics=['binary_crossentropy', AUC(name='auc')])"
   ]
  },
  {
   "cell_type": "markdown",
   "id": "disabled-rainbow",
   "metadata": {},
   "source": [
    "## 模型的训练与评估"
   ]
  },
  {
   "cell_type": "code",
   "execution_count": 12,
   "id": "emotional-footwear",
   "metadata": {
    "ExecuteTime": {
     "end_time": "2021-05-07T14:37:32.160991Z",
     "start_time": "2021-05-07T14:37:24.407920Z"
    }
   },
   "outputs": [
    {
     "name": "stdout",
     "output_type": "stream",
     "text": [
      "WARNING:tensorflow:From D:\\anaconda3\\envs\\tfenv\\lib\\site-packages\\tensorflow\\python\\ops\\math_grad.py:1250: add_dispatch_support.<locals>.wrapper (from tensorflow.python.ops.array_ops) is deprecated and will be removed in a future version.\n",
      "Instructions for updating:\n",
      "Use tf.where in 2.0, which has the same broadcast rule as np.where\n",
      "Train on 144 samples, validate on 36 samples\n",
      "Epoch 1/20\n",
      "144/144 [==============================] - 7s 47ms/sample - loss: 3.6515 - binary_crossentropy: 3.6515 - auc: 0.5132 - val_loss: 0.9130 - val_binary_crossentropy: 0.9130 - val_auc: 0.5692\n",
      "Epoch 2/20\n",
      "144/144 [==============================] - 0s 1ms/sample - loss: 1.4216 - binary_crossentropy: 1.4216 - auc: 0.5153 - val_loss: 1.2133 - val_binary_crossentropy: 1.2133 - val_auc: 0.5491\n",
      "Epoch 3/20\n",
      "144/144 [==============================] - 0s 1ms/sample - loss: 1.1401 - binary_crossentropy: 1.1401 - auc: 0.5676 - val_loss: 0.6998 - val_binary_crossentropy: 0.6998 - val_auc: 0.5759\n",
      "Epoch 4/20\n",
      "144/144 [==============================] - 0s 1ms/sample - loss: 0.9093 - binary_crossentropy: 0.9093 - auc: 0.5995 - val_loss: 0.6940 - val_binary_crossentropy: 0.6940 - val_auc: 0.5871\n",
      "Epoch 5/20\n",
      "144/144 [==============================] - 0s 1ms/sample - loss: 0.7556 - binary_crossentropy: 0.7556 - auc: 0.6398 - val_loss: 0.7629 - val_binary_crossentropy: 0.7629 - val_auc: 0.5804\n",
      "Epoch 6/20\n",
      "144/144 [==============================] - 0s 1ms/sample - loss: 0.5729 - binary_crossentropy: 0.5729 - auc: 0.7653 - val_loss: 0.7615 - val_binary_crossentropy: 0.7615 - val_auc: 0.5268\n",
      "Epoch 7/20\n",
      "144/144 [==============================] - 0s 1ms/sample - loss: 0.5535 - binary_crossentropy: 0.5535 - auc: 0.7374 - val_loss: 0.7466 - val_binary_crossentropy: 0.7466 - val_auc: 0.4978\n",
      "Epoch 8/20\n",
      "144/144 [==============================] - 0s 1ms/sample - loss: 0.5152 - binary_crossentropy: 0.5152 - auc: 0.7652 - val_loss: 0.8050 - val_binary_crossentropy: 0.8050 - val_auc: 0.4621\n",
      "Epoch 9/20\n",
      "144/144 [==============================] - 0s 1ms/sample - loss: 0.4892 - binary_crossentropy: 0.4892 - auc: 0.8040 - val_loss: 0.9195 - val_binary_crossentropy: 0.9195 - val_auc: 0.4152\n",
      "Epoch 10/20\n",
      "144/144 [==============================] - 0s 1ms/sample - loss: 0.4453 - binary_crossentropy: 0.4453 - auc: 0.8346 - val_loss: 0.9765 - val_binary_crossentropy: 0.9765 - val_auc: 0.4085\n",
      "Epoch 11/20\n",
      "144/144 [==============================] - 0s 1ms/sample - loss: 0.4278 - binary_crossentropy: 0.4278 - auc: 0.8449 - val_loss: 0.9675 - val_binary_crossentropy: 0.9675 - val_auc: 0.4085\n",
      "Epoch 12/20\n",
      "144/144 [==============================] - 0s 1ms/sample - loss: 0.3837 - binary_crossentropy: 0.3837 - auc: 0.8719 - val_loss: 0.8837 - val_binary_crossentropy: 0.8837 - val_auc: 0.4330\n",
      "Epoch 13/20\n",
      "144/144 [==============================] - 0s 1ms/sample - loss: 0.4592 - binary_crossentropy: 0.4592 - auc: 0.8257 - val_loss: 0.8155 - val_binary_crossentropy: 0.8155 - val_auc: 0.4732\n",
      "Epoch 14/20\n",
      "144/144 [==============================] - 0s 1ms/sample - loss: 0.3806 - binary_crossentropy: 0.3806 - auc: 0.8845 - val_loss: 0.8238 - val_binary_crossentropy: 0.8238 - val_auc: 0.4598\n",
      "Epoch 15/20\n",
      "144/144 [==============================] - 0s 1ms/sample - loss: 0.3418 - binary_crossentropy: 0.3418 - auc: 0.8965 - val_loss: 0.7767 - val_binary_crossentropy: 0.7767 - val_auc: 0.5000\n",
      "Epoch 16/20\n",
      "144/144 [==============================] - 0s 1ms/sample - loss: 0.3208 - binary_crossentropy: 0.3208 - auc: 0.9106 - val_loss: 0.6877 - val_binary_crossentropy: 0.6877 - val_auc: 0.5513\n",
      "Epoch 17/20\n",
      "144/144 [==============================] - 0s 1ms/sample - loss: 0.2549 - binary_crossentropy: 0.2549 - auc: 0.9465 - val_loss: 0.6878 - val_binary_crossentropy: 0.6878 - val_auc: 0.5446\n",
      "Epoch 18/20\n",
      "144/144 [==============================] - 0s 1ms/sample - loss: 0.2259 - binary_crossentropy: 0.2259 - auc: 0.9662 - val_loss: 0.8191 - val_binary_crossentropy: 0.8191 - val_auc: 0.5045\n",
      "Epoch 19/20\n",
      "144/144 [==============================] - 0s 1ms/sample - loss: 0.1867 - binary_crossentropy: 0.1867 - auc: 0.9815 - val_loss: 0.8564 - val_binary_crossentropy: 0.8564 - val_auc: 0.4821\n",
      "Epoch 20/20\n",
      "144/144 [==============================] - 0s 1ms/sample - loss: 0.1272 - binary_crossentropy: 0.1272 - auc: 0.9986 - val_loss: 0.7963 - val_binary_crossentropy: 0.7963 - val_auc: 0.5089\n"
     ]
    }
   ],
   "source": [
    "\"\"\"模型训练\"\"\"\n",
    "callbacks = [\n",
    "    EarlyStopping(monitor='val_loss', patience=5, restore_best_weights=True),   # 早停\n",
    "    ReduceLROnPlateau(monitor='val_loss', patience=3, factor=0.01, verbose=1)\n",
    "]\n",
    "#将输入数据转化成字典的形式输入\n",
    "trnx_model_input = {name: trnx[name] for name in dense_features + sparse_features}\n",
    "valx_model_input = {name: valx[name] for name in dense_features + sparse_features}\n",
    "\n",
    "history = model.fit(\n",
    "                    trnx_model_input, \n",
    "                    trny.values,\n",
    "                    epochs=epochs,\n",
    "                    #callbacks=callbacks,  # checkpoint\n",
    "                    batch_size=batch_size,\n",
    "                    validation_split=0.2\n",
    "                    )"
   ]
  },
  {
   "cell_type": "code",
   "execution_count": 13,
   "id": "together-marks",
   "metadata": {
    "ExecuteTime": {
     "end_time": "2021-05-07T14:37:47.623625Z",
     "start_time": "2021-05-07T14:37:47.478971Z"
    }
   },
   "outputs": [
    {
     "data": {
      "image/png": "[encoded data removed]",
      "text/plain": [
       "<Figure size 432x288 with 1 Axes>"
      ]
     },
     "metadata": {},
     "output_type": "display_data"
    }
   ],
   "source": [
    "\"\"\"可视化下看看训练情况\"\"\"\n",
    "plt.plot(history.history['loss'])\n",
    "plt.plot(history.history['val_loss'])\n",
    "plt.title('Model loss')\n",
    "plt.ylabel('Loss')\n",
    "plt.xlabel('Epoch')\n",
    "plt.legend(['Train', 'Test'], loc='upper left')\n",
    "plt.show()"
   ]
  },
  {
   "cell_type": "code",
   "execution_count": 14,
   "id": "united-estonia",
   "metadata": {
    "ExecuteTime": {
     "end_time": "2021-05-07T14:38:07.688257Z",
     "start_time": "2021-05-07T14:38:07.536616Z"
    }
   },
   "outputs": [
    {
     "name": "stdout",
     "output_type": "stream",
     "text": [
      "20/20 [==============================] - 0s 19ms/sample - loss: 0.8741 - binary_crossentropy: 0.8741 - auc: 0.5267\n",
      "val AUC: 0.874087\n"
     ]
    }
   ],
   "source": [
    "\"\"\"模型评估\"\"\"\n",
    "print('val AUC: %f' % model.evaluate(valx_model_input, valy, batch_size=batch_size)[1])"
   ]
  },
  {
   "cell_type": "markdown",
   "id": "automatic-example",
   "metadata": {},
   "source": [
    "## 模型架构"
   ]
  },
  {
   "cell_type": "code",
   "execution_count": 16,
   "id": "automatic-grass",
   "metadata": {
    "ExecuteTime": {
     "end_time": "2021-05-07T14:38:24.184295Z",
     "start_time": "2021-05-07T14:38:22.095829Z"
    }
   },
   "outputs": [
    {
     "name": "stdout",
     "output_type": "stream",
     "text": [
      "Failed to import pydot. You must install pydot and graphviz for `pydotprint` to work.\n"
     ]
    }
   ],
   "source": [
    "from tensorflow import keras\n",
    "keras.utils.plot_model(model, to_file='./AutoInt_arc.png', show_shapes=True)"
   ]
  }
 ],
 "metadata": {
  "kernelspec": {
   "display_name": "Python 3 (ipykernel)",
   "language": "python",
   "name": "python3"
  },
  "language_info": {
   "codemirror_mode": {
    "name": "ipython",
    "version": 3
   },
   "file_extension": ".py",
   "mimetype": "text/x-python",
   "name": "python",
   "nbconvert_exporter": "python",
   "pygments_lexer": "ipython3",
   "version": "3.7.10"
  },
  "toc": {
   "base_numbering": 1,
   "nav_menu": {},
   "number_sections": true,
   "sideBar": true,
   "skip_h1_title": false,
   "title_cell": "Table of Contents",
   "title_sidebar": "Contents",
   "toc_cell": false,
   "toc_position": {},
   "toc_section_display": true,
   "toc_window_display": false
  },
  "varInspector": {
   "cols": {
    "lenName": 16,
    "lenType": 16,
    "lenVar": 40
   },
   "kernels_config": {
    "python": {
     "delete_cmd_postfix": "",
     "delete_cmd_prefix": "del ",
     "library": "var_list.py",
     "varRefreshCmd": "print(var_dic_list())"
    },
    "r": {
     "delete_cmd_postfix": ") ",
     "delete_cmd_prefix": "rm(",
     "library": "var_list.r",
     "varRefreshCmd": "cat(var_dic_list()) "
    }
   },
   "types_to_exclude": [
    "module",
    "function",
    "builtin_function_or_method",
    "instance",
    "_Feature"
   ],
   "window_display": false
  }
 },
 "nbformat": 4,
 "nbformat_minor": 5
}
