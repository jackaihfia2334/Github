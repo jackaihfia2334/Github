{
 "cells": [
  {
   "cell_type": "markdown",
   "metadata": {},
   "source": [
    "## Description:\n",
    "这次实验依然是用的Criteo数据集， 只不过由于原来的数据量太大， 为了在单机上能够运行， 做了采样， 取了很少的一部分进行实验。数据集位于data/文件夹下， train.csv是训练集， test.csv是测试集。 这个笔记本我们是做数据的读入和预处理操作， 具体步骤如下：\n",
    "1. 读入数据集， 并进行缺失值的填充， 这里为了简单一些， 直接类别特征填充“-1”， 数值特征填充0\n",
    "2. 类别特征的编码， 用的LabelEncoder编码， 数值特征的归一化处理\n",
    "3. 划分开训练集和验证集保存到prepeocessed/文件夹下"
   ]
  },
  {
   "cell_type": "markdown",
   "metadata": {},
   "source": [
    "## 导入包和数据集"
   ]
  },
  {
   "cell_type": "code",
   "execution_count": 34,
   "metadata": {
    "ExecuteTime": {
     "end_time": "2020-10-17T01:46:45.198696Z",
     "start_time": "2020-10-17T01:46:39.133005Z"
    }
   },
   "outputs": [],
   "source": [
    "# import packages\n",
    "import numpy as np\n",
    "import pandas as pd\n",
    "\n",
    "from sklearn.preprocessing import MinMaxScaler, LabelEncoder\n",
    "from sklearn.model_selection import train_test_split"
   ]
  },
  {
   "cell_type": "code",
   "execution_count": 35,
   "metadata": {
    "ExecuteTime": {
     "end_time": "2020-10-17T01:46:47.721402Z",
     "start_time": "2020-10-17T01:46:47.683461Z"
    }
   },
   "outputs": [
    {
     "name": "stdout",
     "output_type": "stream",
     "text": [
      "(1599, 41) (400, 40)\n"
     ]
    }
   ],
   "source": [
    "# import data\n",
    "train_df = pd.read_csv('./data/train.csv')\n",
    "test_df = pd.read_csv('./data/test.csv')\n",
    "\n",
    "print(train_df.shape, test_df.shape)"
   ]
  },
  {
   "cell_type": "code",
   "execution_count": 36,
   "metadata": {
    "ExecuteTime": {
     "end_time": "2020-10-17T01:46:50.549864Z",
     "start_time": "2020-10-17T01:46:50.539890Z"
    }
   },
   "outputs": [],
   "source": [
    "# 进行数据合并\n",
    "label = train_df['Label']\n",
    "del train_df['Label']\n",
    "\n",
    "data_df = pd.concat((train_df, test_df))"
   ]
  },
  {
   "cell_type": "code",
   "execution_count": 37,
   "metadata": {
    "ExecuteTime": {
     "end_time": "2020-10-17T01:46:51.885345Z",
     "start_time": "2020-10-17T01:46:51.867394Z"
    }
   },
   "outputs": [
    {
     "data": {
      "text/plain": [
       "Index(['I1', 'I2', 'I3', 'I4', 'I5', 'I6', 'I7', 'I8', 'I9', 'I10', 'I11',\n",
       "       'I12', 'I13', 'C1', 'C2', 'C3', 'C4', 'C5', 'C6', 'C7', 'C8', 'C9',\n",
       "       'C10', 'C11', 'C12', 'C13', 'C14', 'C15', 'C16', 'C17', 'C18', 'C19',\n",
       "       'C20', 'C21', 'C22', 'C23', 'C24', 'C25', 'C26'],\n",
       "      dtype='object')"
      ]
     },
     "execution_count": 37,
     "metadata": {},
     "output_type": "execute_result"
    }
   ],
   "source": [
    "del data_df['Id']\n",
    "\n",
    "data_df.columns"
   ]
  },
  {
   "cell_type": "code",
   "execution_count": 38,
   "metadata": {
    "ExecuteTime": {
     "end_time": "2020-10-17T01:46:57.900857Z",
     "start_time": "2020-10-17T01:46:57.888889Z"
    }
   },
   "outputs": [],
   "source": [
    "# 特征分开类别\n",
    "sparse_feas = [col for col in data_df.columns if col[0] == 'C']\n",
    "dense_feas = [col for col in data_df.columns if col[0] == 'I']"
   ]
  },
  {
   "cell_type": "code",
   "execution_count": 39,
   "metadata": {
    "ExecuteTime": {
     "end_time": "2020-10-17T01:46:59.440703Z",
     "start_time": "2020-10-17T01:46:59.419759Z"
    }
   },
   "outputs": [],
   "source": [
    "# 填充缺失值\n",
    "data_df[sparse_feas] = data_df[sparse_feas].fillna('-1')\n",
    "data_df[dense_feas] = data_df[dense_feas].fillna(0)"
   ]
  },
  {
   "cell_type": "markdown",
   "metadata": {},
   "source": [
    "## 数据预处理"
   ]
  },
  {
   "cell_type": "code",
   "execution_count": 40,
   "metadata": {
    "ExecuteTime": {
     "end_time": "2020-10-17T01:47:01.003247Z",
     "start_time": "2020-10-17T01:47:00.975251Z"
    }
   },
   "outputs": [],
   "source": [
    "# 进行编码  类别特征编码\n",
    "for feat in sparse_feas:\n",
    "    le = LabelEncoder()\n",
    "    data_df[feat] = le.fit_transform(data_df[feat])"
   ]
  },
  {
   "cell_type": "code",
   "execution_count": 41,
   "metadata": {
    "ExecuteTime": {
     "end_time": "2020-10-17T01:47:01.746342Z",
     "start_time": "2020-10-17T01:47:01.721363Z"
    }
   },
   "outputs": [],
   "source": [
    "# 数值特征归一化\n",
    "mms = MinMaxScaler()\n",
    "data_df[dense_feas] = mms.fit_transform(data_df[dense_feas])"
   ]
  },
  {
   "cell_type": "code",
   "execution_count": 42,
   "metadata": {
    "ExecuteTime": {
     "end_time": "2020-10-17T01:47:09.096239Z",
     "start_time": "2020-10-17T01:47:09.084229Z"
    }
   },
   "outputs": [
    {
     "name": "stderr",
     "output_type": "stream",
     "text": [
      "C:\\Users\\ys\\AppData\\Local\\Temp\\ipykernel_11368\\2001207878.py:5: SettingWithCopyWarning: \n",
      "A value is trying to be set on a copy of a slice from a DataFrame.\n",
      "Try using .loc[row_indexer,col_indexer] = value instead\n",
      "\n",
      "See the caveats in the documentation: https://pandas.pydata.org/pandas-docs/stable/user_guide/indexing.html#returning-a-view-versus-a-copy\n",
      "  train['Label'] = label\n"
     ]
    }
   ],
   "source": [
    "# 分开测试集和训练集\n",
    "train = data_df[:train_df.shape[0]]\n",
    "test = data_df[train_df.shape[0]:]\n",
    "\n",
    "train['Label'] = label"
   ]
  },
  {
   "cell_type": "markdown",
   "metadata": {
    "ExecuteTime": {
     "end_time": "2020-10-06T11:52:26.195678Z",
     "start_time": "2020-10-06T11:52:26.178723Z"
    }
   },
   "source": [
    "## 划分数据集"
   ]
  },
  {
   "cell_type": "code",
   "execution_count": 43,
   "metadata": {
    "ExecuteTime": {
     "end_time": "2020-10-17T01:47:21.865477Z",
     "start_time": "2020-10-17T01:47:21.855505Z"
    }
   },
   "outputs": [],
   "source": [
    "train_set, val_set = train_test_split(train, test_size = 0.1, random_state=2020)"
   ]
  },
  {
   "cell_type": "code",
   "execution_count": 44,
   "metadata": {},
   "outputs": [
    {
     "data": {
      "text/html": [
       "<div>\n",
       "<style scoped>\n",
       "    .dataframe tbody tr th:only-of-type {\n",
       "        vertical-align: middle;\n",
       "    }\n",
       "\n",
       "    .dataframe tbody tr th {\n",
       "        vertical-align: top;\n",
       "    }\n",
       "\n",
       "    .dataframe thead th {\n",
       "        text-align: right;\n",
       "    }\n",
       "</style>\n",
       "<table border=\"1\" class=\"dataframe\">\n",
       "  <thead>\n",
       "    <tr style=\"text-align: right;\">\n",
       "      <th></th>\n",
       "      <th>I1</th>\n",
       "      <th>I2</th>\n",
       "      <th>I3</th>\n",
       "      <th>I4</th>\n",
       "      <th>I5</th>\n",
       "      <th>I6</th>\n",
       "      <th>I7</th>\n",
       "      <th>I8</th>\n",
       "      <th>I9</th>\n",
       "      <th>I10</th>\n",
       "      <th>...</th>\n",
       "      <th>C18</th>\n",
       "      <th>C19</th>\n",
       "      <th>C20</th>\n",
       "      <th>C21</th>\n",
       "      <th>C22</th>\n",
       "      <th>C23</th>\n",
       "      <th>C24</th>\n",
       "      <th>C25</th>\n",
       "      <th>C26</th>\n",
       "      <th>Label</th>\n",
       "    </tr>\n",
       "  </thead>\n",
       "  <tbody>\n",
       "    <tr>\n",
       "      <th>1308</th>\n",
       "      <td>0.0</td>\n",
       "      <td>0.000381</td>\n",
       "      <td>0.000473</td>\n",
       "      <td>0.000000</td>\n",
       "      <td>0.009449</td>\n",
       "      <td>0.082147</td>\n",
       "      <td>0.004825</td>\n",
       "      <td>0.003656</td>\n",
       "      <td>0.040447</td>\n",
       "      <td>0.0</td>\n",
       "      <td>...</td>\n",
       "      <td>166</td>\n",
       "      <td>116</td>\n",
       "      <td>2</td>\n",
       "      <td>14</td>\n",
       "      <td>0</td>\n",
       "      <td>0</td>\n",
       "      <td>60</td>\n",
       "      <td>27</td>\n",
       "      <td>327</td>\n",
       "      <td>0</td>\n",
       "    </tr>\n",
       "    <tr>\n",
       "      <th>935</th>\n",
       "      <td>0.0</td>\n",
       "      <td>0.000127</td>\n",
       "      <td>0.000000</td>\n",
       "      <td>0.000000</td>\n",
       "      <td>0.075768</td>\n",
       "      <td>0.000000</td>\n",
       "      <td>0.000000</td>\n",
       "      <td>0.000000</td>\n",
       "      <td>0.000710</td>\n",
       "      <td>0.0</td>\n",
       "      <td>...</td>\n",
       "      <td>145</td>\n",
       "      <td>0</td>\n",
       "      <td>0</td>\n",
       "      <td>1166</td>\n",
       "      <td>0</td>\n",
       "      <td>1</td>\n",
       "      <td>469</td>\n",
       "      <td>0</td>\n",
       "      <td>0</td>\n",
       "      <td>0</td>\n",
       "    </tr>\n",
       "    <tr>\n",
       "      <th>1596</th>\n",
       "      <td>0.0</td>\n",
       "      <td>0.000381</td>\n",
       "      <td>0.000236</td>\n",
       "      <td>0.137931</td>\n",
       "      <td>0.004804</td>\n",
       "      <td>0.030185</td>\n",
       "      <td>0.007841</td>\n",
       "      <td>0.062157</td>\n",
       "      <td>0.024126</td>\n",
       "      <td>0.0</td>\n",
       "      <td>...</td>\n",
       "      <td>99</td>\n",
       "      <td>0</td>\n",
       "      <td>0</td>\n",
       "      <td>588</td>\n",
       "      <td>0</td>\n",
       "      <td>11</td>\n",
       "      <td>434</td>\n",
       "      <td>0</td>\n",
       "      <td>0</td>\n",
       "      <td>0</td>\n",
       "    </tr>\n",
       "    <tr>\n",
       "      <th>1143</th>\n",
       "      <td>0.0</td>\n",
       "      <td>0.011696</td>\n",
       "      <td>0.000473</td>\n",
       "      <td>0.034483</td>\n",
       "      <td>0.002180</td>\n",
       "      <td>0.000000</td>\n",
       "      <td>0.000000</td>\n",
       "      <td>0.032907</td>\n",
       "      <td>0.003193</td>\n",
       "      <td>0.0</td>\n",
       "      <td>...</td>\n",
       "      <td>188</td>\n",
       "      <td>34</td>\n",
       "      <td>1</td>\n",
       "      <td>862</td>\n",
       "      <td>0</td>\n",
       "      <td>0</td>\n",
       "      <td>67</td>\n",
       "      <td>27</td>\n",
       "      <td>380</td>\n",
       "      <td>1</td>\n",
       "    </tr>\n",
       "    <tr>\n",
       "      <th>1419</th>\n",
       "      <td>0.0</td>\n",
       "      <td>0.004450</td>\n",
       "      <td>0.001064</td>\n",
       "      <td>0.034483</td>\n",
       "      <td>0.006119</td>\n",
       "      <td>0.039457</td>\n",
       "      <td>0.001206</td>\n",
       "      <td>0.009141</td>\n",
       "      <td>0.000887</td>\n",
       "      <td>0.0</td>\n",
       "      <td>...</td>\n",
       "      <td>348</td>\n",
       "      <td>0</td>\n",
       "      <td>0</td>\n",
       "      <td>296</td>\n",
       "      <td>0</td>\n",
       "      <td>9</td>\n",
       "      <td>23</td>\n",
       "      <td>0</td>\n",
       "      <td>0</td>\n",
       "      <td>0</td>\n",
       "    </tr>\n",
       "  </tbody>\n",
       "</table>\n",
       "<p>5 rows × 40 columns</p>\n",
       "</div>"
      ],
      "text/plain": [
       "       I1        I2        I3        I4        I5        I6        I7  \\\n",
       "1308  0.0  0.000381  0.000473  0.000000  0.009449  0.082147  0.004825   \n",
       "935   0.0  0.000127  0.000000  0.000000  0.075768  0.000000  0.000000   \n",
       "1596  0.0  0.000381  0.000236  0.137931  0.004804  0.030185  0.007841   \n",
       "1143  0.0  0.011696  0.000473  0.034483  0.002180  0.000000  0.000000   \n",
       "1419  0.0  0.004450  0.001064  0.034483  0.006119  0.039457  0.001206   \n",
       "\n",
       "            I8        I9  I10  ...  C18  C19  C20   C21  C22  C23  C24  C25  \\\n",
       "1308  0.003656  0.040447  0.0  ...  166  116    2    14    0    0   60   27   \n",
       "935   0.000000  0.000710  0.0  ...  145    0    0  1166    0    1  469    0   \n",
       "1596  0.062157  0.024126  0.0  ...   99    0    0   588    0   11  434    0   \n",
       "1143  0.032907  0.003193  0.0  ...  188   34    1   862    0    0   67   27   \n",
       "1419  0.009141  0.000887  0.0  ...  348    0    0   296    0    9   23    0   \n",
       "\n",
       "      C26  Label  \n",
       "1308  327      0  \n",
       "935     0      0  \n",
       "1596    0      0  \n",
       "1143  380      1  \n",
       "1419    0      0  \n",
       "\n",
       "[5 rows x 40 columns]"
      ]
     },
     "execution_count": 44,
     "metadata": {},
     "output_type": "execute_result"
    }
   ],
   "source": [
    "train_set.head()"
   ]
  },
  {
   "cell_type": "code",
   "execution_count": 45,
   "metadata": {
    "ExecuteTime": {
     "end_time": "2020-10-17T01:47:23.884008Z",
     "start_time": "2020-10-17T01:47:23.875033Z"
    }
   },
   "outputs": [
    {
     "data": {
      "text/plain": [
       "0    1129\n",
       "1     310\n",
       "Name: Label, dtype: int64"
      ]
     },
     "execution_count": 45,
     "metadata": {},
     "output_type": "execute_result"
    }
   ],
   "source": [
    "train_set['Label'].value_counts()"
   ]
  },
  {
   "cell_type": "code",
   "execution_count": 46,
   "metadata": {
    "ExecuteTime": {
     "end_time": "2020-10-17T01:47:32.755991Z",
     "start_time": "2020-10-17T01:47:32.746018Z"
    }
   },
   "outputs": [
    {
     "data": {
      "text/plain": [
       "0    136\n",
       "1     24\n",
       "Name: Label, dtype: int64"
      ]
     },
     "execution_count": 46,
     "metadata": {},
     "output_type": "execute_result"
    }
   ],
   "source": [
    "val_set['Label'].value_counts()"
   ]
  },
  {
   "cell_type": "code",
   "execution_count": 47,
   "metadata": {},
   "outputs": [],
   "source": [
    "# 这里把特征列汇总一下\n",
    "# def denseFeature(feat):  # feat表示数值型特征"
   ]
  },
  {
   "cell_type": "code",
   "execution_count": 48,
   "metadata": {
    "ExecuteTime": {
     "end_time": "2020-10-06T11:58:24.862297Z",
     "start_time": "2020-10-06T11:58:24.768937Z"
    }
   },
   "outputs": [
    {
     "data": {
      "text/html": [
       "<div>\n",
       "<style scoped>\n",
       "    .dataframe tbody tr th:only-of-type {\n",
       "        vertical-align: middle;\n",
       "    }\n",
       "\n",
       "    .dataframe tbody tr th {\n",
       "        vertical-align: top;\n",
       "    }\n",
       "\n",
       "    .dataframe thead th {\n",
       "        text-align: right;\n",
       "    }\n",
       "</style>\n",
       "<table border=\"1\" class=\"dataframe\">\n",
       "  <thead>\n",
       "    <tr style=\"text-align: right;\">\n",
       "      <th></th>\n",
       "      <th>I1</th>\n",
       "      <th>I2</th>\n",
       "      <th>I3</th>\n",
       "      <th>I4</th>\n",
       "      <th>I5</th>\n",
       "      <th>I6</th>\n",
       "      <th>I7</th>\n",
       "      <th>I8</th>\n",
       "      <th>I9</th>\n",
       "      <th>I10</th>\n",
       "      <th>...</th>\n",
       "      <th>C18</th>\n",
       "      <th>C19</th>\n",
       "      <th>C20</th>\n",
       "      <th>C21</th>\n",
       "      <th>C22</th>\n",
       "      <th>C23</th>\n",
       "      <th>C24</th>\n",
       "      <th>C25</th>\n",
       "      <th>C26</th>\n",
       "      <th>Label</th>\n",
       "    </tr>\n",
       "  </thead>\n",
       "  <tbody>\n",
       "    <tr>\n",
       "      <th>0</th>\n",
       "      <td>0.0</td>\n",
       "      <td>0.000381</td>\n",
       "      <td>0.000473</td>\n",
       "      <td>0.000000</td>\n",
       "      <td>0.009449</td>\n",
       "      <td>0.082147</td>\n",
       "      <td>0.004825</td>\n",
       "      <td>0.003656</td>\n",
       "      <td>0.040447</td>\n",
       "      <td>0.0</td>\n",
       "      <td>...</td>\n",
       "      <td>166</td>\n",
       "      <td>116</td>\n",
       "      <td>2</td>\n",
       "      <td>14</td>\n",
       "      <td>0</td>\n",
       "      <td>0</td>\n",
       "      <td>60</td>\n",
       "      <td>27</td>\n",
       "      <td>327</td>\n",
       "      <td>0</td>\n",
       "    </tr>\n",
       "    <tr>\n",
       "      <th>1</th>\n",
       "      <td>0.0</td>\n",
       "      <td>0.000127</td>\n",
       "      <td>0.000000</td>\n",
       "      <td>0.000000</td>\n",
       "      <td>0.075768</td>\n",
       "      <td>0.000000</td>\n",
       "      <td>0.000000</td>\n",
       "      <td>0.000000</td>\n",
       "      <td>0.000710</td>\n",
       "      <td>0.0</td>\n",
       "      <td>...</td>\n",
       "      <td>145</td>\n",
       "      <td>0</td>\n",
       "      <td>0</td>\n",
       "      <td>1166</td>\n",
       "      <td>0</td>\n",
       "      <td>1</td>\n",
       "      <td>469</td>\n",
       "      <td>0</td>\n",
       "      <td>0</td>\n",
       "      <td>0</td>\n",
       "    </tr>\n",
       "    <tr>\n",
       "      <th>2</th>\n",
       "      <td>0.0</td>\n",
       "      <td>0.000381</td>\n",
       "      <td>0.000236</td>\n",
       "      <td>0.137931</td>\n",
       "      <td>0.004804</td>\n",
       "      <td>0.030185</td>\n",
       "      <td>0.007841</td>\n",
       "      <td>0.062157</td>\n",
       "      <td>0.024126</td>\n",
       "      <td>0.0</td>\n",
       "      <td>...</td>\n",
       "      <td>99</td>\n",
       "      <td>0</td>\n",
       "      <td>0</td>\n",
       "      <td>588</td>\n",
       "      <td>0</td>\n",
       "      <td>11</td>\n",
       "      <td>434</td>\n",
       "      <td>0</td>\n",
       "      <td>0</td>\n",
       "      <td>0</td>\n",
       "    </tr>\n",
       "    <tr>\n",
       "      <th>3</th>\n",
       "      <td>0.0</td>\n",
       "      <td>0.011696</td>\n",
       "      <td>0.000473</td>\n",
       "      <td>0.034483</td>\n",
       "      <td>0.002180</td>\n",
       "      <td>0.000000</td>\n",
       "      <td>0.000000</td>\n",
       "      <td>0.032907</td>\n",
       "      <td>0.003193</td>\n",
       "      <td>0.0</td>\n",
       "      <td>...</td>\n",
       "      <td>188</td>\n",
       "      <td>34</td>\n",
       "      <td>1</td>\n",
       "      <td>862</td>\n",
       "      <td>0</td>\n",
       "      <td>0</td>\n",
       "      <td>67</td>\n",
       "      <td>27</td>\n",
       "      <td>380</td>\n",
       "      <td>1</td>\n",
       "    </tr>\n",
       "    <tr>\n",
       "      <th>4</th>\n",
       "      <td>0.0</td>\n",
       "      <td>0.004450</td>\n",
       "      <td>0.001064</td>\n",
       "      <td>0.034483</td>\n",
       "      <td>0.006119</td>\n",
       "      <td>0.039457</td>\n",
       "      <td>0.001206</td>\n",
       "      <td>0.009141</td>\n",
       "      <td>0.000887</td>\n",
       "      <td>0.0</td>\n",
       "      <td>...</td>\n",
       "      <td>348</td>\n",
       "      <td>0</td>\n",
       "      <td>0</td>\n",
       "      <td>296</td>\n",
       "      <td>0</td>\n",
       "      <td>9</td>\n",
       "      <td>23</td>\n",
       "      <td>0</td>\n",
       "      <td>0</td>\n",
       "      <td>0</td>\n",
       "    </tr>\n",
       "    <tr>\n",
       "      <th>...</th>\n",
       "      <td>...</td>\n",
       "      <td>...</td>\n",
       "      <td>...</td>\n",
       "      <td>...</td>\n",
       "      <td>...</td>\n",
       "      <td>...</td>\n",
       "      <td>...</td>\n",
       "      <td>...</td>\n",
       "      <td>...</td>\n",
       "      <td>...</td>\n",
       "      <td>...</td>\n",
       "      <td>...</td>\n",
       "      <td>...</td>\n",
       "      <td>...</td>\n",
       "      <td>...</td>\n",
       "      <td>...</td>\n",
       "      <td>...</td>\n",
       "      <td>...</td>\n",
       "      <td>...</td>\n",
       "      <td>...</td>\n",
       "      <td>...</td>\n",
       "    </tr>\n",
       "    <tr>\n",
       "      <th>1434</th>\n",
       "      <td>0.0</td>\n",
       "      <td>0.028858</td>\n",
       "      <td>0.000591</td>\n",
       "      <td>0.000000</td>\n",
       "      <td>0.001422</td>\n",
       "      <td>0.006900</td>\n",
       "      <td>0.004222</td>\n",
       "      <td>0.005484</td>\n",
       "      <td>0.002129</td>\n",
       "      <td>0.0</td>\n",
       "      <td>...</td>\n",
       "      <td>43</td>\n",
       "      <td>58</td>\n",
       "      <td>2</td>\n",
       "      <td>969</td>\n",
       "      <td>0</td>\n",
       "      <td>1</td>\n",
       "      <td>175</td>\n",
       "      <td>27</td>\n",
       "      <td>150</td>\n",
       "      <td>0</td>\n",
       "    </tr>\n",
       "    <tr>\n",
       "      <th>1435</th>\n",
       "      <td>0.0</td>\n",
       "      <td>0.000509</td>\n",
       "      <td>0.000828</td>\n",
       "      <td>0.298851</td>\n",
       "      <td>0.005456</td>\n",
       "      <td>0.000000</td>\n",
       "      <td>0.000000</td>\n",
       "      <td>0.021938</td>\n",
       "      <td>0.001064</td>\n",
       "      <td>0.0</td>\n",
       "      <td>...</td>\n",
       "      <td>42</td>\n",
       "      <td>23</td>\n",
       "      <td>3</td>\n",
       "      <td>871</td>\n",
       "      <td>3</td>\n",
       "      <td>0</td>\n",
       "      <td>115</td>\n",
       "      <td>2</td>\n",
       "      <td>138</td>\n",
       "      <td>0</td>\n",
       "    </tr>\n",
       "    <tr>\n",
       "      <th>1436</th>\n",
       "      <td>0.0</td>\n",
       "      <td>0.000381</td>\n",
       "      <td>0.000000</td>\n",
       "      <td>0.000000</td>\n",
       "      <td>0.001604</td>\n",
       "      <td>0.027382</td>\n",
       "      <td>0.004222</td>\n",
       "      <td>0.000000</td>\n",
       "      <td>0.012063</td>\n",
       "      <td>0.0</td>\n",
       "      <td>...</td>\n",
       "      <td>197</td>\n",
       "      <td>0</td>\n",
       "      <td>0</td>\n",
       "      <td>0</td>\n",
       "      <td>0</td>\n",
       "      <td>0</td>\n",
       "      <td>0</td>\n",
       "      <td>0</td>\n",
       "      <td>0</td>\n",
       "      <td>0</td>\n",
       "    </tr>\n",
       "    <tr>\n",
       "      <th>1437</th>\n",
       "      <td>0.0</td>\n",
       "      <td>0.000127</td>\n",
       "      <td>0.000000</td>\n",
       "      <td>0.000000</td>\n",
       "      <td>0.039133</td>\n",
       "      <td>0.000000</td>\n",
       "      <td>0.000000</td>\n",
       "      <td>0.036563</td>\n",
       "      <td>0.000000</td>\n",
       "      <td>0.0</td>\n",
       "      <td>...</td>\n",
       "      <td>88</td>\n",
       "      <td>0</td>\n",
       "      <td>0</td>\n",
       "      <td>576</td>\n",
       "      <td>3</td>\n",
       "      <td>0</td>\n",
       "      <td>547</td>\n",
       "      <td>0</td>\n",
       "      <td>0</td>\n",
       "      <td>0</td>\n",
       "    </tr>\n",
       "    <tr>\n",
       "      <th>1438</th>\n",
       "      <td>0.0</td>\n",
       "      <td>0.000254</td>\n",
       "      <td>0.002247</td>\n",
       "      <td>0.183908</td>\n",
       "      <td>0.001406</td>\n",
       "      <td>0.071583</td>\n",
       "      <td>0.000000</td>\n",
       "      <td>0.032907</td>\n",
       "      <td>0.003371</td>\n",
       "      <td>0.0</td>\n",
       "      <td>...</td>\n",
       "      <td>102</td>\n",
       "      <td>155</td>\n",
       "      <td>2</td>\n",
       "      <td>569</td>\n",
       "      <td>0</td>\n",
       "      <td>0</td>\n",
       "      <td>459</td>\n",
       "      <td>2</td>\n",
       "      <td>17</td>\n",
       "      <td>0</td>\n",
       "    </tr>\n",
       "  </tbody>\n",
       "</table>\n",
       "<p>1439 rows × 40 columns</p>\n",
       "</div>"
      ],
      "text/plain": [
       "       I1        I2        I3        I4        I5        I6        I7  \\\n",
       "0     0.0  0.000381  0.000473  0.000000  0.009449  0.082147  0.004825   \n",
       "1     0.0  0.000127  0.000000  0.000000  0.075768  0.000000  0.000000   \n",
       "2     0.0  0.000381  0.000236  0.137931  0.004804  0.030185  0.007841   \n",
       "3     0.0  0.011696  0.000473  0.034483  0.002180  0.000000  0.000000   \n",
       "4     0.0  0.004450  0.001064  0.034483  0.006119  0.039457  0.001206   \n",
       "...   ...       ...       ...       ...       ...       ...       ...   \n",
       "1434  0.0  0.028858  0.000591  0.000000  0.001422  0.006900  0.004222   \n",
       "1435  0.0  0.000509  0.000828  0.298851  0.005456  0.000000  0.000000   \n",
       "1436  0.0  0.000381  0.000000  0.000000  0.001604  0.027382  0.004222   \n",
       "1437  0.0  0.000127  0.000000  0.000000  0.039133  0.000000  0.000000   \n",
       "1438  0.0  0.000254  0.002247  0.183908  0.001406  0.071583  0.000000   \n",
       "\n",
       "            I8        I9  I10  ...  C18  C19  C20   C21  C22  C23  C24  C25  \\\n",
       "0     0.003656  0.040447  0.0  ...  166  116    2    14    0    0   60   27   \n",
       "1     0.000000  0.000710  0.0  ...  145    0    0  1166    0    1  469    0   \n",
       "2     0.062157  0.024126  0.0  ...   99    0    0   588    0   11  434    0   \n",
       "3     0.032907  0.003193  0.0  ...  188   34    1   862    0    0   67   27   \n",
       "4     0.009141  0.000887  0.0  ...  348    0    0   296    0    9   23    0   \n",
       "...        ...       ...  ...  ...  ...  ...  ...   ...  ...  ...  ...  ...   \n",
       "1434  0.005484  0.002129  0.0  ...   43   58    2   969    0    1  175   27   \n",
       "1435  0.021938  0.001064  0.0  ...   42   23    3   871    3    0  115    2   \n",
       "1436  0.000000  0.012063  0.0  ...  197    0    0     0    0    0    0    0   \n",
       "1437  0.036563  0.000000  0.0  ...   88    0    0   576    3    0  547    0   \n",
       "1438  0.032907  0.003371  0.0  ...  102  155    2   569    0    0  459    2   \n",
       "\n",
       "      C26  Label  \n",
       "0     327      0  \n",
       "1       0      0  \n",
       "2       0      0  \n",
       "3     380      1  \n",
       "4       0      0  \n",
       "...   ...    ...  \n",
       "1434  150      0  \n",
       "1435  138      0  \n",
       "1436    0      0  \n",
       "1437    0      0  \n",
       "1438   17      0  \n",
       "\n",
       "[1439 rows x 40 columns]"
      ]
     },
     "execution_count": 48,
     "metadata": {},
     "output_type": "execute_result"
    }
   ],
   "source": [
    "# 保存文件\n",
    "train_set.reset_index(drop=True, inplace=True)\n",
    "val_set.reset_index(drop=True, inplace=True)\n",
    "\n",
    "train_set"
   ]
  },
  {
   "cell_type": "code",
   "execution_count": 49,
   "metadata": {},
   "outputs": [],
   "source": [
    "train_set.to_csv('preprocessed_data/train_set.csv', index=0)\n",
    "val_set.to_csv('preprocessed_data/val_set.csv', index=0)\n",
    "test.to_csv('preprocessed_data/test.csv', index=0)"
   ]
  },
  {
   "cell_type": "code",
   "execution_count": null,
   "metadata": {},
   "outputs": [],
   "source": []
  }
 ],
 "metadata": {
  "kernelspec": {
   "display_name": "Python 3 (ipykernel)",
   "language": "python",
   "name": "python3"
  },
  "language_info": {
   "codemirror_mode": {
    "name": "ipython",
    "version": 3
   },
   "file_extension": ".py",
   "mimetype": "text/x-python",
   "name": "python",
   "nbconvert_exporter": "python",
   "pygments_lexer": "ipython3",
   "version": "3.8.8"
  },
  "toc": {
   "base_numbering": 1,
   "nav_menu": {},
   "number_sections": true,
   "sideBar": true,
   "skip_h1_title": false,
   "title_cell": "Table of Contents",
   "title_sidebar": "Contents",
   "toc_cell": false,
   "toc_position": {},
   "toc_section_display": true,
   "toc_window_display": false
  },
  "varInspector": {
   "cols": {
    "lenName": 16,
    "lenType": 16,
    "lenVar": 40
   },
   "kernels_config": {
    "python": {
     "delete_cmd_postfix": "",
     "delete_cmd_prefix": "del ",
     "library": "var_list.py",
     "varRefreshCmd": "print(var_dic_list())"
    },
    "r": {
     "delete_cmd_postfix": ") ",
     "delete_cmd_prefix": "rm(",
     "library": "var_list.r",
     "varRefreshCmd": "cat(var_dic_list()) "
    }
   },
   "types_to_exclude": [
    "module",
    "function",
    "builtin_function_or_method",
    "instance",
    "_Feature"
   ],
   "window_display": false
  }
 },
 "nbformat": 4,
 "nbformat_minor": 2
}
