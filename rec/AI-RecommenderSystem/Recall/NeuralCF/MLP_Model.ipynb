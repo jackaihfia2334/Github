{
 "cells": [
  {
   "cell_type": "markdown",
   "metadata": {},
   "source": [
    "## Description:\n",
    "这个Jupyter用Pytorch实现MLP模型， 完成该模型的预训练过程。"
   ]
  },
  {
   "cell_type": "markdown",
   "metadata": {},
   "source": [
    "## 导入包"
   ]
  },
  {
   "cell_type": "code",
   "execution_count": 1,
   "metadata": {
    "ExecuteTime": {
     "end_time": "2020-10-21T03:26:45.179803Z",
     "start_time": "2020-10-21T03:26:43.853484Z"
    }
   },
   "outputs": [],
   "source": [
    "import datetime\n",
    "import numpy as np\n",
    "import pandas as pd\n",
    "from collections import Counter\n",
    "import heapq\n",
    "\n",
    "import torch\n",
    "from torch.utils.data import DataLoader, Dataset, TensorDataset\n",
    "\n",
    "import torch.nn as nn\n",
    "import torch.nn.functional as F\n",
    "import torch.optim as optim\n",
    "\n",
    "from torchkeras import summary, Model\n",
    "\n",
    "import warnings\n",
    "warnings.filterwarnings('ignore')\n",
    "\n",
    "device = torch.device(\"cuda:0\" if torch.cuda.is_available() else \"cpu\")"
   ]
  },
  {
   "cell_type": "code",
   "execution_count": 2,
   "metadata": {
    "ExecuteTime": {
     "end_time": "2020-10-21T03:26:47.141184Z",
     "start_time": "2020-10-21T03:26:47.132209Z"
    }
   },
   "outputs": [],
   "source": [
    "# 一些超参数设置\n",
    "topK = 10\n",
    "num_factors = 8\n",
    "num_negatives = 4\n",
    "batch_size = 64\n",
    "lr = 0.001"
   ]
  },
  {
   "cell_type": "markdown",
   "metadata": {},
   "source": [
    "## 导入数据"
   ]
  },
  {
   "cell_type": "code",
   "execution_count": 3,
   "metadata": {
    "ExecuteTime": {
     "end_time": "2020-10-21T03:26:50.227149Z",
     "start_time": "2020-10-21T03:26:48.037457Z"
    }
   },
   "outputs": [],
   "source": [
    "# 数据在processed Data里面\n",
    "train = np.load('ProcessedData/train.npy', allow_pickle=True).tolist()\n",
    "testRatings = np.load('ProcessedData/testRatings.npy').tolist()\n",
    "testNegatives = np.load('ProcessedData/testNegatives.npy').tolist()"
   ]
  },
  {
   "cell_type": "code",
   "execution_count": 4,
   "metadata": {
    "ExecuteTime": {
     "end_time": "2020-10-21T03:26:52.782214Z",
     "start_time": "2020-10-21T03:26:52.777228Z"
    }
   },
   "outputs": [],
   "source": [
    "num_users, num_items = train.shape"
   ]
  },
  {
   "cell_type": "code",
   "execution_count": 5,
   "metadata": {
    "ExecuteTime": {
     "end_time": "2020-10-21T03:26:53.846946Z",
     "start_time": "2020-10-21T03:26:53.825006Z"
    }
   },
   "outputs": [],
   "source": [
    "# 制作数据   用户打过分的为正样本， 用户没打分的为负样本， 负样本这里采用的采样的方式\n",
    "def get_train_instances(train, num_negatives):\n",
    "    user_input, item_input, labels = [], [], []\n",
    "    num_items = train.shape[1]\n",
    "    for (u, i) in train.keys():  # train.keys()是打分的用户和商品       \n",
    "        # positive instance\n",
    "        user_input.append(u)\n",
    "        item_input.append(i)\n",
    "        labels.append(1)\n",
    "        \n",
    "        # negative instance\n",
    "        for t in range(num_negatives):\n",
    "            j = np.random.randint(num_items)\n",
    "            while (u, j) in train:\n",
    "                j = np.random.randint(num_items)\n",
    "            #print(u, j)\n",
    "            user_input.append(u)\n",
    "            item_input.append(j)\n",
    "            labels.append(0)\n",
    "    return user_input, item_input, labels"
   ]
  },
  {
   "cell_type": "code",
   "execution_count": 6,
   "metadata": {
    "ExecuteTime": {
     "end_time": "2020-10-21T03:27:08.092683Z",
     "start_time": "2020-10-21T03:26:56.273681Z"
    }
   },
   "outputs": [],
   "source": [
    "user_input, item_input, labels = get_train_instances(train, num_negatives)"
   ]
  },
  {
   "cell_type": "code",
   "execution_count": 7,
   "metadata": {
    "ExecuteTime": {
     "end_time": "2020-10-21T03:27:13.367237Z",
     "start_time": "2020-10-21T03:27:12.254192Z"
    }
   },
   "outputs": [],
   "source": [
    "train_x = np.vstack([user_input, item_input]).T\n",
    "labels = np.array(labels)"
   ]
  },
  {
   "cell_type": "code",
   "execution_count": 8,
   "metadata": {
    "ExecuteTime": {
     "end_time": "2020-10-21T03:27:16.670436Z",
     "start_time": "2020-10-21T03:27:16.595636Z"
    }
   },
   "outputs": [],
   "source": [
    "# 构建成Dataset和DataLoader\n",
    "train_dataset = TensorDataset(torch.tensor(train_x), torch.tensor(labels).float())\n",
    "dl_train = DataLoader(train_dataset, batch_size=batch_size, shuffle=True)"
   ]
  },
  {
   "cell_type": "code",
   "execution_count": 10,
   "metadata": {
    "ExecuteTime": {
     "end_time": "2020-10-21T03:02:04.699632Z",
     "start_time": "2020-10-21T03:02:04.188999Z"
    },
    "collapsed": true
   },
   "outputs": [
    {
     "name": "stdout",
     "output_type": "stream",
     "text": [
      "tensor([[4097, 2904],\n",
      "        [3362,  231],\n",
      "        [ 972, 2974],\n",
      "        [5629,  918],\n",
      "        [4984, 2451],\n",
      "        [2245,   68],\n",
      "        [1998, 1158],\n",
      "        [ 523, 1822],\n",
      "        [2152,  608],\n",
      "        [4288, 2336],\n",
      "        [ 968, 1361],\n",
      "        [ 172,  450],\n",
      "        [ 330,  260],\n",
      "        [1497, 1979],\n",
      "        [1898, 1196],\n",
      "        [5112, 1572],\n",
      "        [4591, 1127],\n",
      "        [ 942,  322],\n",
      "        [ 654,  739],\n",
      "        [1674, 2969],\n",
      "        [3575, 3674],\n",
      "        [1657, 1120],\n",
      "        [3128, 1763],\n",
      "        [3474, 2556],\n",
      "        [4541,  892],\n",
      "        [1169, 1202],\n",
      "        [2327,  759],\n",
      "        [3791, 3007],\n",
      "        [1403,  247],\n",
      "        [5762, 2460],\n",
      "        [ 240, 2783],\n",
      "        [ 147, 1729],\n",
      "        [4727,  999],\n",
      "        [5888, 1528],\n",
      "        [4573,  289],\n",
      "        [4542, 3240],\n",
      "        [1193,  889],\n",
      "        [ 570,  529],\n",
      "        [5781,  273],\n",
      "        [ 509, 2861],\n",
      "        [3194, 2440],\n",
      "        [5557, 1594],\n",
      "        [5025,  390],\n",
      "        [3532,  243],\n",
      "        [ 527, 3540],\n",
      "        [  91,   53],\n",
      "        [  25,   73],\n",
      "        [5081,  174],\n",
      "        [ 811,  223],\n",
      "        [3768, 2367],\n",
      "        [3474, 1765],\n",
      "        [6039, 1058],\n",
      "        [2495, 1145],\n",
      "        [4746, 3556],\n",
      "        [5620,  472],\n",
      "        [ 930,  536],\n",
      "        [4681, 1781],\n",
      "        [4309,  292],\n",
      "        [ 145, 2234],\n",
      "        [2179,  670],\n",
      "        [1732, 3381],\n",
      "        [5442,  972],\n",
      "        [1482, 3593],\n",
      "        [3690, 3600]], dtype=torch.int32) tensor([0., 0., 0., 1., 0., 1., 1., 0., 1., 0., 0., 0., 0., 0., 0., 0., 0., 0.,\n",
      "        1., 0., 0., 1., 0., 0., 0., 0., 1., 0., 0., 0., 0., 0., 0., 0., 0., 0.,\n",
      "        0., 1., 1., 0., 0., 1., 1., 1., 0., 0., 0., 1., 0., 0., 0., 0., 0., 0.,\n",
      "        0., 0., 0., 1., 0., 1., 0., 0., 0., 0.])\n"
     ]
    }
   ],
   "source": [
    "# 测试一下\n",
    "for (x, y) in iter(dl_train):\n",
    "    print(x, y)\n",
    "    break"
   ]
  },
  {
   "cell_type": "markdown",
   "metadata": {},
   "source": [
    "## MLP模型\n",
    "这里建立mlp模型， 这个模型的输入就是用户和物品的ID， 然后通过Embedding层得到它的向量， 然后两个向量合并经过多个全连接层得到最后的输出.<br>\n",
    "\n",
    "![](img/2.png)"
   ]
  },
  {
   "cell_type": "code",
   "execution_count": 17,
   "metadata": {
    "ExecuteTime": {
     "end_time": "2020-10-21T03:32:44.042552Z",
     "start_time": "2020-10-21T03:32:44.014626Z"
    }
   },
   "outputs": [],
   "source": [
    "class MLP(nn.Module):\n",
    "    \n",
    "    def __init__(self, num_users, num_items, layers=[20, 64, 32, 16], regs=[0, 0]):\n",
    "        super(MLP, self).__init__()\n",
    "        self.MF_Embedding_User = nn.Embedding(num_embeddings=num_users, embedding_dim=layers[0]//2)\n",
    "        self.MF_Embedding_Item = nn.Embedding(num_embeddings=num_items, embedding_dim=layers[0]//2)\n",
    "        \n",
    "        # 全连接网络\n",
    "        self.dnn_network = nn.ModuleList([nn.Linear(layer[0], layer[1]) for layer in list(zip(layers[:-1], layers[1:]))])\n",
    "        self.linear = nn.Linear(layers[-1], 1)\n",
    "        self.sigmoid = nn.Sigmoid()\n",
    "    \n",
    "    def forward(self, inputs):\n",
    "        # 这个inputs是一个批次的数据， 所以后面的操作切记写成inputs[0], [1]这种， 这是针对某个样本了， 我们都是对列进行的操作\n",
    "        # 先把输入转成long类型\n",
    "        inputs = inputs.long()\n",
    "        \n",
    "        # MF的前向传播  用户和物品的embedding\n",
    "        MF_Embedding_User = self.MF_Embedding_User(inputs[:, 0])  # 这里踩了个坑， 千万不要写成[0]， 我们这里是第一列\n",
    "        MF_Embedding_Item = self.MF_Embedding_Item(inputs[:, 1])\n",
    "        \n",
    "        \n",
    "        # 两个隐向量堆叠起来\n",
    "        x = torch.cat([MF_Embedding_User, MF_Embedding_Item], dim=-1)\n",
    "        \n",
    "        # l全连接网络\n",
    "        for linear in self.dnn_network:\n",
    "            x = linear(x)\n",
    "            x = F.relu(x)\n",
    "        \n",
    "        x = self.linear(x)\n",
    "        output = self.sigmoid(x)\n",
    "        \n",
    "        return output"
   ]
  },
  {
   "cell_type": "code",
   "execution_count": 19,
   "metadata": {
    "ExecuteTime": {
     "end_time": "2020-10-21T03:32:58.473890Z",
     "start_time": "2020-10-21T03:32:58.454944Z"
    }
   },
   "outputs": [
    {
     "name": "stdout",
     "output_type": "stream",
     "text": [
      "----------------------------------------------------------------\n",
      "        Layer (type)               Output Shape         Param #\n",
      "================================================================\n",
      "         Embedding-1                   [-1, 10]              10\n",
      "         Embedding-2                   [-1, 10]              10\n",
      "            Linear-3                   [-1, 64]           1,344\n",
      "            Linear-4                   [-1, 32]           2,080\n",
      "            Linear-5                   [-1, 16]             528\n",
      "            Linear-6                    [-1, 8]             136\n",
      "            Linear-7                    [-1, 1]               9\n",
      "           Sigmoid-8                    [-1, 1]               0\n",
      "================================================================\n",
      "Total params: 4,117\n",
      "Trainable params: 4,117\n",
      "Non-trainable params: 0\n",
      "----------------------------------------------------------------\n",
      "Input size (MB): 0.000008\n",
      "Forward/backward pass size (MB): 0.001083\n",
      "Params size (MB): 0.015705\n",
      "Estimated Total Size (MB): 0.016796\n",
      "----------------------------------------------------------------\n"
     ]
    }
   ],
   "source": [
    "# 看一下这个网络\n",
    "model = MLP(1, 1, [20, 64, 32, 16, 8])    # 全连接网络可以随意扩展\n",
    "summary(model, input_shape=(2,))"
   ]
  },
  {
   "cell_type": "markdown",
   "metadata": {},
   "source": [
    "## 建立模型 "
   ]
  },
  {
   "cell_type": "code",
   "execution_count": 20,
   "metadata": {
    "ExecuteTime": {
     "end_time": "2020-10-21T03:34:04.434376Z",
     "start_time": "2020-10-21T03:34:01.724645Z"
    }
   },
   "outputs": [
    {
     "data": {
      "text/plain": [
       "MLP(\n",
       "  (MF_Embedding_User): Embedding(6040, 8)\n",
       "  (MF_Embedding_Item): Embedding(3706, 8)\n",
       "  (dnn_network): ModuleList(\n",
       "    (0): Linear(in_features=16, out_features=64, bias=True)\n",
       "    (1): Linear(in_features=64, out_features=32, bias=True)\n",
       "    (2): Linear(in_features=32, out_features=16, bias=True)\n",
       "    (3): Linear(in_features=16, out_features=8, bias=True)\n",
       "  )\n",
       "  (linear): Linear(in_features=8, out_features=1, bias=True)\n",
       "  (sigmoid): Sigmoid()\n",
       ")"
      ]
     },
     "execution_count": 20,
     "metadata": {},
     "output_type": "execute_result"
    }
   ],
   "source": [
    "## 设置\n",
    "layers = [num_factors*2, 64, 32, 16, 8]\n",
    "model = MLP(num_users, num_items, layers)\n",
    "model.to(device)"
   ]
  },
  {
   "cell_type": "code",
   "execution_count": 21,
   "metadata": {
    "ExecuteTime": {
     "end_time": "2020-10-21T03:34:10.059933Z",
     "start_time": "2020-10-21T03:34:08.544142Z"
    },
    "collapsed": true
   },
   "outputs": [
    {
     "name": "stdout",
     "output_type": "stream",
     "text": [
      "tensor([[0.4850],\n",
      "        [0.4859],\n",
      "        [0.4838],\n",
      "        [0.4842],\n",
      "        [0.4864],\n",
      "        [0.4841],\n",
      "        [0.4856],\n",
      "        [0.4870],\n",
      "        [0.4843],\n",
      "        [0.4842],\n",
      "        [0.4875],\n",
      "        [0.4821],\n",
      "        [0.4928],\n",
      "        [0.4852],\n",
      "        [0.4862],\n",
      "        [0.4863],\n",
      "        [0.4861],\n",
      "        [0.4869],\n",
      "        [0.4852],\n",
      "        [0.4857],\n",
      "        [0.4834],\n",
      "        [0.4793],\n",
      "        [0.4837],\n",
      "        [0.4877],\n",
      "        [0.4834],\n",
      "        [0.4833],\n",
      "        [0.4860],\n",
      "        [0.4835],\n",
      "        [0.4826],\n",
      "        [0.4815],\n",
      "        [0.4893],\n",
      "        [0.4864],\n",
      "        [0.4847],\n",
      "        [0.4824],\n",
      "        [0.4826],\n",
      "        [0.4843],\n",
      "        [0.4802],\n",
      "        [0.4803],\n",
      "        [0.4897],\n",
      "        [0.4846],\n",
      "        [0.4851],\n",
      "        [0.4822],\n",
      "        [0.4858],\n",
      "        [0.4821],\n",
      "        [0.4895],\n",
      "        [0.4833],\n",
      "        [0.4818],\n",
      "        [0.4812],\n",
      "        [0.4881],\n",
      "        [0.4884],\n",
      "        [0.4793],\n",
      "        [0.4847],\n",
      "        [0.4868],\n",
      "        [0.4864],\n",
      "        [0.4899],\n",
      "        [0.4843],\n",
      "        [0.4825],\n",
      "        [0.4882],\n",
      "        [0.4808],\n",
      "        [0.4823],\n",
      "        [0.4817],\n",
      "        [0.4809],\n",
      "        [0.4818],\n",
      "        [0.4875]], device='cuda:0', grad_fn=<SigmoidBackward>)\n"
     ]
    }
   ],
   "source": [
    "# 简单测试一下模型\n",
    "for (x, y) in iter(dl_train):\n",
    "    x = x.cuda()\n",
    "    print(model(x))\n",
    "    break"
   ]
  },
  {
   "cell_type": "markdown",
   "metadata": {},
   "source": [
    "## 模型的训练与评估"
   ]
  },
  {
   "cell_type": "markdown",
   "metadata": {},
   "source": [
    "### 模型评估函数"
   ]
  },
  {
   "cell_type": "code",
   "execution_count": 22,
   "metadata": {
    "ExecuteTime": {
     "end_time": "2020-10-21T03:34:22.013175Z",
     "start_time": "2020-10-21T03:34:21.989241Z"
    }
   },
   "outputs": [],
   "source": [
    "# Global variables that are shared across processes\n",
    "_model = None\n",
    "_testRatings = None\n",
    "_testNegatives = None\n",
    "_K = None\n",
    "\n",
    "# HitRation\n",
    "def getHitRatio(ranklist, gtItem):\n",
    "    for item in ranklist:\n",
    "        if item == gtItem:\n",
    "            return 1\n",
    "    return 0\n",
    "\n",
    "# NDCG\n",
    "def getNDCG(ranklist, gtItem):\n",
    "    for i in range(len(ranklist)):\n",
    "        item = ranklist[i]\n",
    "        if item == gtItem:\n",
    "            return np.log(2) / np.log(i+2)\n",
    "    return 0\n",
    "\n",
    "def eval_one_rating(idx):   # 一次评分预测\n",
    "    rating = _testRatings[idx]\n",
    "    items = _testNegatives[idx]\n",
    "    u = rating[0]\n",
    "    gtItem = rating[1]\n",
    "    items.append(gtItem)\n",
    "    \n",
    "    # Get prediction scores\n",
    "    map_item_score = {}\n",
    "    users = np.full(len(items), u, dtype='int32')\n",
    "    \n",
    "    test_data = torch.tensor(np.vstack([users, np.array(items)]).T).to(device)\n",
    "    predictions = _model(test_data)\n",
    "    for i in range(len(items)):\n",
    "        item = items[i]\n",
    "        map_item_score[item] = predictions[i].data.cpu().numpy()[0]\n",
    "    items.pop()\n",
    "    \n",
    "    # Evaluate top rank list\n",
    "    ranklist = heapq.nlargest(_K, map_item_score, key=lambda k: map_item_score[k])  # heapq是堆排序算法， 取前K个\n",
    "    hr = getHitRatio(ranklist, gtItem)\n",
    "    ndcg = getNDCG(ranklist, gtItem)\n",
    "    return hr, ndcg\n",
    "\n",
    "def evaluate_model(model, testRatings, testNegatives, K):\n",
    "    \"\"\"\n",
    "    Evaluate the performance (Hit_Ratio, NDCG) of top-K recommendation\n",
    "    Return: score of each test rating.\n",
    "    \"\"\"\n",
    "    global _model\n",
    "    global _testRatings\n",
    "    global _testNegatives\n",
    "    global _K\n",
    "    \n",
    "    _model = model\n",
    "    _testNegatives = testNegatives\n",
    "    _testRatings = testRatings\n",
    "    _K = K\n",
    "    \n",
    "    hits, ndcgs = [], []\n",
    "    for idx in range(len(_testRatings)):\n",
    "        (hr, ndcg) = eval_one_rating(idx)\n",
    "        hits.append(hr)\n",
    "        ndcgs.append(ndcg)\n",
    "    return hits, ndcgs   "
   ]
  },
  {
   "cell_type": "markdown",
   "metadata": {
    "ExecuteTime": {
     "end_time": "2020-10-21T00:49:17.101447Z",
     "start_time": "2020-10-21T00:49:17.083494Z"
    }
   },
   "source": [
    "### 模型的训练"
   ]
  },
  {
   "cell_type": "code",
   "execution_count": 23,
   "metadata": {
    "ExecuteTime": {
     "end_time": "2020-10-21T03:34:25.485850Z",
     "start_time": "2020-10-21T03:34:25.479865Z"
    }
   },
   "outputs": [],
   "source": [
    "# 训练参数设置\n",
    "loss_func = nn.BCELoss()\n",
    "optimizer = torch.optim.Adam(params=model.parameters(), lr=lr)"
   ]
  },
  {
   "cell_type": "code",
   "execution_count": 24,
   "metadata": {
    "ExecuteTime": {
     "end_time": "2020-10-21T03:36:09.777804Z",
     "start_time": "2020-10-21T03:34:33.970741Z"
    }
   },
   "outputs": [],
   "source": [
    "# 计算出初始的评估\n",
    "(hits, ndcgs) = evaluate_model(model, testRatings, testNegatives, topK)"
   ]
  },
  {
   "cell_type": "code",
   "execution_count": 25,
   "metadata": {
    "ExecuteTime": {
     "end_time": "2020-10-21T03:36:12.902441Z",
     "start_time": "2020-10-21T03:36:12.890472Z"
    }
   },
   "outputs": [
    {
     "name": "stdout",
     "output_type": "stream",
     "text": [
      "Init: HR=0.0959, NDCG=0.0443\n"
     ]
    }
   ],
   "source": [
    "hr, ndcg = np.array(hits).mean(), np.array(ndcgs).mean()\n",
    "print('Init: HR=%.4f, NDCG=%.4f' %(hr, ndcg))"
   ]
  },
  {
   "cell_type": "code",
   "execution_count": 26,
   "metadata": {
    "ExecuteTime": {
     "end_time": "2020-10-21T08:19:33.798651Z",
     "start_time": "2020-10-21T03:48:42.530765Z"
    },
    "scrolled": false
   },
   "outputs": [
    {
     "name": "stdout",
     "output_type": "stream",
     "text": [
      "[step = 10000] loss: 0.416\n",
      "[step = 20000] loss: 0.391\n",
      "[step = 30000] loss: 0.382\n",
      "[step = 40000] loss: 0.376\n",
      "[step = 50000] loss: 0.373\n",
      "[step = 60000] loss: 0.370\n",
      "[step = 70000] loss: 0.369\n",
      "\n",
      "EPOCH = 0, loss = 0.368, hr = 0.447, ndcg = 0.248\n",
      "[step = 10000] loss: 0.355\n",
      "[step = 20000] loss: 0.354\n",
      "[step = 30000] loss: 0.355\n",
      "[step = 40000] loss: 0.355\n",
      "[step = 50000] loss: 0.355\n",
      "[step = 60000] loss: 0.354\n",
      "[step = 70000] loss: 0.354\n",
      "\n",
      "EPOCH = 1, loss = 0.354, hr = 0.452, ndcg = 0.251\n",
      "[step = 10000] loss: 0.352\n",
      "[step = 20000] loss: 0.351\n",
      "[step = 30000] loss: 0.351\n",
      "[step = 40000] loss: 0.351\n",
      "[step = 50000] loss: 0.351\n",
      "[step = 60000] loss: 0.350\n",
      "[step = 70000] loss: 0.350\n",
      "\n",
      "EPOCH = 2, loss = 0.350, hr = 0.465, ndcg = 0.258\n",
      "[step = 10000] loss: 0.342\n",
      "[step = 20000] loss: 0.341\n",
      "[step = 30000] loss: 0.341\n",
      "[step = 40000] loss: 0.340\n",
      "[step = 50000] loss: 0.339\n",
      "[step = 60000] loss: 0.338\n",
      "[step = 70000] loss: 0.337\n",
      "\n",
      "EPOCH = 3, loss = 0.337, hr = 0.479, ndcg = 0.268\n",
      "[step = 10000] loss: 0.329\n",
      "[step = 20000] loss: 0.329\n",
      "[step = 30000] loss: 0.329\n",
      "[step = 40000] loss: 0.329\n",
      "[step = 50000] loss: 0.328\n",
      "[step = 60000] loss: 0.328\n",
      "[step = 70000] loss: 0.328\n",
      "\n",
      "EPOCH = 4, loss = 0.328, hr = 0.492, ndcg = 0.276\n",
      "[step = 10000] loss: 0.323\n",
      "[step = 20000] loss: 0.322\n",
      "[step = 30000] loss: 0.322\n",
      "[step = 40000] loss: 0.323\n",
      "[step = 50000] loss: 0.322\n",
      "[step = 60000] loss: 0.322\n",
      "[step = 70000] loss: 0.322\n",
      "\n",
      "EPOCH = 5, loss = 0.322, hr = 0.503, ndcg = 0.281\n",
      "[step = 10000] loss: 0.318\n",
      "[step = 20000] loss: 0.317\n",
      "[step = 30000] loss: 0.317\n",
      "[step = 40000] loss: 0.317\n",
      "[step = 50000] loss: 0.317\n",
      "[step = 60000] loss: 0.317\n",
      "[step = 70000] loss: 0.317\n",
      "\n",
      "EPOCH = 6, loss = 0.317, hr = 0.522, ndcg = 0.291\n",
      "[step = 10000] loss: 0.312\n",
      "[step = 20000] loss: 0.311\n",
      "[step = 30000] loss: 0.312\n",
      "[step = 40000] loss: 0.312\n",
      "[step = 50000] loss: 0.312\n",
      "[step = 60000] loss: 0.312\n",
      "[step = 70000] loss: 0.312\n",
      "\n",
      "EPOCH = 7, loss = 0.312, hr = 0.533, ndcg = 0.299\n",
      "[step = 10000] loss: 0.307\n",
      "[step = 20000] loss: 0.307\n",
      "[step = 30000] loss: 0.308\n",
      "[step = 40000] loss: 0.308\n",
      "[step = 50000] loss: 0.308\n",
      "[step = 60000] loss: 0.308\n",
      "[step = 70000] loss: 0.308\n",
      "\n",
      "EPOCH = 8, loss = 0.308, hr = 0.545, ndcg = 0.304\n",
      "[step = 10000] loss: 0.304\n",
      "[step = 20000] loss: 0.304\n",
      "[step = 30000] loss: 0.304\n",
      "[step = 40000] loss: 0.304\n",
      "[step = 50000] loss: 0.304\n",
      "[step = 60000] loss: 0.304\n",
      "[step = 70000] loss: 0.304\n",
      "\n",
      "EPOCH = 9, loss = 0.304, hr = 0.546, ndcg = 0.309\n",
      "[step = 10000] loss: 0.300\n",
      "[step = 20000] loss: 0.301\n",
      "[step = 30000] loss: 0.301\n",
      "[step = 40000] loss: 0.301\n",
      "[step = 50000] loss: 0.302\n",
      "[step = 60000] loss: 0.302\n",
      "[step = 70000] loss: 0.302\n",
      "\n",
      "EPOCH = 10, loss = 0.302, hr = 0.554, ndcg = 0.311\n",
      "[step = 10000] loss: 0.300\n",
      "[step = 20000] loss: 0.299\n",
      "[step = 30000] loss: 0.300\n",
      "[step = 40000] loss: 0.300\n",
      "[step = 50000] loss: 0.300\n",
      "[step = 60000] loss: 0.300\n",
      "[step = 70000] loss: 0.300\n",
      "\n",
      "EPOCH = 11, loss = 0.300, hr = 0.554, ndcg = 0.313\n",
      "[step = 10000] loss: 0.298\n",
      "[step = 20000] loss: 0.299\n",
      "[step = 30000] loss: 0.298\n",
      "[step = 40000] loss: 0.298\n",
      "[step = 50000] loss: 0.298\n",
      "[step = 60000] loss: 0.298\n",
      "[step = 70000] loss: 0.298\n",
      "\n",
      "EPOCH = 12, loss = 0.298, hr = 0.559, ndcg = 0.314\n",
      "[step = 10000] loss: 0.296\n",
      "[step = 20000] loss: 0.296\n",
      "[step = 30000] loss: 0.296\n",
      "[step = 40000] loss: 0.296\n",
      "[step = 50000] loss: 0.296\n",
      "[step = 60000] loss: 0.297\n",
      "[step = 70000] loss: 0.297\n",
      "\n",
      "EPOCH = 13, loss = 0.297, hr = 0.558, ndcg = 0.315\n",
      "[step = 10000] loss: 0.293\n",
      "[step = 20000] loss: 0.294\n",
      "[step = 30000] loss: 0.295\n",
      "[step = 40000] loss: 0.295\n",
      "[step = 50000] loss: 0.295\n",
      "[step = 60000] loss: 0.295\n",
      "[step = 70000] loss: 0.295\n",
      "\n",
      "EPOCH = 14, loss = 0.295, hr = 0.560, ndcg = 0.319\n",
      "[step = 10000] loss: 0.294\n",
      "[step = 20000] loss: 0.294\n",
      "[step = 30000] loss: 0.294\n",
      "[step = 40000] loss: 0.294\n",
      "[step = 50000] loss: 0.294\n",
      "[step = 60000] loss: 0.294\n",
      "[step = 70000] loss: 0.294\n",
      "\n",
      "EPOCH = 15, loss = 0.294, hr = 0.564, ndcg = 0.320\n",
      "[step = 10000] loss: 0.291\n",
      "[step = 20000] loss: 0.292\n",
      "[step = 30000] loss: 0.293\n",
      "[step = 40000] loss: 0.293\n",
      "[step = 50000] loss: 0.293\n",
      "[step = 60000] loss: 0.293\n",
      "[step = 70000] loss: 0.293\n",
      "\n",
      "EPOCH = 16, loss = 0.293, hr = 0.563, ndcg = 0.320\n",
      "[step = 10000] loss: 0.291\n",
      "[step = 20000] loss: 0.292\n",
      "[step = 30000] loss: 0.292\n",
      "[step = 40000] loss: 0.292\n",
      "[step = 50000] loss: 0.292\n",
      "[step = 60000] loss: 0.292\n",
      "[step = 70000] loss: 0.292\n",
      "\n",
      "EPOCH = 17, loss = 0.293, hr = 0.573, ndcg = 0.326\n",
      "[step = 10000] loss: 0.290\n",
      "[step = 20000] loss: 0.290\n",
      "[step = 30000] loss: 0.291\n",
      "[step = 40000] loss: 0.291\n",
      "[step = 50000] loss: 0.291\n",
      "[step = 60000] loss: 0.291\n",
      "[step = 70000] loss: 0.292\n",
      "\n",
      "EPOCH = 18, loss = 0.292, hr = 0.572, ndcg = 0.324\n",
      "[step = 10000] loss: 0.289\n",
      "[step = 20000] loss: 0.290\n",
      "[step = 30000] loss: 0.290\n",
      "[step = 40000] loss: 0.291\n",
      "[step = 50000] loss: 0.291\n",
      "[step = 60000] loss: 0.291\n",
      "[step = 70000] loss: 0.291\n",
      "\n",
      "EPOCH = 19, loss = 0.291, hr = 0.576, ndcg = 0.325\n",
      "Finished Training...\n"
     ]
    }
   ],
   "source": [
    "# 模型训练 \n",
    "best_hr, best_ndcg, best_iter = hr, ndcg, -1\n",
    "\n",
    "epochs = 20\n",
    "log_step_freq = 10000\n",
    "\n",
    "for epoch in range(epochs):\n",
    "    \n",
    "    # 训练阶段\n",
    "    model.train()\n",
    "    loss_sum = 0.0\n",
    "    for step, (features, labels) in enumerate(dl_train, 1):\n",
    "        \n",
    "        features, labels = features.cuda(), labels.cuda()\n",
    "        # 梯度清零\n",
    "        optimizer.zero_grad()\n",
    "        \n",
    "        # 正向传播\n",
    "        predictions = model(features)\n",
    "        loss = loss_func(predictions, labels)\n",
    "        \n",
    "        # 反向传播求梯度\n",
    "        loss.backward()\n",
    "        optimizer.step()\n",
    "        \n",
    "        # 打印batch级别日志\n",
    "        loss_sum += loss.item()\n",
    "        if step % log_step_freq == 0:\n",
    "            print((\"[step = %d] loss: %.3f\") % (step, loss_sum/step))\n",
    "    \n",
    "    # 验证阶段\n",
    "    model.eval()\n",
    "    (hits, ndcgs) = evaluate_model(model, testRatings, testNegatives, topK)\n",
    "    hr, ndcg = np.array(hits).mean(), np.array(ndcgs).mean()\n",
    "    if hr > best_hr:\n",
    "        best_hr, best_ndcg, best_iter = hr, ndcg, epoch\n",
    "        torch.save(model.state_dict(), 'Pre_train/m1-1m_MLP.pkl')  \n",
    "        \n",
    "    info = (epoch, loss_sum/step, hr, ndcg)\n",
    "    print((\"\\nEPOCH = %d, loss = %.3f, hr = %.3f, ndcg = %.3f\") %info)\n",
    "print('Finished Training...') "
   ]
  },
  {
   "cell_type": "code",
   "execution_count": null,
   "metadata": {},
   "outputs": [],
   "source": []
  }
 ],
 "metadata": {
  "kernelspec": {
   "display_name": "Python 3",
   "language": "python",
   "name": "python3"
  },
  "language_info": {
   "codemirror_mode": {
    "name": "ipython",
    "version": 3
   },
   "file_extension": ".py",
   "mimetype": "text/x-python",
   "name": "python",
   "nbconvert_exporter": "python",
   "pygments_lexer": "ipython3",
   "version": "3.7.4"
  },
  "toc": {
   "base_numbering": 1,
   "nav_menu": {},
   "number_sections": true,
   "sideBar": true,
   "skip_h1_title": false,
   "title_cell": "Table of Contents",
   "title_sidebar": "Contents",
   "toc_cell": false,
   "toc_position": {},
   "toc_section_display": true,
   "toc_window_display": false
  },
  "varInspector": {
   "cols": {
    "lenName": 16,
    "lenType": 16,
    "lenVar": 40
   },
   "kernels_config": {
    "python": {
     "delete_cmd_postfix": "",
     "delete_cmd_prefix": "del ",
     "library": "var_list.py",
     "varRefreshCmd": "print(var_dic_list())"
    },
    "r": {
     "delete_cmd_postfix": ") ",
     "delete_cmd_prefix": "rm(",
     "library": "var_list.r",
     "varRefreshCmd": "cat(var_dic_list()) "
    }
   },
   "types_to_exclude": [
    "module",
    "function",
    "builtin_function_or_method",
    "instance",
    "_Feature"
   ],
   "window_display": false
  }
 },
 "nbformat": 4,
 "nbformat_minor": 2
}
