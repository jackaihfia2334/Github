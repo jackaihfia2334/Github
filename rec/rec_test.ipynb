{
 "cells": [
  {
   "cell_type": "code",
   "execution_count": 1,
   "id": "caa69f2d",
   "metadata": {},
   "outputs": [
    {
     "data": {
      "text/plain": [
       "array([[1.        , 0.70710678],\n",
       "       [0.70710678, 1.        ]])"
      ]
     },
     "execution_count": 1,
     "metadata": {},
     "output_type": "execute_result"
    }
   ],
   "source": [
    "import numpy as np\n",
    "from sklearn.metrics.pairwise import cosine_similarity\n",
    "\n",
    "i = [1, 0, 0, 0]\n",
    "j = [1, 0, 1, 0]\n",
    "cosine_similarity([i, j])"
   ]
  },
  {
   "cell_type": "markdown",
   "id": "f3d16c15",
   "metadata": {},
   "source": [
    "####  该函数的输入是一个矩阵/二维数组等等，Y可以为None，当Y为None时，代码实现里会将Y替换成X，而metric指明X和Y每对元素之间采用的距离公式\n",
    "\n",
    "具体参考sklearn文档  https://scikit-learn.org/stable/modules/metrics.html#metrics"
   ]
  },
  {
   "cell_type": "code",
   "execution_count": 2,
   "id": "6627bb59",
   "metadata": {},
   "outputs": [
    {
     "data": {
      "text/plain": [
       "array([[0.70710678]])"
      ]
     },
     "execution_count": 2,
     "metadata": {},
     "output_type": "execute_result"
    }
   ],
   "source": [
    "cosine_similarity(np.array(i).reshape(1,-1),np.array(j).reshape(1,-1))"
   ]
  },
  {
   "cell_type": "code",
   "execution_count": 3,
   "id": "52879345",
   "metadata": {},
   "outputs": [
    {
     "data": {
      "text/plain": [
       "array([[0.70710678, 0.70710678],\n",
       "       [0.5       , 0.5       ]])"
      ]
     },
     "execution_count": 3,
     "metadata": {},
     "output_type": "execute_result"
    }
   ],
   "source": [
    "x = [[1, 0, 0, 0],\n",
    "     [0,1,1,0]]\n",
    "y = [[1, 0, 1, 0],\n",
    "     [1,1,0,0]]\n",
    "\n",
    "cosine_similarity(x,y)"
   ]
  },
  {
   "cell_type": "code",
   "execution_count": 4,
   "id": "4d140a6a",
   "metadata": {},
   "outputs": [
    {
     "data": {
      "text/plain": [
       "array([[0.70710678, 0.70710678],\n",
       "       [0.5       , 0.5       ]])"
      ]
     },
     "execution_count": 4,
     "metadata": {},
     "output_type": "execute_result"
    }
   ],
   "source": [
    "import numpy as np\n",
    "\n",
    "def diy_cosine_similarity(x,y):\n",
    "    if isinstance(x,list):\n",
    "        x = np.array(x)\n",
    "    if isinstance(y,list):\n",
    "        y = np.array(y)\n",
    "    num = np.matmul(x,y.T)\n",
    "    denom1 = np.linalg.norm(x,axis=1,keepdims=True)\n",
    "    denom2 = np.linalg.norm(y,axis=1,keepdims=True)\n",
    "    denorm = np.matmul(denom1,denom2.T)\n",
    "    return num / denorm\n",
    "diy_cosine_similarity(x,y)"
   ]
  },
  {
   "cell_type": "code",
   "execution_count": 5,
   "id": "d940bd0b",
   "metadata": {},
   "outputs": [
    {
     "name": "stdout",
     "output_type": "stream",
     "text": [
      "(0.816496580927726, 0.18350341907227397)\n",
      "[[1.         0.81649658]\n",
      " [0.81649658 1.        ]]\n"
     ]
    }
   ],
   "source": [
    "from scipy.stats import pearsonr\n",
    "from numpy import corrcoef\n",
    "i = [1, 0, 0, 0]\n",
    "j = [1, 0.5, 0.5, 0]\n",
    "print(pearsonr(i, j))\n",
    "print(corrcoef(i,j))"
   ]
  },
  {
   "cell_type": "markdown",
   "id": "b53cee95",
   "metadata": {},
   "source": [
    "假设x.shape = n_sample,len_feature \n",
    "\n",
    "\n",
    "np.corrcoef(x)生成一个n_sample*n_sample的对称矩阵，即相关系数矩阵\n",
    "\n",
    "\n",
    "因此np.corrcoef(vec1, vec2)生成一个2*2矩阵"
   ]
  },
  {
   "cell_type": "code",
   "execution_count": 6,
   "id": "dff6f24e",
   "metadata": {},
   "outputs": [],
   "source": [
    "a = np.array(i)-0.25\n",
    "b = np.array(j)-0.5\n",
    "a = a.reshape(1,-1)\n",
    "b = b.reshape(1,-1)"
   ]
  },
  {
   "cell_type": "code",
   "execution_count": 7,
   "id": "25b7716d",
   "metadata": {},
   "outputs": [
    {
     "data": {
      "text/plain": [
       "array([[0.81649658]])"
      ]
     },
     "execution_count": 7,
     "metadata": {},
     "output_type": "execute_result"
    }
   ],
   "source": [
    "cosine_similarity(a,b)"
   ]
  },
  {
   "cell_type": "code",
   "execution_count": 8,
   "id": "210194a0",
   "metadata": {},
   "outputs": [
    {
     "name": "stdout",
     "output_type": "stream",
     "text": [
      "(0.012936800506951266, 0.6828310401787084)\n",
      "(0.6680920624164112, 2.834537616405789e-130)\n",
      "(0.03938982451397197, 0.21330062660673496)\n"
     ]
    }
   ],
   "source": [
    "from sklearn.datasets import make_regression\n",
    "X,y = make_regression(n_samples=1000, n_features=3, n_informative=1, noise=100, random_state=9527)\n",
    " \n",
    "# 分别计算每个特征与标签的相关系数\n",
    "from scipy.stats import pearsonr\n",
    " \n",
    "p1 = pearsonr(X[:,0],y)\n",
    "p2 = pearsonr(X[:,1],y)\n",
    "p3 = pearsonr(X[:,2],y)\n",
    " \n",
    "print(p1)\n",
    "print(p2)\n",
    "print(p3)"
   ]
  },
  {
   "cell_type": "markdown",
   "id": "1ba2aa83",
   "metadata": {},
   "source": [
    "### UserCF算法\n",
    "\n",
    "1.计算用户之间的相似度\n",
    "2.计算用户对新物品的评分预测\n",
    "3.对用户进行物品推荐"
   ]
  },
  {
   "cell_type": "code",
   "execution_count": 9,
   "id": "0b86d092",
   "metadata": {},
   "outputs": [],
   "source": [
    "users = np.array([[5,3,4,4],[3,1,2,3],[4,3,4,3],[3,3,1,5],[1,5,5,2]])\n",
    "sim1 = cosine_similarity(users)\n",
    "sim2 = np.corrcoef(users)"
   ]
  },
  {
   "cell_type": "markdown",
   "id": "45d1d63f",
   "metadata": {},
   "source": [
    "### UserCF算法实验"
   ]
  },
  {
   "cell_type": "code",
   "execution_count": 10,
   "id": "58f5c95a",
   "metadata": {},
   "outputs": [],
   "source": [
    "import numpy as np\n",
    "import pandas as pd\n",
    "\n",
    "\n",
    "def loadData():\n",
    "    users = {'Alice': {'A': 5, 'B': 3, 'C': 4, 'D': 4},\n",
    "             'user1': {'A': 3, 'B': 1, 'C': 2, 'D': 3, 'E': 3},\n",
    "             'user2': {'A': 4, 'B': 3, 'C': 4, 'D': 3, 'E': 5},\n",
    "             'user3': {'A': 3, 'B': 3, 'C': 1, 'D': 5, 'E': 4},\n",
    "             'user4': {'A': 1, 'B': 5, 'C': 5, 'D': 2, 'E': 1}\n",
    "             }\n",
    "    return users"
   ]
  },
  {
   "cell_type": "markdown",
   "id": "34e52c19",
   "metadata": {},
   "source": [
    "字典users的键表示不同用户的名字，值为一个评分字典，评分字典的键值对表示某物品被当前用户的评分。\n",
    "由于现实场景中，用户对物品的评分比较稀疏。如果直接使用矩阵进行存储，会存在大量空缺值，故此处使用了字典"
   ]
  },
  {
   "cell_type": "code",
   "execution_count": 11,
   "id": "305526c9",
   "metadata": {},
   "outputs": [
    {
     "data": {
      "text/html": [
       "<div>\n",
       "<style scoped>\n",
       "    .dataframe tbody tr th:only-of-type {\n",
       "        vertical-align: middle;\n",
       "    }\n",
       "\n",
       "    .dataframe tbody tr th {\n",
       "        vertical-align: top;\n",
       "    }\n",
       "\n",
       "    .dataframe thead th {\n",
       "        text-align: right;\n",
       "    }\n",
       "</style>\n",
       "<table border=\"1\" class=\"dataframe\">\n",
       "  <thead>\n",
       "    <tr style=\"text-align: right;\">\n",
       "      <th></th>\n",
       "      <th>Alice</th>\n",
       "      <th>user1</th>\n",
       "      <th>user2</th>\n",
       "      <th>user3</th>\n",
       "      <th>user4</th>\n",
       "    </tr>\n",
       "  </thead>\n",
       "  <tbody>\n",
       "    <tr>\n",
       "      <th>Alice</th>\n",
       "      <td>1.0</td>\n",
       "      <td>0.0</td>\n",
       "      <td>0.0</td>\n",
       "      <td>0.0</td>\n",
       "      <td>0.0</td>\n",
       "    </tr>\n",
       "    <tr>\n",
       "      <th>user1</th>\n",
       "      <td>0.0</td>\n",
       "      <td>1.0</td>\n",
       "      <td>0.0</td>\n",
       "      <td>0.0</td>\n",
       "      <td>0.0</td>\n",
       "    </tr>\n",
       "    <tr>\n",
       "      <th>user2</th>\n",
       "      <td>0.0</td>\n",
       "      <td>0.0</td>\n",
       "      <td>1.0</td>\n",
       "      <td>0.0</td>\n",
       "      <td>0.0</td>\n",
       "    </tr>\n",
       "    <tr>\n",
       "      <th>user3</th>\n",
       "      <td>0.0</td>\n",
       "      <td>0.0</td>\n",
       "      <td>0.0</td>\n",
       "      <td>1.0</td>\n",
       "      <td>0.0</td>\n",
       "    </tr>\n",
       "    <tr>\n",
       "      <th>user4</th>\n",
       "      <td>0.0</td>\n",
       "      <td>0.0</td>\n",
       "      <td>0.0</td>\n",
       "      <td>0.0</td>\n",
       "      <td>1.0</td>\n",
       "    </tr>\n",
       "  </tbody>\n",
       "</table>\n",
       "</div>"
      ],
      "text/plain": [
       "       Alice  user1  user2  user3  user4\n",
       "Alice    1.0    0.0    0.0    0.0    0.0\n",
       "user1    0.0    1.0    0.0    0.0    0.0\n",
       "user2    0.0    0.0    1.0    0.0    0.0\n",
       "user3    0.0    0.0    0.0    1.0    0.0\n",
       "user4    0.0    0.0    0.0    0.0    1.0"
      ]
     },
     "execution_count": 11,
     "metadata": {},
     "output_type": "execute_result"
    }
   ],
   "source": [
    "user_data = loadData()\n",
    "similarity_matrix = pd.DataFrame(\n",
    "    np.identity(len(user_data)),\n",
    "    index=user_data.keys(),\n",
    "    columns=user_data.keys(),\n",
    ")\n",
    "similarity_matrix   #维护了一个DataFrame"
   ]
  },
  {
   "cell_type": "code",
   "execution_count": 12,
   "id": "61913bf1",
   "metadata": {},
   "outputs": [
    {
     "name": "stdout",
     "output_type": "stream",
     "text": [
      "          Alice     user1     user2     user3     user4\n",
      "Alice  1.000000  0.852803  0.707107  0.000000 -0.792118\n",
      "user1  0.852803  1.000000  0.467707  0.489956 -0.900149\n",
      "user2  0.707107  0.467707  1.000000 -0.161165 -0.466569\n",
      "user3  0.000000  0.489956 -0.161165  1.000000 -0.641503\n",
      "user4 -0.792118 -0.900149 -0.466569 -0.641503  1.000000\n"
     ]
    }
   ],
   "source": [
    "for u1, items1 in user_data.items():\n",
    "    for u2, items2 in user_data.items():\n",
    "        if u1 == u2:\n",
    "            continue\n",
    "        vec1, vec2 = [], []\n",
    "        for item, rating1 in items1.items():\n",
    "            rating2 = items2.get(item, -1)\n",
    "            if rating2 == -1:\n",
    "                continue\n",
    "            #循环的方式去获得用户评分向量\n",
    "            vec1.append(rating1)\n",
    "            vec2.append(rating2)\n",
    "        # 计算不同用户之间的皮尔逊相关系数\n",
    "        similarity_matrix[u1][u2] = np.corrcoef(vec1, vec2)[1][0]  #np.corrcoef(vec1, vec2)[0][1]也可\n",
    "\n",
    "print(similarity_matrix)"
   ]
  },
  {
   "cell_type": "markdown",
   "id": "7bd8c1f6",
   "metadata": {},
   "source": [
    "get()方法语法：\n",
    "\n",
    "dict.get(key, default=None)\n",
    "\n",
    "key -- 字典中要查找的键。\n",
    "\n",
    "default -- 如果指定键的值不存在时，返回该默认值。"
   ]
  },
  {
   "cell_type": "code",
   "execution_count": 13,
   "id": "18ae966f",
   "metadata": {},
   "outputs": [
    {
     "name": "stdout",
     "output_type": "stream",
     "text": [
      "与用户Alice最相似的2个用户为：['user1', 'user2']\n"
     ]
    }
   ],
   "source": [
    "target_user = 'Alice'\n",
    "num = 2\n",
    "# 由于最相似的用户为自己，去除本身\n",
    "x \n",
    "sim_users = similarity_matrix[target_user].sort_values(ascending=False)[1:num+1].index.tolist()\n",
    "\n",
    "print(f'与用户{target_user}最相似的{num}个用户为：{sim_users}')"
   ]
  },
  {
   "cell_type": "code",
   "execution_count": 14,
   "id": "b0937092",
   "metadata": {},
   "outputs": [
    {
     "data": {
      "text/plain": [
       "Index(['user1', 'user2'], dtype='object')"
      ]
     },
     "execution_count": 14,
     "metadata": {},
     "output_type": "execute_result"
    }
   ],
   "source": [
    "similarity_matrix[target_user].sort_values(ascending=False)[1:num+1].index"
   ]
  },
  {
   "cell_type": "code",
   "execution_count": 15,
   "id": "32f8ce98",
   "metadata": {},
   "outputs": [
    {
     "name": "stdout",
     "output_type": "stream",
     "text": [
      "用户Alice对物品E的预测评分为：4.871979899370592\n"
     ]
    }
   ],
   "source": [
    "weighted_scores = 0.\n",
    "corr_values_sum = 0.\n",
    "\n",
    "target_item = 'E'\n",
    "# 基于皮尔逊相关系数预测用户评分\n",
    "for user in sim_users:\n",
    "    corr_value = similarity_matrix[target_user][user]\n",
    "    user_mean_rating = np.mean(list(user_data[user].values()))\n",
    "\n",
    "    weighted_scores += corr_value * (user_data[user][target_item] - user_mean_rating)\n",
    "    corr_values_sum += corr_value\n",
    "\n",
    "target_user_mean_rating = np.mean(list(user_data[target_user].values()))\n",
    "target_item_pred = target_user_mean_rating + weighted_scores / corr_values_sum\n",
    "print(f'用户{target_user}对物品{target_item}的预测评分为：{target_item_pred}')\n"
   ]
  },
  {
   "cell_type": "markdown",
   "id": "7a92ec7c",
   "metadata": {},
   "source": [
    "ItemCF算法实验"
   ]
  },
  {
   "cell_type": "code",
   "execution_count": 16,
   "id": "b8c22aa4",
   "metadata": {},
   "outputs": [],
   "source": [
    "import numpy as np\n",
    "import pandas as pd\n",
    "\n",
    "\n",
    "def loadData():\n",
    "    items = {'A': {'Alice': 5.0, 'user1': 3.0, 'user2': 4.0, 'user3': 3.0, 'user4': 1.0},\n",
    "             'B': {'Alice': 3.0, 'user1': 1.0, 'user2': 3.0, 'user3': 3.0, 'user4': 5.0},\n",
    "             'C': {'Alice': 4.0, 'user1': 2.0, 'user2': 4.0, 'user3': 1.0, 'user4': 5.0},\n",
    "             'D': {'Alice': 4.0, 'user1': 3.0, 'user2': 3.0, 'user3': 5.0, 'user4': 2.0},\n",
    "             'E': {'user1': 3.0, 'user2': 5.0, 'user3': 4.0, 'user4': 1.0}\n",
    "             }\n",
    "    return items\n"
   ]
  },
  {
   "cell_type": "code",
   "execution_count": 17,
   "id": "6c8cd5cd",
   "metadata": {},
   "outputs": [
    {
     "name": "stdout",
     "output_type": "stream",
     "text": [
      "          A         B         C         D         E\n",
      "A  1.000000 -0.476731 -0.123091  0.532181  0.969458\n",
      "B -0.476731  1.000000  0.645497 -0.310087 -0.478091\n",
      "C -0.123091  0.645497  1.000000 -0.720577 -0.427618\n",
      "D  0.532181 -0.310087 -0.720577  1.000000  0.581675\n",
      "E  0.969458 -0.478091 -0.427618  0.581675  1.000000\n"
     ]
    }
   ],
   "source": [
    "item_data = loadData()\n",
    "\n",
    "similarity_matrix = pd.DataFrame(\n",
    "    np.identity(len(item_data)),\n",
    "    index=item_data.keys(),\n",
    "    columns=item_data.keys(),\n",
    ")\n",
    "\n",
    "# 遍历每条物品-用户评分数据\n",
    "for i1, users1 in item_data.items():\n",
    "    for i2, users2 in item_data.items():\n",
    "        if i1 == i2:\n",
    "            continue\n",
    "        vec1, vec2 = [], []\n",
    "        for user, rating1 in users1.items():\n",
    "            rating2 = users2.get(user, -1)\n",
    "            if rating2 == -1:\n",
    "                continue\n",
    "            vec1.append(rating1)\n",
    "            vec2.append(rating2)\n",
    "        similarity_matrix[i1][i2] = np.corrcoef(vec1, vec2)[0][1]\n",
    "\n",
    "print(similarity_matrix)"
   ]
  },
  {
   "cell_type": "code",
   "execution_count": 18,
   "id": "aab476b8",
   "metadata": {},
   "outputs": [
    {
     "name": "stdout",
     "output_type": "stream",
     "text": [
      "与物品E最相似的2个物品为：['A', 'D']\n"
     ]
    }
   ],
   "source": [
    "target_user = 'Alice'\n",
    "target_item = 'E'\n",
    "num = 2\n",
    "\n",
    "sim_items = []\n",
    "sim_items_list = similarity_matrix[target_item].sort_values(ascending=False).index.tolist()\n",
    "for item in sim_items_list:\n",
    "    # 如果target_user对物品item评分过\n",
    "    if target_user in item_data[item]:\n",
    "        sim_items.append(item)\n",
    "    if len(sim_items) == num:\n",
    "        break\n",
    "print(f'与物品{target_item}最相似的{num}个物品为：{sim_items}')"
   ]
  },
  {
   "cell_type": "code",
   "execution_count": 19,
   "id": "c9f370a4",
   "metadata": {},
   "outputs": [
    {
     "name": "stdout",
     "output_type": "stream",
     "text": [
      "用户Alice对物品E的预测评分为：4.6\n"
     ]
    }
   ],
   "source": [
    "target_user_mean_rating = np.mean(list(item_data[target_item].values()))\n",
    "weighted_scores = 0.\n",
    "corr_values_sum = 0.\n",
    "\n",
    "target_item = 'E'\n",
    "for item in sim_items:\n",
    "    corr_value = similarity_matrix[target_item][item]\n",
    "    user_mean_rating = np.mean(list(item_data[item].values()))\n",
    "\n",
    "    weighted_scores += corr_value * (item_data[item][target_user] - user_mean_rating)\n",
    "    corr_values_sum += corr_value\n",
    "\n",
    "target_item_pred = target_user_mean_rating + weighted_scores / corr_values_sum\n",
    "print(f'用户{target_user}对物品{target_item}的预测评分为：{target_item_pred}')"
   ]
  },
  {
   "cell_type": "markdown",
   "id": "1ee3a3a3",
   "metadata": {},
   "source": [
    "### 不同相似度比较\n",
    "\n",
    "cosine相似度计算简单方便，一般较为常用。但是，当用户的评分数据存在 bias 时，效果往往不那么好。\n",
    "简而言之，就是不同用户评分的偏向不同。部分用户可能乐于给予好评，而部分用户习惯给予差评或者乱评分。\n",
    "这个时候，根据cosine 相似度计算出来的推荐结果效果会打折扣。"
   ]
  },
  {
   "cell_type": "code",
   "execution_count": 20,
   "id": "5ecb5df3",
   "metadata": {},
   "outputs": [],
   "source": [
    "import numpy as np\n",
    "import pandas as pd\n",
    "\n",
    "\n",
    "def loadData():\n",
    "    users = {'d': {'X': 4, 'Y': 4, 'Z': 5},\n",
    "             'e': {'X': 1, 'Y': 1, 'Z': 2},\n",
    "             'f': {'X': 4, 'Y': 1, 'Z': 5}\n",
    "             }\n",
    "    return users"
   ]
  },
  {
   "attachments": {
    "image.png": {
     "image/png": "[encoded data removed]"
    }
   },
   "cell_type": "markdown",
   "id": "d86b4a0a",
   "metadata": {},
   "source": [
    "![image.png](attachment:image.png)"
   ]
  },
  {
   "cell_type": "code",
   "execution_count": 21,
   "id": "27c27ac6",
   "metadata": {},
   "outputs": [
    {
     "name": "stdout",
     "output_type": "stream",
     "text": [
      "          d         e         f\n",
      "d  1.000000  1.000000  0.693375\n",
      "e  1.000000  1.000000  0.693375\n",
      "f  0.693375  0.693375  1.000000\n"
     ]
    }
   ],
   "source": [
    "user_data = loadData()\n",
    "\n",
    "similarity_matrix = pd.DataFrame(\n",
    "    np.identity(len(user_data)),\n",
    "    index=user_data.keys(),\n",
    "    columns=user_data.keys(),\n",
    ")\n",
    "\n",
    "for u1, items1 in user_data.items():\n",
    "    for u2, items2 in user_data.items():\n",
    "        if u1 == u2:\n",
    "            continue\n",
    "        vec1, vec2 = [], []\n",
    "        for item, rating1 in items1.items():\n",
    "            rating2 = items2.get(item, -1)\n",
    "            if rating2 == -1:\n",
    "                continue\n",
    "            #循环的方式去获得用户评分向量\n",
    "            vec1.append(rating1)\n",
    "            vec2.append(rating2)\n",
    "        # 计算不同用户之间的皮尔逊相关系数\n",
    "        similarity_matrix[u1][u2] = np.corrcoef(vec1, vec2)[1][0]  #np.corrcoef(vec1, vec2)[0][1]也可\n",
    "\n",
    "print(similarity_matrix)"
   ]
  },
  {
   "cell_type": "markdown",
   "id": "9a7d2afa",
   "metadata": {},
   "source": [
    "使用余弦相似度进行计算，用户 d 和 e 之间较为相似。但是实际上，用户 d 和 f 之间应该更加相似。只不过由于 d 倾向于打高分，e 倾向于打低分导致二者之间的余弦相似度更高。"
   ]
  },
  {
   "cell_type": "markdown",
   "id": "6f3be4ac",
   "metadata": {},
   "source": [
    "### 矩阵分解算法"
   ]
  },
  {
   "cell_type": "code",
   "execution_count": 22,
   "id": "1282763b",
   "metadata": {},
   "outputs": [
    {
     "name": "stdout",
     "output_type": "stream",
     "text": [
      "E 3.663042791749711\n"
     ]
    }
   ],
   "source": [
    "import random\n",
    "import math\n",
    "\n",
    "\n",
    "class BiasSVD():\n",
    "    def __init__(self, rating_data, F=5, alpha=0.1, lmbda=0.1, max_iter=100):\n",
    "        self.F = F          # 这个表示隐向量的维度\n",
    "        self.P = dict()     # 用户矩阵P  大小是[users_num, F]\n",
    "        self.Q = dict()     # 物品矩阵Q  大小是[item_nums, F]\n",
    "        self.bu = dict()    # 用户偏置系数\n",
    "        self.bi = dict()    # 物品偏置系数\n",
    "        self.mu = 0         # 全局偏置系数\n",
    "        self.alpha = alpha  # 学习率\n",
    "        self.lmbda = lmbda  # 正则项系数\n",
    "        self.max_iter = max_iter        # 最大迭代次数\n",
    "        self.rating_data = rating_data  # 评分矩阵\n",
    "\n",
    "        for user, items in self.rating_data.items():\n",
    "            # 初始化矩阵P和Q, 随机数需要和1/sqrt(F)成正比\n",
    "            self.P[user] = [random.random() / math.sqrt(self.F) for x in range(0, F)]\n",
    "            self.bu[user] = 0\n",
    "            for item, rating in items.items():\n",
    "                if item not in self.Q:\n",
    "                    self.Q[item] = [random.random() / math.sqrt(self.F) for x in range(0, F)]\n",
    "                    self.bi[item] = 0\n",
    "\n",
    "    # 采用随机梯度下降的方式训练模型参数\n",
    "    def train(self):\n",
    "        cnt, mu_sum = 0, 0\n",
    "        for user, items in self.rating_data.items():\n",
    "            for item, rui in items.items():\n",
    "                mu_sum, cnt = mu_sum + rui, cnt + 1\n",
    "        self.mu = mu_sum / cnt\n",
    "\n",
    "        for step in range(self.max_iter):\n",
    "            # 遍历所有的用户及历史交互物品\n",
    "            for user, items in self.rating_data.items():\n",
    "                # 遍历历史交互物品\n",
    "                for item, rui in items.items():\n",
    "                    rhat_ui = self.predict(user, item)  # 评分预测\n",
    "                    e_ui = rui - rhat_ui                  # 评分预测偏差\n",
    "\n",
    "                    # 参数更新\n",
    "                    self.bu[user] += self.alpha * (e_ui - self.lmbda * self.bu[user])\n",
    "                    self.bi[item] += self.alpha * (e_ui - self.lmbda * self.bi[item])\n",
    "                    for k in range(0, self.F):\n",
    "                        self.P[user][k] += self.alpha * (e_ui * self.Q[item][k] - self.lmbda * self.P[user][k])\n",
    "                        self.Q[item][k] += self.alpha * (e_ui * self.P[user][k] - self.lmbda * self.Q[item][k])\n",
    "            # 逐步降低学习率\n",
    "            self.alpha *= 0.1\n",
    "\n",
    "\n",
    "    # 评分预测\n",
    "    def predict(self, user, item):\n",
    "        return sum(self.P[user][f] * self.Q[item][f] for f in range(0, self.F)) + self.bu[user] + self.bi[\n",
    "            item] + self.mu\n",
    "\n",
    "\n",
    "# 通过字典初始化训练样本，分别表示不同用户（1-5）对不同物品（A-E)的真实评分\n",
    "def loadData():\n",
    "    rating_data={1: {'A': 5, 'B': 3, 'C': 4, 'D': 4},\n",
    "           2: {'A': 3, 'B': 1, 'C': 2, 'D': 3, 'E': 3},\n",
    "           3: {'A': 4, 'B': 3, 'C': 4, 'D': 3, 'E': 5},\n",
    "           4: {'A': 3, 'B': 3, 'C': 1, 'D': 5, 'E': 4},\n",
    "           5: {'A': 1, 'B': 5, 'C': 5, 'D': 2, 'E': 1}\n",
    "          }\n",
    "    return rating_data\n",
    "\n",
    "# 加载数据\n",
    "rating_data = loadData()\n",
    "# 建立模型\n",
    "basicsvd = BiasSVD(rating_data, F=10)\n",
    "# 参数训练\n",
    "basicsvd.train()\n",
    "# 预测用户1对物品E的评分\n",
    "for item in ['E']:\n",
    "    print(item, basicsvd.predict(1, item))\n",
    "\n",
    "# 预测结果：E 3.685084274454321"
   ]
  },
  {
   "cell_type": "markdown",
   "id": "ba699691",
   "metadata": {},
   "source": [
    "# Word2Vec"
   ]
  },
  {
   "cell_type": "code",
   "execution_count": 23,
   "id": "c96e6332",
   "metadata": {},
   "outputs": [],
   "source": [
    "#Naive softmax 损失函数\n",
    "def naiveSoftmaxLossAndGradient(\n",
    "    centerWordVec,\n",
    "    outsideWordIdx,\n",
    "    outsideVectors,\n",
    "    dataset\n",
    "):\n",
    "    \"\"\" Naive Softmax loss & gradient function for word2vec models\n",
    "\n",
    "    Arguments:\n",
    "    centerWordVec -- numpy ndarray, center word's embedding\n",
    "                    in shape (word vector length, )\n",
    "                    (v_c in the pdf handout)\n",
    "    outsideWordIdx -- integer, the index of the outside word\n",
    "                    (o of u_o in the pdf handout)\n",
    "    outsideVectors -- outside vectors is\n",
    "                    in shape (num words in vocab, word vector length) \n",
    "                    for all words in vocab (tranpose of U in the pdf handout)\n",
    "    dataset -- needed for negative sampling, unused here.\n",
    "\n",
    "    Return:\n",
    "    loss -- naive softmax loss\n",
    "    gradCenterVec -- the gradient with respect to the center word vector\n",
    "                     in shape (word vector length, )\n",
    "                     (dJ / dv_c in the pdf handout)\n",
    "    gradOutsideVecs -- the gradient with respect to all the outside word vectors\n",
    "                    in shape (num words in vocab, word vector length) \n",
    "                    (dJ / dU)\n",
    "    \"\"\"\n",
    "\n",
    "    # centerWordVec:  (embedding_dim,1)\n",
    "    # outsideVectors: (vocab_size,embedding_dim)\n",
    "\n",
    "    scores = np.matmul(outsideVectors, centerWordVec)  # size=(vocab_size, 1)\n",
    "    probs = softmax(scores)  # size=(vocab, 1)\n",
    "\n",
    "    loss = -np.log(probs[outsideWordIdx])  # scalar\n",
    "\n",
    "    dscores = probs.copy()  # size=(vocab, 1)\n",
    "    dscores[outsideWordIdx] = dscores[outsideWordIdx] - 1  # dscores=y_hat - y\n",
    "    gradCenterVec = np.matmul(outsideVectors, dscores)  # J关于vc的偏导数公式  size=(vocab_size, 1)\n",
    "    gradOutsideVecs = np.outer(dscores, centerWordVec)  # J关于u的偏导数公式  size=(vocab_size, embedding_dim)\n",
    "\n",
    "    return loss, gradCenterVec, gradOutsideVecs\n"
   ]
  },
  {
   "cell_type": "code",
   "execution_count": 24,
   "id": "a642c174",
   "metadata": {},
   "outputs": [],
   "source": [
    "#负采样损失函数\n",
    "def negSamplingLossAndGradient(\n",
    "    centerWordVec,\n",
    "    outsideWordIdx,\n",
    "    outsideVectors,\n",
    "    dataset,\n",
    "    K=10\n",
    "):\n",
    "  \n",
    "    negSampleWordIndices = getNegativeSamples(outsideWordIdx, dataset, K)\n",
    "    indices = [outsideWordIdx] + negSampleWordIndices\n",
    "\n",
    "    gradCenterVec =np.zeros(centerWordVec.shape)  # (embedding_size,1)\n",
    "    gradOutsideVecs = np.zeros(outsideVectors.shape)  # (vocab_size, embedding_size)\n",
    "    loss = 0.0\n",
    "\n",
    "    u_o = outsideVectors[outsideWordIdx]  # size=(embedding_size,1)\n",
    "    z = sigmoid(np.dot(u_o, centerWordVec))  # size=(1, )\n",
    "    loss -= np.log(z) # 损失函数的第一部分\n",
    "    gradCenterVec += u_o * (z - 1)   # J关于vc的偏导数的第一部分\n",
    "    gradOutsideVecs[outsideWordIdx] = centerWordVec * (z - 1)  # J关于u_o的偏导数计算\n",
    "\n",
    "    for i in range(K):\n",
    "        neg_id = indices[1 + i]\n",
    "        u_k = outsideVectors[neg_id]\n",
    "        z = sigmoid(-np.dot(u_k, centerWordVec))\n",
    "        loss -= np.log(z)\n",
    "        gradCenterVec += u_k * (1-z)\n",
    "        gradOutsideVecs[neg_id] += centerWordVec * (1 - z)\n",
    "\n",
    "\n",
    "    return loss, gradCenterVec, gradOutsideVecs"
   ]
  },
  {
   "cell_type": "markdown",
   "id": "8c26000d",
   "metadata": {},
   "source": [
    "####  本采样通过只更新部分负样本词的embedding来加速计算过程，而naive softmax涉及整个词表的计算"
   ]
  },
  {
   "cell_type": "code",
   "execution_count": null,
   "id": "2d5af032",
   "metadata": {},
   "outputs": [],
   "source": []
  }
 ],
 "metadata": {
  "kernelspec": {
   "display_name": "Python 3 (ipykernel)",
   "language": "python",
   "name": "python3"
  },
  "language_info": {
   "codemirror_mode": {
    "name": "ipython",
    "version": 3
   },
   "file_extension": ".py",
   "mimetype": "text/x-python",
   "name": "python",
   "nbconvert_exporter": "python",
   "pygments_lexer": "ipython3",
   "version": "3.8.8"
  }
 },
 "nbformat": 4,
 "nbformat_minor": 5
}
