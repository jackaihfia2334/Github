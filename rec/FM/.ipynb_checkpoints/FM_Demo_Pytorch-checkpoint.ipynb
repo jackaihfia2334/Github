{
 "cells": [
  {
   "cell_type": "code",
   "execution_count": 1,
   "id": "spanish-extra",
   "metadata": {},
   "outputs": [],
   "source": [
    "import numpy as np\n",
    "import time\n",
    "import pandas as pd\n",
    "import torch\n",
    "from FM_pytorch.fm import FactorizationMachineModel\n",
    "from FM_pytorch.movielens import MovieLens1MDataset\n",
    "from FM_pytorch.train import train,test,EarlyStopper\n",
    "from torch.utils.data import DataLoader"
   ]
  },
  {
   "cell_type": "markdown",
   "id": "moderate-thong",
   "metadata": {},
   "source": [
    "# 获取数据集与模型"
   ]
  },
  {
   "cell_type": "code",
   "execution_count": 2,
   "id": "geographic-danish",
   "metadata": {
    "scrolled": true
   },
   "outputs": [],
   "source": [
    "dataset=MovieLens1MDataset('./data/ml-1m/ratings.dat')\n",
    "#field_dims = dataset.field_dims\n",
    "#print(field_dims)\n",
    "#offsets = np.array((0, *np.cumsum(field_dims)))   \n",
    "model=FactorizationMachineModel(dataset.field_dims, embed_dim=16)"
   ]
  },
  {
   "cell_type": "markdown",
   "id": "applicable-anthropology",
   "metadata": {},
   "source": [
    "## 数据集拆分并用DataLoader加载"
   ]
  },
  {
   "cell_type": "code",
   "execution_count": 3,
   "id": "living-schema",
   "metadata": {},
   "outputs": [],
   "source": [
    "#按8:1:1比例拆分为训练集、验证集、测试集\n",
    "train_length = int(len(dataset) * 0.8)\n",
    "valid_length = int(len(dataset) * 0.1)\n",
    "test_length = len(dataset) - train_length - valid_length\n",
    "train_dataset, valid_dataset, test_dataset = torch.utils.data.random_split(\n",
    "    dataset, (train_length, valid_length, test_length))\n",
    "\n",
    "#利用DataLoader加载，每个batch_size=256\n",
    "train_data_loader = DataLoader(train_dataset, batch_size=256, num_workers=0)\n",
    "valid_data_loader = DataLoader(valid_dataset, batch_size=256, num_workers=0)\n",
    "test_data_loader = DataLoader(test_dataset, batch_size=256, num_workers=0)"
   ]
  },
  {
   "cell_type": "code",
   "execution_count": 7,
   "id": "ce9fa8fd",
   "metadata": {},
   "outputs": [
    {
     "name": "stdout",
     "output_type": "stream",
     "text": [
      "tensor([[4168,  334],\n",
      "        [ 888,  408],\n",
      "        [2752, 3460],\n",
      "        [3360,  706],\n",
      "        [1168, 2087],\n",
      "        [ 215, 2162],\n",
      "        [2015, 1941],\n",
      "        [2817, 3790]], dtype=torch.int32)\n",
      "tensor([1., 0., 1., 0., 0., 0., 1., 0.])\n"
     ]
    }
   ],
   "source": [
    "# 看一下数据\n",
    "for b,label in iter(train_data_loader):\n",
    "    print(b[:8,:])\n",
    "    print(label[:8])\n",
    "    break"
   ]
  },
  {
   "cell_type": "markdown",
   "id": "d663b1f2",
   "metadata": {},
   "source": [
    "# GPU"
   ]
  },
  {
   "cell_type": "code",
   "execution_count": 4,
   "id": "92ab061b",
   "metadata": {},
   "outputs": [],
   "source": [
    "def try_gpu(i=0):  #@save\n",
    "    #如果存在,则返回gpu(i),否则返回cpu()\n",
    "    if torch.cuda.device_count() >= i + 1:\n",
    "        return torch.device(f'cuda:{i}')\n",
    "    return torch.device('cpu')"
   ]
  },
  {
   "cell_type": "markdown",
   "id": "approximate-patent",
   "metadata": {},
   "source": [
    "# 开始训练模型"
   ]
  },
  {
   "cell_type": "code",
   "execution_count": null,
   "id": "prospective-newspaper",
   "metadata": {},
   "outputs": [
    {
     "name": "stdout",
     "output_type": "stream",
     "text": [
      "cpu\n"
     ]
    },
    {
     "name": "stderr",
     "output_type": "stream",
     "text": [
      "100%|█████████████████████████████████████████████████████████████████| 3126/3126 [00:22<00:00, 137.04it/s, loss=0.587]\n",
      "100%|█████████████████████████████████████████████████████████████████████████████| 3126/3126 [00:05<00:00, 555.69it/s]\n",
      "100%|███████████████████████████████████████████████████████████████████████████████| 391/391 [00:00<00:00, 522.87it/s]\n",
      "100%|███████████████████████████████████████████████████████████████████████████████| 391/391 [00:00<00:00, 578.27it/s]\n"
     ]
    },
    {
     "name": "stdout",
     "output_type": "stream",
     "text": [
      "第0个epoch结束：\n",
      "训练集AUC:0.7625305000070218\n",
      "验证集AUC:0.7512329173006302\n",
      "测试集AUC:0.7508223171237541\n"
     ]
    },
    {
     "name": "stderr",
     "output_type": "stream",
     "text": [
      "100%|█████████████████████████████████████████████████████████████████| 3126/3126 [00:23<00:00, 132.03it/s, loss=0.541]\n",
      "100%|█████████████████████████████████████████████████████████████████████████████| 3126/3126 [00:06<00:00, 448.40it/s]\n",
      "100%|███████████████████████████████████████████████████████████████████████████████| 391/391 [00:00<00:00, 522.72it/s]\n",
      "100%|███████████████████████████████████████████████████████████████████████████████| 391/391 [00:00<00:00, 458.98it/s]\n"
     ]
    },
    {
     "name": "stdout",
     "output_type": "stream",
     "text": [
      "第1个epoch结束：\n",
      "训练集AUC:0.8000174313876252\n",
      "验证集AUC:0.7848569657422645\n",
      "测试集AUC:0.7844072654800838\n"
     ]
    },
    {
     "name": "stderr",
     "output_type": "stream",
     "text": [
      "100%|██████████████████████████████████████████████████████████████████| 3126/3126 [00:23<00:00, 131.74it/s, loss=0.53]\n",
      "100%|█████████████████████████████████████████████████████████████████████████████| 3126/3126 [00:05<00:00, 528.08it/s]\n",
      "100%|███████████████████████████████████████████████████████████████████████████████| 391/391 [00:00<00:00, 560.85it/s]\n",
      "100%|███████████████████████████████████████████████████████████████████████████████| 391/391 [00:00<00:00, 561.64it/s]\n"
     ]
    },
    {
     "name": "stdout",
     "output_type": "stream",
     "text": [
      "第2个epoch结束：\n",
      "训练集AUC:0.8091416416286583\n",
      "验证集AUC:0.7918019195820823\n",
      "测试集AUC:0.7912620579850443\n"
     ]
    },
    {
     "name": "stderr",
     "output_type": "stream",
     "text": [
      "100%|█████████████████████████████████████████████████████████████████| 3126/3126 [00:25<00:00, 121.99it/s, loss=0.522]\n",
      "100%|█████████████████████████████████████████████████████████████████████████████| 3126/3126 [00:05<00:00, 542.90it/s]\n",
      "100%|███████████████████████████████████████████████████████████████████████████████| 391/391 [00:00<00:00, 546.00it/s]\n",
      "100%|███████████████████████████████████████████████████████████████████████████████| 391/391 [00:00<00:00, 552.96it/s]\n"
     ]
    },
    {
     "name": "stdout",
     "output_type": "stream",
     "text": [
      "第3个epoch结束：\n",
      "训练集AUC:0.8152735961895464\n",
      "验证集AUC:0.7957324163944232\n",
      "测试集AUC:0.7951901141011439\n"
     ]
    },
    {
     "name": "stderr",
     "output_type": "stream",
     "text": [
      "100%|█████████████████████████████████████████████████████████████████| 3126/3126 [00:24<00:00, 128.51it/s, loss=0.515]\n",
      "100%|█████████████████████████████████████████████████████████████████████████████| 3126/3126 [00:05<00:00, 541.24it/s]\n",
      "100%|███████████████████████████████████████████████████████████████████████████████| 391/391 [00:00<00:00, 549.13it/s]\n",
      "100%|███████████████████████████████████████████████████████████████████████████████| 391/391 [00:00<00:00, 549.07it/s]\n"
     ]
    },
    {
     "name": "stdout",
     "output_type": "stream",
     "text": [
      "第4个epoch结束：\n",
      "训练集AUC:0.8222075173729044\n",
      "验证集AUC:0.7998136735137468\n",
      "测试集AUC:0.7992063018805784\n"
     ]
    },
    {
     "name": "stderr",
     "output_type": "stream",
     "text": [
      "100%|█████████████████████████████████████████████████████████████████| 3126/3126 [00:24<00:00, 128.22it/s, loss=0.507]\n",
      "100%|█████████████████████████████████████████████████████████████████████████████| 3126/3126 [00:06<00:00, 502.06it/s]\n",
      "100%|███████████████████████████████████████████████████████████████████████████████| 391/391 [00:00<00:00, 545.90it/s]\n",
      "100%|███████████████████████████████████████████████████████████████████████████████| 391/391 [00:00<00:00, 525.78it/s]\n"
     ]
    },
    {
     "name": "stdout",
     "output_type": "stream",
     "text": [
      "第5个epoch结束：\n",
      "训练集AUC:0.8301052392944221\n",
      "验证集AUC:0.803948079192209\n",
      "测试集AUC:0.8031993885345496\n"
     ]
    },
    {
     "name": "stderr",
     "output_type": "stream",
     "text": [
      "100%|█████████████████████████████████████████████████████████████████| 3126/3126 [00:24<00:00, 126.01it/s, loss=0.498]\n",
      "100%|█████████████████████████████████████████████████████████████████████████████| 3126/3126 [00:06<00:00, 464.79it/s]\n",
      "100%|███████████████████████████████████████████████████████████████████████████████| 391/391 [00:00<00:00, 444.82it/s]\n",
      "100%|███████████████████████████████████████████████████████████████████████████████| 391/391 [00:00<00:00, 427.13it/s]\n"
     ]
    },
    {
     "name": "stdout",
     "output_type": "stream",
     "text": [
      "第6个epoch结束：\n",
      "训练集AUC:0.8380444495423485\n",
      "验证集AUC:0.807240718322381\n",
      "测试集AUC:0.8063937513689026\n"
     ]
    },
    {
     "name": "stderr",
     "output_type": "stream",
     "text": [
      "100%|█████████████████████████████████████████████████████████████████| 3126/3126 [00:27<00:00, 112.46it/s, loss=0.489]\n",
      "100%|█████████████████████████████████████████████████████████████████████████████| 3126/3126 [00:06<00:00, 466.61it/s]\n",
      "100%|███████████████████████████████████████████████████████████████████████████████| 391/391 [00:00<00:00, 519.96it/s]\n",
      "100%|███████████████████████████████████████████████████████████████████████████████| 391/391 [00:00<00:00, 532.04it/s]\n"
     ]
    },
    {
     "name": "stdout",
     "output_type": "stream",
     "text": [
      "第7个epoch结束：\n",
      "训练集AUC:0.8458799759265268\n",
      "验证集AUC:0.8096178240895846\n",
      "测试集AUC:0.8087800393976436\n"
     ]
    },
    {
     "name": "stderr",
     "output_type": "stream",
     "text": [
      "100%|██████████████████████████████████████████████████████████████████| 3126/3126 [00:25<00:00, 121.80it/s, loss=0.48]\n",
      "100%|█████████████████████████████████████████████████████████████████████████████| 3126/3126 [00:06<00:00, 496.62it/s]\n",
      "100%|███████████████████████████████████████████████████████████████████████████████| 391/391 [00:00<00:00, 520.07it/s]\n",
      "100%|███████████████████████████████████████████████████████████████████████████████| 391/391 [00:00<00:00, 532.45it/s]\n"
     ]
    },
    {
     "name": "stdout",
     "output_type": "stream",
     "text": [
      "第8个epoch结束：\n",
      "训练集AUC:0.8536626485204355\n",
      "验证集AUC:0.8112615255413138\n",
      "测试集AUC:0.810530008465604\n"
     ]
    },
    {
     "name": "stderr",
     "output_type": "stream",
     "text": [
      "100%|█████████████████████████████████████████████████████████████████| 3126/3126 [00:24<00:00, 127.71it/s, loss=0.471]\n",
      "100%|█████████████████████████████████████████████████████████████████████████████| 3126/3126 [00:05<00:00, 522.02it/s]\n",
      "100%|███████████████████████████████████████████████████████████████████████████████| 391/391 [00:00<00:00, 557.65it/s]\n",
      "100%|███████████████████████████████████████████████████████████████████████████████| 391/391 [00:00<00:00, 527.87it/s]\n"
     ]
    },
    {
     "name": "stdout",
     "output_type": "stream",
     "text": [
      "第9个epoch结束：\n",
      "训练集AUC:0.861192065260819\n",
      "验证集AUC:0.8122029626191594\n",
      "测试集AUC:0.8116440877983702\n"
     ]
    },
    {
     "name": "stderr",
     "output_type": "stream",
     "text": [
      "100%|█████████████████████████████████████████████████████████████████| 3126/3126 [00:26<00:00, 117.75it/s, loss=0.463]\n",
      "100%|█████████████████████████████████████████████████████████████████████████████| 3126/3126 [00:06<00:00, 505.49it/s]\n",
      "100%|███████████████████████████████████████████████████████████████████████████████| 391/391 [00:00<00:00, 469.18it/s]\n",
      "100%|███████████████████████████████████████████████████████████████████████████████| 391/391 [00:00<00:00, 501.91it/s]\n"
     ]
    },
    {
     "name": "stdout",
     "output_type": "stream",
     "text": [
      "第10个epoch结束：\n",
      "训练集AUC:0.8681908298095679\n",
      "验证集AUC:0.8124687117476805\n",
      "测试集AUC:0.8121066813820568\n"
     ]
    },
    {
     "name": "stderr",
     "output_type": "stream",
     "text": [
      " 59%|██████████████████████████████████████▋                          | 1858/3126 [00:15<00:10, 123.82it/s, loss=0.459]"
     ]
    }
   ],
   "source": [
    "device = try_gpu()   #torch.device('cpu') \n",
    "print(device)\n",
    "model = model.to(device)\n",
    "criterion = torch.nn.BCELoss()\n",
    "optimizer = torch.optim.Adam(params=model.parameters(), lr=0.001, weight_decay=0.000001)\n",
    "#num_trials:表示尝试num_trials次后，如果没有提升就提前终止训练\n",
    "#save_path：表示每次最优模型的存放路径\n",
    "early_stopper = EarlyStopper(num_trials=2, save_path='result/model_001.pt')\n",
    "#开始训练\n",
    "time_start = time.time() #开始计时\n",
    "for epoch_i in range(100):\n",
    "    \n",
    "    train(model, optimizer, train_data_loader, criterion, device)\n",
    "    auc_train = test(model, train_data_loader, device)\n",
    "    auc_valid = test(model, valid_data_loader, device)\n",
    "    auc_test = test(model, test_data_loader, device)\n",
    "    print('第{}个epoch结束：'.format(epoch_i))\n",
    "    print('训练集AUC:{}'.format(auc_train))\n",
    "    print('验证集AUC:{}'.format(auc_valid))\n",
    "    print('测试集AUC:{}'.format(auc_test))\n",
    "    \n",
    "    if not early_stopper.is_continuable(model, auc_valid):\n",
    "        print('验证集上AUC的最高值是:{}'.format(early_stopper.best_accuracy))\n",
    "        break\n",
    "time_end = time.time()    #结束计时\n",
    "time_c= time_end - time_start   #运行所花时间\n",
    "print('用时', time_c, 's')"
   ]
  },
  {
   "cell_type": "code",
   "execution_count": null,
   "id": "05a8eee8",
   "metadata": {},
   "outputs": [],
   "source": []
  }
 ],
 "metadata": {
  "kernelspec": {
   "display_name": "Python 3 (ipykernel)",
   "language": "python",
   "name": "python3"
  },
  "language_info": {
   "codemirror_mode": {
    "name": "ipython",
    "version": 3
   },
   "file_extension": ".py",
   "mimetype": "text/x-python",
   "name": "python",
   "nbconvert_exporter": "python",
   "pygments_lexer": "ipython3",
   "version": "3.8.8"
  }
 },
 "nbformat": 4,
 "nbformat_minor": 5
}
