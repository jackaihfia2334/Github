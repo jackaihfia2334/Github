{
 "cells": [
  {
   "cell_type": "code",
   "execution_count": 6,
   "id": "spanish-extra",
   "metadata": {},
   "outputs": [],
   "source": [
    "import numpy as np\n",
    "import time\n",
    "import pandas as pd\n",
    "import torch\n",
    "from FM_pytorch.fm import FactorizationMachineModel\n",
    "from FM_pytorch.movielens import MovieLens1MDataset\n",
    "from FM_pytorch.train import train,test,EarlyStopper\n",
    "from torch.utils.data import DataLoader"
   ]
  },
  {
   "cell_type": "markdown",
   "id": "moderate-thong",
   "metadata": {},
   "source": [
    "# 获取数据集与模型"
   ]
  },
  {
   "cell_type": "code",
   "execution_count": 7,
   "id": "geographic-danish",
   "metadata": {
    "scrolled": true
   },
   "outputs": [],
   "source": [
    "dataset=MovieLens1MDataset('./data/ml-1m/ratings.dat')\n",
    "#field_dims = dataset.field_dims\n",
    "#print(field_dims)\n",
    "#offsets = np.array((0, *np.cumsum(field_dims)))   \n",
    "model=FactorizationMachineModel(dataset.field_dims, embed_dim=16)"
   ]
  },
  {
   "cell_type": "markdown",
   "id": "applicable-anthropology",
   "metadata": {},
   "source": [
    "## 数据集拆分并用DataLoader加载"
   ]
  },
  {
   "cell_type": "code",
   "execution_count": 8,
   "id": "living-schema",
   "metadata": {},
   "outputs": [],
   "source": [
    "#按8:1:1比例拆分为训练集、验证集、测试集\n",
    "train_length = int(len(dataset) * 0.8)\n",
    "valid_length = int(len(dataset) * 0.1)\n",
    "test_length = len(dataset) - train_length - valid_length\n",
    "train_dataset, valid_dataset, test_dataset = torch.utils.data.random_split(\n",
    "    dataset, (train_length, valid_length, test_length))\n",
    "\n",
    "#利用DataLoader加载，每个batch_size=256\n",
    "train_data_loader = DataLoader(train_dataset, batch_size=256, num_workers=0)\n",
    "valid_data_loader = DataLoader(valid_dataset, batch_size=256, num_workers=0)\n",
    "test_data_loader = DataLoader(test_dataset, batch_size=256, num_workers=0)"
   ]
  },
  {
   "cell_type": "markdown",
   "id": "d663b1f2",
   "metadata": {},
   "source": [
    "# GPU"
   ]
  },
  {
   "cell_type": "code",
   "execution_count": 9,
   "id": "92ab061b",
   "metadata": {},
   "outputs": [],
   "source": [
    "def try_gpu(i=0):  #@save\n",
    "    #如果存在,则返回gpu(i),否则返回cpu()\n",
    "    if torch.cuda.device_count() >= i + 1:\n",
    "        return torch.device(f'cuda:{i}')\n",
    "    return torch.device('cpu')"
   ]
  },
  {
   "cell_type": "markdown",
   "id": "approximate-patent",
   "metadata": {},
   "source": [
    "# 开始训练模型"
   ]
  },
  {
   "cell_type": "code",
   "execution_count": 10,
   "id": "prospective-newspaper",
   "metadata": {},
   "outputs": [
    {
     "name": "stdout",
     "output_type": "stream",
     "text": [
      "cuda:0\n"
     ]
    },
    {
     "name": "stderr",
     "output_type": "stream",
     "text": [
      "100%|██████████| 3126/3126 [00:07<00:00, 429.37it/s, loss=0.594]\n",
      "100%|██████████| 3126/3126 [00:04<00:00, 765.27it/s]\n",
      "100%|██████████| 391/391 [00:00<00:00, 759.79it/s]\n",
      "100%|██████████| 391/391 [00:00<00:00, 759.42it/s]\n"
     ]
    },
    {
     "name": "stdout",
     "output_type": "stream",
     "text": [
      "第0个epoch结束：\n",
      "训练集AUC:0.7520562172471187\n",
      "验证集AUC:0.7411171482976165\n",
      "测试集AUC:0.7403977304701022\n"
     ]
    },
    {
     "name": "stderr",
     "output_type": "stream",
     "text": [
      "100%|██████████| 3126/3126 [00:07<00:00, 441.11it/s, loss=0.54] \n",
      "100%|██████████| 3126/3126 [00:04<00:00, 774.87it/s]\n",
      "100%|██████████| 391/391 [00:00<00:00, 752.49it/s]\n",
      "100%|██████████| 391/391 [00:00<00:00, 756.79it/s]\n"
     ]
    },
    {
     "name": "stdout",
     "output_type": "stream",
     "text": [
      "第1个epoch结束：\n",
      "训练集AUC:0.7981279927458823\n",
      "验证集AUC:0.7817654402558323\n",
      "测试集AUC:0.7830104437776813\n"
     ]
    },
    {
     "name": "stderr",
     "output_type": "stream",
     "text": [
      "100%|██████████| 3126/3126 [00:07<00:00, 439.04it/s, loss=0.527]\n",
      "100%|██████████| 3126/3126 [00:04<00:00, 775.64it/s]\n",
      "100%|██████████| 391/391 [00:00<00:00, 748.18it/s]\n",
      "100%|██████████| 391/391 [00:00<00:00, 768.78it/s]\n"
     ]
    },
    {
     "name": "stdout",
     "output_type": "stream",
     "text": [
      "第2个epoch结束：\n",
      "训练集AUC:0.8083780038469388\n",
      "验证集AUC:0.7897818853676355\n",
      "测试集AUC:0.7914348112259878\n"
     ]
    },
    {
     "name": "stderr",
     "output_type": "stream",
     "text": [
      "100%|██████████| 3126/3126 [00:07<00:00, 445.16it/s, loss=0.52] \n",
      "100%|██████████| 3126/3126 [00:04<00:00, 765.03it/s]\n",
      "100%|██████████| 391/391 [00:00<00:00, 767.21it/s]\n",
      "100%|██████████| 391/391 [00:00<00:00, 758.30it/s]\n"
     ]
    },
    {
     "name": "stdout",
     "output_type": "stream",
     "text": [
      "第3个epoch结束：\n",
      "训练集AUC:0.8141980270155611\n",
      "验证集AUC:0.7937506897134575\n",
      "测试集AUC:0.7954615124991131\n"
     ]
    },
    {
     "name": "stderr",
     "output_type": "stream",
     "text": [
      "100%|██████████| 3126/3126 [00:07<00:00, 434.79it/s, loss=0.513]\n",
      "100%|██████████| 3126/3126 [00:04<00:00, 763.61it/s]\n",
      "100%|██████████| 391/391 [00:00<00:00, 766.47it/s]\n",
      "100%|██████████| 391/391 [00:00<00:00, 764.17it/s]\n"
     ]
    },
    {
     "name": "stdout",
     "output_type": "stream",
     "text": [
      "第4个epoch结束：\n",
      "训练集AUC:0.8203167592835956\n",
      "验证集AUC:0.7974903250302148\n",
      "测试集AUC:0.7991095193144302\n"
     ]
    },
    {
     "name": "stderr",
     "output_type": "stream",
     "text": [
      "100%|██████████| 3126/3126 [00:07<00:00, 438.19it/s, loss=0.505]\n",
      "100%|██████████| 3126/3126 [00:04<00:00, 765.45it/s]\n",
      "100%|██████████| 391/391 [00:00<00:00, 764.18it/s]\n",
      "100%|██████████| 391/391 [00:00<00:00, 769.98it/s]\n"
     ]
    },
    {
     "name": "stdout",
     "output_type": "stream",
     "text": [
      "第5个epoch结束：\n",
      "训练集AUC:0.8277636350637111\n",
      "验证集AUC:0.8015665150773982\n",
      "测试集AUC:0.8029678551440949\n"
     ]
    },
    {
     "name": "stderr",
     "output_type": "stream",
     "text": [
      "100%|██████████| 3126/3126 [00:07<00:00, 439.76it/s, loss=0.496]\n",
      "100%|██████████| 3126/3126 [00:04<00:00, 773.96it/s]\n",
      "100%|██████████| 391/391 [00:00<00:00, 746.52it/s]\n",
      "100%|██████████| 391/391 [00:00<00:00, 767.21it/s]\n"
     ]
    },
    {
     "name": "stdout",
     "output_type": "stream",
     "text": [
      "第6个epoch结束：\n",
      "训练集AUC:0.8358357233518798\n",
      "验证集AUC:0.8052316632249528\n",
      "测试集AUC:0.8063505591275895\n"
     ]
    },
    {
     "name": "stderr",
     "output_type": "stream",
     "text": [
      "100%|██████████| 3126/3126 [00:07<00:00, 428.74it/s, loss=0.487]\n",
      "100%|██████████| 3126/3126 [00:04<00:00, 769.81it/s]\n",
      "100%|██████████| 391/391 [00:00<00:00, 769.29it/s]\n",
      "100%|██████████| 391/391 [00:00<00:00, 750.99it/s]\n"
     ]
    },
    {
     "name": "stdout",
     "output_type": "stream",
     "text": [
      "第7个epoch结束：\n",
      "训练集AUC:0.8439712466578768\n",
      "验证集AUC:0.8080624566478847\n",
      "测试集AUC:0.8089221400430155\n"
     ]
    },
    {
     "name": "stderr",
     "output_type": "stream",
     "text": [
      "100%|██████████| 3126/3126 [00:07<00:00, 439.08it/s, loss=0.478]\n",
      "100%|██████████| 3126/3126 [00:04<00:00, 762.71it/s]\n",
      "100%|██████████| 391/391 [00:00<00:00, 746.76it/s]\n",
      "100%|██████████| 391/391 [00:00<00:00, 769.97it/s]\n"
     ]
    },
    {
     "name": "stdout",
     "output_type": "stream",
     "text": [
      "第8个epoch结束：\n",
      "训练集AUC:0.8520856787623481\n",
      "验证集AUC:0.810108067728466\n",
      "测试集AUC:0.8107657114700282\n"
     ]
    },
    {
     "name": "stderr",
     "output_type": "stream",
     "text": [
      "100%|██████████| 3126/3126 [00:07<00:00, 433.72it/s, loss=0.469]\n",
      "100%|██████████| 3126/3126 [00:04<00:00, 759.32it/s]\n",
      "100%|██████████| 391/391 [00:00<00:00, 603.48it/s]\n",
      "100%|██████████| 391/391 [00:00<00:00, 727.09it/s]\n"
     ]
    },
    {
     "name": "stdout",
     "output_type": "stream",
     "text": [
      "第9个epoch结束：\n",
      "训练集AUC:0.8599820618307077\n",
      "验证集AUC:0.8114168649871307\n",
      "测试集AUC:0.811931342748962\n"
     ]
    },
    {
     "name": "stderr",
     "output_type": "stream",
     "text": [
      "100%|██████████| 3126/3126 [00:07<00:00, 426.12it/s, loss=0.46] \n",
      "100%|██████████| 3126/3126 [00:04<00:00, 769.05it/s]\n",
      "100%|██████████| 391/391 [00:00<00:00, 738.27it/s]\n",
      "100%|██████████| 391/391 [00:00<00:00, 749.56it/s]\n"
     ]
    },
    {
     "name": "stdout",
     "output_type": "stream",
     "text": [
      "第10个epoch结束：\n",
      "训练集AUC:0.8673503062345884\n",
      "验证集AUC:0.8120132817276615\n",
      "测试集AUC:0.8124240741210302\n"
     ]
    },
    {
     "name": "stderr",
     "output_type": "stream",
     "text": [
      "100%|██████████| 3126/3126 [00:07<00:00, 434.85it/s, loss=0.451]\n",
      "100%|██████████| 3126/3126 [00:04<00:00, 763.24it/s]\n",
      "100%|██████████| 391/391 [00:00<00:00, 720.46it/s]\n",
      "100%|██████████| 391/391 [00:00<00:00, 762.69it/s]\n"
     ]
    },
    {
     "name": "stdout",
     "output_type": "stream",
     "text": [
      "第11个epoch结束：\n",
      "训练集AUC:0.873928859213086\n",
      "验证集AUC:0.8119499646539186\n",
      "测试集AUC:0.812281751866247\n"
     ]
    },
    {
     "name": "stderr",
     "output_type": "stream",
     "text": [
      "100%|██████████| 3126/3126 [00:07<00:00, 434.25it/s, loss=0.443]\n",
      "100%|██████████| 3126/3126 [00:04<00:00, 771.57it/s]\n",
      "100%|██████████| 391/391 [00:00<00:00, 767.78it/s]\n",
      "100%|██████████| 391/391 [00:00<00:00, 751.62it/s]"
     ]
    },
    {
     "name": "stdout",
     "output_type": "stream",
     "text": [
      "第12个epoch结束：\n",
      "训练集AUC:0.8796016384192284\n",
      "验证集AUC:0.8113540685291312\n",
      "测试集AUC:0.8116193380983161\n",
      "验证集上AUC的最高值是:0.8120132817276615\n",
      "time cost 165.18618297576904 s\n"
     ]
    },
    {
     "name": "stderr",
     "output_type": "stream",
     "text": [
      "\n"
     ]
    }
   ],
   "source": [
    "device = try_gpu()   #torch.device('cpu') \n",
    "print(device)\n",
    "model = model.to(device)\n",
    "criterion = torch.nn.BCELoss()\n",
    "optimizer = torch.optim.Adam(params=model.parameters(), lr=0.001, weight_decay=0.000001)\n",
    "#num_trials:表示尝试num_trials次后，如果没有提升就提前终止训练\n",
    "#save_path：表示每次最优模型的存放路径\n",
    "early_stopper = EarlyStopper(num_trials=2, save_path='result/model_001.pt')\n",
    "#开始训练\n",
    "time_start = time.time() #开始计时\n",
    "for epoch_i in range(100):\n",
    "    \n",
    "    train(model, optimizer, train_data_loader, criterion, device)\n",
    "    auc_train = test(model, train_data_loader, device)\n",
    "    auc_valid = test(model, valid_data_loader, device)\n",
    "    auc_test = test(model, test_data_loader, device)\n",
    "    print('第{}个epoch结束：'.format(epoch_i))\n",
    "    print('训练集AUC:{}'.format(auc_train))\n",
    "    print('验证集AUC:{}'.format(auc_valid))\n",
    "    print('测试集AUC:{}'.format(auc_test))\n",
    "    \n",
    "    if not early_stopper.is_continuable(model, auc_valid):\n",
    "        print('验证集上AUC的最高值是:{}'.format(early_stopper.best_accuracy))\n",
    "        break\n",
    "time_end = time.time()    #结束计时\n",
    "time_c= time_end - time_start   #运行所花时间\n",
    "print('用时', time_c, 's')"
   ]
  },
  {
   "cell_type": "code",
   "execution_count": null,
   "id": "05a8eee8",
   "metadata": {},
   "outputs": [],
   "source": []
  }
 ],
 "metadata": {
  "kernelspec": {
   "display_name": "Python 3",
   "language": "python",
   "name": "python3"
  },
  "language_info": {
   "codemirror_mode": {
    "name": "ipython",
    "version": 3
   },
   "file_extension": ".py",
   "mimetype": "text/x-python",
   "name": "python",
   "nbconvert_exporter": "python",
   "pygments_lexer": "ipython3",
   "version": "3.8.10"
  }
 },
 "nbformat": 4,
 "nbformat_minor": 5
}
