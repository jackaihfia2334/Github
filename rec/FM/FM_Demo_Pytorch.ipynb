{
 "cells": [
  {
   "cell_type": "code",
   "execution_count": 6,
   "id": "spanish-extra",
   "metadata": {},
   "outputs": [],
   "source": [
    "import numpy as np\n",
    "import time\n",
    "import pandas as pd\n",
    "import torch\n",
    "from FM_pytorch.fm import FactorizationMachineModel\n",
    "from FM_pytorch.movielens import MovieLens1MDataset\n",
    "from FM_pytorch.train import train,test,EarlyStopper\n",
    "from torch.utils.data import DataLoader"
   ]
  },
  {
   "cell_type": "markdown",
   "id": "moderate-thong",
   "metadata": {},
   "source": [
    "# 获取数据集与模型"
   ]
  },
  {
   "cell_type": "code",
   "execution_count": 7,
   "id": "geographic-danish",
   "metadata": {
    "scrolled": true
   },
   "outputs": [],
   "source": [
    "dataset=MovieLens1MDataset('./data/ml-1m/ratings.dat')\n",
    "#field_dims = dataset.field_dims\n",
    "#print(field_dims)\n",
    "#offsets = np.array((0, *np.cumsum(field_dims)))   \n",
    "model=FactorizationMachineModel(dataset.field_dims, embed_dim=16)"
   ]
  },
  {
   "cell_type": "markdown",
   "id": "applicable-anthropology",
   "metadata": {},
   "source": [
    "## 数据集拆分并用DataLoader加载"
   ]
  },
  {
   "cell_type": "code",
   "execution_count": 8,
   "id": "living-schema",
   "metadata": {},
   "outputs": [],
   "source": [
    "#按8:1:1比例拆分为训练集、验证集、测试集\n",
    "train_length = int(len(dataset) * 0.8)\n",
    "valid_length = int(len(dataset) * 0.1)\n",
    "test_length = len(dataset) - train_length - valid_length\n",
    "train_dataset, valid_dataset, test_dataset = torch.utils.data.random_split(\n",
    "    dataset, (train_length, valid_length, test_length))\n",
    "\n",
    "#利用DataLoader加载，每个batch_size=256\n",
    "train_data_loader = DataLoader(train_dataset, batch_size=256, num_workers=0)\n",
    "valid_data_loader = DataLoader(valid_dataset, batch_size=256, num_workers=0)\n",
    "test_data_loader = DataLoader(test_dataset, batch_size=256, num_workers=0)"
   ]
  },
  {
   "cell_type": "markdown",
   "id": "d663b1f2",
   "metadata": {},
   "source": [
    "# GPU"
   ]
  },
  {
   "cell_type": "code",
   "execution_count": 9,
   "id": "92ab061b",
   "metadata": {},
   "outputs": [],
   "source": [
    "def try_gpu(i=0):  #@save\n",
    "    #如果存在,则返回gpu(i),否则返回cpu()\n",
    "    if torch.cuda.device_count() >= i + 1:\n",
    "        return torch.device(f'cuda:{i}')\n",
    "    return torch.device('cpu')"
   ]
  },
  {
   "cell_type": "markdown",
   "id": "approximate-patent",
   "metadata": {},
   "source": [
    "# 开始训练模型"
   ]
  },
  {
   "cell_type": "code",
   "execution_count": 11,
   "id": "prospective-newspaper",
   "metadata": {},
   "outputs": [
    {
     "name": "stdout",
     "output_type": "stream",
     "text": [
      "cuda:0\n"
     ]
    },
    {
     "name": "stderr",
     "output_type": "stream",
     "text": [
      "100%|██████████| 3126/3126 [00:07<00:00, 404.65it/s, loss=0.441]\n",
      "100%|██████████| 3126/3126 [00:04<00:00, 771.82it/s]\n",
      "100%|██████████| 391/391 [00:00<00:00, 741.07it/s]\n",
      "100%|██████████| 391/391 [00:00<00:00, 758.25it/s]\n"
     ]
    },
    {
     "name": "stdout",
     "output_type": "stream",
     "text": [
      "第0个epoch结束：\n",
      "训练集AUC:0.8817858048783035\n",
      "验证集AUC:0.8105748050675798\n",
      "测试集AUC:0.8108016607333699\n"
     ]
    },
    {
     "name": "stderr",
     "output_type": "stream",
     "text": [
      "100%|██████████| 3126/3126 [00:07<00:00, 425.23it/s, loss=0.434]\n",
      "100%|██████████| 3126/3126 [00:04<00:00, 747.52it/s]\n",
      "100%|██████████| 391/391 [00:00<00:00, 751.05it/s]\n",
      "100%|██████████| 391/391 [00:00<00:00, 732.75it/s]\n"
     ]
    },
    {
     "name": "stdout",
     "output_type": "stream",
     "text": [
      "第1个epoch结束：\n",
      "训练集AUC:0.8863932196706997\n",
      "验证集AUC:0.8096108919816281\n",
      "测试集AUC:0.8097845281566891\n"
     ]
    },
    {
     "name": "stderr",
     "output_type": "stream",
     "text": [
      "100%|██████████| 3126/3126 [00:07<00:00, 421.40it/s, loss=0.428]\n",
      "100%|██████████| 3126/3126 [00:04<00:00, 701.52it/s]\n",
      "100%|██████████| 391/391 [00:00<00:00, 777.80it/s]\n",
      "100%|██████████| 391/391 [00:00<00:00, 762.78it/s]"
     ]
    },
    {
     "name": "stdout",
     "output_type": "stream",
     "text": [
      "第2个epoch结束：\n",
      "训练集AUC:0.8901298557079893\n",
      "验证集AUC:0.808446683150216\n",
      "测试集AUC:0.8085473064782682\n",
      "验证集上AUC的最高值是:0.8105748050675798\n",
      "用时 39.523096561431885 s\n"
     ]
    },
    {
     "name": "stderr",
     "output_type": "stream",
     "text": [
      "\n"
     ]
    }
   ],
   "source": [
    "device = try_gpu()   #torch.device('cpu') \n",
    "print(device)\n",
    "model = model.to(device)\n",
    "criterion = torch.nn.BCELoss()\n",
    "optimizer = torch.optim.Adam(params=model.parameters(), lr=0.001, weight_decay=0.000001)\n",
    "#num_trials:表示尝试num_trials次后，如果没有提升就提前终止训练\n",
    "#save_path：表示每次最优模型的存放路径\n",
    "early_stopper = EarlyStopper(num_trials=2, save_path='result/model_001.pt')\n",
    "#开始训练\n",
    "time_start = time.time() #开始计时\n",
    "for epoch_i in range(100):\n",
    "    \n",
    "    train(model, optimizer, train_data_loader, criterion, device)\n",
    "    auc_train = test(model, train_data_loader, device)\n",
    "    auc_valid = test(model, valid_data_loader, device)\n",
    "    auc_test = test(model, test_data_loader, device)\n",
    "    print('第{}个epoch结束：'.format(epoch_i))\n",
    "    print('训练集AUC:{}'.format(auc_train))\n",
    "    print('验证集AUC:{}'.format(auc_valid))\n",
    "    print('测试集AUC:{}'.format(auc_test))\n",
    "    \n",
    "    if not early_stopper.is_continuable(model, auc_valid):\n",
    "        print('验证集上AUC的最高值是:{}'.format(early_stopper.best_accuracy))\n",
    "        break\n",
    "time_end = time.time()    #结束计时\n",
    "time_c= time_end - time_start   #运行所花时间\n",
    "print('用时', time_c, 's')"
   ]
  },
  {
   "cell_type": "code",
   "execution_count": null,
   "id": "05a8eee8",
   "metadata": {},
   "outputs": [],
   "source": []
  }
 ],
 "metadata": {
  "kernelspec": {
   "display_name": "Python 3",
   "language": "python",
   "name": "python3"
  },
  "language_info": {
   "codemirror_mode": {
    "name": "ipython",
    "version": 3
   },
   "file_extension": ".py",
   "mimetype": "text/x-python",
   "name": "python",
   "nbconvert_exporter": "python",
   "pygments_lexer": "ipython3",
   "version": "3.8.10"
  }
 },
 "nbformat": 4,
 "nbformat_minor": 5
}
