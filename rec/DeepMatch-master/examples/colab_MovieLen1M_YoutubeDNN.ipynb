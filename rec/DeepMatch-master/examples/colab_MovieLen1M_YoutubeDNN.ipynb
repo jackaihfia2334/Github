{
 "cells": [
  {
   "cell_type": "markdown",
   "metadata": {
    "id": "rtox72csOQUN"
   },
   "source": [
    "# DeepMatch 样例代码\n",
    "- https://github.com/shenweichen/DeepMatch\n",
    "- https://deepmatch.readthedocs.io/en/latest/"
   ]
  },
  {
   "cell_type": "code",
   "execution_count": 1,
   "metadata": {},
   "outputs": [
    {
     "data": {
      "text/plain": [
       "'2.5.0'"
      ]
     },
     "execution_count": 1,
     "metadata": {},
     "output_type": "execute_result"
    }
   ],
   "source": [
    "import tensorflow as tf\n",
    "tf.__version__"
   ]
  },
  {
   "cell_type": "code",
   "execution_count": 2,
   "metadata": {},
   "outputs": [],
   "source": [
    "import deepmatch\n",
    "import deepctr"
   ]
  },
  {
   "cell_type": "code",
   "execution_count": 3,
   "metadata": {},
   "outputs": [
    {
     "name": "stdout",
     "output_type": "stream",
     "text": [
      "# packages in environment at C:\\Users\\myf\\.conda\\envs\\tf2:\n",
      "#\n",
      "# Name                    Version                   Build  Channel\n",
      "absl-py                   0.15.0                   pypi_0    pypi\n",
      "alabaster                 0.7.12             pyhd3eb1b0_0    https://mirrors.tuna.tsinghua.edu.cn/anaconda/pkgs/main\n",
      "argon2-cffi               21.3.0             pyhd3eb1b0_0    https://mirrors.tuna.tsinghua.edu.cn/anaconda/pkgs/main\n",
      "argon2-cffi-bindings      21.2.0           py38h2bbff1b_0    https://mirrors.tuna.tsinghua.edu.cn/anaconda/pkgs/main\n",
      "arrow                     1.2.3            py38haa95532_0    https://mirrors.tuna.tsinghua.edu.cn/anaconda/pkgs/main\n",
      "astroid                   2.11.7           py38haa95532_0    https://mirrors.tuna.tsinghua.edu.cn/anaconda/pkgs/main\n",
      "astunparse                1.6.3                    pypi_0    pypi\n",
      "atomicwrites              1.4.0                      py_0    https://mirrors.tuna.tsinghua.edu.cn/anaconda/pkgs/main\n",
      "attrs                     21.4.0             pyhd3eb1b0_0    https://mirrors.tuna.tsinghua.edu.cn/anaconda/pkgs/main\n",
      "autopep8                  1.6.0              pyhd3eb1b0_1    https://mirrors.tuna.tsinghua.edu.cn/anaconda/pkgs/main\n",
      "babel                     2.9.1              pyhd3eb1b0_0    https://mirrors.tuna.tsinghua.edu.cn/anaconda/pkgs/main\n",
      "backcall                  0.2.0              pyhd3eb1b0_0    https://mirrors.tuna.tsinghua.edu.cn/anaconda/pkgs/main\n",
      "bcrypt                    3.2.0            py38h2bbff1b_1    https://mirrors.tuna.tsinghua.edu.cn/anaconda/pkgs/main\n",
      "beautifulsoup4            4.11.1           py38haa95532_0    https://mirrors.tuna.tsinghua.edu.cn/anaconda/pkgs/main\n",
      "binaryornot               0.4.4              pyhd3eb1b0_1    https://mirrors.tuna.tsinghua.edu.cn/anaconda/pkgs/main\n",
      "black                     22.6.0           py38haa95532_0    https://mirrors.tuna.tsinghua.edu.cn/anaconda/pkgs/main\n",
      "blas                      1.0                         mkl    https://mirrors.tuna.tsinghua.edu.cn/anaconda/pkgs/main\n",
      "bleach                    4.1.0              pyhd3eb1b0_0    https://mirrors.tuna.tsinghua.edu.cn/anaconda/pkgs/main\n",
      "bottleneck                1.3.5            py38h080aedc_0    https://mirrors.tuna.tsinghua.edu.cn/anaconda/pkgs/main\n",
      "brotli                    1.0.9                h2bbff1b_7    https://mirrors.tuna.tsinghua.edu.cn/anaconda/pkgs/main\n",
      "brotli-bin                1.0.9                h2bbff1b_7    https://mirrors.tuna.tsinghua.edu.cn/anaconda/pkgs/main\n",
      "brotlipy                  0.7.0           py38h2bbff1b_1003    https://mirrors.tuna.tsinghua.edu.cn/anaconda/pkgs/main\n",
      "ca-certificates           2022.10.11           haa95532_0    https://mirrors.tuna.tsinghua.edu.cn/anaconda/pkgs/main\n",
      "cachetools                5.2.0                    pypi_0    pypi\n",
      "certifi                   2022.9.24        py38haa95532_0    https://mirrors.tuna.tsinghua.edu.cn/anaconda/pkgs/main\n",
      "cffi                      1.15.1           py38h2bbff1b_0    https://mirrors.tuna.tsinghua.edu.cn/anaconda/pkgs/main\n",
      "chardet                   4.0.0           py38haa95532_1003    https://mirrors.tuna.tsinghua.edu.cn/anaconda/pkgs/main\n",
      "charset-normalizer        2.1.1                    pypi_0    pypi\n",
      "click                     8.0.4            py38haa95532_0    https://mirrors.tuna.tsinghua.edu.cn/anaconda/pkgs/main\n",
      "cloudpickle               2.0.0              pyhd3eb1b0_0    https://mirrors.tuna.tsinghua.edu.cn/anaconda/pkgs/main\n",
      "colorama                  0.4.5            py38haa95532_0    https://mirrors.tuna.tsinghua.edu.cn/anaconda/pkgs/main\n",
      "cookiecutter              1.7.3              pyhd3eb1b0_0    https://mirrors.tuna.tsinghua.edu.cn/anaconda/pkgs/main\n",
      "cryptography              38.0.1           py38h21b164f_0    https://mirrors.tuna.tsinghua.edu.cn/anaconda/pkgs/main\n",
      "cycler                    0.11.0             pyhd3eb1b0_0    https://mirrors.tuna.tsinghua.edu.cn/anaconda/pkgs/main\n",
      "debugpy                   1.5.1            py38hd77b12b_0    https://mirrors.tuna.tsinghua.edu.cn/anaconda/pkgs/main\n",
      "decorator                 5.1.1              pyhd3eb1b0_0    https://mirrors.tuna.tsinghua.edu.cn/anaconda/pkgs/main\n",
      "deepctr                   0.9.2                    pypi_0    pypi\n",
      "deepmatch                 0.3.1                    pypi_0    pypi\n",
      "defusedxml                0.7.1              pyhd3eb1b0_0    https://mirrors.tuna.tsinghua.edu.cn/anaconda/pkgs/main\n",
      "diff-match-patch          20200713           pyhd3eb1b0_0    https://mirrors.tuna.tsinghua.edu.cn/anaconda/pkgs/main\n",
      "dill                      0.3.4              pyhd3eb1b0_0    https://mirrors.tuna.tsinghua.edu.cn/anaconda/pkgs/main\n",
      "docutils                  0.18.1           py38haa95532_3    https://mirrors.tuna.tsinghua.edu.cn/anaconda/pkgs/main\n",
      "entrypoints               0.4              py38haa95532_0    https://mirrors.tuna.tsinghua.edu.cn/anaconda/pkgs/main\n",
      "faiss                     1.7.2                    pypi_0    pypi\n",
      "faiss-cpu                 1.7.2           py3.8_h2272212_0_cpu    pytorch\n",
      "flake8                    4.0.1              pyhd3eb1b0_1    https://mirrors.tuna.tsinghua.edu.cn/anaconda/pkgs/main\n",
      "flatbuffers               1.12                     pypi_0    pypi\n",
      "fonttools                 4.25.0             pyhd3eb1b0_0    https://mirrors.tuna.tsinghua.edu.cn/anaconda/pkgs/main\n",
      "freetype                  2.12.1               ha860e81_0    https://mirrors.tuna.tsinghua.edu.cn/anaconda/pkgs/main\n",
      "gast                      0.4.0                    pypi_0    pypi\n",
      "glib                      2.69.1               h5dc1a3c_1    https://mirrors.tuna.tsinghua.edu.cn/anaconda/pkgs/main\n",
      "google-auth               2.14.0                   pypi_0    pypi\n",
      "google-auth-oauthlib      0.4.6                    pypi_0    pypi\n",
      "google-pasta              0.2.0                    pypi_0    pypi\n",
      "grpcio                    1.34.1                   pypi_0    pypi\n",
      "gst-plugins-base          1.18.5               h9e645db_0    https://mirrors.tuna.tsinghua.edu.cn/anaconda/pkgs/main\n",
      "gstreamer                 1.18.5               hd78058f_0    https://mirrors.tuna.tsinghua.edu.cn/anaconda/pkgs/main\n",
      "h5py                      3.1.0                    pypi_0    pypi\n",
      "icu                       58.2                 ha925a31_3    https://mirrors.tuna.tsinghua.edu.cn/anaconda/pkgs/main\n",
      "idna                      3.4              py38haa95532_0    https://mirrors.tuna.tsinghua.edu.cn/anaconda/pkgs/main\n",
      "imagesize                 1.4.1            py38haa95532_0    https://mirrors.tuna.tsinghua.edu.cn/anaconda/pkgs/main\n",
      "importlib-metadata        5.0.0                    pypi_0    pypi\n",
      "importlib_metadata        4.11.3               hd3eb1b0_0    https://mirrors.tuna.tsinghua.edu.cn/anaconda/pkgs/main\n",
      "importlib_resources       5.2.0              pyhd3eb1b0_1    https://mirrors.tuna.tsinghua.edu.cn/anaconda/pkgs/main\n",
      "inflection                0.5.1            py38haa95532_0    https://mirrors.tuna.tsinghua.edu.cn/anaconda/pkgs/main\n",
      "intel-openmp              2021.4.0          haa95532_3556    https://mirrors.tuna.tsinghua.edu.cn/anaconda/pkgs/main\n",
      "intervaltree              3.1.0              pyhd3eb1b0_0    https://mirrors.tuna.tsinghua.edu.cn/anaconda/pkgs/main\n",
      "ipykernel                 6.15.2           py38haa95532_0    https://mirrors.tuna.tsinghua.edu.cn/anaconda/pkgs/main\n",
      "ipython                   7.31.1           py38haa95532_1    https://mirrors.tuna.tsinghua.edu.cn/anaconda/pkgs/main\n",
      "ipython_genutils          0.2.0              pyhd3eb1b0_1    https://mirrors.tuna.tsinghua.edu.cn/anaconda/pkgs/main\n",
      "isort                     5.9.3              pyhd3eb1b0_0    https://mirrors.tuna.tsinghua.edu.cn/anaconda/pkgs/main\n",
      "jedi                      0.18.1           py38haa95532_1    https://mirrors.tuna.tsinghua.edu.cn/anaconda/pkgs/main\n",
      "jellyfish                 0.9.0            py38h2bbff1b_0    https://mirrors.tuna.tsinghua.edu.cn/anaconda/pkgs/main\n",
      "jinja2                    3.1.2            py38haa95532_0    https://mirrors.tuna.tsinghua.edu.cn/anaconda/pkgs/main\n",
      "jinja2-time               0.2.0              pyhd3eb1b0_3    https://mirrors.tuna.tsinghua.edu.cn/anaconda/pkgs/main\n",
      "joblib                    1.2.0                    pypi_0    pypi\n",
      "jpeg                      9e                   h2bbff1b_0    https://mirrors.tuna.tsinghua.edu.cn/anaconda/pkgs/main\n",
      "jsonschema                4.16.0           py38haa95532_0    https://mirrors.tuna.tsinghua.edu.cn/anaconda/pkgs/main\n",
      "jupyter_client            7.3.5            py38haa95532_0    https://mirrors.tuna.tsinghua.edu.cn/anaconda/pkgs/main\n",
      "jupyter_core              4.11.1           py38haa95532_0    https://mirrors.tuna.tsinghua.edu.cn/anaconda/pkgs/main\n",
      "jupyterlab_pygments       0.1.2                      py_0    https://mirrors.tuna.tsinghua.edu.cn/anaconda/pkgs/main\n",
      "keras                     2.10.0                   pypi_0    pypi\n",
      "keras-nightly             2.5.0.dev2021032900          pypi_0    pypi\n",
      "keras-preprocessing       1.1.2                    pypi_0    pypi\n",
      "keyring                   23.4.0           py38haa95532_0    https://mirrors.tuna.tsinghua.edu.cn/anaconda/pkgs/main\n",
      "kiwisolver                1.4.2            py38hd77b12b_0    https://mirrors.tuna.tsinghua.edu.cn/anaconda/pkgs/main\n",
      "lazy-object-proxy         1.6.0            py38h2bbff1b_0    https://mirrors.tuna.tsinghua.edu.cn/anaconda/pkgs/main\n",
      "lerc                      3.0                  hd77b12b_0    https://mirrors.tuna.tsinghua.edu.cn/anaconda/pkgs/main\n",
      "libbrotlicommon           1.0.9                h2bbff1b_7    https://mirrors.tuna.tsinghua.edu.cn/anaconda/pkgs/main\n",
      "libbrotlidec              1.0.9                h2bbff1b_7    https://mirrors.tuna.tsinghua.edu.cn/anaconda/pkgs/main\n",
      "libbrotlienc              1.0.9                h2bbff1b_7    https://mirrors.tuna.tsinghua.edu.cn/anaconda/pkgs/main\n",
      "libclang                  14.0.6                   pypi_0    pypi\n",
      "libdeflate                1.8                  h2bbff1b_5    https://mirrors.tuna.tsinghua.edu.cn/anaconda/pkgs/main\n",
      "libfaiss                  1.7.2            h2e52968_0_cpu    pytorch\n",
      "libffi                    3.4.2                hd77b12b_4    https://mirrors.tuna.tsinghua.edu.cn/anaconda/pkgs/main\n",
      "libiconv                  1.16                 h2bbff1b_2    https://mirrors.tuna.tsinghua.edu.cn/anaconda/pkgs/main\n",
      "libogg                    1.3.5                h2bbff1b_1    https://mirrors.tuna.tsinghua.edu.cn/anaconda/pkgs/main\n",
      "libpng                    1.6.37               h2a8f88b_0    https://mirrors.tuna.tsinghua.edu.cn/anaconda/pkgs/main\n",
      "libsodium                 1.0.18               h62dcd97_0    https://mirrors.tuna.tsinghua.edu.cn/anaconda/pkgs/main\n",
      "libspatialindex           1.9.3                h6c2663c_0    https://mirrors.tuna.tsinghua.edu.cn/anaconda/pkgs/main\n",
      "libtiff                   4.4.0                h8a3f274_1    https://mirrors.tuna.tsinghua.edu.cn/anaconda/pkgs/main\n",
      "libvorbis                 1.3.7                he774522_0    https://mirrors.tuna.tsinghua.edu.cn/anaconda/pkgs/main\n",
      "libwebp                   1.2.4                h2bbff1b_0    https://mirrors.tuna.tsinghua.edu.cn/anaconda/pkgs/main\n",
      "libwebp-base              1.2.4                h2bbff1b_0    https://mirrors.tuna.tsinghua.edu.cn/anaconda/pkgs/main\n",
      "libxml2                   2.9.14               h0ad7f3c_0    https://mirrors.tuna.tsinghua.edu.cn/anaconda/pkgs/main\n",
      "libxslt                   1.1.35               h2bbff1b_0    https://mirrors.tuna.tsinghua.edu.cn/anaconda/pkgs/main\n",
      "lz4-c                     1.9.3                h2bbff1b_1    https://mirrors.tuna.tsinghua.edu.cn/anaconda/pkgs/main\n",
      "markdown                  3.4.1                    pypi_0    pypi\n",
      "markupsafe                2.1.1            py38h2bbff1b_0    https://mirrors.tuna.tsinghua.edu.cn/anaconda/pkgs/main\n",
      "matplotlib                3.5.3            py38haa95532_0    https://mirrors.tuna.tsinghua.edu.cn/anaconda/pkgs/main\n",
      "matplotlib-base           3.5.3            py38hd77b12b_0    https://mirrors.tuna.tsinghua.edu.cn/anaconda/pkgs/main\n",
      "matplotlib-inline         0.1.6            py38haa95532_0    https://mirrors.tuna.tsinghua.edu.cn/anaconda/pkgs/main\n",
      "mccabe                    0.7.0              pyhd3eb1b0_0    https://mirrors.tuna.tsinghua.edu.cn/anaconda/pkgs/main\n",
      "mistune                   0.8.4           py38he774522_1000    https://mirrors.tuna.tsinghua.edu.cn/anaconda/pkgs/main\n",
      "mkl                       2020.2                      256    https://mirrors.tuna.tsinghua.edu.cn/anaconda/pkgs/main\n",
      "mkl-service               2.3.0            py38h196d8e1_0    https://mirrors.tuna.tsinghua.edu.cn/anaconda/pkgs/main\n",
      "mkl_fft                   1.3.0            py38h46781fe_0    https://mirrors.tuna.tsinghua.edu.cn/anaconda/pkgs/main\n",
      "mkl_random                1.1.1            py38h47e9c7a_0    https://mirrors.tuna.tsinghua.edu.cn/anaconda/pkgs/main\n",
      "munkres                   1.1.4                      py_0    https://mirrors.tuna.tsinghua.edu.cn/anaconda/pkgs/main\n",
      "mypy_extensions           0.4.3            py38haa95532_1    https://mirrors.tuna.tsinghua.edu.cn/anaconda/pkgs/main\n",
      "nbclient                  0.5.13           py38haa95532_0    https://mirrors.tuna.tsinghua.edu.cn/anaconda/pkgs/main\n",
      "nbconvert                 6.4.4            py38haa95532_0    https://mirrors.tuna.tsinghua.edu.cn/anaconda/pkgs/main\n",
      "nbformat                  5.5.0            py38haa95532_0    https://mirrors.tuna.tsinghua.edu.cn/anaconda/pkgs/main\n",
      "nest-asyncio              1.5.5            py38haa95532_0    https://mirrors.tuna.tsinghua.edu.cn/anaconda/pkgs/main\n",
      "notebook                  6.4.12           py38haa95532_0    https://mirrors.tuna.tsinghua.edu.cn/anaconda/pkgs/main\n",
      "numexpr                   2.7.3            py38hcbcaa1e_0    https://mirrors.tuna.tsinghua.edu.cn/anaconda/pkgs/main\n",
      "numpy                     1.19.5                   pypi_0    pypi\n",
      "numpy-base                1.19.2           py38ha3acd2a_0    https://mirrors.tuna.tsinghua.edu.cn/anaconda/pkgs/main\n",
      "numpydoc                  1.4.0            py38haa95532_0    https://mirrors.tuna.tsinghua.edu.cn/anaconda/pkgs/main\n",
      "oauthlib                  3.2.2                    pypi_0    pypi\n",
      "openssl                   1.1.1q               h2bbff1b_0    https://mirrors.tuna.tsinghua.edu.cn/anaconda/pkgs/main\n",
      "opt-einsum                3.3.0                    pypi_0    pypi\n",
      "packaging                 21.3               pyhd3eb1b0_0    https://mirrors.tuna.tsinghua.edu.cn/anaconda/pkgs/main\n",
      "pandas                    1.4.4            py38hd77b12b_0    https://mirrors.tuna.tsinghua.edu.cn/anaconda/pkgs/main\n",
      "pandocfilters             1.5.0              pyhd3eb1b0_0    https://mirrors.tuna.tsinghua.edu.cn/anaconda/pkgs/main\n",
      "paramiko                  2.8.1              pyhd3eb1b0_0    https://mirrors.tuna.tsinghua.edu.cn/anaconda/pkgs/main\n",
      "parso                     0.8.3              pyhd3eb1b0_0    https://mirrors.tuna.tsinghua.edu.cn/anaconda/pkgs/main\n",
      "pathspec                  0.9.0            py38haa95532_0    https://mirrors.tuna.tsinghua.edu.cn/anaconda/pkgs/main\n",
      "pcre                      8.45                 hd77b12b_0    https://mirrors.tuna.tsinghua.edu.cn/anaconda/pkgs/main\n",
      "pexpect                   4.8.0              pyhd3eb1b0_3    https://mirrors.tuna.tsinghua.edu.cn/anaconda/pkgs/main\n",
      "pickleshare               0.7.5           pyhd3eb1b0_1003    https://mirrors.tuna.tsinghua.edu.cn/anaconda/pkgs/main\n",
      "pillow                    9.2.0            py38hdc2b20a_1    https://mirrors.tuna.tsinghua.edu.cn/anaconda/pkgs/main\n",
      "pip                       22.2.2           py38haa95532_0    https://mirrors.tuna.tsinghua.edu.cn/anaconda/pkgs/main\n",
      "pkgutil-resolve-name      1.3.10           py38haa95532_0    https://mirrors.tuna.tsinghua.edu.cn/anaconda/pkgs/main\n",
      "platformdirs              2.5.2            py38haa95532_0    https://mirrors.tuna.tsinghua.edu.cn/anaconda/pkgs/main\n",
      "pluggy                    1.0.0            py38haa95532_1    https://mirrors.tuna.tsinghua.edu.cn/anaconda/pkgs/main\n",
      "ply                       3.11                     py38_0    https://mirrors.tuna.tsinghua.edu.cn/anaconda/pkgs/main\n",
      "poyo                      0.5.0              pyhd3eb1b0_0    https://mirrors.tuna.tsinghua.edu.cn/anaconda/pkgs/main\n",
      "prometheus_client         0.14.1           py38haa95532_0    https://mirrors.tuna.tsinghua.edu.cn/anaconda/pkgs/main\n",
      "prompt-toolkit            3.0.20             pyhd3eb1b0_0    https://mirrors.tuna.tsinghua.edu.cn/anaconda/pkgs/main\n",
      "protobuf                  3.19.6                   pypi_0    pypi\n",
      "psutil                    5.9.0            py38h2bbff1b_0    https://mirrors.tuna.tsinghua.edu.cn/anaconda/pkgs/main\n",
      "ptyprocess                0.7.0              pyhd3eb1b0_2    https://mirrors.tuna.tsinghua.edu.cn/anaconda/pkgs/main\n",
      "pyasn1                    0.4.8                    pypi_0    pypi\n",
      "pyasn1-modules            0.2.8                    pypi_0    pypi\n",
      "pycodestyle               2.8.0              pyhd3eb1b0_0    https://mirrors.tuna.tsinghua.edu.cn/anaconda/pkgs/main\n",
      "pycparser                 2.21               pyhd3eb1b0_0    https://mirrors.tuna.tsinghua.edu.cn/anaconda/pkgs/main\n",
      "pydocstyle                6.1.1              pyhd3eb1b0_0    https://mirrors.tuna.tsinghua.edu.cn/anaconda/pkgs/main\n",
      "pyflakes                  2.4.0              pyhd3eb1b0_0    https://mirrors.tuna.tsinghua.edu.cn/anaconda/pkgs/main\n",
      "pygments                  2.11.2             pyhd3eb1b0_0    https://mirrors.tuna.tsinghua.edu.cn/anaconda/pkgs/main\n",
      "pylint                    2.14.5           py38haa95532_0    https://mirrors.tuna.tsinghua.edu.cn/anaconda/pkgs/main\n",
      "pyls-spyder               0.4.0              pyhd3eb1b0_0    https://mirrors.tuna.tsinghua.edu.cn/anaconda/pkgs/main\n",
      "pynacl                    1.5.0            py38h8cc25b3_0    https://mirrors.tuna.tsinghua.edu.cn/anaconda/pkgs/main\n",
      "pyopenssl                 22.0.0             pyhd3eb1b0_0    https://mirrors.tuna.tsinghua.edu.cn/anaconda/pkgs/main\n",
      "pyparsing                 3.0.9            py38haa95532_0    https://mirrors.tuna.tsinghua.edu.cn/anaconda/pkgs/main\n",
      "pyqt                      5.15.7           py38hd77b12b_0    https://mirrors.tuna.tsinghua.edu.cn/anaconda/pkgs/main\n",
      "pyqt5-sip                 12.11.0          py38hd77b12b_0    https://mirrors.tuna.tsinghua.edu.cn/anaconda/pkgs/main\n",
      "pyqtwebengine             5.15.7           py38hd77b12b_0    https://mirrors.tuna.tsinghua.edu.cn/anaconda/pkgs/main\n",
      "pyrsistent                0.18.0           py38h196d8e1_0    https://mirrors.tuna.tsinghua.edu.cn/anaconda/pkgs/main\n",
      "pysocks                   1.7.1            py38haa95532_0    https://mirrors.tuna.tsinghua.edu.cn/anaconda/pkgs/main\n",
      "python                    3.8.13               h6244533_1    https://mirrors.tuna.tsinghua.edu.cn/anaconda/pkgs/main\n",
      "python-dateutil           2.8.2              pyhd3eb1b0_0    https://mirrors.tuna.tsinghua.edu.cn/anaconda/pkgs/main\n",
      "python-fastjsonschema     2.16.2           py38haa95532_0    https://mirrors.tuna.tsinghua.edu.cn/anaconda/pkgs/main\n",
      "python-lsp-black          1.2.1            py38haa95532_0    https://mirrors.tuna.tsinghua.edu.cn/anaconda/pkgs/main\n",
      "python-lsp-jsonrpc        1.0.0              pyhd3eb1b0_0    https://mirrors.tuna.tsinghua.edu.cn/anaconda/pkgs/main\n",
      "python-lsp-server         1.5.0            py38haa95532_0    https://mirrors.tuna.tsinghua.edu.cn/anaconda/pkgs/main\n",
      "python-slugify            5.0.2              pyhd3eb1b0_0    https://mirrors.tuna.tsinghua.edu.cn/anaconda/pkgs/main\n",
      "pytz                      2022.1           py38haa95532_0    https://mirrors.tuna.tsinghua.edu.cn/anaconda/pkgs/main\n",
      "pywin32                   302              py38h2bbff1b_2    https://mirrors.tuna.tsinghua.edu.cn/anaconda/pkgs/main\n",
      "pywin32-ctypes            0.2.0                 py38_1000    https://mirrors.tuna.tsinghua.edu.cn/anaconda/pkgs/main\n",
      "pywinpty                  2.0.2            py38h5da7b33_0    https://mirrors.tuna.tsinghua.edu.cn/anaconda/pkgs/main\n",
      "pyyaml                    6.0              py38h2bbff1b_1    https://mirrors.tuna.tsinghua.edu.cn/anaconda/pkgs/main\n",
      "pyzmq                     23.2.0           py38hd77b12b_0    https://mirrors.tuna.tsinghua.edu.cn/anaconda/pkgs/main\n",
      "qdarkstyle                3.0.2              pyhd3eb1b0_0    https://mirrors.tuna.tsinghua.edu.cn/anaconda/pkgs/main\n",
      "qstylizer                 0.1.10             pyhd3eb1b0_0    https://mirrors.tuna.tsinghua.edu.cn/anaconda/pkgs/main\n",
      "qt-main                   5.15.2               he8e5bd7_7    https://mirrors.tuna.tsinghua.edu.cn/anaconda/pkgs/main\n",
      "qt-webengine              5.15.9               hb9a9bb5_4    https://mirrors.tuna.tsinghua.edu.cn/anaconda/pkgs/main\n",
      "qtawesome                 1.0.3              pyhd3eb1b0_0    https://mirrors.tuna.tsinghua.edu.cn/anaconda/pkgs/main\n",
      "qtconsole                 5.3.2            py38haa95532_0    https://mirrors.tuna.tsinghua.edu.cn/anaconda/pkgs/main\n",
      "qtpy                      2.2.0            py38haa95532_0    https://mirrors.tuna.tsinghua.edu.cn/anaconda/pkgs/main\n",
      "qtwebkit                  5.212                h3ad3cdb_4    https://mirrors.tuna.tsinghua.edu.cn/anaconda/pkgs/main\n",
      "requests                  2.28.1           py38haa95532_0    https://mirrors.tuna.tsinghua.edu.cn/anaconda/pkgs/main\n",
      "requests-oauthlib         1.3.1                    pypi_0    pypi\n",
      "rope                      0.22.0             pyhd3eb1b0_0    https://mirrors.tuna.tsinghua.edu.cn/anaconda/pkgs/main\n",
      "rsa                       4.9                      pypi_0    pypi\n",
      "rtree                     0.9.7            py38h2eaa2aa_1    https://mirrors.tuna.tsinghua.edu.cn/anaconda/pkgs/main\n",
      "scikit-learn              1.1.3                    pypi_0    pypi\n",
      "scipy                     1.9.3                    pypi_0    pypi\n",
      "send2trash                1.8.0              pyhd3eb1b0_1    https://mirrors.tuna.tsinghua.edu.cn/anaconda/pkgs/main\n",
      "setuptools                65.5.0           py38haa95532_0    https://mirrors.tuna.tsinghua.edu.cn/anaconda/pkgs/main\n",
      "sip                       6.6.2            py38hd77b12b_0    https://mirrors.tuna.tsinghua.edu.cn/anaconda/pkgs/main\n",
      "six                       1.15.0                   pypi_0    pypi\n",
      "sklearn                   0.0                      pypi_0    pypi\n",
      "snowballstemmer           2.2.0              pyhd3eb1b0_0    https://mirrors.tuna.tsinghua.edu.cn/anaconda/pkgs/main\n",
      "sortedcontainers          2.4.0              pyhd3eb1b0_0    https://mirrors.tuna.tsinghua.edu.cn/anaconda/pkgs/main\n",
      "soupsieve                 2.3.2.post1      py38haa95532_0    https://mirrors.tuna.tsinghua.edu.cn/anaconda/pkgs/main\n",
      "sphinx                    5.0.2            py38haa95532_0    https://mirrors.tuna.tsinghua.edu.cn/anaconda/pkgs/main\n",
      "sphinxcontrib-applehelp   1.0.2              pyhd3eb1b0_0    https://mirrors.tuna.tsinghua.edu.cn/anaconda/pkgs/main\n",
      "sphinxcontrib-devhelp     1.0.2              pyhd3eb1b0_0    https://mirrors.tuna.tsinghua.edu.cn/anaconda/pkgs/main\n",
      "sphinxcontrib-htmlhelp    2.0.0              pyhd3eb1b0_0    https://mirrors.tuna.tsinghua.edu.cn/anaconda/pkgs/main\n",
      "sphinxcontrib-jsmath      1.0.1              pyhd3eb1b0_0    https://mirrors.tuna.tsinghua.edu.cn/anaconda/pkgs/main\n",
      "sphinxcontrib-qthelp      1.0.3              pyhd3eb1b0_0    https://mirrors.tuna.tsinghua.edu.cn/anaconda/pkgs/main\n",
      "sphinxcontrib-serializinghtml 1.1.5              pyhd3eb1b0_0    https://mirrors.tuna.tsinghua.edu.cn/anaconda/pkgs/main\n",
      "spyder                    5.3.3            py38haa95532_0    https://mirrors.tuna.tsinghua.edu.cn/anaconda/pkgs/main\n",
      "spyder-kernels            2.3.3            py38haa95532_0    https://mirrors.tuna.tsinghua.edu.cn/anaconda/pkgs/main\n",
      "sqlite                    3.39.3               h2bbff1b_0    https://mirrors.tuna.tsinghua.edu.cn/anaconda/pkgs/main\n",
      "tensorboard               2.10.1                   pypi_0    pypi\n",
      "tensorboard-data-server   0.6.1                    pypi_0    pypi\n",
      "tensorboard-plugin-wit    1.8.1                    pypi_0    pypi\n",
      "tensorflow                2.5.0                    pypi_0    pypi\n",
      "tensorflow-estimator      2.5.0                    pypi_0    pypi\n",
      "tensorflow-io-gcs-filesystem 0.27.0                   pypi_0    pypi\n",
      "termcolor                 1.1.0                    pypi_0    pypi\n",
      "terminado                 0.13.1           py38haa95532_0    https://mirrors.tuna.tsinghua.edu.cn/anaconda/pkgs/main\n",
      "testpath                  0.6.0            py38haa95532_0    https://mirrors.tuna.tsinghua.edu.cn/anaconda/pkgs/main\n",
      "text-unidecode            1.3                pyhd3eb1b0_0    https://mirrors.tuna.tsinghua.edu.cn/anaconda/pkgs/main\n",
      "textdistance              4.2.1              pyhd3eb1b0_0    https://mirrors.tuna.tsinghua.edu.cn/anaconda/pkgs/main\n",
      "threadpoolctl             3.1.0                    pypi_0    pypi\n",
      "three-merge               0.1.1              pyhd3eb1b0_0    https://mirrors.tuna.tsinghua.edu.cn/anaconda/pkgs/main\n",
      "tinycss                   0.4             pyhd3eb1b0_1002    https://mirrors.tuna.tsinghua.edu.cn/anaconda/pkgs/main\n",
      "tk                        8.6.12               h2bbff1b_0    https://mirrors.tuna.tsinghua.edu.cn/anaconda/pkgs/main\n",
      "toml                      0.10.2             pyhd3eb1b0_0    https://mirrors.tuna.tsinghua.edu.cn/anaconda/pkgs/main\n",
      "tomli                     2.0.1            py38haa95532_0    https://mirrors.tuna.tsinghua.edu.cn/anaconda/pkgs/main\n",
      "tomlkit                   0.11.1           py38haa95532_0    https://mirrors.tuna.tsinghua.edu.cn/anaconda/pkgs/main\n",
      "tornado                   6.2              py38h2bbff1b_0    https://mirrors.tuna.tsinghua.edu.cn/anaconda/pkgs/main\n",
      "tqdm                      4.64.1                   pypi_0    pypi\n",
      "traitlets                 5.1.1              pyhd3eb1b0_0    https://mirrors.tuna.tsinghua.edu.cn/anaconda/pkgs/main\n",
      "typing-extensions         3.7.4.3                  pypi_0    pypi\n",
      "typing_extensions         4.3.0            py38haa95532_0    https://mirrors.tuna.tsinghua.edu.cn/anaconda/pkgs/main\n",
      "ujson                     5.4.0            py38hd77b12b_0    https://mirrors.tuna.tsinghua.edu.cn/anaconda/pkgs/main\n",
      "unidecode                 1.2.0              pyhd3eb1b0_0    https://mirrors.tuna.tsinghua.edu.cn/anaconda/pkgs/main\n",
      "urllib3                   1.26.12          py38haa95532_0    https://mirrors.tuna.tsinghua.edu.cn/anaconda/pkgs/main\n",
      "vc                        14.2                 h21ff451_1    https://mirrors.tuna.tsinghua.edu.cn/anaconda/pkgs/main\n",
      "vs2015_runtime            14.27.29016          h5e58377_2    https://mirrors.tuna.tsinghua.edu.cn/anaconda/pkgs/main\n",
      "watchdog                  2.1.6            py38haa95532_0    https://mirrors.tuna.tsinghua.edu.cn/anaconda/pkgs/main\n",
      "wcwidth                   0.2.5              pyhd3eb1b0_0    https://mirrors.tuna.tsinghua.edu.cn/anaconda/pkgs/main\n",
      "webencodings              0.5.1                    py38_1    https://mirrors.tuna.tsinghua.edu.cn/anaconda/pkgs/main\n",
      "werkzeug                  2.2.2                    pypi_0    pypi\n",
      "whatthepatch              1.0.2            py38haa95532_0    https://mirrors.tuna.tsinghua.edu.cn/anaconda/pkgs/main\n",
      "wheel                     0.37.1             pyhd3eb1b0_0    https://mirrors.tuna.tsinghua.edu.cn/anaconda/pkgs/main\n",
      "win_inet_pton             1.1.0            py38haa95532_0    https://mirrors.tuna.tsinghua.edu.cn/anaconda/pkgs/main\n",
      "wincertstore              0.2              py38haa95532_2    https://mirrors.tuna.tsinghua.edu.cn/anaconda/pkgs/main\n",
      "winpty                    0.4.3                         4    https://mirrors.tuna.tsinghua.edu.cn/anaconda/pkgs/main\n",
      "wrapt                     1.12.1                   pypi_0    pypi\n",
      "xz                        5.2.6                h8cc25b3_0    https://mirrors.tuna.tsinghua.edu.cn/anaconda/pkgs/main\n",
      "yaml                      0.2.5                he774522_0    https://mirrors.tuna.tsinghua.edu.cn/anaconda/pkgs/main\n",
      "yapf                      0.31.0             pyhd3eb1b0_0    https://mirrors.tuna.tsinghua.edu.cn/anaconda/pkgs/main\n",
      "zeromq                    4.3.4                hd77b12b_0    https://mirrors.tuna.tsinghua.edu.cn/anaconda/pkgs/main\n",
      "zipp                      3.10.0                   pypi_0    pypi\n",
      "zlib                      1.2.13               h8cc25b3_0    https://mirrors.tuna.tsinghua.edu.cn/anaconda/pkgs/main\n",
      "zstd                      1.5.2                h19a0ad4_0    https://mirrors.tuna.tsinghua.edu.cn/anaconda/pkgs/main\n"
     ]
    }
   ],
   "source": [
    "!conda list"
   ]
  },
  {
   "cell_type": "markdown",
   "metadata": {
    "id": "p9UxNHuPMuW2"
   },
   "source": [
    "# 导入需要的库"
   ]
  },
  {
   "cell_type": "code",
   "execution_count": 4,
   "metadata": {
    "id": "C_ZR6gzp1E2N"
   },
   "outputs": [],
   "source": [
    "import pandas as pd\n",
    "from deepctr.feature_column import SparseFeat, VarLenSparseFeat\n",
    "from preprocess import gen_data_set, gen_model_input\n",
    "from sklearn.preprocessing import LabelEncoder\n",
    "from tensorflow.keras import backend as K\n",
    "from tensorflow.keras.models import Model\n",
    "\n",
    "from deepmatch.models import *\n",
    "from deepmatch.utils import sampledsoftmaxloss, NegativeSampler"
   ]
  },
  {
   "cell_type": "markdown",
   "metadata": {
    "id": "fQq6O9XAMzPF"
   },
   "source": [
    "# 读取数据"
   ]
  },
  {
   "cell_type": "code",
   "execution_count": 5,
   "metadata": {
    "colab": {
     "base_uri": "https://localhost:8080/"
    },
    "id": "lcO29zFb21Od",
    "outputId": "bfeed1ac-99f2-425f-dda6-10b83be721fe"
   },
   "outputs": [
    {
     "name": "stderr",
     "output_type": "stream",
     "text": [
      "C:\\Users\\myf\\AppData\\Local\\Temp\\ipykernel_18436\\1696079877.py:4: ParserWarning: Falling back to the 'python' engine because the 'c' engine does not support regex separators (separators > 1 char and different from '\\s+' are interpreted as regex); you can avoid this warning by specifying engine='python'.\n",
      "  user = pd.read_csv(data_path+'ml-1m/users.dat',sep='::',header=None,names=unames)\n",
      "C:\\Users\\myf\\AppData\\Local\\Temp\\ipykernel_18436\\1696079877.py:6: ParserWarning: Falling back to the 'python' engine because the 'c' engine does not support regex separators (separators > 1 char and different from '\\s+' are interpreted as regex); you can avoid this warning by specifying engine='python'.\n",
      "  ratings = pd.read_csv(data_path+'ml-1m/ratings.dat',sep='::',header=None,names=rnames)\n",
      "C:\\Users\\myf\\AppData\\Local\\Temp\\ipykernel_18436\\1696079877.py:8: ParserWarning: Falling back to the 'python' engine because the 'c' engine does not support regex separators (separators > 1 char and different from '\\s+' are interpreted as regex); you can avoid this warning by specifying engine='python'.\n",
      "  movies = pd.read_csv(data_path+'ml-1m/movies.dat',sep='::',header=None,names=mnames,encoding=\"unicode_escape\")\n"
     ]
    }
   ],
   "source": [
    "data_path = \"./\"\n",
    "\n",
    "unames = ['user_id','gender','age','occupation','zip']\n",
    "user = pd.read_csv(data_path+'ml-1m/users.dat',sep='::',header=None,names=unames)\n",
    "rnames = ['user_id','movie_id','rating','timestamp']\n",
    "ratings = pd.read_csv(data_path+'ml-1m/ratings.dat',sep='::',header=None,names=rnames)\n",
    "mnames = ['movie_id','title','genres']\n",
    "movies = pd.read_csv(data_path+'ml-1m/movies.dat',sep='::',header=None,names=mnames,encoding=\"unicode_escape\")\n",
    "movies['genres'] = list(map(lambda x: x.split('|')[0], movies['genres'].values))\n",
    "\n",
    "data = pd.merge(pd.merge(ratings,movies),user)#.iloc[:10000]"
   ]
  },
  {
   "cell_type": "markdown",
   "metadata": {
    "id": "L0yCWxQxM3se"
   },
   "source": [
    "# 构建特征列，训练模型，导出embedding"
   ]
  },
  {
   "cell_type": "code",
   "execution_count": null,
   "metadata": {
    "colab": {
     "base_uri": "https://localhost:8080/"
    },
    "id": "BMOvk_de2ML3",
    "outputId": "962afe1c-d387-4345-861f-e9b974a0b495"
   },
   "outputs": [
    {
     "name": "stderr",
     "output_type": "stream",
     "text": [
      "100%|█████████████████████████████████████████████████████████████████████████████| 6040/6040 [00:11<00:00, 522.23it/s]\n"
     ]
    },
    {
     "name": "stdout",
     "output_type": "stream",
     "text": [
      "8 8\n"
     ]
    },
    {
     "name": "stderr",
     "output_type": "stream",
     "text": [
      "D:\\MyGit\\Github\\rec\\DeepMatch-master\\examples\\preprocess.py:86: VisibleDeprecationWarning: Creating an ndarray from ragged nested sequences (which is a list-or-tuple of lists-or-tuples-or ndarrays with different lengths or shapes) is deprecated. If you meant to do this, you must specify 'dtype=object' when creating the ndarray\n",
      "  train_seq_genres = np.array([line[5] for line in train_set])\n",
      "D:\\MyGit\\Github\\rec\\DeepMatch-master\\examples\\preprocess.py:86: VisibleDeprecationWarning: Creating an ndarray from ragged nested sequences (which is a list-or-tuple of lists-or-tuples-or ndarrays with different lengths or shapes) is deprecated. If you meant to do this, you must specify 'dtype=object' when creating the ndarray\n",
      "  train_seq_genres = np.array([line[5] for line in train_set])\n"
     ]
    },
    {
     "name": "stdout",
     "output_type": "stream",
     "text": [
      "WARNING:tensorflow:From C:\\Users\\myf\\.conda\\envs\\tf2\\lib\\site-packages\\tensorflow\\python\\ops\\array_ops.py:5043: calling gather (from tensorflow.python.ops.array_ops) with validate_indices is deprecated and will be removed in a future version.\n",
      "Instructions for updating:\n",
      "The `validate_indices` argument has no effect. Indices are always validated on CPU and never validated on GPU.\n",
      "Train on 988129 samples\n",
      "Epoch 1/2\n",
      "988129/988129 [==============================] - 48s 49us/sample - loss: 5.6083\n",
      "Epoch 2/2\n",
      "703488/988129 [====================>.........] - ETA: 13s - loss: 4.6944"
     ]
    }
   ],
   "source": [
    "#data = pd.read_csvdata = pd.read_csv(\"./movielens_sample.txt\")\n",
    "sparse_features = [\"movie_id\", \"user_id\",\n",
    "                    \"gender\", \"age\", \"occupation\", \"zip\", \"genres\"]\n",
    "SEQ_LEN = 50\n",
    "negsample = 0\n",
    "\n",
    "# 1.Label Encoding for sparse features,and process sequence features with `gen_date_set` and `gen_model_input`\n",
    "\n",
    "feature_max_idx = {}\n",
    "for feature in sparse_features:\n",
    "    lbe = LabelEncoder()\n",
    "    data[feature] = lbe.fit_transform(data[feature]) + 1\n",
    "    feature_max_idx[feature] = data[feature].max() + 1\n",
    "\n",
    "user_profile = data[[\"user_id\", \"gender\", \"age\", \"occupation\", \"zip\"]].drop_duplicates('user_id')\n",
    "\n",
    "item_profile = data[[\"movie_id\"]].drop_duplicates('movie_id')\n",
    "\n",
    "user_profile.set_index(\"user_id\", inplace=True)\n",
    "\n",
    "user_item_list = data.groupby(\"user_id\")['movie_id'].apply(list)\n",
    "\n",
    "train_set, test_set = gen_data_set(data, SEQ_LEN, negsample)\n",
    "\n",
    "train_model_input, train_label = gen_model_input(train_set, user_profile, SEQ_LEN)\n",
    "test_model_input, test_label = gen_model_input(test_set, user_profile, SEQ_LEN)\n",
    "\n",
    "# 2.count #unique features for each sparse field and generate feature config for sequence feature\n",
    "\n",
    "embedding_dim = 32\n",
    "\n",
    "user_feature_columns = [SparseFeat('user_id', feature_max_idx['user_id'], 16),\n",
    "                        SparseFeat(\"gender\", feature_max_idx['gender'], 16),\n",
    "                        SparseFeat(\"age\", feature_max_idx['age'], 16),\n",
    "                        SparseFeat(\"occupation\", feature_max_idx['occupation'], 16),\n",
    "                        SparseFeat(\"zip\", feature_max_idx['zip'], 16),\n",
    "                        VarLenSparseFeat(SparseFeat('hist_movie_id', feature_max_idx['movie_id'], embedding_dim,\n",
    "                                                    embedding_name=\"movie_id\"), SEQ_LEN, 'mean', 'hist_len'),\n",
    "                        VarLenSparseFeat(SparseFeat('hist_genres', feature_max_idx['genres'], embedding_dim,\n",
    "                                                   embedding_name=\"genres\"), SEQ_LEN, 'mean', 'hist_len'),\n",
    "                        ]\n",
    "\n",
    "item_feature_columns = [SparseFeat('movie_id', feature_max_idx['movie_id'], embedding_dim)]\n",
    "\n",
    "from collections import Counter\n",
    "train_counter = Counter(train_model_input['movie_id'])\n",
    "item_count = [train_counter.get(i,0) for i in range(item_feature_columns[0].vocabulary_size)]\n",
    "sampler_config = NegativeSampler('frequency',num_sampled=255,item_name=\"movie_id\",item_count=item_count)\n",
    "\n",
    "# 3.Define Model and train\n",
    "\n",
    "import tensorflow as tf\n",
    "if tf.__version__ >= '2.0.0':\n",
    "    tf.compat.v1.disable_eager_execution()\n",
    "else:\n",
    "    K.set_learning_phase(True)\n",
    "    \n",
    "model = YoutubeDNN(user_feature_columns, item_feature_columns, user_dnn_hidden_units=(128,64, embedding_dim), sampler_config=sampler_config)\n",
    "#model = MIND(user_feature_columns,item_feature_columns,dynamic_k=False,k_max=2, user_dnn_hidden_units=(128,64, embedding_dim), sampler_config=sampler_config)\n",
    "\n",
    "model.compile(optimizer=\"adam\", loss=sampledsoftmaxloss)\n",
    "\n",
    "history = model.fit(train_model_input, train_label,  # train_label,\n",
    "                    batch_size=512, epochs=2, verbose=1, validation_split=0.0, )\n",
    "\n",
    "# 4. Generate user features for testing and full item features for retrieval\n",
    "test_user_model_input = test_model_input\n",
    "all_item_model_input = {\"movie_id\": item_profile['movie_id'].values,}\n",
    "\n",
    "user_embedding_model = Model(inputs=model.user_input, outputs=model.user_embedding)\n",
    "item_embedding_model = Model(inputs=model.item_input, outputs=model.item_embedding)\n",
    "\n",
    "user_embs = user_embedding_model.predict(test_user_model_input, batch_size=2 ** 12)\n",
    "# user_embs = user_embs[:, i, :]  # i in [0,k_max) if MIND\n",
    "item_embs = item_embedding_model.predict(all_item_model_input, batch_size=2 ** 12)\n",
    "\n",
    "print(user_embs.shape)\n",
    "print(item_embs.shape)"
   ]
  },
  {
   "cell_type": "markdown",
   "metadata": {
    "id": "w_G3KWslKmJo"
   },
   "source": [
    "# 使用faiss进行ANN查找并评估结果"
   ]
  },
  {
   "cell_type": "markdown",
   "metadata": {
    "id": "5SvyQLNVKkcs"
   },
   "source": []
  },
  {
   "cell_type": "code",
   "execution_count": 14,
   "metadata": {
    "colab": {
     "base_uri": "https://localhost:8080/"
    },
    "id": "6TY1l27iJU8U",
    "outputId": "5a8ccdd3-af70-4c48-b859-84c4befddfdd"
   },
   "outputs": [
    {
     "ename": "ModuleNotFoundError",
     "evalue": "No module named 'faiss'",
     "output_type": "error",
     "traceback": [
      "\u001b[1;31m---------------------------------------------------------------------------\u001b[0m",
      "\u001b[1;31mModuleNotFoundError\u001b[0m                       Traceback (most recent call last)",
      "\u001b[1;32m~\\AppData\\Local\\Temp\\ipykernel_24812\\2966267678.py\u001b[0m in \u001b[0;36m<module>\u001b[1;34m\u001b[0m\n\u001b[0;32m      2\u001b[0m \u001b[1;33m\u001b[0m\u001b[0m\n\u001b[0;32m      3\u001b[0m \u001b[1;32mimport\u001b[0m \u001b[0mnumpy\u001b[0m \u001b[1;32mas\u001b[0m \u001b[0mnp\u001b[0m\u001b[1;33m\u001b[0m\u001b[1;33m\u001b[0m\u001b[0m\n\u001b[1;32m----> 4\u001b[1;33m \u001b[1;32mimport\u001b[0m \u001b[0mfaiss\u001b[0m\u001b[1;33m\u001b[0m\u001b[1;33m\u001b[0m\u001b[0m\n\u001b[0m\u001b[0;32m      5\u001b[0m \u001b[1;32mfrom\u001b[0m \u001b[0mtqdm\u001b[0m \u001b[1;32mimport\u001b[0m \u001b[0mtqdm\u001b[0m\u001b[1;33m\u001b[0m\u001b[1;33m\u001b[0m\u001b[0m\n\u001b[0;32m      6\u001b[0m \u001b[1;32mfrom\u001b[0m \u001b[0mdeepmatch\u001b[0m\u001b[1;33m.\u001b[0m\u001b[0mutils\u001b[0m \u001b[1;32mimport\u001b[0m \u001b[0mrecall_N\u001b[0m\u001b[1;33m\u001b[0m\u001b[1;33m\u001b[0m\u001b[0m\n",
      "\u001b[1;31mModuleNotFoundError\u001b[0m: No module named 'faiss'"
     ]
    }
   ],
   "source": [
    "test_true_label = {line[0]:[line[1]] for line in test_set}\n",
    "\n",
    "import numpy as np\n",
    "import faiss\n",
    "from tqdm import tqdm\n",
    "from deepmatch.utils import recall_N\n",
    "\n",
    "index = faiss.IndexFlatIP(embedding_dim)\n",
    "# faiss.normalize_L2(item_embs)\n",
    "index.add(item_embs)\n",
    "# faiss.normalize_L2(user_embs)\n",
    "D, I = index.search(np.ascontiguousarray(user_embs), 50)\n",
    "s = []\n",
    "hit = 0\n",
    "for i, uid in tqdm(enumerate(test_user_model_input['user_id'])):\n",
    "    try:\n",
    "        pred = [item_profile['movie_id'].values[x] for x in I[i]]\n",
    "        filter_item = None\n",
    "        recall_score = recall_N(test_true_label[uid], pred, N=50)\n",
    "        s.append(recall_score)\n",
    "        if test_true_label[uid] in pred:\n",
    "            hit += 1\n",
    "    except:\n",
    "        print(i)\n",
    "print(\"\")\n",
    "print(\"recall\", np.mean(s))\n",
    "print(\"hit rate\", hit / len(test_user_model_input['user_id']))"
   ]
  },
  {
   "cell_type": "code",
   "execution_count": null,
   "metadata": {},
   "outputs": [],
   "source": []
  },
  {
   "cell_type": "code",
   "execution_count": null,
   "metadata": {},
   "outputs": [],
   "source": []
  }
 ],
 "metadata": {
  "accelerator": "GPU",
  "colab": {
   "collapsed_sections": [],
   "name": "colab_MovieLen1M_YoutubeDNN.ipynb",
   "provenance": []
  },
  "gpuClass": "standard",
  "kernelspec": {
   "display_name": "Python 3 (ipykernel)",
   "language": "python",
   "name": "python3"
  },
  "language_info": {
   "codemirror_mode": {
    "name": "ipython",
    "version": 3
   },
   "file_extension": ".py",
   "mimetype": "text/x-python",
   "name": "python",
   "nbconvert_exporter": "python",
   "pygments_lexer": "ipython3",
   "version": "3.8.13"
  }
 },
 "nbformat": 4,
 "nbformat_minor": 1
}
