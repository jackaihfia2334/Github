{
 "cells": [
  {
   "cell_type": "markdown",
   "metadata": {},
   "source": [
    "### 对数几率回归"
   ]
  },
  {
   "cell_type": "code",
   "execution_count": 27,
   "metadata": {},
   "outputs": [],
   "source": [
    "import numpy as np"
   ]
  },
  {
   "cell_type": "code",
   "execution_count": 2,
   "metadata": {},
   "outputs": [],
   "source": [
    "def sigmoid(x):\n",
    "    z = 1 / (1 + np.exp(-x))\n",
    "    return z"
   ]
  },
  {
   "cell_type": "code",
   "execution_count": 3,
   "metadata": {},
   "outputs": [],
   "source": [
    "def initialize_params(dims):\n",
    "    W = np.zeros((dims, 1))\n",
    "    b = 0\n",
    "    return W, b"
   ]
  },
  {
   "cell_type": "code",
   "execution_count": 4,
   "metadata": {},
   "outputs": [],
   "source": [
    "### 定义逻辑回归模型主体\n",
    "def logistic(X, y, W, b):\n",
    "    '''\n",
    "    输入：\n",
    "    X: 输入特征矩阵\n",
    "    y: 输出标签向量\n",
    "    W: 权值参数\n",
    "    b: 偏置参数\n",
    "    输出：\n",
    "    a: 逻辑回归模型输出\n",
    "    cost: 损失\n",
    "    dW: 权值梯度\n",
    "    db: 偏置梯度\n",
    "    '''\n",
    "    # 训练样本量\n",
    "    num_train = X.shape[0]\n",
    "    # 训练特征数\n",
    "    num_feature = X.shape[1]\n",
    "    # 逻辑回归模型输出\n",
    "    a = sigmoid(np.dot(X, W) + b)\n",
    "    # 交叉熵损失\n",
    "    cost = -1/num_train * np.sum(y*np.log(a) + (1-y)*np.log(1-a))\n",
    "    # 权值梯度\n",
    "    dW = np.dot(X.T, (a-y))/num_train\n",
    "    # 偏置梯度\n",
    "    db = np.sum(a-y)/num_train\n",
    "    # 压缩损失数组维度\n",
    "    cost = np.squeeze(cost) \n",
    "    return a, cost, dW, db"
   ]
  },
  {
   "cell_type": "code",
   "execution_count": 5,
   "metadata": {},
   "outputs": [],
   "source": [
    "### 定义逻辑回归模型训练过程\n",
    "def logistic_train(X, y, learning_rate, epochs):\n",
    "    '''\n",
    "    输入：\n",
    "    X: 输入特征矩阵\n",
    "    y: 输出标签向量\n",
    "    learning_rate: 学习率\n",
    "    epochs: 训练轮数\n",
    "    输出：\n",
    "    cost_list: 损失列表\n",
    "    params: 模型参数\n",
    "    grads: 参数梯度\n",
    "    '''\n",
    "    # 初始化模型参数\n",
    "    W, b = initialize_params(X.shape[1])  \n",
    "    # 初始化损失列表\n",
    "    cost_list = []  \n",
    "    \n",
    "    # 迭代训练\n",
    "    for i in range(epochs):\n",
    "        # 计算当前次的模型计算结果、损失和参数梯度\n",
    "        a, cost, dW, db = logistic(X, y, W, b)    \n",
    "        # 参数更新\n",
    "        W = W -learning_rate * dW\n",
    "        b = b -learning_rate * db        \n",
    "        # 记录损失\n",
    "        if i % 100 == 0:\n",
    "            cost_list.append(cost)   \n",
    "        # 打印训练过程中的损失 \n",
    "        if i % 100 == 0:\n",
    "            print('epoch %d cost %f' % (i, cost)) \n",
    "               \n",
    "    # 保存参数\n",
    "    params = {            \n",
    "        'W': W,            \n",
    "        'b': b\n",
    "    }        \n",
    "\n",
    "    # 保存梯度\n",
    "    grads = {            \n",
    "        'dW': dW,            \n",
    "        'db': db\n",
    "    }                \n",
    "    return cost_list, params, grads"
   ]
  },
  {
   "cell_type": "code",
   "execution_count": 6,
   "metadata": {},
   "outputs": [],
   "source": [
    "### 定义预测函数\n",
    "def predict(X, params):\n",
    "    '''\n",
    "    输入：\n",
    "    X: 输入特征矩阵\n",
    "    params: 训练好的模型参数\n",
    "    输出：\n",
    "    y_prediction: 转换后的模型预测值\n",
    "    '''\n",
    "    # 模型预测值\n",
    "    y_prediction = sigmoid(np.dot(X, params['W']) + params['b'])\n",
    "    # 基于分类阈值对概率预测值进行类别转换\n",
    "    for i in range(len(y_prediction)):        \n",
    "        if y_prediction[i] > 0.5:\n",
    "            y_prediction[i] = 1\n",
    "        else:\n",
    "            y_prediction[i] = 0\n",
    "            \n",
    "    return y_prediction"
   ]
  },
  {
   "cell_type": "code",
   "execution_count": 8,
   "metadata": {},
   "outputs": [
    {
     "data": {
      "image/png": "[encoded data removed]",
      "text/plain": [
       "<Figure size 432x288 with 1 Axes>"
      ]
     },
     "metadata": {
      "needs_background": "light"
     },
     "output_type": "display_data"
    }
   ],
   "source": [
    "# 导入matplotlib绘图库\n",
    "import matplotlib.pyplot as plt\n",
    "# 导入生成分类数据函数\n",
    "# from sklearn.datasets.samples_generator import make_classification\n",
    "from sklearn.datasets import make_classification\n",
    "# 生成100*2的模拟二分类数据集\n",
    "X, labels = make_classification(\n",
    "    n_samples=100,\n",
    "    n_features=2,\n",
    "    n_redundant=0,\n",
    "    n_informative=2,\n",
    "    random_state=1,\n",
    "    n_clusters_per_class=2)\n",
    "# 设置随机数种子\n",
    "rng = np.random.RandomState(2)\n",
    "# 对生成的特征数据添加一组均匀分布噪声\n",
    "X += 2 * rng.uniform(size=X.shape)\n",
    "# 标签类别数\n",
    "unique_lables = set(labels)\n",
    "# 根据标签类别数设置颜色\n",
    "colors = plt.cm.Spectral(np.linspace(0,1,len(unique_lables)))\n",
    "# 绘制模拟数据的散点图\n",
    "for k,col in zip(unique_lables, colors):\n",
    "    x_k=X[labels==k]\n",
    "    plt.plot(x_k[:,0],x_k[:,1],'o',markerfacecolor=col,markeredgecolor=\"k\",\n",
    "             markersize=14)\n",
    "plt.title('Simulated binary data set')\n",
    "plt.show();"
   ]
  },
  {
   "cell_type": "code",
   "execution_count": 9,
   "metadata": {},
   "outputs": [
    {
     "name": "stdout",
     "output_type": "stream",
     "text": [
      "(100, 2) (100,)\n"
     ]
    }
   ],
   "source": [
    "print(X.shape, labels.shape)"
   ]
  },
  {
   "cell_type": "code",
   "execution_count": 10,
   "metadata": {},
   "outputs": [
    {
     "name": "stdout",
     "output_type": "stream",
     "text": [
      "(100, 3)\n"
     ]
    }
   ],
   "source": [
    "labels = labels.reshape((-1, 1))\n",
    "data = np.concatenate((X, labels), axis=1)\n",
    "print(data.shape)"
   ]
  },
  {
   "cell_type": "code",
   "execution_count": 11,
   "metadata": {},
   "outputs": [
    {
     "name": "stdout",
     "output_type": "stream",
     "text": [
      "X_train= (90, 2)\n",
      "X_test= (10, 2)\n",
      "y_train= (90, 1)\n",
      "y_test= (10, 1)\n"
     ]
    }
   ],
   "source": [
    "# 训练集与测试集的简单划分\n",
    "offset = int(X.shape[0] * 0.9)\n",
    "X_train, y_train = X[:offset], labels[:offset]\n",
    "X_test, y_test = X[offset:], labels[offset:]\n",
    "y_train = y_train.reshape((-1,1))\n",
    "y_test = y_test.reshape((-1,1))\n",
    "\n",
    "print('X_train=', X_train.shape)\n",
    "print('X_test=', X_test.shape)\n",
    "print('y_train=', y_train.shape)\n",
    "print('y_test=', y_test.shape)"
   ]
  },
  {
   "cell_type": "code",
   "execution_count": 12,
   "metadata": {},
   "outputs": [
    {
     "name": "stdout",
     "output_type": "stream",
     "text": [
      "epoch 0 cost 0.693147\n",
      "epoch 100 cost 0.554066\n",
      "epoch 200 cost 0.480953\n",
      "epoch 300 cost 0.434738\n",
      "epoch 400 cost 0.402395\n",
      "epoch 500 cost 0.378275\n",
      "epoch 600 cost 0.359468\n",
      "epoch 700 cost 0.344313\n",
      "epoch 800 cost 0.331783\n",
      "epoch 900 cost 0.321216\n"
     ]
    }
   ],
   "source": [
    "cost_list, params, grads = logistic_train(X_train, y_train, 0.01, 1000)"
   ]
  },
  {
   "cell_type": "code",
   "execution_count": 13,
   "metadata": {},
   "outputs": [
    {
     "data": {
      "text/plain": [
       "{'W': array([[ 1.55740577],\n",
       "        [-0.46456883]]),\n",
       " 'b': -0.594451885315136}"
      ]
     },
     "execution_count": 13,
     "metadata": {},
     "output_type": "execute_result"
    }
   ],
   "source": [
    "params"
   ]
  },
  {
   "cell_type": "code",
   "execution_count": 14,
   "metadata": {},
   "outputs": [
    {
     "name": "stdout",
     "output_type": "stream",
     "text": [
      "[[0.]\n",
      " [1.]\n",
      " [1.]\n",
      " [0.]\n",
      " [1.]\n",
      " [1.]\n",
      " [0.]\n",
      " [0.]\n",
      " [1.]\n",
      " [0.]]\n"
     ]
    }
   ],
   "source": [
    "y_pred = predict(X_test, params)\n",
    "print(y_pred)"
   ]
  },
  {
   "cell_type": "code",
   "execution_count": 15,
   "metadata": {},
   "outputs": [
    {
     "data": {
      "text/plain": [
       "array([[0.27936388],\n",
       "       [0.92347241],\n",
       "       [0.90814155],\n",
       "       [0.24192851],\n",
       "       [0.94789076],\n",
       "       [0.98545445],\n",
       "       [0.29242059],\n",
       "       [0.06128463],\n",
       "       [0.95821867],\n",
       "       [0.46214622]])"
      ]
     },
     "execution_count": 15,
     "metadata": {},
     "output_type": "execute_result"
    }
   ],
   "source": [
    "sigmoid(np.dot(X_test, params['W']) + params['b'])"
   ]
  },
  {
   "cell_type": "code",
   "execution_count": 16,
   "metadata": {},
   "outputs": [
    {
     "name": "stdout",
     "output_type": "stream",
     "text": [
      "              precision    recall  f1-score   support\n",
      "\n",
      "           0       1.00      1.00      1.00         5\n",
      "           1       1.00      1.00      1.00         5\n",
      "\n",
      "    accuracy                           1.00        10\n",
      "   macro avg       1.00      1.00      1.00        10\n",
      "weighted avg       1.00      1.00      1.00        10\n",
      "\n"
     ]
    }
   ],
   "source": [
    "from sklearn.metrics import accuracy_score, classification_report\n",
    "# print(accuracy_score(y_test, y_pred))\n",
    "print(classification_report(y_test, y_pred))"
   ]
  },
  {
   "cell_type": "code",
   "execution_count": 19,
   "metadata": {},
   "outputs": [
    {
     "name": "stdout",
     "output_type": "stream",
     "text": [
      "1.0\n"
     ]
    }
   ],
   "source": [
    "def accuracy(y_test, y_pred):\n",
    "    correct_count = 0\n",
    "    for i in range(len(y_test)):\n",
    "        for j in range(len(y_pred)):\n",
    "            if y_test[i] == y_pred[j] and i == j:\n",
    "                correct_count +=1\n",
    "            \n",
    "    accuracy_score = correct_count / len(y_test)\n",
    "    return accuracy_score\n",
    "\n",
    "accuracy_score_test = accuracy(y_test, y_pred)\n",
    "print(accuracy_score_test)"
   ]
  },
  {
   "cell_type": "code",
   "execution_count": 20,
   "metadata": {},
   "outputs": [
    {
     "name": "stdout",
     "output_type": "stream",
     "text": [
      "0.8888888888888888\n"
     ]
    }
   ],
   "source": [
    "y_train_pred = predict(X_train, params)\n",
    "accuracy_score_train = accuracy(y_train, y_train_pred)\n",
    "print(accuracy_score_train)"
   ]
  },
  {
   "cell_type": "code",
   "execution_count": 21,
   "metadata": {},
   "outputs": [
    {
     "data": {
      "text/plain": [
       "0.31055924594920103"
      ]
     },
     "execution_count": 21,
     "metadata": {},
     "output_type": "execute_result"
    }
   ],
   "source": [
    "X_train[1][1]"
   ]
  },
  {
   "cell_type": "code",
   "execution_count": 22,
   "metadata": {},
   "outputs": [
    {
     "data": {
      "text/plain": [
       "array([[ 2.17221697, -0.73380144],\n",
       "       [ 2.54116921,  0.31055925],\n",
       "       [-0.00718884, -0.70554359],\n",
       "       [-0.31285288, -0.17275221],\n",
       "       [-0.67290531,  0.79310561]])"
      ]
     },
     "execution_count": 22,
     "metadata": {},
     "output_type": "execute_result"
    }
   ],
   "source": [
    "X_train[:5]"
   ]
  },
  {
   "cell_type": "code",
   "execution_count": 24,
   "metadata": {},
   "outputs": [
    {
     "data": {
      "image/png": "[encoded data removed]",
      "text/plain": [
       "<Figure size 432x288 with 1 Axes>"
      ]
     },
     "metadata": {
      "needs_background": "light"
     },
     "output_type": "display_data"
    }
   ],
   "source": [
    "### 绘制逻辑回归决策边界\n",
    "def plot_decision_boundary(X_train, y_train, params):\n",
    "    '''\n",
    "    输入：\n",
    "    X_train: 训练集输入\n",
    "    y_train: 训练集标签\n",
    "    params：训练好的模型参数\n",
    "    输出：\n",
    "    决策边界图\n",
    "    '''\n",
    "    # 训练样本量\n",
    "    n = X_train.shape[0]\n",
    "    # 初始化类别坐标点列表\n",
    "    xcord1 = []\n",
    "    ycord1 = []\n",
    "    xcord2 = []\n",
    "    ycord2 = []\n",
    "    # 获取两类坐标点并存入列表\n",
    "    for i in range(n):\n",
    "        if y_train[i] == 1:\n",
    "            xcord1.append(X_train[i][0])\n",
    "            ycord1.append(X_train[i][1])\n",
    "        else:\n",
    "            xcord2.append(X_train[i][0])\n",
    "            ycord2.append(X_train[i][1])\n",
    "    # 创建绘图\n",
    "    fig = plt.figure()\n",
    "    ax = fig.add_subplot(111)\n",
    "    # 绘制两类散点，以不同颜色表示\n",
    "    ax.scatter(xcord1, ycord1,s=32, c='red')\n",
    "    ax.scatter(xcord2, ycord2, s=32, c='green')\n",
    "    # 取值范围\n",
    "    x = np.arange(-1.5, 3, 0.1)\n",
    "    # 决策边界公式\n",
    "    y = (-params['b'] - params['W'][0] * x) / params['W'][1]\n",
    "    # 绘图\n",
    "    ax.plot(x, y)\n",
    "    plt.xlabel('X1')\n",
    "    plt.ylabel('X2')\n",
    "    plt.show()\n",
    "    \n",
    "plot_decision_boundary(X_train, y_train, params)"
   ]
  },
  {
   "cell_type": "code",
   "execution_count": 25,
   "metadata": {},
   "outputs": [
    {
     "name": "stderr",
     "output_type": "stream",
     "text": [
      "D:\\software\\installations\\anaconda\\lib\\site-packages\\sklearn\\utils\\validation.py:63: DataConversionWarning: A column-vector y was passed when a 1d array was expected. Please change the shape of y to (n_samples, ), for example using ravel().\n",
      "  return f(*args, **kwargs)\n"
     ]
    },
    {
     "data": {
      "text/plain": [
       "array([0, 1, 1, 0, 1, 1, 0, 0, 1, 0])"
      ]
     },
     "execution_count": 25,
     "metadata": {},
     "output_type": "execute_result"
    }
   ],
   "source": [
    "from sklearn.linear_model import LogisticRegression\n",
    "clf = LogisticRegression(random_state=0).fit(X_train, y_train)\n",
    "y_pred = clf.predict(X_test)\n",
    "y_pred"
   ]
  },
  {
   "cell_type": "code",
   "execution_count": 26,
   "metadata": {},
   "outputs": [
    {
     "name": "stdout",
     "output_type": "stream",
     "text": [
      "              precision    recall  f1-score   support\n",
      "\n",
      "           0       1.00      1.00      1.00         5\n",
      "           1       1.00      1.00      1.00         5\n",
      "\n",
      "    accuracy                           1.00        10\n",
      "   macro avg       1.00      1.00      1.00        10\n",
      "weighted avg       1.00      1.00      1.00        10\n",
      "\n"
     ]
    }
   ],
   "source": [
    "print(classification_report(y_test, y_pred))"
   ]
  },
  {
   "cell_type": "code",
   "execution_count": null,
   "metadata": {},
   "outputs": [],
   "source": []
  }
 ],
 "metadata": {
  "kernelspec": {
   "display_name": "Python 3 (ipykernel)",
   "language": "python",
   "name": "python3"
  },
  "language_info": {
   "codemirror_mode": {
    "name": "ipython",
    "version": 3
   },
   "file_extension": ".py",
   "mimetype": "text/x-python",
   "name": "python",
   "nbconvert_exporter": "python",
   "pygments_lexer": "ipython3",
   "version": "3.9.7"
  },
  "toc": {
   "base_numbering": 1,
   "nav_menu": {},
   "number_sections": true,
   "sideBar": true,
   "skip_h1_title": false,
   "title_cell": "Table of Contents",
   "title_sidebar": "Contents",
   "toc_cell": false,
   "toc_position": {},
   "toc_section_display": true,
   "toc_window_display": false
  }
 },
 "nbformat": 4,
 "nbformat_minor": 2
}
